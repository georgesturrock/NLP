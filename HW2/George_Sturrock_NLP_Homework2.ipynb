{
 "cells": [
  {
   "cell_type": "markdown",
   "metadata": {},
   "source": [
    "# Advanced Scoring of Graded Readers\n",
    "## DS 7337 - Natural Language Processing - Homework 2\n",
    "### George C. Sturrock\n",
    "### January 26, 2019\n",
    "#### Homework 2 Objectives\n",
    "1.\tIn Python, create a method for scoring the vocabulary size of a text, and normalize the score from 0 to 1. It does not matter what method you use for normalization as long as you explain it in a short paragraph. \n",
    "2.\tAfter consulting section 3.2 in chapter 1 of Bird-Klein, create a method for scoring the long-word vocabulary size of a text, and likewise normalize (and explain) the scoring as in step 1 above.\n",
    "3.\tNow create a “text difficulty score” by combining the lexical diversity score from homework 1, and your normalized score of vocabulary size and long-word vocabulary size, in equal weighting. Explain what you see when this score is applied to same graded texts used in homework 1.\n",
    "\n",
    "#### Import Libraries"
   ]
  },
  {
   "cell_type": "code",
   "execution_count": 87,
   "metadata": {},
   "outputs": [
    {
     "name": "stdout",
     "output_type": "stream",
     "text": [
      "Platform: Linux-4.15.0-1026-gcp-x86_64-with-debian-stretch-sid\n",
      "Python: 3.5.6 |Anaconda custom (64-bit)| (default, Aug 26 2018, 21:41:56) \n",
      "[GCC 7.3.0]\n",
      "Requests: 2.19.1\n",
      "NLTK Version: 3.3\n",
      "Numpy Version: 1.15.2\n",
      "Pandas Version: 0.23.4\n",
      "Seaborn Version: 0.9.0\n",
      "BeatifulSoup Version: 4.6.3\n"
     ]
    }
   ],
   "source": [
    "import platform; print(\"Platform:\", platform.platform())\n",
    "import os\n",
    "import sys; print(\"Python:\", sys.version)\n",
    "import requests; print(\"Requests:\", requests.__version__)\n",
    "from urllib import request\n",
    "\n",
    "import nltk; print(\"NLTK Version:\", nltk.__version__)\n",
    "from nltk.corpus import stopwords\n",
    "theStopWords = set(stopwords.words('english'))\n",
    "\n",
    "import numpy as np; print(\"Numpy Version:\", np.__version__)\n",
    "import pandas as pd; print(\"Pandas Version:\", pd.__version__)\n",
    "import matplotlib.pyplot as plt; #print(\"Matplotlib Pyplot Version:\", plt.__version__)\n",
    "import string; #print(\"String Version:\", string.__version__)\n",
    "\n",
    "import seaborn as sns; print(\"Seaborn Version:\", sns.__version__)\n",
    "sns.set(style='darkgrid')\n",
    "%matplotlib inline\n",
    "import warnings\n",
    "warnings.filterwarnings('ignore')\n",
    "\n",
    "from bs4 import BeautifulSoup; print(\"BeatifulSoup Version: 4.6.3\")"
   ]
  },
  {
   "cell_type": "markdown",
   "metadata": {},
   "source": [
    "#### Scrape Gutenberg Website for Links to Text Documents for Graded Readers\n",
    "The base site for text mining is the Gutenberg Children's Instructional Bookshelf.  This page contains the links for various readers for children of various ages and reading levels.  Specifically, the Graded Readers section appears on this site.  The Graded Readers will be the focus of text analysis in this paper.  The first step is manually scraping the page for document links is to read the URL and parse the HTML code the links to the documents.  This process shown below creates a list with links to documents in the Children's Instructional Bookshelf.  "
   ]
  },
  {
   "cell_type": "code",
   "execution_count": 183,
   "metadata": {},
   "outputs": [],
   "source": [
    "#retrieve html text\n",
    "base_url = \"http://www.gutenberg.org/wiki/Children%27s_Instructional_Books_(Bookshelf)\"\n",
    "response = requests.get(base_url)\n",
    "\n",
    "#Search text for links to Gutenberg Readers\n",
    "soup = BeautifulSoup(response.text, 'html.parser')\n",
    "base_url_level1_href_tags = []\n",
    "base_url_level1_href_tags = [\"http:\" + tag.attrs['href'] for tag in soup.find_all(href=True, class_='extiw')]\n",
    "\n",
    "#Construct Links to Reader Text Documents\n",
    "urlroot = \"http://www.gutenberg.org/cache/epub/\"\n",
    "\n",
    "try:\n",
    "    del urllist\n",
    "except Exception as e:\n",
    "    print(e)\n",
    "\n",
    "urllist = list()\n",
    "\n",
    "for b in base_url_level1_href_tags:\n",
    "    docnum = (b.split('/'))[-1]\n",
    "    urllist.append(urlroot+docnum+\"/pg\"+docnum+\".txt\")"
   ]
  },
  {
   "cell_type": "markdown",
   "metadata": {},
   "source": [
    "#### Function to Transform Web Content to NLTK Tokens\n",
    "The \"nlpPipe\" function create a code pipeline to transform html text into a tokenized set of words.  The pipeline removes punctuation, most licensing information, standard stop words as defined by NLTK and changes all text to lower case.  This functions returns the base information needed to productin the calculations specified in Homework 2's objectives.  "
   ]
  },
  {
   "cell_type": "code",
   "execution_count": 184,
   "metadata": {},
   "outputs": [],
   "source": [
    "#credit to:\n",
    "#https://chrisalbon.com/machine_learning/preprocessing_text/remove_stop_words/\n",
    "\n",
    "strip = list()\n",
    "table = str.maketrans('', '', string.punctuation)\n",
    "#nlpdf = pd.DataFrame(columns=[\"Title\", \"VocabSize\"])\n",
    "\n",
    "def nlpPipe(htmlIn):\n",
    "    #split html into lines\n",
    "    html2 = htmlIn.splitlines()\n",
    "    #Strip licensing from htmlIn\n",
    "    #start = [i for i, s in enumerate(html2) if s.startswith(\"CONTENTS\")]\n",
    "    start = [i for i, s in enumerate(html2) if s.startswith(\"*** START OF THIS PROJECT GUTENBERG EBOOK\") \n",
    "             or s.startswith(\"*** START OF THE PROJECT GUTENBERG EBOOK\")\n",
    "             or s.startswith(\"***START OF THE PROJECT GUTENBERG EBOOK\")]\n",
    "    end = [i for i, s in enumerate(html2) if s.startswith(\"*** END OF THIS PROJECT GUTENBERG EBOOK\") \n",
    "           or s.startswith(\"*** END OF THE PROJECT GUTENBERG EBOOK\")\n",
    "           or s.startswith(\"***END OF THE PROJECT GUTENBERG EBOOK\")]\n",
    "    text = html2[(start[0]+1):(end[0]-2)]\n",
    "    \n",
    "    #strip end of line characters and convert to lower case\n",
    "    for t in text:\n",
    "        strip.append(t.rstrip().lower())\n",
    "    \n",
    "    #remove punctuation, remove stopwords with lambda functions and tokenize result\n",
    "    raw = nltk.word_tokenize(str(strip))\n",
    "    raw2 = [r.translate(table) for r in raw]\n",
    "    rawx = [rx for rx in raw2 if rx not in theStopWords and rx.isalpha()]\n",
    "    raw3 = nltk.Text(rawx)\n",
    "    raw4 = raw3.tokens\n",
    "    return raw4, html2[0], (len(set(raw4)));"
   ]
  },
  {
   "cell_type": "markdown",
   "metadata": {},
   "source": [
    "#### Process Text from URLs\n",
    "The full set of URLs generated from scraping the Children's Instructional Bookshelf page are filtered to focus on the Graded Readers."
   ]
  },
  {
   "cell_type": "code",
   "execution_count": 185,
   "metadata": {},
   "outputs": [],
   "source": [
    "#all graded readers\n",
    "urllist = urllist[11:31]\n",
    "#urllist"
   ]
  },
  {
   "cell_type": "markdown",
   "metadata": {},
   "source": [
    "Download Graded Reader texts and submit the to the nlpPipe function for processing.  The base dataframe \"calcdf\" for storing the results is created as well.  Two of the URLs do not conform to the structure of the other Graded Readers on the site.  Special programming can be included for these two documents.  For the purposes of this study, any text which does not conform to majority URL stucture will be ignored as the represent a relatively small percentage of the overall set of documents.  The texts are naturally ordered from what is expected to be least difficult to most difficult."
   ]
  },
  {
   "cell_type": "code",
   "execution_count": 186,
   "metadata": {},
   "outputs": [
    {
     "name": "stdout",
     "output_type": "stream",
     "text": [
      "HTTP Error 404: Not Found http://www.gutenberg.org/cache/epub/13853/pg13853.txt\n",
      "HTTP Error 404: Not Found http://www.gutenberg.org/cache/epub/22795/pg22795.txt\n"
     ]
    }
   ],
   "source": [
    "calcdf = pd.DataFrame(columns=[\"Title\", \"VocabSize\", \"LongWord\", \"UniqueWords\"])\n",
    "\n",
    "for u in urllist:\n",
    "    #print(u)\n",
    "    \n",
    "    try:\n",
    "        html = request.urlopen(u).read().decode('utf8')\n",
    "    except Exception as e:\n",
    "        print(e, u)\n",
    "        \n",
    "    tokens, title, unique = nlpPipe(html)\n",
    "    \n",
    "    #loop to identify and count words longer than 10 characters\n",
    "    longword = 0\n",
    "    for t in tokens:\n",
    "        if len(t) > 10:\n",
    "            longword += 1\n",
    "    \n",
    "    calcdf = calcdf.append({\"Title\": title[31:], \"VocabSize\": len(tokens), \"LongWord\": longword, \"UniqueWords\": unique}, \n",
    "                           ignore_index=True)\n",
    "    \n",
    "#calcdf"
   ]
  },
  {
   "cell_type": "markdown",
   "metadata": {},
   "source": [
    "#### Calculations\n",
    "Normalized Vocabulary Size, Lexical Diversity, Normalized Long Words and Text Difficulty are calculated below.  The calculations are simple operations which return interesting measurements to assist with comparing Graded Reader texts."
   ]
  },
  {
   "cell_type": "code",
   "execution_count": 187,
   "metadata": {},
   "outputs": [
    {
     "data": {
      "text/html": [
       "<div>\n",
       "<style scoped>\n",
       "    .dataframe tbody tr th:only-of-type {\n",
       "        vertical-align: middle;\n",
       "    }\n",
       "\n",
       "    .dataframe tbody tr th {\n",
       "        vertical-align: top;\n",
       "    }\n",
       "\n",
       "    .dataframe thead th {\n",
       "        text-align: right;\n",
       "    }\n",
       "</style>\n",
       "<table border=\"1\" class=\"dataframe\">\n",
       "  <thead>\n",
       "    <tr style=\"text-align: right;\">\n",
       "      <th></th>\n",
       "      <th>Title</th>\n",
       "      <th>VocabSize</th>\n",
       "      <th>LongWord</th>\n",
       "      <th>UniqueWords</th>\n",
       "      <th>NormVocabSize</th>\n",
       "      <th>LexDiversity</th>\n",
       "      <th>NormLongWord</th>\n",
       "      <th>TextDifficulty</th>\n",
       "    </tr>\n",
       "  </thead>\n",
       "  <tbody>\n",
       "    <tr>\n",
       "      <th>0</th>\n",
       "      <td>The Beacon Second Reader, by James H. Fassett</td>\n",
       "      <td>11625</td>\n",
       "      <td>128</td>\n",
       "      <td>3357</td>\n",
       "      <td>0.0156921</td>\n",
       "      <td>0.288774</td>\n",
       "      <td>0.00646301</td>\n",
       "      <td>0.103643</td>\n",
       "    </tr>\n",
       "    <tr>\n",
       "      <th>1</th>\n",
       "      <td>The Child's World</td>\n",
       "      <td>29305</td>\n",
       "      <td>347</td>\n",
       "      <td>5364</td>\n",
       "      <td>0.0395576</td>\n",
       "      <td>0.18304</td>\n",
       "      <td>0.0175208</td>\n",
       "      <td>0.0800396</td>\n",
       "    </tr>\n",
       "    <tr>\n",
       "      <th>2</th>\n",
       "      <td>De La Salle Fifth Reader</td>\n",
       "      <td>57378</td>\n",
       "      <td>910</td>\n",
       "      <td>9443</td>\n",
       "      <td>0.0774521</td>\n",
       "      <td>0.164575</td>\n",
       "      <td>0.045948</td>\n",
       "      <td>0.0959918</td>\n",
       "    </tr>\n",
       "    <tr>\n",
       "      <th>3</th>\n",
       "      <td>The Elson Readers, Book 5</td>\n",
       "      <td>117820</td>\n",
       "      <td>2037</td>\n",
       "      <td>13945</td>\n",
       "      <td>0.15904</td>\n",
       "      <td>0.118359</td>\n",
       "      <td>0.102853</td>\n",
       "      <td>0.126751</td>\n",
       "    </tr>\n",
       "    <tr>\n",
       "      <th>4</th>\n",
       "      <td>The Literary World Seventh Reader, by Various</td>\n",
       "      <td>169950</td>\n",
       "      <td>3542</td>\n",
       "      <td>18254</td>\n",
       "      <td>0.229408</td>\n",
       "      <td>0.107408</td>\n",
       "      <td>0.178844</td>\n",
       "      <td>0.171887</td>\n",
       "    </tr>\n",
       "    <tr>\n",
       "      <th>5</th>\n",
       "      <td>McGuffey's First Eclectic Reader, Revised</td>\n",
       "      <td>174041</td>\n",
       "      <td>3631</td>\n",
       "      <td>18396</td>\n",
       "      <td>0.234931</td>\n",
       "      <td>0.105699</td>\n",
       "      <td>0.183338</td>\n",
       "      <td>0.174656</td>\n",
       "    </tr>\n",
       "    <tr>\n",
       "      <th>6</th>\n",
       "      <td>McGuffey's Second Eclectic Reader</td>\n",
       "      <td>183030</td>\n",
       "      <td>3787</td>\n",
       "      <td>18661</td>\n",
       "      <td>0.247064</td>\n",
       "      <td>0.101956</td>\n",
       "      <td>0.191214</td>\n",
       "      <td>0.180078</td>\n",
       "    </tr>\n",
       "    <tr>\n",
       "      <th>7</th>\n",
       "      <td>McGuffey's Third Eclectic Reader</td>\n",
       "      <td>196081</td>\n",
       "      <td>3899</td>\n",
       "      <td>18946</td>\n",
       "      <td>0.264681</td>\n",
       "      <td>0.0966233</td>\n",
       "      <td>0.196869</td>\n",
       "      <td>0.186058</td>\n",
       "    </tr>\n",
       "    <tr>\n",
       "      <th>8</th>\n",
       "      <td>McGuffey's Fourth Eclectic Reader</td>\n",
       "      <td>227810</td>\n",
       "      <td>4552</td>\n",
       "      <td>20718</td>\n",
       "      <td>0.307511</td>\n",
       "      <td>0.0909442</td>\n",
       "      <td>0.229841</td>\n",
       "      <td>0.209432</td>\n",
       "    </tr>\n",
       "    <tr>\n",
       "      <th>9</th>\n",
       "      <td>McGuffey's Fifth Eclectic Reader</td>\n",
       "      <td>277571</td>\n",
       "      <td>6059</td>\n",
       "      <td>23548</td>\n",
       "      <td>0.374681</td>\n",
       "      <td>0.084836</td>\n",
       "      <td>0.305933</td>\n",
       "      <td>0.25515</td>\n",
       "    </tr>\n",
       "    <tr>\n",
       "      <th>10</th>\n",
       "      <td>McGuffey's Sixth Eclectic Reader</td>\n",
       "      <td>347741</td>\n",
       "      <td>8575</td>\n",
       "      <td>27182</td>\n",
       "      <td>0.469401</td>\n",
       "      <td>0.0781674</td>\n",
       "      <td>0.432971</td>\n",
       "      <td>0.326847</td>\n",
       "    </tr>\n",
       "    <tr>\n",
       "      <th>11</th>\n",
       "      <td>McGuffey's Sixth Eclectic Reader</td>\n",
       "      <td>417911</td>\n",
       "      <td>11091</td>\n",
       "      <td>27182</td>\n",
       "      <td>0.56412</td>\n",
       "      <td>0.0650426</td>\n",
       "      <td>0.56001</td>\n",
       "      <td>0.396391</td>\n",
       "    </tr>\n",
       "    <tr>\n",
       "      <th>12</th>\n",
       "      <td>ew National Fourth Reader, by Charles J.</td>\n",
       "      <td>453250</td>\n",
       "      <td>11604</td>\n",
       "      <td>28151</td>\n",
       "      <td>0.611823</td>\n",
       "      <td>0.0621092</td>\n",
       "      <td>0.585913</td>\n",
       "      <td>0.419948</td>\n",
       "    </tr>\n",
       "    <tr>\n",
       "      <th>13</th>\n",
       "      <td>o Readers, by Ontario Ministry of Education</td>\n",
       "      <td>486060</td>\n",
       "      <td>12250</td>\n",
       "      <td>29244</td>\n",
       "      <td>0.656112</td>\n",
       "      <td>0.0601654</td>\n",
       "      <td>0.618531</td>\n",
       "      <td>0.444936</td>\n",
       "    </tr>\n",
       "    <tr>\n",
       "      <th>14</th>\n",
       "      <td>he Ontario Readers: Fourth Book, by Various</td>\n",
       "      <td>525784</td>\n",
       "      <td>13264</td>\n",
       "      <td>30925</td>\n",
       "      <td>0.709733</td>\n",
       "      <td>0.0588169</td>\n",
       "      <td>0.66973</td>\n",
       "      <td>0.479427</td>\n",
       "    </tr>\n",
       "    <tr>\n",
       "      <th>15</th>\n",
       "      <td>The Ontario Readers: The High School</td>\n",
       "      <td>589202</td>\n",
       "      <td>15550</td>\n",
       "      <td>33957</td>\n",
       "      <td>0.795339</td>\n",
       "      <td>0.0576322</td>\n",
       "      <td>0.785155</td>\n",
       "      <td>0.546042</td>\n",
       "    </tr>\n",
       "    <tr>\n",
       "      <th>16</th>\n",
       "      <td>The Ontario Readers: The High School</td>\n",
       "      <td>652620</td>\n",
       "      <td>17836</td>\n",
       "      <td>33957</td>\n",
       "      <td>0.880944</td>\n",
       "      <td>0.0520318</td>\n",
       "      <td>0.900581</td>\n",
       "      <td>0.611185</td>\n",
       "    </tr>\n",
       "    <tr>\n",
       "      <th>17</th>\n",
       "      <td>Parker's Second Reader, by Richard G. Parker</td>\n",
       "      <td>670013</td>\n",
       "      <td>18290</td>\n",
       "      <td>34253</td>\n",
       "      <td>0.904422</td>\n",
       "      <td>0.0511229</td>\n",
       "      <td>0.923504</td>\n",
       "      <td>0.62635</td>\n",
       "    </tr>\n",
       "    <tr>\n",
       "      <th>18</th>\n",
       "      <td>nion Fourth Reader, by Charles W. Sanders</td>\n",
       "      <td>728259</td>\n",
       "      <td>19756</td>\n",
       "      <td>36231</td>\n",
       "      <td>0.983046</td>\n",
       "      <td>0.0497502</td>\n",
       "      <td>0.997526</td>\n",
       "      <td>0.676774</td>\n",
       "    </tr>\n",
       "    <tr>\n",
       "      <th>19</th>\n",
       "      <td>Story Hour Readers  Book Three, by</td>\n",
       "      <td>740819</td>\n",
       "      <td>19805</td>\n",
       "      <td>36298</td>\n",
       "      <td>1</td>\n",
       "      <td>0.0489971</td>\n",
       "      <td>1</td>\n",
       "      <td>0.682999</td>\n",
       "    </tr>\n",
       "  </tbody>\n",
       "</table>\n",
       "</div>"
      ],
      "text/plain": [
       "                                             Title VocabSize LongWord  \\\n",
       "0    The Beacon Second Reader, by James H. Fassett     11625      128   \n",
       "1                                The Child's World     29305      347   \n",
       "2                         De La Salle Fifth Reader     57378      910   \n",
       "3                        The Elson Readers, Book 5    117820     2037   \n",
       "4    The Literary World Seventh Reader, by Various    169950     3542   \n",
       "5        McGuffey's First Eclectic Reader, Revised    174041     3631   \n",
       "6                McGuffey's Second Eclectic Reader    183030     3787   \n",
       "7                 McGuffey's Third Eclectic Reader    196081     3899   \n",
       "8                McGuffey's Fourth Eclectic Reader    227810     4552   \n",
       "9                 McGuffey's Fifth Eclectic Reader    277571     6059   \n",
       "10                McGuffey's Sixth Eclectic Reader    347741     8575   \n",
       "11                McGuffey's Sixth Eclectic Reader    417911    11091   \n",
       "12        ew National Fourth Reader, by Charles J.    453250    11604   \n",
       "13     o Readers, by Ontario Ministry of Education    486060    12250   \n",
       "14     he Ontario Readers: Fourth Book, by Various    525784    13264   \n",
       "15            The Ontario Readers: The High School    589202    15550   \n",
       "16            The Ontario Readers: The High School    652620    17836   \n",
       "17    Parker's Second Reader, by Richard G. Parker    670013    18290   \n",
       "18       nion Fourth Reader, by Charles W. Sanders    728259    19756   \n",
       "19            Story Hour Readers  Book Three, by     740819    19805   \n",
       "\n",
       "   UniqueWords NormVocabSize LexDiversity NormLongWord TextDifficulty  \n",
       "0         3357     0.0156921     0.288774   0.00646301       0.103643  \n",
       "1         5364     0.0395576      0.18304    0.0175208      0.0800396  \n",
       "2         9443     0.0774521     0.164575     0.045948      0.0959918  \n",
       "3        13945       0.15904     0.118359     0.102853       0.126751  \n",
       "4        18254      0.229408     0.107408     0.178844       0.171887  \n",
       "5        18396      0.234931     0.105699     0.183338       0.174656  \n",
       "6        18661      0.247064     0.101956     0.191214       0.180078  \n",
       "7        18946      0.264681    0.0966233     0.196869       0.186058  \n",
       "8        20718      0.307511    0.0909442     0.229841       0.209432  \n",
       "9        23548      0.374681     0.084836     0.305933        0.25515  \n",
       "10       27182      0.469401    0.0781674     0.432971       0.326847  \n",
       "11       27182       0.56412    0.0650426      0.56001       0.396391  \n",
       "12       28151      0.611823    0.0621092     0.585913       0.419948  \n",
       "13       29244      0.656112    0.0601654     0.618531       0.444936  \n",
       "14       30925      0.709733    0.0588169      0.66973       0.479427  \n",
       "15       33957      0.795339    0.0576322     0.785155       0.546042  \n",
       "16       33957      0.880944    0.0520318     0.900581       0.611185  \n",
       "17       34253      0.904422    0.0511229     0.923504        0.62635  \n",
       "18       36231      0.983046    0.0497502     0.997526       0.676774  \n",
       "19       36298             1    0.0489971            1       0.682999  "
      ]
     },
     "execution_count": 187,
     "metadata": {},
     "output_type": "execute_result"
    }
   ],
   "source": [
    "calcdf[\"NormVocabSize\"] = (calcdf.VocabSize / calcdf.VocabSize.max())\n",
    "calcdf[\"LexDiversity\"] = (calcdf.UniqueWords / calcdf.VocabSize)\n",
    "calcdf[\"NormLongWord\"] = (calcdf.LongWord / calcdf.LongWord.max())\n",
    "calcdf[\"TextDifficulty\"] = ((calcdf.NormVocabSize + calcdf.LexDiversity + calcdf.NormLongWord)/3)\n",
    "calcdf"
   ]
  },
  {
   "cell_type": "markdown",
   "metadata": {},
   "source": [
    "### Question 1 - Scoring the Vocabulary Size of a Text\n",
    "The raw vocabulary size of each text (calcdf.VocabSize) is represented by the count of words in each text as identified by the nlpPipe function.  This is normalized on a 0 to 1 scale by dividing the \"VocabSize\" by the maximum \"VocabSize\" from the dataframe.  The results are stored in calcdf.NormVocabSize.  The box plots below shows this small sample of texts has a slight right skew with median value of approximately 0.4.  The barchart shows how the individual texts rank with regards to normalized vocabulary size.  "
   ]
  },
  {
   "cell_type": "code",
   "execution_count": 188,
   "metadata": {},
   "outputs": [
    {
     "data": {
      "text/plain": [
       "(array([ 0,  1,  2,  3,  4,  5,  6,  7,  8,  9, 10, 11, 12, 13, 14, 15, 16,\n",
       "        17]), <a list of 18 Text xticklabel objects>)"
      ]
     },
     "execution_count": 188,
     "metadata": {},
     "output_type": "execute_result"
    },
    {
     "data": {
      "image/png": "[encoded data removed]",
      "text/plain": [
       "<Figure size 1080x432 with 2 Axes>"
      ]
     },
     "metadata": {
      "needs_background": "light"
     },
     "output_type": "display_data"
    }
   ],
   "source": [
    "f, axes = plt.subplots(1,2, figsize=(15,6))\n",
    "\n",
    "b = sns.boxplot(data=calcdf.NormVocabSize, ax = axes[0])\n",
    "a = sns.barplot(data=calcdf, x='Title', y='NormVocabSize', ax = axes[1])\n",
    "plt.xticks(rotation=90)"
   ]
  },
  {
   "cell_type": "markdown",
   "metadata": {},
   "source": [
    "### Question 2 - Normalized Long-Word Vocabulary Size\n",
    "For purposes of this study, a long word is any word over 10 characters.  This number was obtained by taking the word length of the average word in English, which is approximately five characters, and doubling it.  The number of long words in each text are counted and stored in calcdf.LongWord.  The number of long words per text is then divided by the maximum long word value in calcdf to produce the normalized long word score.  Visual examination of the Normalized Long Word column shows the number of long words increase from observation 0 to 19.  The scatterplot shown below plot the relationship between Normalized Vocabulary Size and Normalized Long Word.  As expected, an almost perfect linear relationship between the two vectors exists.  "
   ]
  },
  {
   "cell_type": "code",
   "execution_count": 189,
   "metadata": {},
   "outputs": [
    {
     "data": {
      "image/png": "[encoded data removed]",
      "text/plain": [
       "<Figure size 432x288 with 1 Axes>"
      ]
     },
     "metadata": {
      "needs_background": "light"
     },
     "output_type": "display_data"
    }
   ],
   "source": [
    "plt.scatter(calcdf.NormLongWord, calcdf.NormVocabSize)\n",
    "plt.title(\"Normalized Long Words and Vocabulary Size\")\n",
    "plt.xlabel(\"Normalized Long Word\")\n",
    "plt.ylabel(\"Normalized Vocabulary Size\")\n",
    "plt.show()"
   ]
  },
  {
   "cell_type": "markdown",
   "metadata": {},
   "source": [
    "### Question 3 - Text Difficulty Score\n",
    "The text difficulty score combines the lexical diversity score from Homework 1 with the normalized long word and normalized vocabulary size introduced in this assignment.  The three variables are added together and divided by three to produce an evenly weighted result.  In Homework 1, McGuffey's First, Third and Sixth Eclectic Readers where analyzed.  These show Lexical Diversity decreases as vocabulary size increases.  The sliced dataframe shown below shows an inverse relationship between Lexical Diversity and Text Difficulty for the three texts analyzed in Homework 1.  "
   ]
  },
  {
   "cell_type": "code",
   "execution_count": 190,
   "metadata": {},
   "outputs": [
    {
     "data": {
      "text/html": [
       "<div>\n",
       "<style scoped>\n",
       "    .dataframe tbody tr th:only-of-type {\n",
       "        vertical-align: middle;\n",
       "    }\n",
       "\n",
       "    .dataframe tbody tr th {\n",
       "        vertical-align: top;\n",
       "    }\n",
       "\n",
       "    .dataframe thead th {\n",
       "        text-align: right;\n",
       "    }\n",
       "</style>\n",
       "<table border=\"1\" class=\"dataframe\">\n",
       "  <thead>\n",
       "    <tr style=\"text-align: right;\">\n",
       "      <th></th>\n",
       "      <th>Title</th>\n",
       "      <th>VocabSize</th>\n",
       "      <th>LongWord</th>\n",
       "      <th>UniqueWords</th>\n",
       "      <th>NormVocabSize</th>\n",
       "      <th>LexDiversity</th>\n",
       "      <th>NormLongWord</th>\n",
       "      <th>TextDifficulty</th>\n",
       "    </tr>\n",
       "  </thead>\n",
       "  <tbody>\n",
       "    <tr>\n",
       "      <th>5</th>\n",
       "      <td>McGuffey's First Eclectic Reader, Revised</td>\n",
       "      <td>174041</td>\n",
       "      <td>3631</td>\n",
       "      <td>18396</td>\n",
       "      <td>0.234931</td>\n",
       "      <td>0.105699</td>\n",
       "      <td>0.183338</td>\n",
       "      <td>0.174656</td>\n",
       "    </tr>\n",
       "    <tr>\n",
       "      <th>7</th>\n",
       "      <td>McGuffey's Third Eclectic Reader</td>\n",
       "      <td>196081</td>\n",
       "      <td>3899</td>\n",
       "      <td>18946</td>\n",
       "      <td>0.264681</td>\n",
       "      <td>0.0966233</td>\n",
       "      <td>0.196869</td>\n",
       "      <td>0.186058</td>\n",
       "    </tr>\n",
       "    <tr>\n",
       "      <th>10</th>\n",
       "      <td>McGuffey's Sixth Eclectic Reader</td>\n",
       "      <td>347741</td>\n",
       "      <td>8575</td>\n",
       "      <td>27182</td>\n",
       "      <td>0.469401</td>\n",
       "      <td>0.0781674</td>\n",
       "      <td>0.432971</td>\n",
       "      <td>0.326847</td>\n",
       "    </tr>\n",
       "  </tbody>\n",
       "</table>\n",
       "</div>"
      ],
      "text/plain": [
       "                                         Title VocabSize LongWord UniqueWords  \\\n",
       "5    McGuffey's First Eclectic Reader, Revised    174041     3631       18396   \n",
       "7             McGuffey's Third Eclectic Reader    196081     3899       18946   \n",
       "10            McGuffey's Sixth Eclectic Reader    347741     8575       27182   \n",
       "\n",
       "   NormVocabSize LexDiversity NormLongWord TextDifficulty  \n",
       "5       0.234931     0.105699     0.183338       0.174656  \n",
       "7       0.264681    0.0966233     0.196869       0.186058  \n",
       "10      0.469401    0.0781674     0.432971       0.326847  "
      ]
     },
     "execution_count": 190,
     "metadata": {},
     "output_type": "execute_result"
    }
   ],
   "source": [
    "calcdf.iloc[[5,7,10]]"
   ]
  },
  {
   "cell_type": "markdown",
   "metadata": {},
   "source": [
    "Broader examination of the set of Graded Readers ingested above shows a decrease in Lexical Diversity and a general Text Difficulty increase as the expected level of difficulty increases.  The grouped bar plot below displays this relationship."
   ]
  },
  {
   "cell_type": "code",
   "execution_count": 191,
   "metadata": {},
   "outputs": [
    {
     "data": {
      "image/png": "[encoded data removed]",
      "text/plain": [
       "<Figure size 432x288 with 1 Axes>"
      ]
     },
     "metadata": {
      "needs_background": "light"
     },
     "output_type": "display_data"
    }
   ],
   "source": [
    "barWidth = 0.5\n",
    "b1 = np.arange(len(calcdf.LexDiversity))\n",
    "b2 = [x + barWidth for x in b1]\n",
    "\n",
    "plt.bar(b1, calcdf.LexDiversity, width=barWidth, label=\"Lexical Difficulty\")\n",
    "plt.bar(b2, calcdf.TextDifficulty, width=barWidth, label=\"Text Difficulty\")\n",
    "#plt.bar([x + barWidth for x in b2], calcdf.NormLongWord, width=barWidth, label=\"Norm Long Word\")\n",
    "plt.xlabel(\"Texts (0 = Less Difficult, 20 = More Difficult)\")\n",
    "plt.legend()\n",
    "plt.show()"
   ]
  },
  {
   "cell_type": "code",
   "execution_count": null,
   "metadata": {},
   "outputs": [],
   "source": []
  }
 ],
 "metadata": {
  "kernelspec": {
   "display_name": "Python 3",
   "language": "python",
   "name": "python3"
  },
  "language_info": {
   "codemirror_mode": {
    "name": "ipython",
    "version": 3
   },
   "file_extension": ".py",
   "mimetype": "text/x-python",
   "name": "python",
   "nbconvert_exporter": "python",
   "pygments_lexer": "ipython3",
   "version": "3.6.8"
  }
 },
 "nbformat": 4,
 "nbformat_minor": 2
}
