{
 "cells": [
  {
   "cell_type": "markdown",
   "metadata": {},
   "source": [
    "## Clutering IMDB Movie Reviews\n",
    "### DS 7337 - Natural Laguage Processing - Homework 7\n",
    "#### George C. Sturrock\n",
    "##### March 30, 2019\n",
    "##### Homework 7 Objectives\n",
    "Cluster the reviews that you collected in homework 5, by doing the following:\n",
    "1.\tIn Python, select any one of the clustering methods covered in this course. Run it over the collection of reviews, and show at least two different ways of clustering the reviews, e.g., changing k in k-Means clustering or changing where you “cut” in Agnes or Diana.  \n",
    "\n",
    "2.\tTry to write a short phrase to characterize (give a natural interpretation of) what each cluster is generally centered on semantically. Is this hard to do in some cases? If so, make note of that fact. \n",
    "\n",
    "3.\tExplain which of the two clustering results from question 1 is preferable (if one of them is), and why. \n",
    "\n",
    "##### Resources\n",
    "http://brandonrose.org/clustering\n",
    "https://scikit-learn.org/stable/modules/generated/sklearn.feature_extraction.text.TfidfVectorizer.html\n",
    "https://machinelearningmastery.com/prepare-text-data-machine-learning-scikit-learn/\n",
    "\n",
    "#### Import Libraries"
   ]
  },
  {
   "cell_type": "code",
   "execution_count": 1,
   "metadata": {},
   "outputs": [
    {
     "name": "stdout",
     "output_type": "stream",
     "text": [
      "Platform: Windows-10-10.0.14393-SP0\n",
      "Python: 3.6.8 |Anaconda, Inc.| (default, Feb 21 2019, 18:30:04) [MSC v.1916 64 bit (AMD64)]\n",
      "Requests: 2.21.0\n",
      "BeatifulSoup: 4.7.1\n",
      "json: 2.0.9\n",
      "Numpy Version: 1.15.4\n",
      "Pandas Version: 0.23.0\n",
      "Pattern Version: 3.6\n"
     ]
    }
   ],
   "source": [
    "import platform; print(\"Platform:\", platform.platform())\n",
    "import os\n",
    "import sys; print(\"Python:\", sys.version)\n",
    "import requests; print(\"Requests:\", requests.__version__)\n",
    "from urllib import request; (\"urllib:\", request.__version__)\n",
    "import warnings\n",
    "warnings.filterwarnings('ignore')\n",
    "from time import sleep\n",
    "\n",
    "#Web Scraping\n",
    "import bs4; print(\"BeatifulSoup:\", bs4.__version__)\n",
    "from bs4 import BeautifulSoup\n",
    "import json; print(\"json:\", json.__version__)\n",
    "\n",
    "#Python Basics\n",
    "import numpy as np; print(\"Numpy Version:\", np.__version__)\n",
    "import pandas as pd; print(\"Pandas Version:\", pd.__version__)\n",
    "from matplotlib import pyplot as plt\n",
    "import seaborn as sns;\n",
    "\n",
    "#scikit learn\n",
    "from sklearn import metrics\n",
    "from sklearn.feature_extraction import stop_words\n",
    "#print(stop_words.ENGLISH_STOP_WORDS)\n",
    "from sklearn.feature_extraction.text import TfidfVectorizer, CountVectorizer\n",
    "#HAC\n",
    "from scipy.cluster.hierarchy import ward, dendrogram\n",
    "from sklearn.cluster import AgglomerativeClustering\n",
    "#KMeans\n",
    "from sklearn.cluster import KMeans\n",
    "\n",
    "import pattern; print(\"Pattern Version:\", pattern.__version__)\n",
    "from pattern.en import tag, parse\n",
    "from pattern.en import parsetree\n",
    "from pattern.en import sentiment, positive\n",
    "from pattern.vector import Document, Model, TFIDF, TF"
   ]
  },
  {
   "cell_type": "markdown",
   "metadata": {},
   "source": [
    "### Data Acquisition\n",
    "The first three films in the \"Rocky\" series will be utilized to collect reviews for noun phrase chunking.  Link to the main user review page for each of the three movies are shown below.  To assure both positive and negative reviews are collected, there are two links per movie.  One is sorted descending by user rating.  The other is sorted ascending by user rating.  Both links have \"spoiler alert\" messages suppressed as these reviews are often more akin to a summarization of the movie plot instead of a true review.  "
   ]
  },
  {
   "cell_type": "code",
   "execution_count": 2,
   "metadata": {},
   "outputs": [],
   "source": [
    "#Rocky movie list.  Two links for each movie to assure positive and negative reviews are captured.  \n",
    "#Sort descending by Review Rating.  Sort ascending by Review Rating.\n",
    "\n",
    "#Rocky\n",
    "rockyDict = {\"aRocky\":\"https://www.imdb.com/title/tt0075148/reviews?spoiler=hide&sort=userRating&dir=asc&ratingFilter=0\", \n",
    "         \"dRocky\":\"https://www.imdb.com/title/tt0075148/reviews?spoiler=hide&sort=userRating&dir=desc&ratingFilter=0\", \n",
    "#Rocky 2\n",
    "         \"dRocky 2\":\"https://www.imdb.com/title/tt0079817/reviews?spoiler=hide&sort=userRating&dir=desc&ratingFilter=0\",\n",
    "         \"aRocky 2\":\"https://www.imdb.com/title/tt0079817/reviews?spoiler=hide&sort=userRating&dir=asc&ratingFilter=0\",\n",
    "#Rocky 3\n",
    "         \"dRocky 3\":\"https://www.imdb.com/title/tt0084602/reviews?spoiler=hide&sort=userRating&dir=desc&ratingFilter=0\",\n",
    "         \"aRocky 3\":\"https://www.imdb.com/title/tt0084602/reviews?spoiler=hide&sort=userRating&dir=asc&ratingFilter=0\"\n",
    "            }\n",
    "\n",
    "rockyKeys = rockyDict.keys()"
   ]
  },
  {
   "cell_type": "markdown",
   "metadata": {},
   "source": [
    "#### Web Scraping IMDB Movie Review Titles\n",
    "The individual links to the user reviews are collected below.  A get request uses each of the links in the \"rockyDict\" python dictionary.  The response is parsed by Beautiful Soup to find the individual links to each individual review.  The review URLs along with the movie name are written to a dataframe named dfRockyReviews."
   ]
  },
  {
   "cell_type": "code",
   "execution_count": 3,
   "metadata": {},
   "outputs": [],
   "source": [
    "reviewUrls = list()\n",
    "dfRockyReviews = pd.DataFrame(columns = ['Movie', 'ReviewURL'])\n",
    "\n",
    "for r in rockyKeys:\n",
    "    #print(r, rockyDict[r])\n",
    "    response = requests.get(rockyDict[r])\n",
    "    soup = BeautifulSoup(response.text, 'html.parser')\n",
    "    rUrls = [\"http:\" + s.attrs['href'] for s in soup.find_all(href = True, class_ = 'title')]\n",
    "    reviewUrls = reviewUrls + rUrls\n",
    "    for u in rUrls:\n",
    "        dfRockyReviews = dfRockyReviews.append({'Movie':r[1:], 'ReviewURL':u}, ignore_index=True)"
   ]
  },
  {
   "cell_type": "markdown",
   "metadata": {},
   "source": [
    "A sample of the dfRockyReviews dataframe is shown below."
   ]
  },
  {
   "cell_type": "code",
   "execution_count": 4,
   "metadata": {},
   "outputs": [
    {
     "data": {
      "text/html": [
       "<div>\n",
       "<style scoped>\n",
       "    .dataframe tbody tr th:only-of-type {\n",
       "        vertical-align: middle;\n",
       "    }\n",
       "\n",
       "    .dataframe tbody tr th {\n",
       "        vertical-align: top;\n",
       "    }\n",
       "\n",
       "    .dataframe thead th {\n",
       "        text-align: right;\n",
       "    }\n",
       "</style>\n",
       "<table border=\"1\" class=\"dataframe\">\n",
       "  <thead>\n",
       "    <tr style=\"text-align: right;\">\n",
       "      <th></th>\n",
       "      <th>Movie</th>\n",
       "      <th>ReviewURL</th>\n",
       "    </tr>\n",
       "  </thead>\n",
       "  <tbody>\n",
       "    <tr>\n",
       "      <th>0</th>\n",
       "      <td>Rocky</td>\n",
       "      <td>http:/review/rw4247059/?ref_=tt_urv</td>\n",
       "    </tr>\n",
       "    <tr>\n",
       "      <th>1</th>\n",
       "      <td>Rocky</td>\n",
       "      <td>http:/review/rw0149538/?ref_=tt_urv</td>\n",
       "    </tr>\n",
       "    <tr>\n",
       "      <th>2</th>\n",
       "      <td>Rocky</td>\n",
       "      <td>http:/review/rw0149534/?ref_=tt_urv</td>\n",
       "    </tr>\n",
       "    <tr>\n",
       "      <th>3</th>\n",
       "      <td>Rocky</td>\n",
       "      <td>http:/review/rw2406266/?ref_=tt_urv</td>\n",
       "    </tr>\n",
       "    <tr>\n",
       "      <th>4</th>\n",
       "      <td>Rocky</td>\n",
       "      <td>http:/review/rw3451942/?ref_=tt_urv</td>\n",
       "    </tr>\n",
       "  </tbody>\n",
       "</table>\n",
       "</div>"
      ],
      "text/plain": [
       "   Movie                            ReviewURL\n",
       "0  Rocky  http:/review/rw4247059/?ref_=tt_urv\n",
       "1  Rocky  http:/review/rw0149538/?ref_=tt_urv\n",
       "2  Rocky  http:/review/rw0149534/?ref_=tt_urv\n",
       "3  Rocky  http:/review/rw2406266/?ref_=tt_urv\n",
       "4  Rocky  http:/review/rw3451942/?ref_=tt_urv"
      ]
     },
     "execution_count": 4,
     "metadata": {},
     "output_type": "execute_result"
    }
   ],
   "source": [
    "dfRockyReviews[0:5]"
   ]
  },
  {
   "cell_type": "markdown",
   "metadata": {},
   "source": [
    "#### Web Scraping IMDB Movie Review Details\n",
    "The individual review URLs collected above will be requested and parsed to retrieve key qualitative and categorical data about each review along with the review text itself.  These details are stored in a new dataframe named dfReviewDetails.  The first five records are this dataframe are shown below."
   ]
  },
  {
   "cell_type": "code",
   "execution_count": 5,
   "metadata": {
    "scrolled": true
   },
   "outputs": [
    {
     "data": {
      "text/html": [
       "<div>\n",
       "<style scoped>\n",
       "    .dataframe tbody tr th:only-of-type {\n",
       "        vertical-align: middle;\n",
       "    }\n",
       "\n",
       "    .dataframe tbody tr th {\n",
       "        vertical-align: top;\n",
       "    }\n",
       "\n",
       "    .dataframe thead th {\n",
       "        text-align: right;\n",
       "    }\n",
       "</style>\n",
       "<table border=\"1\" class=\"dataframe\">\n",
       "  <thead>\n",
       "    <tr style=\"text-align: right;\">\n",
       "      <th></th>\n",
       "      <th>Movie</th>\n",
       "      <th>ReviewUrl</th>\n",
       "      <th>ReviewDate</th>\n",
       "      <th>ReviewTitle</th>\n",
       "      <th>Review</th>\n",
       "      <th>Rating</th>\n",
       "      <th>Language</th>\n",
       "    </tr>\n",
       "  </thead>\n",
       "  <tbody>\n",
       "    <tr>\n",
       "      <th>0</th>\n",
       "      <td>Rocky</td>\n",
       "      <td>http:/review/rw4247059/?ref_=tt_urv</td>\n",
       "      <td>2018-07-21</td>\n",
       "      <td>Rubbish</td>\n",
       "      <td>The fight scenes are pathetic and the acting i...</td>\n",
       "      <td>1</td>\n",
       "      <td>English</td>\n",
       "    </tr>\n",
       "    <tr>\n",
       "      <th>1</th>\n",
       "      <td>Rocky</td>\n",
       "      <td>http:/review/rw0149538/?ref_=tt_urv</td>\n",
       "      <td>1999-11-25</td>\n",
       "      <td>Dumbest, Most Cornball Film Ever Made</td>\n",
       "      <td>I still remember my initial outrage that this ...</td>\n",
       "      <td>1</td>\n",
       "      <td>English</td>\n",
       "    </tr>\n",
       "    <tr>\n",
       "      <th>2</th>\n",
       "      <td>Rocky</td>\n",
       "      <td>http:/review/rw0149534/?ref_=tt_urv</td>\n",
       "      <td>1998-08-19</td>\n",
       "      <td>overrated piece of cheese</td>\n",
       "      <td>grubby late-night fare achieved way too much s...</td>\n",
       "      <td>2</td>\n",
       "      <td>English</td>\n",
       "    </tr>\n",
       "    <tr>\n",
       "      <th>3</th>\n",
       "      <td>Rocky</td>\n",
       "      <td>http:/review/rw2406266/?ref_=tt_urv</td>\n",
       "      <td>2011-03-30</td>\n",
       "      <td>I can't believe the script was made into a mov...</td>\n",
       "      <td>I was told by many that Rocky is a beautiful m...</td>\n",
       "      <td>3</td>\n",
       "      <td>English</td>\n",
       "    </tr>\n",
       "    <tr>\n",
       "      <th>4</th>\n",
       "      <td>Rocky</td>\n",
       "      <td>http:/review/rw3451942/?ref_=tt_urv</td>\n",
       "      <td>2016-04-15</td>\n",
       "      <td>Hate me if you want but I didn't like this film</td>\n",
       "      <td>I'm going to come out and say it. I didn't lik...</td>\n",
       "      <td>3</td>\n",
       "      <td>English</td>\n",
       "    </tr>\n",
       "  </tbody>\n",
       "</table>\n",
       "</div>"
      ],
      "text/plain": [
       "   Movie                            ReviewUrl  ReviewDate  \\\n",
       "0  Rocky  http:/review/rw4247059/?ref_=tt_urv  2018-07-21   \n",
       "1  Rocky  http:/review/rw0149538/?ref_=tt_urv  1999-11-25   \n",
       "2  Rocky  http:/review/rw0149534/?ref_=tt_urv  1998-08-19   \n",
       "3  Rocky  http:/review/rw2406266/?ref_=tt_urv  2011-03-30   \n",
       "4  Rocky  http:/review/rw3451942/?ref_=tt_urv  2016-04-15   \n",
       "\n",
       "                                         ReviewTitle  \\\n",
       "0                                            Rubbish   \n",
       "1              Dumbest, Most Cornball Film Ever Made   \n",
       "2                          overrated piece of cheese   \n",
       "3  I can't believe the script was made into a mov...   \n",
       "4    Hate me if you want but I didn't like this film   \n",
       "\n",
       "                                              Review Rating Language  \n",
       "0  The fight scenes are pathetic and the acting i...      1  English  \n",
       "1  I still remember my initial outrage that this ...      1  English  \n",
       "2  grubby late-night fare achieved way too much s...      2  English  \n",
       "3  I was told by many that Rocky is a beautiful m...      3  English  \n",
       "4  I'm going to come out and say it. I didn't lik...      3  English  "
      ]
     },
     "execution_count": 5,
     "metadata": {},
     "output_type": "execute_result"
    }
   ],
   "source": [
    "dfReviewDetails = pd.DataFrame(columns=['Movie', 'ReviewUrl', 'ReviewDate', 'ReviewTitle', 'Review', 'Rating', \n",
    "                                        'Language'])\n",
    "counter = 0\n",
    "\n",
    "for r in reviewUrls:\n",
    "    fullUrl = \"https://www.imdb.com\" + r[5:]\n",
    "    response2 = requests.get(fullUrl)\n",
    "    soup2 = BeautifulSoup(response2.text, 'html.parser')\n",
    "    rjson = soup2.find('script', type = 'application/ld+json').text\n",
    "    rjson = json.loads(rjson)\n",
    "    \n",
    "    try:\n",
    "        rating = rjson['reviewRating']['ratingValue']\n",
    "    except Exception as e:\n",
    "        #print(\"No User Rating\")\n",
    "        rating = 5\n",
    "    \n",
    "    dfReviewDetails = dfReviewDetails.append({'Movie':dfRockyReviews.Movie[counter], 'ReviewUrl':r, \n",
    "                                              'ReviewDate':rjson['dateCreated'], 'ReviewTitle':rjson['name'], \n",
    "                                              'Review':rjson['reviewBody'], 'Rating':rating, \n",
    "                                              'Language':rjson['inLanguage']}, ignore_index=True)\n",
    "    counter += 1\n",
    "\n",
    "dfReviewDetails.head()"
   ]
  },
  {
   "cell_type": "markdown",
   "metadata": {},
   "source": [
    "The bar plot below shows movie review ratings for the reviews collected in the prior step. The original \"Rocky\" is widely considered the best of the \"Rocky\" series.  It won multiple Oscars and introduced \"Steady-Cam\" technology to the movie world.  However, the sample of user reviews collected tell a different story.  "
   ]
  },
  {
   "cell_type": "code",
   "execution_count": 6,
   "metadata": {},
   "outputs": [
    {
     "data": {
      "text/plain": [
       "<matplotlib.axes._subplots.AxesSubplot at 0x226d51aa198>"
      ]
     },
     "execution_count": 6,
     "metadata": {},
     "output_type": "execute_result"
    },
    {
     "data": {
      "image/png": "[encoded data removed]",
      "text/plain": [
       "<Figure size 432x288 with 1 Axes>"
      ]
     },
     "metadata": {
      "needs_background": "light"
     },
     "output_type": "display_data"
    }
   ],
   "source": [
    "plotdf = dfReviewDetails.sort_values(by=['ReviewDate'])\n",
    "plotdf.Rating = plotdf.Rating.astype('int64')\n",
    "plotdf.ReviewDate = pd.to_datetime(plotdf.ReviewDate)\n",
    "plotdf = plotdf.groupby(['Movie']).mean().reset_index()\n",
    "sns.barplot(x='Movie', y='Rating', data=plotdf.sort_values(by=['Rating'], ascending=False))"
   ]
  },
  {
   "cell_type": "markdown",
   "metadata": {},
   "source": [
    "### Question 7.1 - Review Clustering\n",
    "For this requirement, the IMDB reviews will be clustered using K-Means and Hiearchical Agglomerative Clustering.  The results are presented in the sections below.  The first step is to produce a vectorized matrix the review text."
   ]
  },
  {
   "cell_type": "code",
   "execution_count": 8,
   "metadata": {},
   "outputs": [
    {
     "data": {
      "text/plain": [
       "(150, 27720)"
      ]
     },
     "execution_count": 8,
     "metadata": {},
     "output_type": "execute_result"
    }
   ],
   "source": [
    "tfidfVectorizer = TfidfVectorizer(max_df=1, min_df=0, stop_words='english', use_idf=True, ngram_range=(1,3))\n",
    "\n",
    "tfidfMatrix = tfidfVectorizer.fit_transform(dfReviewDetails.Review)\n",
    "tfidfMatrix.shape"
   ]
  },
  {
   "cell_type": "markdown",
   "metadata": {},
   "source": [
    "#### KMeans Clustering\n",
    "The following code chunk determines the optimum combination of clusters, relative tolerance, and method of initialization based on the silhouette score.  The silhouette scores produced by the KMeans algorithm are all negative.  This indicates the clustering algorithm may not have effectively clustered the data."
   ]
  },
  {
   "cell_type": "code",
   "execution_count": 58,
   "metadata": {},
   "outputs": [
    {
     "name": "stdout",
     "output_type": "stream",
     "text": [
      "Clusters:  2 | tol: 0.1 | Init k-means++ | Silhouette Score: -1.3031767407075293e-15\n",
      "Clusters:  3 | tol: 0.1 | Init k-means++ | Silhouette Score: -4.657940960761855e-16\n",
      "Clusters:  5 | tol: 0.1 | Init k-means++ | Silhouette Score: -1.3921486466996082e-16\n"
     ]
    }
   ],
   "source": [
    "bestSilScore = -9999999999999\n",
    "rState = 20190325\n",
    "tolList = [0.1, 0.01, 0.001, 0.0001]\n",
    "initList = ['k-means++', 'random']\n",
    "\n",
    "for i in range(2, 7, 1):\n",
    "    for t in tolList:\n",
    "        for n in initList:\n",
    "            km = KMeans(n_clusters=i, tol=t, init=n, random_state=rState)\n",
    "            kmFit = km.fit(tfidfMatrix)\n",
    "            clusters = km.labels_.tolist()\n",
    "            silScore = metrics.silhouette_score(tfidfMatrix, km.labels_)\n",
    "            if silScore > bestSilScore:\n",
    "                print(\"Clusters: \", i, \"| tol:\", t, \"| Init\", n, \"| Silhouette Score:\", silScore)\n",
    "                bestSilScore = silScore\n",
    "                nClust = i\n",
    "                nTol = t\n",
    "                nInit = n"
   ]
  },
  {
   "cell_type": "markdown",
   "metadata": {},
   "source": [
    "The optimum combination of KMeans parameters are shown below."
   ]
  },
  {
   "cell_type": "code",
   "execution_count": 59,
   "metadata": {},
   "outputs": [
    {
     "name": "stdout",
     "output_type": "stream",
     "text": [
      "Optimum Number of Clusters: 5\n",
      "Optimum tol: 0.1\n",
      "Optimum Init: k-means++\n"
     ]
    }
   ],
   "source": [
    "print(\"Optimum Number of Clusters:\", nClust)\n",
    "print(\"Optimum tol:\", nTol)\n",
    "print(\"Optimum Init:\", nInit)"
   ]
  },
  {
   "cell_type": "markdown",
   "metadata": {},
   "source": [
    "The KMeans model is instantiated and fit to the vectorized matrix created from the movie reviews."
   ]
  },
  {
   "cell_type": "code",
   "execution_count": 13,
   "metadata": {},
   "outputs": [],
   "source": [
    "km = KMeans(n_clusters=nClust, tol=nTol, init=nInit, random_state=rState)\n",
    "kmFit = km.fit(tfidfMatrix)\n",
    "clusters = km.labels_.tolist()"
   ]
  },
  {
   "cell_type": "markdown",
   "metadata": {},
   "source": [
    "Next, a dictionary with the cluster per observation is assembled.  The dictionary is then converted to a pandas dataframe for processing."
   ]
  },
  {
   "cell_type": "code",
   "execution_count": 15,
   "metadata": {},
   "outputs": [],
   "source": [
    "reviewDict = {'cluster': clusters, 'movie': dfReviewDetails.Movie, 'rating': dfReviewDetails.Rating, 'title': dfReviewDetails.ReviewTitle, \n",
    "              'review': dfReviewDetails.Review}"
   ]
  },
  {
   "cell_type": "code",
   "execution_count": 16,
   "metadata": {},
   "outputs": [],
   "source": [
    "dfKmClust = pd.DataFrame.from_dict(reviewDict)\n",
    "dfKmClust['rating'] = dfKmClust['rating'].astype('int64')\n",
    "#dfKmClust.head()"
   ]
  },
  {
   "cell_type": "markdown",
   "metadata": {},
   "source": [
    "To provide additional depth of cluster analysis, the sentiment and polarity score for each review is calculated and attached to the KMeans clustering dataframe."
   ]
  },
  {
   "cell_type": "code",
   "execution_count": 17,
   "metadata": {},
   "outputs": [],
   "source": [
    "reviews = dfKmClust['review']\n",
    "sa = []\n",
    "pol = []\n",
    "\n",
    "for r in dfKmClust['review']:\n",
    "    tmp = sentiment(r)\n",
    "    sa.append(round(tmp[0], 4))\n",
    "    pol.append(round(tmp[1], 4))"
   ]
  },
  {
   "cell_type": "code",
   "execution_count": 18,
   "metadata": {},
   "outputs": [],
   "source": [
    "dfKmClust['sentiment'] = sa\n",
    "dfKmClust['polarity'] = pol"
   ]
  },
  {
   "cell_type": "code",
   "execution_count": 19,
   "metadata": {
    "scrolled": true
   },
   "outputs": [
    {
     "data": {
      "text/html": [
       "<div>\n",
       "<style scoped>\n",
       "    .dataframe tbody tr th:only-of-type {\n",
       "        vertical-align: middle;\n",
       "    }\n",
       "\n",
       "    .dataframe tbody tr th {\n",
       "        vertical-align: top;\n",
       "    }\n",
       "\n",
       "    .dataframe thead th {\n",
       "        text-align: right;\n",
       "    }\n",
       "</style>\n",
       "<table border=\"1\" class=\"dataframe\">\n",
       "  <thead>\n",
       "    <tr style=\"text-align: right;\">\n",
       "      <th></th>\n",
       "      <th>cluster</th>\n",
       "      <th>movie</th>\n",
       "      <th>rating</th>\n",
       "      <th>title</th>\n",
       "      <th>review</th>\n",
       "      <th>sentiment</th>\n",
       "      <th>polarity</th>\n",
       "    </tr>\n",
       "  </thead>\n",
       "  <tbody>\n",
       "    <tr>\n",
       "      <th>0</th>\n",
       "      <td>1</td>\n",
       "      <td>Rocky</td>\n",
       "      <td>1</td>\n",
       "      <td>Rubbish</td>\n",
       "      <td>The fight scenes are pathetic and the acting i...</td>\n",
       "      <td>-0.5000</td>\n",
       "      <td>0.6667</td>\n",
       "    </tr>\n",
       "    <tr>\n",
       "      <th>1</th>\n",
       "      <td>2</td>\n",
       "      <td>Rocky</td>\n",
       "      <td>1</td>\n",
       "      <td>Dumbest, Most Cornball Film Ever Made</td>\n",
       "      <td>I still remember my initial outrage that this ...</td>\n",
       "      <td>-0.0500</td>\n",
       "      <td>0.3815</td>\n",
       "    </tr>\n",
       "    <tr>\n",
       "      <th>2</th>\n",
       "      <td>1</td>\n",
       "      <td>Rocky</td>\n",
       "      <td>2</td>\n",
       "      <td>overrated piece of cheese</td>\n",
       "      <td>grubby late-night fare achieved way too much s...</td>\n",
       "      <td>0.0757</td>\n",
       "      <td>0.5011</td>\n",
       "    </tr>\n",
       "    <tr>\n",
       "      <th>3</th>\n",
       "      <td>2</td>\n",
       "      <td>Rocky</td>\n",
       "      <td>3</td>\n",
       "      <td>I can't believe the script was made into a mov...</td>\n",
       "      <td>I was told by many that Rocky is a beautiful m...</td>\n",
       "      <td>0.0317</td>\n",
       "      <td>0.5224</td>\n",
       "    </tr>\n",
       "    <tr>\n",
       "      <th>4</th>\n",
       "      <td>1</td>\n",
       "      <td>Rocky</td>\n",
       "      <td>3</td>\n",
       "      <td>Hate me if you want but I didn't like this film</td>\n",
       "      <td>I'm going to come out and say it. I didn't lik...</td>\n",
       "      <td>-0.1371</td>\n",
       "      <td>0.5229</td>\n",
       "    </tr>\n",
       "  </tbody>\n",
       "</table>\n",
       "</div>"
      ],
      "text/plain": [
       "   cluster  movie  rating                                              title  \\\n",
       "0        1  Rocky       1                                            Rubbish   \n",
       "1        2  Rocky       1              Dumbest, Most Cornball Film Ever Made   \n",
       "2        1  Rocky       2                          overrated piece of cheese   \n",
       "3        2  Rocky       3  I can't believe the script was made into a mov...   \n",
       "4        1  Rocky       3    Hate me if you want but I didn't like this film   \n",
       "\n",
       "                                              review  sentiment  polarity  \n",
       "0  The fight scenes are pathetic and the acting i...    -0.5000    0.6667  \n",
       "1  I still remember my initial outrage that this ...    -0.0500    0.3815  \n",
       "2  grubby late-night fare achieved way too much s...     0.0757    0.5011  \n",
       "3  I was told by many that Rocky is a beautiful m...     0.0317    0.5224  \n",
       "4  I'm going to come out and say it. I didn't lik...    -0.1371    0.5229  "
      ]
     },
     "execution_count": 19,
     "metadata": {},
     "output_type": "execute_result"
    }
   ],
   "source": [
    "dfKmClust.head()"
   ]
  },
  {
   "cell_type": "markdown",
   "metadata": {},
   "source": [
    "KMeans clustering identified five clusters.  Three of those clusters have one document each. "
   ]
  },
  {
   "cell_type": "code",
   "execution_count": 20,
   "metadata": {},
   "outputs": [
    {
     "name": "stdout",
     "output_type": "stream",
     "text": [
      "1    82\n",
      "2    65\n",
      "4     1\n",
      "3     1\n",
      "0     1\n",
      "Name: cluster, dtype: int64\n"
     ]
    },
    {
     "data": {
      "image/png": "[encoded data removed]",
      "text/plain": [
       "<Figure size 432x288 with 1 Axes>"
      ]
     },
     "metadata": {
      "needs_background": "light"
     },
     "output_type": "display_data"
    }
   ],
   "source": [
    "dfKmClust['cluster'].value_counts().plot(kind='bar')\n",
    "print(dfKmClust['cluster'].value_counts())"
   ]
  },
  {
   "cell_type": "markdown",
   "metadata": {},
   "source": [
    "##### User Rating\n",
    "The IMDB user rating shows only a slight difference between clusters 1 and 2. On a ten point scale, the average user rating of Cluster 1 is 0.2 greater than that of Cluster 2."
   ]
  },
  {
   "cell_type": "code",
   "execution_count": 21,
   "metadata": {
    "scrolled": true
   },
   "outputs": [
    {
     "name": "stdout",
     "output_type": "stream",
     "text": [
      "cluster\n",
      "0    10.000000\n",
      "1     7.548780\n",
      "2     7.338462\n",
      "3     9.000000\n",
      "4    10.000000\n",
      "Name: rating, dtype: float64\n"
     ]
    }
   ],
   "source": [
    "clusterRate = dfKmClust['rating'].groupby(dfKmClust['cluster'])\n",
    "print(clusterRate.mean())"
   ]
  },
  {
   "cell_type": "markdown",
   "metadata": {},
   "source": [
    "##### Sentiment Analysis\n",
    "Cluster 2 is slightly more positive than Cluster 1 according to average sentiment analysis scores."
   ]
  },
  {
   "cell_type": "code",
   "execution_count": 22,
   "metadata": {},
   "outputs": [
    {
     "name": "stdout",
     "output_type": "stream",
     "text": [
      "cluster\n",
      "0    0.172200\n",
      "1    0.172601\n",
      "2    0.209542\n",
      "3    0.311200\n",
      "4    0.124600\n",
      "Name: sentiment, dtype: float64\n"
     ]
    }
   ],
   "source": [
    "#https://www.clips.uantwerpen.be/pages/pattern-en#sentiment\n",
    "clusterSent = dfKmClust['sentiment'].groupby(dfKmClust['cluster'])\n",
    "print(clusterSent.mean())"
   ]
  },
  {
   "cell_type": "markdown",
   "metadata": {},
   "source": [
    "##### Polarity\n",
    "As with the other scores, there is only a slight difference between the two primary KMeans clusters."
   ]
  },
  {
   "cell_type": "code",
   "execution_count": 23,
   "metadata": {},
   "outputs": [
    {
     "name": "stdout",
     "output_type": "stream",
     "text": [
      "cluster\n",
      "0    0.543400\n",
      "1    0.504534\n",
      "2    0.498734\n",
      "3    0.385000\n",
      "4    0.445600\n",
      "Name: polarity, dtype: float64\n"
     ]
    }
   ],
   "source": [
    "#https://www.clips.uantwerpen.be/pages/pattern-en#sentiment\n",
    "clusterPol = dfKmClust['polarity'].groupby(dfKmClust['cluster'])\n",
    "print(clusterPol.mean())"
   ]
  },
  {
   "cell_type": "markdown",
   "metadata": {},
   "source": [
    "##### Clusters by Movie\n",
    "Plotting the count of individual movie per cluster reveals a difference between the two major clusters.  Reviews for Rocky 2 are proportionally greater in cluster 2 compared to cluster 1."
   ]
  },
  {
   "cell_type": "code",
   "execution_count": 27,
   "metadata": {
    "scrolled": false
   },
   "outputs": [
    {
     "data": {
      "text/plain": [
       "<matplotlib.axes._subplots.AxesSubplot at 0x226d4f8beb8>"
      ]
     },
     "execution_count": 27,
     "metadata": {},
     "output_type": "execute_result"
    },
    {
     "data": {
      "image/png": "[encoded data removed]",
      "text/plain": [
       "<Figure size 432x288 with 1 Axes>"
      ]
     },
     "metadata": {
      "needs_background": "light"
     },
     "output_type": "display_data"
    }
   ],
   "source": [
    "#https://www.shanelynn.ie/summarising-aggregation-and-grouping-data-in-python-pandas/\n",
    "#https://stackoverflow.com/questions/17679089/pandas-dataframe-groupby-two-columns-and-get-counts/47125795#47125795\n",
    "clusterMovie = dfKmClust.groupby(['movie', 'cluster']).size().sort_values(ascending=False).reset_index(name='count')\n",
    "#https://pandas.pydata.org/pandas-docs/stable/reference/api/pandas.DataFrame.pivot.html#\n",
    "clusterMovie.pivot(index='cluster', columns='movie', values='count').fillna(0).plot(kind='bar')"
   ]
  },
  {
   "cell_type": "markdown",
   "metadata": {},
   "source": [
    "##### TFIDF Weighted Features per KMeans Cluster\n",
    "The top 12 TDIDF weighted features from KMeans clusters 1 and 2 are produced using the Pattern \"Document\" and \"Model\" functions.  Clusters 1 and 2 are partitioned into their own dataframes.  Each review is converted to a Pattern Document.  The Documents are appended to one another and transformed into a Model.  The results is a Model for cluster 1 and a Model for cluster 2.  The top 12 features with a TDIDF weighting greater than 0.2 are printed."
   ]
  },
  {
   "cell_type": "code",
   "execution_count": 26,
   "metadata": {},
   "outputs": [],
   "source": [
    "dfKmClust1 = dfKmClust[dfKmClust.cluster == 1]\n",
    "dfKmClust1.reset_index(inplace=True)\n",
    "dfKmClust2 = dfKmClust[dfKmClust.cluster == 2]\n",
    "dfKmClust2.reset_index(inplace=True)"
   ]
  },
  {
   "cell_type": "code",
   "execution_count": 28,
   "metadata": {},
   "outputs": [],
   "source": [
    "#https://www.clips.uantwerpen.be/pages/pattern-vector#model\n",
    "\n",
    "def clusterFeatures(list):\n",
    "    docs = []\n",
    "    for l in range(len(list)):\n",
    "        docs.append(Document(list[l], type=list[l].strip('\"')))\n",
    "    mb = Model(documents=docs, weight=TFIDF)\n",
    "    mfs = mb.feature_selection(top=12, threshold=0.2)\n",
    "    return mb, mfs"
   ]
  },
  {
   "cell_type": "code",
   "execution_count": 29,
   "metadata": {},
   "outputs": [],
   "source": [
    "mb1, mfs1 = clusterFeatures(dfKmClust1['review'])\n",
    "mb2, mfs2 = clusterFeatures(dfKmClust2['review'])"
   ]
  },
  {
   "cell_type": "markdown",
   "metadata": {},
   "source": [
    "Again, Cluster 2 contained a higher proportional count of Rocker 2 reviews compared to Cluster 1.  In Rocky 2, the movie centered around three primary themes:  Rocky's retirement from boxing, the birth of his first and only child and the rematch with Apollo Creed.  Examination of the key features of Cluster 1 and 2 are difficult to distinguish.  Features such as \"ii\", life and rematch could be tied directly to Rocky 2.  However, the key features are not overwhelmingly postitive or negative in a single cluster.  There is a smattering of character names and actor names in each cluster.  "
   ]
  },
  {
   "cell_type": "code",
   "execution_count": 30,
   "metadata": {},
   "outputs": [
    {
     "name": "stdout",
     "output_type": "stream",
     "text": [
      "Cluster 1\n",
      "['rocky', 'clubber', 'heart', 'lang', 'makes', 'people', 'ring', 'scenes', 'films', 'talia', 'love', 'adrian']\n",
      "\n",
      "Cluster 2\n",
      "['rocky', 'watch', 'ii', 'rematch', 'training', 'bad', 'boxing', 'carl', 'characters', 'iii', 'life', 'original']\n"
     ]
    }
   ],
   "source": [
    "print(\"Cluster 1\")\n",
    "print(mfs1)\n",
    "print()\n",
    "print(\"Cluster 2\")\n",
    "print(mfs2)"
   ]
  },
  {
   "cell_type": "markdown",
   "metadata": {},
   "source": [
    "#### Hierarchical Clustering\n",
    "The optimum number of clusters for Hiearchical Agglomerative Clustering are determined and display.  The agglomerative clustering algorithm requires a dense matrix.  So, the vectorized matrix created for KMeans clustering is converted to a dense matrix.  The silhouette scores of the Hierachical Agglomerative Clustering algorithm are negative.  The algorithm struggles with identifying meaningful clusters."
   ]
  },
  {
   "cell_type": "code",
   "execution_count": 31,
   "metadata": {},
   "outputs": [],
   "source": [
    "denseTfidf = tfidfMatrix.toarray()"
   ]
  },
  {
   "cell_type": "code",
   "execution_count": 32,
   "metadata": {},
   "outputs": [
    {
     "name": "stdout",
     "output_type": "stream",
     "text": [
      "Clusters:  2 | Silhouette Score: -2.6105403946382165e-15\n",
      "Clusters:  3 | Silhouette Score: -2.5697179907124387e-15\n",
      "Clusters:  4 | Silhouette Score: -2.4472507789351048e-15\n",
      "Clusters:  5 | Silhouette Score: -2.413755473149851e-15\n",
      "Clusters:  6 | Silhouette Score: -2.3834003522819647e-15\n",
      "Clusters:  7 | Silhouette Score: -2.3300172086867163e-15\n",
      "Clusters:  11 | Silhouette Score: -2.326877023769355e-15\n"
     ]
    }
   ],
   "source": [
    "bestSilScore = -999999999999\n",
    "nClust2 = 0\n",
    "\n",
    "for i in range(2, 15, 1):\n",
    "    ac = AgglomerativeClustering(n_clusters=i, linkage='ward')\n",
    "    acFit = ac.fit(denseTfidf)\n",
    "    clusters2 = acFit.labels_.tolist()\n",
    "    silScore = metrics.silhouette_score(denseTfidf, acFit.labels_)\n",
    "    if silScore > bestSilScore:\n",
    "        print(\"Clusters: \", i, \"| Silhouette Score:\", silScore)\n",
    "        bestSilScore = silScore\n",
    "        nClust2 = i"
   ]
  },
  {
   "cell_type": "code",
   "execution_count": 33,
   "metadata": {},
   "outputs": [
    {
     "name": "stdout",
     "output_type": "stream",
     "text": [
      "Optimum Number of Clusters: 11\n"
     ]
    }
   ],
   "source": [
    "print(\"Optimum Number of Clusters:\", nClust2)"
   ]
  },
  {
   "cell_type": "markdown",
   "metadata": {},
   "source": [
    "The agglomerative clustering model is instantiated and fit using the dense vectorized matrix of terms."
   ]
  },
  {
   "cell_type": "code",
   "execution_count": 34,
   "metadata": {},
   "outputs": [],
   "source": [
    "ac = AgglomerativeClustering(n_clusters=nClust2, linkage='ward')\n",
    "acFit = ac.fit(denseTfidf)\n",
    "acFit.labels_\n",
    "clusters2 = acFit.labels_.tolist()"
   ]
  },
  {
   "cell_type": "code",
   "execution_count": 35,
   "metadata": {},
   "outputs": [],
   "source": [
    "dfacPlot = dfReviewDetails\n",
    "dfacPlot['cluster'] = clusters2"
   ]
  },
  {
   "cell_type": "markdown",
   "metadata": {},
   "source": [
    "The cluster for each document is appended to a dictionary containing the review-wise details."
   ]
  },
  {
   "cell_type": "code",
   "execution_count": 36,
   "metadata": {},
   "outputs": [],
   "source": [
    "reviewDict2 = {'cluster': clusters2, 'movie': dfReviewDetails.Movie, 'rating': dfReviewDetails.Rating, 'title': dfReviewDetails.ReviewTitle, \n",
    "              'review': dfReviewDetails.Review}"
   ]
  },
  {
   "cell_type": "code",
   "execution_count": 37,
   "metadata": {},
   "outputs": [],
   "source": [
    "dfHacClust = pd.DataFrame.from_dict(reviewDict2)\n",
    "dfHacClust['rating'] = dfHacClust['rating'].astype('int64')"
   ]
  },
  {
   "cell_type": "markdown",
   "metadata": {},
   "source": [
    "As with KMeans clustering, we attach the sentiment and polarity scores for each review to the dataframe.  The average sentiment and polarity will be calculated for these clusters as well to deteremine if this provides evidence of a different between clusters."
   ]
  },
  {
   "cell_type": "code",
   "execution_count": 38,
   "metadata": {},
   "outputs": [
    {
     "data": {
      "text/html": [
       "<div>\n",
       "<style scoped>\n",
       "    .dataframe tbody tr th:only-of-type {\n",
       "        vertical-align: middle;\n",
       "    }\n",
       "\n",
       "    .dataframe tbody tr th {\n",
       "        vertical-align: top;\n",
       "    }\n",
       "\n",
       "    .dataframe thead th {\n",
       "        text-align: right;\n",
       "    }\n",
       "</style>\n",
       "<table border=\"1\" class=\"dataframe\">\n",
       "  <thead>\n",
       "    <tr style=\"text-align: right;\">\n",
       "      <th></th>\n",
       "      <th>cluster</th>\n",
       "      <th>movie</th>\n",
       "      <th>rating</th>\n",
       "      <th>title</th>\n",
       "      <th>review</th>\n",
       "      <th>sentiment</th>\n",
       "      <th>polarity</th>\n",
       "    </tr>\n",
       "  </thead>\n",
       "  <tbody>\n",
       "    <tr>\n",
       "      <th>0</th>\n",
       "      <td>0</td>\n",
       "      <td>Rocky</td>\n",
       "      <td>1</td>\n",
       "      <td>Rubbish</td>\n",
       "      <td>The fight scenes are pathetic and the acting i...</td>\n",
       "      <td>-0.5000</td>\n",
       "      <td>0.6667</td>\n",
       "    </tr>\n",
       "    <tr>\n",
       "      <th>1</th>\n",
       "      <td>0</td>\n",
       "      <td>Rocky</td>\n",
       "      <td>1</td>\n",
       "      <td>Dumbest, Most Cornball Film Ever Made</td>\n",
       "      <td>I still remember my initial outrage that this ...</td>\n",
       "      <td>-0.0500</td>\n",
       "      <td>0.3815</td>\n",
       "    </tr>\n",
       "    <tr>\n",
       "      <th>2</th>\n",
       "      <td>0</td>\n",
       "      <td>Rocky</td>\n",
       "      <td>2</td>\n",
       "      <td>overrated piece of cheese</td>\n",
       "      <td>grubby late-night fare achieved way too much s...</td>\n",
       "      <td>0.0757</td>\n",
       "      <td>0.5011</td>\n",
       "    </tr>\n",
       "    <tr>\n",
       "      <th>3</th>\n",
       "      <td>0</td>\n",
       "      <td>Rocky</td>\n",
       "      <td>3</td>\n",
       "      <td>I can't believe the script was made into a mov...</td>\n",
       "      <td>I was told by many that Rocky is a beautiful m...</td>\n",
       "      <td>0.0317</td>\n",
       "      <td>0.5224</td>\n",
       "    </tr>\n",
       "    <tr>\n",
       "      <th>4</th>\n",
       "      <td>1</td>\n",
       "      <td>Rocky</td>\n",
       "      <td>3</td>\n",
       "      <td>Hate me if you want but I didn't like this film</td>\n",
       "      <td>I'm going to come out and say it. I didn't lik...</td>\n",
       "      <td>-0.1371</td>\n",
       "      <td>0.5229</td>\n",
       "    </tr>\n",
       "  </tbody>\n",
       "</table>\n",
       "</div>"
      ],
      "text/plain": [
       "   cluster  movie  rating                                              title  \\\n",
       "0        0  Rocky       1                                            Rubbish   \n",
       "1        0  Rocky       1              Dumbest, Most Cornball Film Ever Made   \n",
       "2        0  Rocky       2                          overrated piece of cheese   \n",
       "3        0  Rocky       3  I can't believe the script was made into a mov...   \n",
       "4        1  Rocky       3    Hate me if you want but I didn't like this film   \n",
       "\n",
       "                                              review  sentiment  polarity  \n",
       "0  The fight scenes are pathetic and the acting i...    -0.5000    0.6667  \n",
       "1  I still remember my initial outrage that this ...    -0.0500    0.3815  \n",
       "2  grubby late-night fare achieved way too much s...     0.0757    0.5011  \n",
       "3  I was told by many that Rocky is a beautiful m...     0.0317    0.5224  \n",
       "4  I'm going to come out and say it. I didn't lik...    -0.1371    0.5229  "
      ]
     },
     "execution_count": 38,
     "metadata": {},
     "output_type": "execute_result"
    }
   ],
   "source": [
    "dfHacClust['sentiment'] = sa\n",
    "dfHacClust['polarity'] = pol\n",
    "dfHacClust.head()"
   ]
  },
  {
   "cell_type": "markdown",
   "metadata": {},
   "source": [
    "##### HAC Cluster Counts\n",
    "Cluster 0 and 1 are the primary clusters identified by hierarchical agglomerative clustering.  However, there are eight single document clusters.  "
   ]
  },
  {
   "cell_type": "code",
   "execution_count": 39,
   "metadata": {},
   "outputs": [
    {
     "name": "stdout",
     "output_type": "stream",
     "text": [
      "0     82\n",
      "1     59\n",
      "10     1\n",
      "9      1\n",
      "8      1\n",
      "7      1\n",
      "6      1\n",
      "5      1\n",
      "4      1\n",
      "3      1\n",
      "2      1\n",
      "Name: cluster, dtype: int64\n"
     ]
    },
    {
     "data": {
      "image/png": "[encoded data removed]",
      "text/plain": [
       "<Figure size 432x288 with 1 Axes>"
      ]
     },
     "metadata": {
      "needs_background": "light"
     },
     "output_type": "display_data"
    }
   ],
   "source": [
    "dfHacClust['cluster'].value_counts().plot(kind='bar')\n",
    "print(dfHacClust['cluster'].value_counts())"
   ]
  },
  {
   "cell_type": "markdown",
   "metadata": {},
   "source": [
    "##### Sentiment Analysis HAC"
   ]
  },
  {
   "cell_type": "code",
   "execution_count": 62,
   "metadata": {},
   "outputs": [
    {
     "name": "stdout",
     "output_type": "stream",
     "text": [
      "cluster\n",
      "0     0.187337\n",
      "1     0.196893\n",
      "2     0.221400\n",
      "3     0.172300\n",
      "4     0.187100\n",
      "5     0.195100\n",
      "6     0.114900\n",
      "7     0.178900\n",
      "8    -0.003400\n",
      "9     0.210300\n",
      "10    0.126600\n",
      "Name: sentiment, dtype: float64\n"
     ]
    }
   ],
   "source": [
    "clusterSent2 = dfHacClust['sentiment'].groupby(dfHacClust['cluster'])\n",
    "print(clusterSent2.mean())"
   ]
  },
  {
   "cell_type": "markdown",
   "metadata": {},
   "source": [
    "##### Polarity Analysis HAC"
   ]
  },
  {
   "cell_type": "code",
   "execution_count": 63,
   "metadata": {},
   "outputs": [
    {
     "name": "stdout",
     "output_type": "stream",
     "text": [
      "cluster\n",
      "0     0.489284\n",
      "1     0.520097\n",
      "2     0.494400\n",
      "3     0.539000\n",
      "4     0.484700\n",
      "5     0.537300\n",
      "6     0.438500\n",
      "7     0.397600\n",
      "8     0.513700\n",
      "9     0.437500\n",
      "10    0.513800\n",
      "Name: polarity, dtype: float64\n"
     ]
    }
   ],
   "source": [
    "clusterPol2 = dfHacClust['polarity'].groupby(dfHacClust['cluster'])\n",
    "print(clusterPol2.mean())"
   ]
  },
  {
   "cell_type": "markdown",
   "metadata": {},
   "source": [
    "##### HAC Movies per Cluster\n",
    "As with the KMeans clustering results, the primary observable difference between clusters is the ratio of movies.  The ranking of highest to lowest movies for Cluster 0 is Rocky, Rocky 2, and Rocky 3.  The rankings for Cluster 1 are reversed.  "
   ]
  },
  {
   "cell_type": "code",
   "execution_count": 40,
   "metadata": {},
   "outputs": [
    {
     "data": {
      "text/plain": [
       "<matplotlib.axes._subplots.AxesSubplot at 0x226d58ecd68>"
      ]
     },
     "execution_count": 40,
     "metadata": {},
     "output_type": "execute_result"
    },
    {
     "data": {
      "image/png": "[encoded data removed]",
      "text/plain": [
       "<Figure size 432x288 with 1 Axes>"
      ]
     },
     "metadata": {
      "needs_background": "light"
     },
     "output_type": "display_data"
    }
   ],
   "source": [
    "clusterMovie2 = dfHacClust.groupby(['movie', 'cluster']).size().sort_values(ascending=False).reset_index(name='count')\n",
    "clusterMovie2.pivot(index='cluster', columns='movie', values='count').fillna(0).plot(kind='bar')"
   ]
  },
  {
   "cell_type": "markdown",
   "metadata": {},
   "source": [
    "##### TFIDF Weighted Features per HAC Cluster\n",
    "Cluster 0 is high on Rocky and low on Rocky 3 documents.  Cluster 1 is high on Rocky 3 and low on Rocky documents.  Again, there is no discernable difference in sentiment between the key features of the two primary clusters.  Cluster 1 does show Rocky 3 specific tokens of \"iii\" and \"clubber\".  Rocky's trainer \"Mickey\", played by Burgess Meredith also dies in Rocky 3.  The key features are very similar to those identified by KMeans clustering.  The same Pattern based method used for KMeans is called for the Hierarchical Agglomerative Clustering clusters."
   ]
  },
  {
   "cell_type": "code",
   "execution_count": 41,
   "metadata": {},
   "outputs": [],
   "source": [
    "dfHacClust0 = dfHacClust[dfHacClust.cluster == 0]\n",
    "dfHacClust0.reset_index(inplace=True)\n",
    "dfHacClust1 = dfHacClust[dfHacClust.cluster == 1]\n",
    "dfHacClust1.reset_index(inplace=True)"
   ]
  },
  {
   "cell_type": "code",
   "execution_count": 42,
   "metadata": {},
   "outputs": [],
   "source": [
    "mb1a, mfs1a = clusterFeatures(dfHacClust0['review'])\n",
    "mb2a, mfs2a = clusterFeatures(dfHacClust1['review'])"
   ]
  },
  {
   "cell_type": "code",
   "execution_count": 44,
   "metadata": {},
   "outputs": [
    {
     "name": "stdout",
     "output_type": "stream",
     "text": [
      "Cluster 0\n",
      "['rocky', 'series', 'watch', 'adrian', 'life', 'love', 'boxing', 'movies', 'sylvester', 'creed', 'apollo', 'movie']\n",
      "\n",
      "Cluster 1\n",
      "['rocky', 'acting', 'ii', 'iii', 'love', 'meredith', 'watch', 'clubber', 'characters', 'films', 'mickey', 'makes']\n"
     ]
    }
   ],
   "source": [
    "print(\"Cluster 0\")\n",
    "print(mfs1a)\n",
    "print()\n",
    "print(\"Cluster 1\")\n",
    "print(mfs2a)"
   ]
  },
  {
   "cell_type": "markdown",
   "metadata": {},
   "source": [
    "### Question 7.2\n",
    "Semantically, there is little difference between the features identified by KMeans and Hierachical Agglomerative Clustering.  It essentially the same set of characters, actors and descriptive tokens.  As described above, the primary difference is in the composition of movies per major cluster.  Possible explanations include the recylcing of plot and characters between the first three Rocky movies.  The primary characters were exactly the same in Rocky and Rocky2.  Only the addition of Mr. T's character in Rocky 3 differentiates the cast.  It is a bit surprising semantic differences from the original Rocky were not identified.  The beginning of the relationship between Rocky and Adrian, and the unique conversations between Rocky and Pauly didn't not stand out.  The user reviews make little mention of these.  Any review marked as a \"spoiler alert\" was filtered out of the results processed by the web scraping procedure.  It's possible these reviews could contain unique features.  "
   ]
  },
  {
   "cell_type": "code",
   "execution_count": null,
   "metadata": {},
   "outputs": [],
   "source": []
  },
  {
   "cell_type": "markdown",
   "metadata": {},
   "source": [
    "### Question 7.3\n",
    "Given the similarities in key features, sentiment, and polarity between the major clusters produced by KMeans and Hierarchical Agglomerative Clustering, the number of outlier clusters identified by the two algorithms is the deciding factor between algorithms.  Hierarchical Agglomerative Clustering shows eight one document clusters using the optimal model identified above.  Whereas, KMeans found two major clusters and only three one document clusters.  Fewer one document clusters lead to the KMeans model being preferable for this dataset.  However, more algorithms should be tested given the low silouhette scores of both KMeans and Hierarchical Agglomerative Clustering."
   ]
  },
  {
   "cell_type": "markdown",
   "metadata": {},
   "source": [
    "### Code Appendix"
   ]
  },
  {
   "cell_type": "code",
   "execution_count": 61,
   "metadata": {
    "scrolled": false
   },
   "outputs": [],
   "source": [
    "#https://docs.scipy.org/doc/scipy/reference/generated/scipy.cluster.hierarchy.dendrogram.html\n",
    "#plt.figure(figsize=(50,50))\n",
    "#children = acFit.children_\n",
    "#distance = np.arange(children.shape[0])\n",
    "#no_of_observations = np.arange(2, children.shape[0]+2)\n",
    "#linkageMatrix = np.column_stack([children, distance, no_of_observations]).astype(float)\n",
    "#\n",
    "#dn = dendrogram(linkageMatrix, labels=dfReviewDetails.index, p=30, truncate_mode='level', orientation='right', show_leaf_counts=True, leaf_font_size = 9)\n",
    "#dn = dendrogram(linkageMatrix, labels=dfReviewDetails.index, show_leaf_counts=False, orientation='right', leaf_font_size=10)\n",
    "#\n",
    "#plt.show()"
   ]
  },
  {
   "cell_type": "code",
   "execution_count": 60,
   "metadata": {},
   "outputs": [],
   "source": [
    "#viz = InterclusterDistance(km)\n",
    "#viz.fit(tfidfMatrix)\n",
    "#viz.poof()"
   ]
  }
 ],
 "metadata": {
  "kernelspec": {
   "display_name": "Python 3",
   "language": "python",
   "name": "python3"
  },
  "language_info": {
   "codemirror_mode": {
    "name": "ipython",
    "version": 3
   },
   "file_extension": ".py",
   "mimetype": "text/x-python",
   "name": "python",
   "nbconvert_exporter": "python",
   "pygments_lexer": "ipython3",
   "version": "3.6.8"
  }
 },
 "nbformat": 4,
 "nbformat_minor": 2
}
