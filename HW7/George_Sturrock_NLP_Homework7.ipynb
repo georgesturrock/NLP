{
 "cells": [
  {
   "cell_type": "markdown",
   "metadata": {},
   "source": [
    "## Clutering IMDB Movie Reviews\n",
    "### DS 7337 - Natural Laguage Processing - Homework 7\n",
    "#### George C. Sturrock\n",
    "##### March 31, 2019\n",
    "##### Homework 7 Objectives\n",
    "Cluster the reviews that you collected in homework 5, by doing the following:\n",
    "1.\tIn Python, select any one of the clustering methods covered in this course. Run it over the collection of reviews, and show at least two different ways of clustering the reviews, e.g., changing k in k-Means clustering or changing where you “cut” in Agnes or Diana.  \n",
    "\n",
    "2.\tTry to write a short phrase to characterize (give a natural interpretation of) what each cluster is generally centered on semantically. Is this hard to do in some cases? If so, make note of that fact. \n",
    "\n",
    "3.\tExplain which of the two clustering results from question 1 is preferable (if one of them is), and why. \n",
    "\n",
    "##### Resources\n",
    "http://brandonrose.org/clustering\n",
    "https://scikit-learn.org/stable/modules/generated/sklearn.feature_extraction.text.TfidfVectorizer.html\n",
    "https://machinelearningmastery.com/prepare-text-data-machine-learning-scikit-learn/\n",
    "\n",
    "#### Import Libraries"
   ]
  },
  {
   "cell_type": "code",
   "execution_count": 1,
   "metadata": {},
   "outputs": [
    {
     "name": "stdout",
     "output_type": "stream",
     "text": [
      "Platform: Windows-10-10.0.14393-SP0\n",
      "Python: 3.6.8 |Anaconda, Inc.| (default, Feb 21 2019, 18:30:04) [MSC v.1916 64 bit (AMD64)]\n",
      "Requests: 2.21.0\n",
      "BeatifulSoup: 4.7.1\n",
      "json: 2.0.9\n",
      "Numpy Version: 1.15.4\n",
      "Pandas Version: 0.23.0\n",
      "Pattern Version: 3.6\n"
     ]
    }
   ],
   "source": [
    "import platform; print(\"Platform:\", platform.platform())\n",
    "import os\n",
    "import sys; print(\"Python:\", sys.version)\n",
    "import requests; print(\"Requests:\", requests.__version__)\n",
    "from urllib import request; (\"urllib:\", request.__version__)\n",
    "import warnings\n",
    "warnings.filterwarnings('ignore')\n",
    "from time import sleep\n",
    "\n",
    "#Web Scraping\n",
    "import bs4; print(\"BeatifulSoup:\", bs4.__version__)\n",
    "from bs4 import BeautifulSoup\n",
    "import json; print(\"json:\", json.__version__)\n",
    "\n",
    "#Python Basics\n",
    "import numpy as np; print(\"Numpy Version:\", np.__version__)\n",
    "import pandas as pd; print(\"Pandas Version:\", pd.__version__)\n",
    "from matplotlib import pyplot as plt\n",
    "import seaborn as sns;\n",
    "\n",
    "#scikit learn\n",
    "from sklearn import metrics\n",
    "from sklearn.feature_extraction import stop_words\n",
    "#print(stop_words.ENGLISH_STOP_WORDS)\n",
    "from sklearn.feature_extraction.text import TfidfVectorizer, CountVectorizer\n",
    "#HAC\n",
    "from scipy.cluster.hierarchy import ward, dendrogram\n",
    "from sklearn.cluster import AgglomerativeClustering\n",
    "#KMeans\n",
    "from sklearn.cluster import KMeans\n",
    "\n",
    "import pattern; print(\"Pattern Version:\", pattern.__version__)\n",
    "from pattern.en import tag, parse\n",
    "from pattern.en import parsetree\n",
    "from pattern.en import sentiment, positive\n",
    "from pattern.vector import Document, Model, TFIDF, TF"
   ]
  },
  {
   "cell_type": "markdown",
   "metadata": {},
   "source": [
    "### Data Acquisition\n",
    "The first three films in the \"Rocky\" series will be utilized to collect reviews for noun phrase chunking.  Link to the main user review page for each of the three movies are shown below.  To assure both positive and negative reviews are collected, there are two links per movie.  One is sorted descending by user rating.  The other is sorted ascending by user rating.  Both links have \"spoiler alert\" messages suppressed as these reviews are often more akin to a summarization of the movie plot instead of a true review.  "
   ]
  },
  {
   "cell_type": "code",
   "execution_count": 2,
   "metadata": {},
   "outputs": [],
   "source": [
    "#Rocky movie list.  Two links for each movie to assure positive and negative reviews are captured.  \n",
    "#Sort descending by Review Rating.  Sort ascending by Review Rating.\n",
    "\n",
    "#Rocky\n",
    "rockyDict = {\"aRocky\":\"https://www.imdb.com/title/tt0075148/reviews?spoiler=hide&sort=userRating&dir=asc&ratingFilter=0\", \n",
    "         \"dRocky\":\"https://www.imdb.com/title/tt0075148/reviews?spoiler=hide&sort=userRating&dir=desc&ratingFilter=0\", \n",
    "#Rocky 2\n",
    "         \"dRocky 2\":\"https://www.imdb.com/title/tt0079817/reviews?spoiler=hide&sort=userRating&dir=desc&ratingFilter=0\",\n",
    "         \"aRocky 2\":\"https://www.imdb.com/title/tt0079817/reviews?spoiler=hide&sort=userRating&dir=asc&ratingFilter=0\",\n",
    "#Rocky 3\n",
    "         \"dRocky 3\":\"https://www.imdb.com/title/tt0084602/reviews?spoiler=hide&sort=userRating&dir=desc&ratingFilter=0\",\n",
    "         \"aRocky 3\":\"https://www.imdb.com/title/tt0084602/reviews?spoiler=hide&sort=userRating&dir=asc&ratingFilter=0\"\n",
    "            }\n",
    "\n",
    "rockyKeys = rockyDict.keys()"
   ]
  },
  {
   "cell_type": "markdown",
   "metadata": {},
   "source": [
    "#### Web Scraping IMDB Movie Review Titles\n",
    "The individual links to the user reviews are collected below.  A get request uses each of the links in the \"rockyDict\" python dictionary.  The response is parsed by Beautiful Soup to find the individual links to each individual review.  The review URLs along with the movie name are written to a dataframe named dfRockyReviews."
   ]
  },
  {
   "cell_type": "code",
   "execution_count": 3,
   "metadata": {},
   "outputs": [],
   "source": [
    "reviewUrls = list()\n",
    "dfRockyReviews = pd.DataFrame(columns = ['Movie', 'ReviewURL'])\n",
    "\n",
    "for r in rockyKeys:\n",
    "    #print(r, rockyDict[r])\n",
    "    response = requests.get(rockyDict[r])\n",
    "    soup = BeautifulSoup(response.text, 'html.parser')\n",
    "    rUrls = [\"http:\" + s.attrs['href'] for s in soup.find_all(href = True, class_ = 'title')]\n",
    "    reviewUrls = reviewUrls + rUrls\n",
    "    for u in rUrls:\n",
    "        dfRockyReviews = dfRockyReviews.append({'Movie':r[1:], 'ReviewURL':u}, ignore_index=True)"
   ]
  },
  {
   "cell_type": "markdown",
   "metadata": {},
   "source": [
    "A sample of the dfRockyReviews dataframe is shown below."
   ]
  },
  {
   "cell_type": "code",
   "execution_count": 4,
   "metadata": {},
   "outputs": [
    {
     "data": {
      "text/html": [
       "<div>\n",
       "<style scoped>\n",
       "    .dataframe tbody tr th:only-of-type {\n",
       "        vertical-align: middle;\n",
       "    }\n",
       "\n",
       "    .dataframe tbody tr th {\n",
       "        vertical-align: top;\n",
       "    }\n",
       "\n",
       "    .dataframe thead th {\n",
       "        text-align: right;\n",
       "    }\n",
       "</style>\n",
       "<table border=\"1\" class=\"dataframe\">\n",
       "  <thead>\n",
       "    <tr style=\"text-align: right;\">\n",
       "      <th></th>\n",
       "      <th>Movie</th>\n",
       "      <th>ReviewURL</th>\n",
       "    </tr>\n",
       "  </thead>\n",
       "  <tbody>\n",
       "    <tr>\n",
       "      <th>0</th>\n",
       "      <td>Rocky</td>\n",
       "      <td>http:/review/rw4247059/?ref_=tt_urv</td>\n",
       "    </tr>\n",
       "    <tr>\n",
       "      <th>1</th>\n",
       "      <td>Rocky</td>\n",
       "      <td>http:/review/rw0149538/?ref_=tt_urv</td>\n",
       "    </tr>\n",
       "    <tr>\n",
       "      <th>2</th>\n",
       "      <td>Rocky</td>\n",
       "      <td>http:/review/rw0149534/?ref_=tt_urv</td>\n",
       "    </tr>\n",
       "    <tr>\n",
       "      <th>3</th>\n",
       "      <td>Rocky</td>\n",
       "      <td>http:/review/rw3451942/?ref_=tt_urv</td>\n",
       "    </tr>\n",
       "    <tr>\n",
       "      <th>4</th>\n",
       "      <td>Rocky</td>\n",
       "      <td>http:/review/rw3647093/?ref_=tt_urv</td>\n",
       "    </tr>\n",
       "  </tbody>\n",
       "</table>\n",
       "</div>"
      ],
      "text/plain": [
       "   Movie                            ReviewURL\n",
       "0  Rocky  http:/review/rw4247059/?ref_=tt_urv\n",
       "1  Rocky  http:/review/rw0149538/?ref_=tt_urv\n",
       "2  Rocky  http:/review/rw0149534/?ref_=tt_urv\n",
       "3  Rocky  http:/review/rw3451942/?ref_=tt_urv\n",
       "4  Rocky  http:/review/rw3647093/?ref_=tt_urv"
      ]
     },
     "execution_count": 4,
     "metadata": {},
     "output_type": "execute_result"
    }
   ],
   "source": [
    "dfRockyReviews[0:5]"
   ]
  },
  {
   "cell_type": "markdown",
   "metadata": {},
   "source": [
    "#### Web Scraping IMDB Movie Review Details\n",
    "The individual review URLs collected above will be requested and parsed to retrieve key qualitative and categorical data about each review along with the review text itself.  These details are stored in a new dataframe named dfReviewDetails.  The first five records are this dataframe are shown below."
   ]
  },
  {
   "cell_type": "code",
   "execution_count": 5,
   "metadata": {
    "scrolled": true
   },
   "outputs": [
    {
     "data": {
      "text/html": [
       "<div>\n",
       "<style scoped>\n",
       "    .dataframe tbody tr th:only-of-type {\n",
       "        vertical-align: middle;\n",
       "    }\n",
       "\n",
       "    .dataframe tbody tr th {\n",
       "        vertical-align: top;\n",
       "    }\n",
       "\n",
       "    .dataframe thead th {\n",
       "        text-align: right;\n",
       "    }\n",
       "</style>\n",
       "<table border=\"1\" class=\"dataframe\">\n",
       "  <thead>\n",
       "    <tr style=\"text-align: right;\">\n",
       "      <th></th>\n",
       "      <th>Movie</th>\n",
       "      <th>ReviewUrl</th>\n",
       "      <th>ReviewDate</th>\n",
       "      <th>ReviewTitle</th>\n",
       "      <th>Review</th>\n",
       "      <th>Rating</th>\n",
       "      <th>Language</th>\n",
       "    </tr>\n",
       "  </thead>\n",
       "  <tbody>\n",
       "    <tr>\n",
       "      <th>0</th>\n",
       "      <td>Rocky</td>\n",
       "      <td>http:/review/rw4247059/?ref_=tt_urv</td>\n",
       "      <td>2018-07-21</td>\n",
       "      <td>Rubbish</td>\n",
       "      <td>The fight scenes are pathetic and the acting i...</td>\n",
       "      <td>1</td>\n",
       "      <td>English</td>\n",
       "    </tr>\n",
       "    <tr>\n",
       "      <th>1</th>\n",
       "      <td>Rocky</td>\n",
       "      <td>http:/review/rw0149538/?ref_=tt_urv</td>\n",
       "      <td>1999-11-25</td>\n",
       "      <td>Dumbest, Most Cornball Film Ever Made</td>\n",
       "      <td>I still remember my initial outrage that this ...</td>\n",
       "      <td>1</td>\n",
       "      <td>English</td>\n",
       "    </tr>\n",
       "    <tr>\n",
       "      <th>2</th>\n",
       "      <td>Rocky</td>\n",
       "      <td>http:/review/rw0149534/?ref_=tt_urv</td>\n",
       "      <td>1998-08-19</td>\n",
       "      <td>overrated piece of cheese</td>\n",
       "      <td>grubby late-night fare achieved way too much s...</td>\n",
       "      <td>2</td>\n",
       "      <td>English</td>\n",
       "    </tr>\n",
       "    <tr>\n",
       "      <th>3</th>\n",
       "      <td>Rocky</td>\n",
       "      <td>http:/review/rw3451942/?ref_=tt_urv</td>\n",
       "      <td>2016-04-15</td>\n",
       "      <td>Hate me if you want but I didn't like this film</td>\n",
       "      <td>I'm going to come out and say it. I didn't lik...</td>\n",
       "      <td>3</td>\n",
       "      <td>English</td>\n",
       "    </tr>\n",
       "    <tr>\n",
       "      <th>4</th>\n",
       "      <td>Rocky</td>\n",
       "      <td>http:/review/rw3647093/?ref_=tt_urv</td>\n",
       "      <td>2017-02-24</td>\n",
       "      <td>Eh....it was alright.</td>\n",
       "      <td>I didn't particularly like this movie. Dimwitt...</td>\n",
       "      <td>3</td>\n",
       "      <td>English</td>\n",
       "    </tr>\n",
       "  </tbody>\n",
       "</table>\n",
       "</div>"
      ],
      "text/plain": [
       "   Movie                            ReviewUrl  ReviewDate  \\\n",
       "0  Rocky  http:/review/rw4247059/?ref_=tt_urv  2018-07-21   \n",
       "1  Rocky  http:/review/rw0149538/?ref_=tt_urv  1999-11-25   \n",
       "2  Rocky  http:/review/rw0149534/?ref_=tt_urv  1998-08-19   \n",
       "3  Rocky  http:/review/rw3451942/?ref_=tt_urv  2016-04-15   \n",
       "4  Rocky  http:/review/rw3647093/?ref_=tt_urv  2017-02-24   \n",
       "\n",
       "                                       ReviewTitle  \\\n",
       "0                                          Rubbish   \n",
       "1            Dumbest, Most Cornball Film Ever Made   \n",
       "2                        overrated piece of cheese   \n",
       "3  Hate me if you want but I didn't like this film   \n",
       "4                            Eh....it was alright.   \n",
       "\n",
       "                                              Review Rating Language  \n",
       "0  The fight scenes are pathetic and the acting i...      1  English  \n",
       "1  I still remember my initial outrage that this ...      1  English  \n",
       "2  grubby late-night fare achieved way too much s...      2  English  \n",
       "3  I'm going to come out and say it. I didn't lik...      3  English  \n",
       "4  I didn't particularly like this movie. Dimwitt...      3  English  "
      ]
     },
     "execution_count": 5,
     "metadata": {},
     "output_type": "execute_result"
    }
   ],
   "source": [
    "dfReviewDetails = pd.DataFrame(columns=['Movie', 'ReviewUrl', 'ReviewDate', 'ReviewTitle', 'Review', 'Rating', \n",
    "                                        'Language'])\n",
    "counter = 0\n",
    "\n",
    "for r in reviewUrls:\n",
    "    fullUrl = \"https://www.imdb.com\" + r[5:]\n",
    "    response2 = requests.get(fullUrl)\n",
    "    soup2 = BeautifulSoup(response2.text, 'html.parser')\n",
    "    rjson = soup2.find('script', type = 'application/ld+json').text\n",
    "    rjson = json.loads(rjson)\n",
    "    \n",
    "    try:\n",
    "        rating = rjson['reviewRating']['ratingValue']\n",
    "    except Exception as e:\n",
    "        #print(\"No User Rating\")\n",
    "        rating = 5\n",
    "    \n",
    "    dfReviewDetails = dfReviewDetails.append({'Movie':dfRockyReviews.Movie[counter], 'ReviewUrl':r, \n",
    "                                              'ReviewDate':rjson['dateCreated'], 'ReviewTitle':rjson['name'], \n",
    "                                              'Review':rjson['reviewBody'], 'Rating':rating, \n",
    "                                              'Language':rjson['inLanguage']}, ignore_index=True)\n",
    "    counter += 1\n",
    "\n",
    "dfReviewDetails.head()"
   ]
  },
  {
   "cell_type": "markdown",
   "metadata": {},
   "source": [
    "The bar plot below shows movie review ratings for the reviews collected in the prior step. The original \"Rocky\" is widely considered the best of the \"Rocky\" series.  It won multiple Oscars and introduced \"Steady-Cam\" technology to the movie world.  However, the sample of user reviews collected tell a different story.  "
   ]
  },
  {
   "cell_type": "code",
   "execution_count": 6,
   "metadata": {},
   "outputs": [
    {
     "data": {
      "text/plain": [
       "<matplotlib.axes._subplots.AxesSubplot at 0x2362206b668>"
      ]
     },
     "execution_count": 6,
     "metadata": {},
     "output_type": "execute_result"
    },
    {
     "data": {
      "image/png": "[encoded data removed]",
      "text/plain": [
       "<Figure size 432x288 with 1 Axes>"
      ]
     },
     "metadata": {
      "needs_background": "light"
     },
     "output_type": "display_data"
    }
   ],
   "source": [
    "plotdf = dfReviewDetails.sort_values(by=['ReviewDate'])\n",
    "plotdf.Rating = plotdf.Rating.astype('int64')\n",
    "plotdf.ReviewDate = pd.to_datetime(plotdf.ReviewDate)\n",
    "plotdf = plotdf.groupby(['Movie']).mean().reset_index()\n",
    "sns.barplot(x='Movie', y='Rating', data=plotdf.sort_values(by=['Rating'], ascending=False))"
   ]
  },
  {
   "cell_type": "markdown",
   "metadata": {},
   "source": [
    "### Question 7.1 - Review Clustering\n",
    "For this requirement, the IMDB reviews will be clustered using K-Means and Hiearchical Agglomerative Clustering.  The results are presented in the sections below.  The first step is to produce a vectorized matrix the review text."
   ]
  },
  {
   "cell_type": "code",
   "execution_count": 7,
   "metadata": {},
   "outputs": [
    {
     "data": {
      "text/plain": [
       "(150, 28668)"
      ]
     },
     "execution_count": 7,
     "metadata": {},
     "output_type": "execute_result"
    }
   ],
   "source": [
    "tfidfVectorizer = TfidfVectorizer(max_df=1, min_df=0, stop_words='english', use_idf=True, ngram_range=(1,3))\n",
    "\n",
    "tfidfMatrix = tfidfVectorizer.fit_transform(dfReviewDetails.Review)\n",
    "tfidfMatrix.shape"
   ]
  },
  {
   "cell_type": "markdown",
   "metadata": {},
   "source": [
    "#### KMeans Clustering\n",
    "The following code chunk determines the optimum combination of clusters, relative tolerance, and method of initialization based on the silhouette score.  The silhouette scores produced by the KMeans algorithm are all negative.  This indicates the clustering algorithm may not have effectively clustered the data."
   ]
  },
  {
   "cell_type": "code",
   "execution_count": 8,
   "metadata": {},
   "outputs": [
    {
     "name": "stdout",
     "output_type": "stream",
     "text": [
      "Clusters:  2 | tol: 0.1 | Init k-means++ | Silhouette Score: 1.798279229345808e-15\n",
      "Clusters:  2 | tol: 0.1 | Init random | Silhouette Score: 1.994017422528385e-15\n"
     ]
    }
   ],
   "source": [
    "bestSilScore = -9999999999999\n",
    "rState = 20190325\n",
    "tolList = [0.1, 0.01, 0.001, 0.0001]\n",
    "initList = ['k-means++', 'random']\n",
    "\n",
    "for i in range(2, 7, 1):\n",
    "    for t in tolList:\n",
    "        for n in initList:\n",
    "            km = KMeans(n_clusters=i, tol=t, init=n, random_state=rState)\n",
    "            kmFit = km.fit(tfidfMatrix)\n",
    "            clusters = km.labels_.tolist()\n",
    "            silScore = metrics.silhouette_score(tfidfMatrix, km.labels_)\n",
    "            if silScore > bestSilScore:\n",
    "                print(\"Clusters: \", i, \"| tol:\", t, \"| Init\", n, \"| Silhouette Score:\", silScore)\n",
    "                bestSilScore = silScore\n",
    "                nClust = i\n",
    "                nTol = t\n",
    "                nInit = n"
   ]
  },
  {
   "cell_type": "markdown",
   "metadata": {},
   "source": [
    "The optimum combination of KMeans parameters are shown below."
   ]
  },
  {
   "cell_type": "code",
   "execution_count": 9,
   "metadata": {},
   "outputs": [
    {
     "name": "stdout",
     "output_type": "stream",
     "text": [
      "Optimum Number of Clusters: 2\n",
      "Optimum tol: 0.1\n",
      "Optimum Init: random\n"
     ]
    }
   ],
   "source": [
    "print(\"Optimum Number of Clusters:\", nClust)\n",
    "print(\"Optimum tol:\", nTol)\n",
    "print(\"Optimum Init:\", nInit)"
   ]
  },
  {
   "cell_type": "markdown",
   "metadata": {},
   "source": [
    "The KMeans model is instantiated and fit to the vectorized matrix created from the movie reviews."
   ]
  },
  {
   "cell_type": "code",
   "execution_count": 10,
   "metadata": {},
   "outputs": [],
   "source": [
    "km = KMeans(n_clusters=nClust, tol=nTol, init=nInit, random_state=rState)\n",
    "kmFit = km.fit(tfidfMatrix)\n",
    "clusters = km.labels_.tolist()"
   ]
  },
  {
   "cell_type": "markdown",
   "metadata": {},
   "source": [
    "Next, a dictionary with the cluster per observation is assembled.  The dictionary is then converted to a pandas dataframe for processing."
   ]
  },
  {
   "cell_type": "code",
   "execution_count": 11,
   "metadata": {},
   "outputs": [],
   "source": [
    "reviewDict = {'cluster': clusters, 'movie': dfReviewDetails.Movie, 'rating': dfReviewDetails.Rating, 'title': dfReviewDetails.ReviewTitle, \n",
    "              'review': dfReviewDetails.Review}"
   ]
  },
  {
   "cell_type": "code",
   "execution_count": 12,
   "metadata": {},
   "outputs": [],
   "source": [
    "dfKmClust = pd.DataFrame.from_dict(reviewDict)\n",
    "dfKmClust['rating'] = dfKmClust['rating'].astype('int64')\n",
    "#dfKmClust.head()"
   ]
  },
  {
   "cell_type": "markdown",
   "metadata": {},
   "source": [
    "To provide additional depth of cluster analysis, the sentiment and polarity score for each review is calculated and attached to the KMeans clustering dataframe."
   ]
  },
  {
   "cell_type": "code",
   "execution_count": 13,
   "metadata": {},
   "outputs": [],
   "source": [
    "reviews = dfKmClust['review']\n",
    "sa = []\n",
    "pol = []\n",
    "\n",
    "for r in dfKmClust['review']:\n",
    "    tmp = sentiment(r)\n",
    "    sa.append(round(tmp[0], 4))\n",
    "    pol.append(round(tmp[1], 4))"
   ]
  },
  {
   "cell_type": "code",
   "execution_count": 14,
   "metadata": {},
   "outputs": [],
   "source": [
    "dfKmClust['sentiment'] = sa\n",
    "dfKmClust['polarity'] = pol"
   ]
  },
  {
   "cell_type": "code",
   "execution_count": 15,
   "metadata": {
    "scrolled": true
   },
   "outputs": [
    {
     "data": {
      "text/html": [
       "<div>\n",
       "<style scoped>\n",
       "    .dataframe tbody tr th:only-of-type {\n",
       "        vertical-align: middle;\n",
       "    }\n",
       "\n",
       "    .dataframe tbody tr th {\n",
       "        vertical-align: top;\n",
       "    }\n",
       "\n",
       "    .dataframe thead th {\n",
       "        text-align: right;\n",
       "    }\n",
       "</style>\n",
       "<table border=\"1\" class=\"dataframe\">\n",
       "  <thead>\n",
       "    <tr style=\"text-align: right;\">\n",
       "      <th></th>\n",
       "      <th>cluster</th>\n",
       "      <th>movie</th>\n",
       "      <th>rating</th>\n",
       "      <th>title</th>\n",
       "      <th>review</th>\n",
       "      <th>sentiment</th>\n",
       "      <th>polarity</th>\n",
       "    </tr>\n",
       "  </thead>\n",
       "  <tbody>\n",
       "    <tr>\n",
       "      <th>0</th>\n",
       "      <td>0</td>\n",
       "      <td>Rocky</td>\n",
       "      <td>1</td>\n",
       "      <td>Rubbish</td>\n",
       "      <td>The fight scenes are pathetic and the acting i...</td>\n",
       "      <td>-0.5000</td>\n",
       "      <td>0.6667</td>\n",
       "    </tr>\n",
       "    <tr>\n",
       "      <th>1</th>\n",
       "      <td>0</td>\n",
       "      <td>Rocky</td>\n",
       "      <td>1</td>\n",
       "      <td>Dumbest, Most Cornball Film Ever Made</td>\n",
       "      <td>I still remember my initial outrage that this ...</td>\n",
       "      <td>-0.0500</td>\n",
       "      <td>0.3815</td>\n",
       "    </tr>\n",
       "    <tr>\n",
       "      <th>2</th>\n",
       "      <td>0</td>\n",
       "      <td>Rocky</td>\n",
       "      <td>2</td>\n",
       "      <td>overrated piece of cheese</td>\n",
       "      <td>grubby late-night fare achieved way too much s...</td>\n",
       "      <td>0.0757</td>\n",
       "      <td>0.5011</td>\n",
       "    </tr>\n",
       "    <tr>\n",
       "      <th>3</th>\n",
       "      <td>0</td>\n",
       "      <td>Rocky</td>\n",
       "      <td>3</td>\n",
       "      <td>Hate me if you want but I didn't like this film</td>\n",
       "      <td>I'm going to come out and say it. I didn't lik...</td>\n",
       "      <td>-0.1371</td>\n",
       "      <td>0.5229</td>\n",
       "    </tr>\n",
       "    <tr>\n",
       "      <th>4</th>\n",
       "      <td>0</td>\n",
       "      <td>Rocky</td>\n",
       "      <td>3</td>\n",
       "      <td>Eh....it was alright.</td>\n",
       "      <td>I didn't particularly like this movie. Dimwitt...</td>\n",
       "      <td>0.1122</td>\n",
       "      <td>0.5667</td>\n",
       "    </tr>\n",
       "  </tbody>\n",
       "</table>\n",
       "</div>"
      ],
      "text/plain": [
       "   cluster  movie  rating                                            title  \\\n",
       "0        0  Rocky       1                                          Rubbish   \n",
       "1        0  Rocky       1            Dumbest, Most Cornball Film Ever Made   \n",
       "2        0  Rocky       2                        overrated piece of cheese   \n",
       "3        0  Rocky       3  Hate me if you want but I didn't like this film   \n",
       "4        0  Rocky       3                            Eh....it was alright.   \n",
       "\n",
       "                                              review  sentiment  polarity  \n",
       "0  The fight scenes are pathetic and the acting i...    -0.5000    0.6667  \n",
       "1  I still remember my initial outrage that this ...    -0.0500    0.3815  \n",
       "2  grubby late-night fare achieved way too much s...     0.0757    0.5011  \n",
       "3  I'm going to come out and say it. I didn't lik...    -0.1371    0.5229  \n",
       "4  I didn't particularly like this movie. Dimwitt...     0.1122    0.5667  "
      ]
     },
     "execution_count": 15,
     "metadata": {},
     "output_type": "execute_result"
    }
   ],
   "source": [
    "dfKmClust.head()"
   ]
  },
  {
   "cell_type": "markdown",
   "metadata": {},
   "source": [
    "KMeans created two clusters based on input defined above.  To call these clusters is generous at best.  Out of 150 total observations, 149 of them are in cluster 0.  This is not a helpful result.  We will proceed to examining the results of hierarchical clustering."
   ]
  },
  {
   "cell_type": "code",
   "execution_count": 44,
   "metadata": {},
   "outputs": [
    {
     "name": "stdout",
     "output_type": "stream",
     "text": [
      "0    149\n",
      "1      1\n",
      "Name: cluster, dtype: int64\n"
     ]
    },
    {
     "data": {
      "image/png": "[encoded data removed]",
      "text/plain": [
       "<Figure size 432x288 with 1 Axes>"
      ]
     },
     "metadata": {
      "needs_background": "light"
     },
     "output_type": "display_data"
    }
   ],
   "source": [
    "dfKmClust['cluster'].value_counts().plot(kind='bar')\n",
    "print(dfKmClust['cluster'].value_counts())"
   ]
  },
  {
   "cell_type": "code",
   "execution_count": 25,
   "metadata": {},
   "outputs": [],
   "source": [
    "#https://www.clips.uantwerpen.be/pages/pattern-vector#model\n",
    "\n",
    "def clusterFeatures(list):\n",
    "    docs = []\n",
    "    for l in range(len(list)):\n",
    "        docs.append(Document(list[l], type=list[l].strip('\"')))\n",
    "    mb = Model(documents=docs, weight=TFIDF)\n",
    "    mfs = mb.feature_selection(top=12, threshold=0.2)\n",
    "    return mb, mfs"
   ]
  },
  {
   "cell_type": "markdown",
   "metadata": {},
   "source": [
    "#### Hierarchical Clustering\n",
    "The optimum number of clusters for Hiearchical Agglomerative Clustering are determined and display.  The agglomerative clustering algorithm requires a dense matrix.  So, the vectorized matrix created for KMeans clustering is converted to a dense matrix.  The silhouette scores of the Hierachical Agglomerative Clustering algorithm are negative.  The algorithm may struggle with identifying meaningful clusters for this data set."
   ]
  },
  {
   "cell_type": "code",
   "execution_count": 28,
   "metadata": {},
   "outputs": [],
   "source": [
    "denseTfidf = tfidfMatrix.toarray()"
   ]
  },
  {
   "cell_type": "code",
   "execution_count": 29,
   "metadata": {},
   "outputs": [
    {
     "name": "stdout",
     "output_type": "stream",
     "text": [
      "Clusters:  2 | Silhouette Score: -5.233641528945917e-18\n"
     ]
    }
   ],
   "source": [
    "bestSilScore = -999999999999\n",
    "nClust2 = 0\n",
    "\n",
    "for i in range(2, 15, 1):\n",
    "    ac = AgglomerativeClustering(n_clusters=i, linkage='ward')\n",
    "    acFit = ac.fit(denseTfidf)\n",
    "    clusters2 = acFit.labels_.tolist()\n",
    "    silScore = metrics.silhouette_score(denseTfidf, acFit.labels_)\n",
    "    if silScore > bestSilScore:\n",
    "        print(\"Clusters: \", i, \"| Silhouette Score:\", silScore)\n",
    "        bestSilScore = silScore\n",
    "        nClust2 = i"
   ]
  },
  {
   "cell_type": "code",
   "execution_count": 30,
   "metadata": {},
   "outputs": [
    {
     "name": "stdout",
     "output_type": "stream",
     "text": [
      "Optimum Number of Clusters: 2\n"
     ]
    }
   ],
   "source": [
    "print(\"Optimum Number of Clusters:\", nClust2)"
   ]
  },
  {
   "cell_type": "markdown",
   "metadata": {},
   "source": [
    "The agglomerative clustering model is instantiated and fit using the dense vectorized matrix of terms."
   ]
  },
  {
   "cell_type": "code",
   "execution_count": 31,
   "metadata": {},
   "outputs": [],
   "source": [
    "ac = AgglomerativeClustering(n_clusters=nClust2, linkage='ward')\n",
    "acFit = ac.fit(denseTfidf)\n",
    "acFit.labels_\n",
    "clusters2 = acFit.labels_.tolist()"
   ]
  },
  {
   "cell_type": "code",
   "execution_count": 32,
   "metadata": {},
   "outputs": [],
   "source": [
    "dfacPlot = dfReviewDetails\n",
    "dfacPlot['cluster'] = clusters2"
   ]
  },
  {
   "cell_type": "markdown",
   "metadata": {},
   "source": [
    "The cluster for each document is appended to a dictionary containing the review-wise details."
   ]
  },
  {
   "cell_type": "code",
   "execution_count": 33,
   "metadata": {},
   "outputs": [],
   "source": [
    "reviewDict2 = {'cluster': clusters2, 'movie': dfReviewDetails.Movie, 'rating': dfReviewDetails.Rating, 'title': dfReviewDetails.ReviewTitle, \n",
    "              'review': dfReviewDetails.Review}"
   ]
  },
  {
   "cell_type": "code",
   "execution_count": 34,
   "metadata": {},
   "outputs": [],
   "source": [
    "dfHacClust = pd.DataFrame.from_dict(reviewDict2)\n",
    "dfHacClust['rating'] = dfHacClust['rating'].astype('int64')"
   ]
  },
  {
   "cell_type": "markdown",
   "metadata": {},
   "source": [
    "To provide additional points of comparison, the sentiment and polarity scores for each review are attached to the dataframe.  The average sentiment and polarity will be calculated for these clusters as well to deteremine if this provides evidence of a different between clusters."
   ]
  },
  {
   "cell_type": "code",
   "execution_count": 35,
   "metadata": {},
   "outputs": [
    {
     "data": {
      "text/html": [
       "<div>\n",
       "<style scoped>\n",
       "    .dataframe tbody tr th:only-of-type {\n",
       "        vertical-align: middle;\n",
       "    }\n",
       "\n",
       "    .dataframe tbody tr th {\n",
       "        vertical-align: top;\n",
       "    }\n",
       "\n",
       "    .dataframe thead th {\n",
       "        text-align: right;\n",
       "    }\n",
       "</style>\n",
       "<table border=\"1\" class=\"dataframe\">\n",
       "  <thead>\n",
       "    <tr style=\"text-align: right;\">\n",
       "      <th></th>\n",
       "      <th>cluster</th>\n",
       "      <th>movie</th>\n",
       "      <th>rating</th>\n",
       "      <th>title</th>\n",
       "      <th>review</th>\n",
       "      <th>sentiment</th>\n",
       "      <th>polarity</th>\n",
       "    </tr>\n",
       "  </thead>\n",
       "  <tbody>\n",
       "    <tr>\n",
       "      <th>0</th>\n",
       "      <td>0</td>\n",
       "      <td>Rocky</td>\n",
       "      <td>1</td>\n",
       "      <td>Rubbish</td>\n",
       "      <td>The fight scenes are pathetic and the acting i...</td>\n",
       "      <td>-0.5000</td>\n",
       "      <td>0.6667</td>\n",
       "    </tr>\n",
       "    <tr>\n",
       "      <th>1</th>\n",
       "      <td>0</td>\n",
       "      <td>Rocky</td>\n",
       "      <td>1</td>\n",
       "      <td>Dumbest, Most Cornball Film Ever Made</td>\n",
       "      <td>I still remember my initial outrage that this ...</td>\n",
       "      <td>-0.0500</td>\n",
       "      <td>0.3815</td>\n",
       "    </tr>\n",
       "    <tr>\n",
       "      <th>2</th>\n",
       "      <td>1</td>\n",
       "      <td>Rocky</td>\n",
       "      <td>2</td>\n",
       "      <td>overrated piece of cheese</td>\n",
       "      <td>grubby late-night fare achieved way too much s...</td>\n",
       "      <td>0.0757</td>\n",
       "      <td>0.5011</td>\n",
       "    </tr>\n",
       "    <tr>\n",
       "      <th>3</th>\n",
       "      <td>0</td>\n",
       "      <td>Rocky</td>\n",
       "      <td>3</td>\n",
       "      <td>Hate me if you want but I didn't like this film</td>\n",
       "      <td>I'm going to come out and say it. I didn't lik...</td>\n",
       "      <td>-0.1371</td>\n",
       "      <td>0.5229</td>\n",
       "    </tr>\n",
       "    <tr>\n",
       "      <th>4</th>\n",
       "      <td>1</td>\n",
       "      <td>Rocky</td>\n",
       "      <td>3</td>\n",
       "      <td>Eh....it was alright.</td>\n",
       "      <td>I didn't particularly like this movie. Dimwitt...</td>\n",
       "      <td>0.1122</td>\n",
       "      <td>0.5667</td>\n",
       "    </tr>\n",
       "  </tbody>\n",
       "</table>\n",
       "</div>"
      ],
      "text/plain": [
       "   cluster  movie  rating                                            title  \\\n",
       "0        0  Rocky       1                                          Rubbish   \n",
       "1        0  Rocky       1            Dumbest, Most Cornball Film Ever Made   \n",
       "2        1  Rocky       2                        overrated piece of cheese   \n",
       "3        0  Rocky       3  Hate me if you want but I didn't like this film   \n",
       "4        1  Rocky       3                            Eh....it was alright.   \n",
       "\n",
       "                                              review  sentiment  polarity  \n",
       "0  The fight scenes are pathetic and the acting i...    -0.5000    0.6667  \n",
       "1  I still remember my initial outrage that this ...    -0.0500    0.3815  \n",
       "2  grubby late-night fare achieved way too much s...     0.0757    0.5011  \n",
       "3  I'm going to come out and say it. I didn't lik...    -0.1371    0.5229  \n",
       "4  I didn't particularly like this movie. Dimwitt...     0.1122    0.5667  "
      ]
     },
     "execution_count": 35,
     "metadata": {},
     "output_type": "execute_result"
    }
   ],
   "source": [
    "dfHacClust['sentiment'] = sa\n",
    "dfHacClust['polarity'] = pol\n",
    "dfHacClust.head()"
   ]
  },
  {
   "cell_type": "markdown",
   "metadata": {},
   "source": [
    "##### HAC Cluster Counts\n",
    "Cluster 0 and 1 are the primary clusters identified by hierarchical agglomerative clustering.  This is a fairly balanced two-cluster result.  Additional analysis will continue to build intelligence behind potential cluster meaning."
   ]
  },
  {
   "cell_type": "code",
   "execution_count": 36,
   "metadata": {},
   "outputs": [
    {
     "name": "stdout",
     "output_type": "stream",
     "text": [
      "0    82\n",
      "1    68\n",
      "Name: cluster, dtype: int64\n"
     ]
    },
    {
     "data": {
      "image/png": "[encoded data removed]",
      "text/plain": [
       "<Figure size 432x288 with 1 Axes>"
      ]
     },
     "metadata": {
      "needs_background": "light"
     },
     "output_type": "display_data"
    }
   ],
   "source": [
    "dfHacClust['cluster'].value_counts().plot(kind='bar')\n",
    "print(dfHacClust['cluster'].value_counts())"
   ]
  },
  {
   "cell_type": "markdown",
   "metadata": {},
   "source": [
    "##### Sentiment Analysis HAC\n",
    "The mean sentiment analysis for each cluster is printed below.  The average sentiment analysis score for each cluster is shown below.  Cluster one is approximately .05 greater than cluster 0.  This suggests cluster 1 may contain more positive reviews."
   ]
  },
  {
   "cell_type": "code",
   "execution_count": 37,
   "metadata": {},
   "outputs": [
    {
     "name": "stdout",
     "output_type": "stream",
     "text": [
      "cluster\n",
      "0    0.166012\n",
      "1    0.213076\n",
      "Name: sentiment, dtype: float64\n"
     ]
    }
   ],
   "source": [
    "clusterSent2 = dfHacClust['sentiment'].groupby(dfHacClust['cluster'])\n",
    "print(clusterSent2.mean())"
   ]
  },
  {
   "cell_type": "markdown",
   "metadata": {},
   "source": [
    "##### Polarity Analysis HAC\n",
    "There is very little difference in average polarity between cluster 0 and 1.  Cluster 1 is only .015 greater than cluster 0."
   ]
  },
  {
   "cell_type": "code",
   "execution_count": 38,
   "metadata": {},
   "outputs": [
    {
     "name": "stdout",
     "output_type": "stream",
     "text": [
      "cluster\n",
      "0    0.500191\n",
      "1    0.515184\n",
      "Name: polarity, dtype: float64\n"
     ]
    }
   ],
   "source": [
    "clusterPol2 = dfHacClust['polarity'].groupby(dfHacClust['cluster'])\n",
    "print(clusterPol2.mean())"
   ]
  },
  {
   "cell_type": "markdown",
   "metadata": {},
   "source": [
    "##### User Rating\n",
    "The numerical IMDB user rating was captured during the web scraping review details.  The average IMDB user rating per cluster is shown below.  This offers a bit more proof of cluster 1 containing more positive reviews as the average review for cluster 1 is 0.47 greater than cluster 0.  It is important to note new reviews are added to this date for Rocky, Rocky 2, and Rocky 3.  Given the low silhouette scores produced by this algorithm, new reviews could tilt or totally disrupt the two cluster scheme produced by Hierarchical Agglomerative Clustering.  "
   ]
  },
  {
   "cell_type": "code",
   "execution_count": 50,
   "metadata": {},
   "outputs": [
    {
     "name": "stdout",
     "output_type": "stream",
     "text": [
      "cluster\n",
      "0    7.304878\n",
      "1    7.779412\n",
      "Name: rating, dtype: float64\n"
     ]
    }
   ],
   "source": [
    "clusterRate2 = dfHacClust['rating'].groupby(dfHacClust['cluster'])\n",
    "print(clusterRate2.mean())"
   ]
  },
  {
   "cell_type": "markdown",
   "metadata": {},
   "source": [
    "##### HAC Movies per Cluster\n",
    "Another observable difference in the content of the two clusters is the relative presence of Rocky 2 reviews.  Rocky 2 has the highest number of reviews on a per movie basis in cluster 0.  In cluster 1, Rocky 2 has the lowest number of reviews per movie.  "
   ]
  },
  {
   "cell_type": "code",
   "execution_count": 39,
   "metadata": {},
   "outputs": [
    {
     "data": {
      "text/plain": [
       "<matplotlib.axes._subplots.AxesSubplot at 0x2362216d278>"
      ]
     },
     "execution_count": 39,
     "metadata": {},
     "output_type": "execute_result"
    },
    {
     "data": {
      "image/png": "[encoded data removed]",
      "text/plain": [
       "<Figure size 432x288 with 1 Axes>"
      ]
     },
     "metadata": {
      "needs_background": "light"
     },
     "output_type": "display_data"
    }
   ],
   "source": [
    "clusterMovie2 = dfHacClust.groupby(['movie', 'cluster']).size().sort_values(ascending=False).reset_index(name='count')\n",
    "clusterMovie2.pivot(index='cluster', columns='movie', values='count').fillna(0).plot(kind='bar')"
   ]
  },
  {
   "cell_type": "markdown",
   "metadata": {},
   "source": [
    "##### TFIDF Weighted Features per HAC Cluster\n",
    "Cluster 0 is high on Rocky and low on Rocky 3 documents.  Cluster 1 is high on Rocky 3 and low on Rocky documents.  Again, there is no discernable difference in sentiment between the key features of the two primary clusters.  Cluster 1 does show Rocky 3 specific tokens of \"iii\" and \"clubber\".  Rocky's trainer \"Mickey\", played by Burgess Meredith also dies in Rocky 3.  The key features are very similar to those identified by KMeans clustering.  The same Pattern based method used for KMeans is called for the Hierarchical Agglomerative Clustering clusters."
   ]
  },
  {
   "cell_type": "code",
   "execution_count": 40,
   "metadata": {},
   "outputs": [],
   "source": [
    "dfHacClust0 = dfHacClust[dfHacClust.cluster == 0]\n",
    "dfHacClust0.reset_index(inplace=True)\n",
    "dfHacClust1 = dfHacClust[dfHacClust.cluster == 1]\n",
    "dfHacClust1.reset_index(inplace=True)"
   ]
  },
  {
   "cell_type": "code",
   "execution_count": 41,
   "metadata": {},
   "outputs": [],
   "source": [
    "mb1a, mfs1a = clusterFeatures(dfHacClust0['review'])\n",
    "mb2a, mfs2a = clusterFeatures(dfHacClust1['review'])"
   ]
  },
  {
   "cell_type": "code",
   "execution_count": 42,
   "metadata": {},
   "outputs": [
    {
     "name": "stdout",
     "output_type": "stream",
     "text": [
      "Cluster 0\n",
      "['rocky', 'scenes', 'love', 'original', 'adrian', 'watch', 'series', 'character', 'sylvester', 'boxing', 'life', 'movies']\n",
      "\n",
      "Cluster 1\n",
      "['rocky', 'carl', 'characters', 'clubber', 'director', 'hard', 'makes', 'weathers', 'balboa', 'champion', 'world', 'character']\n"
     ]
    }
   ],
   "source": [
    "print(\"Cluster 0\")\n",
    "print(mfs1a)\n",
    "print()\n",
    "print(\"Cluster 1\")\n",
    "print(mfs2a)"
   ]
  },
  {
   "cell_type": "markdown",
   "metadata": {},
   "source": [
    "### Question 7.2\n",
    "KMeans clustering did not produce suitable clusters for analysis with the parameters used to fit the model above.  The cluster analysis focuses on the two clusters produced by Hierarchical Agglomerative Clustering (HAC).  From the analysis above, HAC cluster 1 is slightly more positive and contains proportionally less Rocky 2 reviews compared to HAC cluster 0.  The top 12 TDIDF text features per cluster are more difficult to interpret.  The key features in both clusters are full of character and actor names.  Key terms such as 'champion' and 'world' could be indicative of positive reviews.  However, the token \"love\" is present cluster 0's key features.  Additional data cleansing could improve the key features lists.  The TF and TFIDF scores for the top 12 key features show there is little similarity structurally between the top features identified by Hierarchical Agglomerative Clustering.  This suggests HAC did a decent job at finding unique features despite the low sillouette scores.  In conclusion, it is difficult to determine the semantic center of each cluster.  Several reasons could be at play.  First, the plot and character recycling in Rocky, Rocky 2 and Rocky 3 could lead to reviews with features which are difficult to distinguish.  "
   ]
  },
  {
   "cell_type": "code",
   "execution_count": 43,
   "metadata": {},
   "outputs": [
    {
     "name": "stdout",
     "output_type": "stream",
     "text": [
      "TF Cosine Similarity 0.1667\n",
      "TFIDF Cosine Similarity 0.0\n"
     ]
    }
   ],
   "source": [
    "d172 = Document(mfs1a)\n",
    "d272 = Document(mfs2a)\n",
    "mb72 = Model(documents=[d172, d272], weight=TF)\n",
    "print(\"TF Cosine Similarity\", round(mb72.similarity(d172, d272),4))\n",
    "mb72 = Model(documents=[d172, d272], weight=TFIDF)\n",
    "print(\"TFIDF Cosine Similarity\", mb72.similarity(d172, d272))"
   ]
  },
  {
   "cell_type": "markdown",
   "metadata": {},
   "source": [
    "### Question 7.3\n",
    "The Hierarchical Agglomerative Clustering algorithm clearly outperformed KMeans for the data set collected on March 31, 2019.  This is a fairly straighforward assessment as the two cluster KMeans fit failed to produce two meaningful clusters.  Further testing of the KMeans algorithm showed that a five cluster KMeans fit would produce better results.  However, three outlier clusters of one observation were produced.  Conversely, Hierarchical Agglomerative Clustering identifed two fairly balanced clusters with some potentially meaningful differences in sentiment, user rating and movie composition.  However, the low silhouette scores suggest more clustering algorithms should be tested for this data set.  "
   ]
  },
  {
   "cell_type": "markdown",
   "metadata": {},
   "source": [
    "### Code Appendix"
   ]
  },
  {
   "cell_type": "code",
   "execution_count": 61,
   "metadata": {
    "scrolled": false
   },
   "outputs": [],
   "source": [
    "#https://docs.scipy.org/doc/scipy/reference/generated/scipy.cluster.hierarchy.dendrogram.html\n",
    "#plt.figure(figsize=(50,50))\n",
    "#children = acFit.children_\n",
    "#distance = np.arange(children.shape[0])\n",
    "#no_of_observations = np.arange(2, children.shape[0]+2)\n",
    "#linkageMatrix = np.column_stack([children, distance, no_of_observations]).astype(float)\n",
    "#\n",
    "#dn = dendrogram(linkageMatrix, labels=dfReviewDetails.index, p=30, truncate_mode='level', orientation='right', show_leaf_counts=True, leaf_font_size = 9)\n",
    "#dn = dendrogram(linkageMatrix, labels=dfReviewDetails.index, show_leaf_counts=False, orientation='right', leaf_font_size=10)\n",
    "#\n",
    "#plt.show()"
   ]
  },
  {
   "cell_type": "code",
   "execution_count": 60,
   "metadata": {},
   "outputs": [],
   "source": [
    "#viz = InterclusterDistance(km)\n",
    "#viz.fit(tfidfMatrix)\n",
    "#viz.poof()"
   ]
  }
 ],
 "metadata": {
  "kernelspec": {
   "display_name": "Python 3",
   "language": "python",
   "name": "python3"
  },
  "language_info": {
   "codemirror_mode": {
    "name": "ipython",
    "version": 3
   },
   "file_extension": ".py",
   "mimetype": "text/x-python",
   "name": "python",
   "nbconvert_exporter": "python",
   "pygments_lexer": "ipython3",
   "version": "3.6.8"
  }
 },
 "nbformat": 4,
 "nbformat_minor": 2
}
