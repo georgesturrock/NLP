{
 "cells": [
  {
   "cell_type": "markdown",
   "metadata": {},
   "source": [
    "# Lexical Diversity of Graded Readers\n",
    "## DS 7337 - Natural Language Processing - Homework 1\n",
    "### George C. Sturrock\n",
    "#### January 13, 2019"
   ]
  },
  {
   "cell_type": "markdown",
   "metadata": {},
   "source": [
    "#### Homework 1 Objectives\n",
    "1. Install Python and NLTK\n",
    "2. Implement a \"Lexical Diversity\" scoring routine as shown in Chapter 1 of Bird, Klein and Loper.  \n",
    "3. Select three different graded readers from http://www.gutenberg.org/wiki/Children%27s_Instructional_Books_(Bookshelf) for lexical diversity scoring.  Explain if the results are surprising. \n",
    "4. Compare the vocabulary size of the texts.  Explain in the results are surprising.\n",
    "5. Write a paragraph arguing whether vocabulary size and lexical diversity in combination could be a better measure of text difficulty than either measure by itself.  "
   ]
  },
  {
   "cell_type": "markdown",
   "metadata": {},
   "source": [
    "##### Import Libraries"
   ]
  },
  {
   "cell_type": "code",
   "execution_count": 17,
   "metadata": {},
   "outputs": [],
   "source": [
    "import platform\n",
    "import os\n",
    "import sys\n",
    "\n",
    "import nltk\n",
    "from nltk.corpus import stopwords\n",
    "set(stopwords.words('english'))\n",
    "\n",
    "import numpy as np\n",
    "import pandas as pd\n",
    "import matplotlib.pyplot as plt\n",
    "import string\n",
    "\n",
    "import seaborn as sns\n",
    "sns.set(style='darkgrid')\n",
    "%matplotlib inline\n",
    "import warnings\n",
    "warnings.filterwarnings('ignore')"
   ]
  },
  {
   "cell_type": "markdown",
   "metadata": {},
   "source": [
    "#### Objective 1 - Install Python and NLTK"
   ]
  },
  {
   "cell_type": "code",
   "execution_count": 18,
   "metadata": {},
   "outputs": [
    {
     "name": "stdout",
     "output_type": "stream",
     "text": [
      "Platform: Linux-4.15.0-1026-gcp-x86_64-with-debian-stretch-sid\n",
      "Python Version: 3.5.6 |Anaconda custom (64-bit)| (default, Aug 26 2018, 21:41:56) \n",
      "[GCC 7.3.0]\n",
      "NLTK Version: 3.3\n"
     ]
    }
   ],
   "source": [
    "print(\"Platform:\", platform.platform())\n",
    "print(\"Python Version:\", sys.version)\n",
    "print(\"NLTK Version:\", nltk.__version__)"
   ]
  },
  {
   "cell_type": "markdown",
   "metadata": {},
   "source": [
    "#### Objective 2 - Implement Lexical Diversity Scoring Routine\n",
    "Two functions were created.  The \"lexical_diversity\" function returns a value calculated by dividing the number of distinct tokens by the total number of tokens in the supplied text.  The percentage function returns a value showing the percentage of tokens in the supplied text are accounted for by a single token."
   ]
  },
  {
   "cell_type": "code",
   "execution_count": 19,
   "metadata": {},
   "outputs": [],
   "source": [
    "#Functions for lexical diversity\n",
    "def lexicalDiversity(text):\n",
    "    return round(len(set(text)) / len(text), 4)\n",
    "\n",
    "def percentage(token, text):\n",
    "    return round((100 *text.count(token)) / len(text), 4)"
   ]
  },
  {
   "cell_type": "markdown",
   "metadata": {},
   "source": [
    "##### Objective 3 - Select Three Graded Readers from Different Grades\n",
    "For this objective, the following graders readers were selected:\n",
    "1. McGuffey's First Eclectic Reader, Revised Edition\n",
    "2. McGuffey's Third Eclectic Reader\n",
    "3. McGuffey's Sixth Eclectic Reader"
   ]
  },
  {
   "cell_type": "markdown",
   "metadata": {},
   "source": [
    "##### 3.1 - Open Readers"
   ]
  },
  {
   "cell_type": "code",
   "execution_count": 20,
   "metadata": {},
   "outputs": [],
   "source": [
    "#https://www.geeksforgeeks.org/reading-writing-text-files-python/\n",
    "reader1 = open(\"reader1.txt\", \"r\")\n",
    "reader3 = open(\"reader3.txt\", \"r\")\n",
    "reader6 = open(\"reader6.txt\", \"r\")"
   ]
  },
  {
   "cell_type": "markdown",
   "metadata": {},
   "source": [
    "##### 3.2 - Clean Reader Data"
   ]
  },
  {
   "cell_type": "code",
   "execution_count": 21,
   "metadata": {},
   "outputs": [],
   "source": [
    "reader1L = list(reader1)\n",
    "reader3L = list(reader3)\n",
    "reader6L = list(reader6)"
   ]
  },
  {
   "cell_type": "markdown",
   "metadata": {},
   "source": [
    "The functions shown below assist with cleansing the raw text files.  The \"stipNewLine\" function forces all text to lower case to  ensure vocabulary and lexical diversity scores are consistently and accurately evaluating words.  New line characters are also stripped."
   ]
  },
  {
   "cell_type": "code",
   "execution_count": 22,
   "metadata": {},
   "outputs": [],
   "source": [
    "#Strip New Line Characters\n",
    "def stripNewLine(text):\n",
    "    strip = list()\n",
    "    for line in text:\n",
    "        strip.append(line.rstrip().lower())\n",
    "    return strip;\n",
    "\n",
    "#Save cleansed file\n",
    "def writeNewReader(text, filename):\n",
    "    with open(filename, \"w\") as output:\n",
    "        output.write(str(text))"
   ]
  },
  {
   "cell_type": "markdown",
   "metadata": {},
   "source": [
    "The graded readers are now individually cleansed in three steps.  First, a manual effort is made to delete copyright, instructional, legal, publisher and any other data elements which are not part of the actual text.  The text is scanned visually for the actual begin and end of the text.  The index values of the beginning and ending are found and sliced out of the original text.  Next, the two aforementioned function are executed to strip new line characters and force a consistent case."
   ]
  },
  {
   "cell_type": "code",
   "execution_count": 23,
   "metadata": {},
   "outputs": [
    {
     "name": "stdout",
     "output_type": "stream",
     "text": [
      "Reader 1 Text Starts at: 189\n",
      "Reader 1 Text Ends at: 1890\n"
     ]
    }
   ],
   "source": [
    "#Clean first graded reader\n",
    "print(\"Reader 1 Text Starts at:\", reader1L.index(\"McGuffey's FIRST READER.\\n\"))\n",
    "print(\"Reader 1 Text Ends at:\", reader1L.index(\"End of the Project Gutenberg EBook of McGuffey's First Eclectic Reader,\\n\"))\n",
    "reader1L = reader1L[189:1890]\n",
    "\n",
    "tempStrip = stripNewLine(reader1L)\n",
    "\n",
    "writeNewReader(tempStrip, 'reader1L.txt')"
   ]
  },
  {
   "cell_type": "code",
   "execution_count": 24,
   "metadata": {},
   "outputs": [
    {
     "name": "stdout",
     "output_type": "stream",
     "text": [
      "Reader 3 Text Starts at: 217\n",
      "Reader 3 Text Ends at: 4384\n"
     ]
    }
   ],
   "source": [
    "#Clean 3rd graded reader\n",
    "print(\"Reader 3 Text Starts at:\", reader3L.index(\"INTRODUCTION.\\n\"))\n",
    "print(\"Reader 3 Text Ends at:\", reader3L.index(\"End of the Project Gutenberg EBook of McGuffey's Third Eclectic Reader\\n\"))\n",
    "reader3L = reader3L[217:4384]\n",
    "\n",
    "tempStrip = stripNewLine(reader3L)\n",
    "\n",
    "writeNewReader(tempStrip, 'reader3L.txt')"
   ]
  },
  {
   "cell_type": "code",
   "execution_count": 25,
   "metadata": {},
   "outputs": [
    {
     "name": "stdout",
     "output_type": "stream",
     "text": [
      "Reader 6 Text Starts at: 466\n",
      "Reader 6 Text Ends at: 17211\n"
     ]
    }
   ],
   "source": [
    "#Clean sixth graded reader\n",
    "print(\"Reader 6 Text Starts at:\", reader6L.index(\"INTRODUCTION. (11)\\n\"))\n",
    "print(\"Reader 6 Text Ends at:\", reader6L.index(\"End of the Project Gutenberg EBook of McGuffey's Sixth Eclectic Reader\\n\"))\n",
    "reader6L = reader6L[466:17211]\n",
    "\n",
    "tempStrip = stripNewLine(reader6L)\n",
    "\n",
    "writeNewReader(tempStrip, 'reader6L.txt')"
   ]
  },
  {
   "cell_type": "markdown",
   "metadata": {},
   "source": [
    "##### 3.3 Convert to NLTK Format\n",
    "The cleansed files will be opened for input and converted to NLTK format for analysis.  The \"toNLTK\" function converts the cleansed text file into NLTK format by tokenizing the text and removing punctuation."
   ]
  },
  {
   "cell_type": "code",
   "execution_count": 26,
   "metadata": {},
   "outputs": [],
   "source": [
    "#Function to convert .txt file to lists and NLTK format\n",
    "#Credit to:\n",
    "#https://stackoverflow.com/questions/10467024/how-do-i-create-my-own-nltk-text-from-a-text-file\n",
    "#https://machinelearningmastery.com/clean-text-machine-learning-python/\n",
    "\n",
    "table = str.maketrans('', '', string.punctuation)\n",
    "\n",
    "def toNLTK(textIn):\n",
    "    raw = nltk.word_tokenize(textIn.read())\n",
    "    punc = [r.translate(table) for r in raw]\n",
    "    rnltk = nltk.Text(punc)\n",
    "    return rnltk;"
   ]
  },
  {
   "cell_type": "markdown",
   "metadata": {},
   "source": [
    "The cleansed files from section 2.2 are opened and processed with the \"toNLTK\" function."
   ]
  },
  {
   "cell_type": "code",
   "execution_count": 27,
   "metadata": {},
   "outputs": [],
   "source": [
    "#open and convert to NLTK\n",
    "reader1b = open(\"reader1L.txt\", \"r\")\n",
    "reader3b = open(\"reader3L.txt\", \"r\")\n",
    "reader6b = open(\"reader6L.txt\", \"r\")\n",
    "\n",
    "reader1NLTK = toNLTK(reader1b)\n",
    "reader3NLTK = toNLTK(reader3b)\n",
    "reader6NLTK = toNLTK(reader6b)"
   ]
  },
  {
   "cell_type": "markdown",
   "metadata": {},
   "source": [
    "##### 3.4 Lexical Diversity of the Three Graded Readers\n",
    "Prior to running this analysis my assumption would have been the lexical diversity would have mirrored complexity of the document.  In other words, Grader Reader 1 would have been the least diverse, and Grader Reader 6 would have been the most diverse.  The actual lexical diversity results suggest there is no correlation between lexical diversity and the text grade of these three works.  Graded Reader 3 has the best lexical diversity score of the three texts.  Graded Reader 6 has the lowest score.  It is important to realize the lexical diversity calculation has little to do with the complexity of the verbiage in the text.  Repetitive use of highly advanced words produces a low lexical diversity score when compared to utlizing a variety simple words and their synonyms.   "
   ]
  },
  {
   "cell_type": "code",
   "execution_count": 28,
   "metadata": {},
   "outputs": [
    {
     "name": "stdout",
     "output_type": "stream",
     "text": [
      "Lexical Diversity of Graded Reader 1: 0.079\n",
      "Lexical Diversity of Graded Reader 3: 0.0829\n",
      "Lexical Diversity of Graded Reader 6: 0.0716\n"
     ]
    }
   ],
   "source": [
    "print(\"Lexical Diversity of Graded Reader 1:\", lexicalDiversity(reader1NLTK))\n",
    "print(\"Lexical Diversity of Graded Reader 3:\", lexicalDiversity(reader3NLTK))\n",
    "print(\"Lexical Diversity of Graded Reader 6:\", lexicalDiversity(reader6NLTK))"
   ]
  },
  {
   "cell_type": "markdown",
   "metadata": {},
   "source": [
    "#### Objective 4 - Vocabulary Size\n",
    "The graded reader level and the vocabulary size appears to be correlated.  As the graded reader level increases, the total number of words, or tokens, increases.  In this example the number of distinct words increased as the graded reader level increased as well.  This result is not surprising.  There was a visible difference in the raw length and file sizes of the Graded Readers with reader 1 being the shortest document and smallest file and reader 6 being the longest document and largest file.  "
   ]
  },
  {
   "cell_type": "code",
   "execution_count": 29,
   "metadata": {
    "scrolled": false
   },
   "outputs": [
    {
     "name": "stdout",
     "output_type": "stream",
     "text": [
      "Total Number of Tokens in Graded Reader 1: 12131\n",
      "Total Number of Tokens in Graded Reader 3: 42086\n",
      "Total Number of Tokens in Graded Reader 6: 200632\n"
     ]
    }
   ],
   "source": [
    "print(\"Total Number of Tokens in Graded Reader 1:\", len(reader1NLTK))\n",
    "print(\"Total Number of Tokens in Graded Reader 3:\", len(reader3NLTK))\n",
    "print(\"Total Number of Tokens in Graded Reader 6:\", len(reader6NLTK))"
   ]
  },
  {
   "cell_type": "code",
   "execution_count": 30,
   "metadata": {
    "scrolled": true
   },
   "outputs": [
    {
     "name": "stdout",
     "output_type": "stream",
     "text": [
      "Total Number of Distinct Tokens in Graded Reader 1: 958\n",
      "Total Number of Distinct Tokens in Graded Reader 3: 3490\n",
      "Total Number of Distinct Tokens in Graded Reader 6: 14360\n"
     ]
    }
   ],
   "source": [
    "print(\"Total Number of Distinct Tokens in Graded Reader 1:\", len(set(reader1NLTK)))\n",
    "print(\"Total Number of Distinct Tokens in Graded Reader 3:\", len(set(reader3NLTK)))\n",
    "print(\"Total Number of Distinct Tokens in Graded Reader 6:\", len(set(reader6NLTK)))"
   ]
  },
  {
   "cell_type": "markdown",
   "metadata": {},
   "source": [
    "Generate frequency distribution statistics by word length to help determine variations in word length in each graded reader."
   ]
  },
  {
   "cell_type": "code",
   "execution_count": 31,
   "metadata": {},
   "outputs": [],
   "source": [
    "fdist1 = nltk.FreqDist(len(w) for w in reader1NLTK)\n",
    "fdist3 = nltk.FreqDist(len(w) for w in reader3NLTK)\n",
    "fdist6 = nltk.FreqDist(len(w) for w in reader6NLTK)"
   ]
  },
  {
   "cell_type": "markdown",
   "metadata": {},
   "source": [
    "#### Ojbective 5 - Measurements for Evaluating Texts\n",
    "This questions asks whether the combining vocabulary size statistics with the lexical diversity score is a better measure of text difficulty as opposed to using lexical diversity on it own.  However, text difficulty is a subjective measurement.  A relatively short poem could be perceived to more difficult to read than fifty page instruction manual for a sewing machine.  Additionally, individual interest in a topic could make a difficult text seem easier than what should be less difficult text.  If we limit this question to the three graded readers presented in this study, the combination of lexical diversity and vocabulary size (total and distinct) would be a superior indicator of text difficulty.  Visual examination of the content of the three different documents clearly shows Graded Reader 6 is the more difficult text to read.  The histograms shown below also show the frequency of word length in the text.  Though the graphs look very similar, the progression from graded reader 1 to 6 shows interesting evidence which could support the assertion the increase in graded reader level is proof of increased difficulty based on visual examination.  Graded Reader 1's curve flattens after word length of 1.  Graded Reader 3's curve begins to flatten after word length of 7.  Graded Reader 6's curve begins to flatten after word length of 9.  Also, maximum word length is, respectively, 12, 15 and 17 for Graded Reader 1, 3, and 6.  Based on the evidence presented in this study and personal experience, combining lexical diversity and vocabulary size does seem to provide a better indicator of overall difficulty than lexical diversity alone."
   ]
  },
  {
   "cell_type": "code",
   "execution_count": 32,
   "metadata": {},
   "outputs": [
    {
     "name": "stdout",
     "output_type": "stream",
     "text": [
      "Graded Reader 1\n"
     ]
    },
    {
     "data": {
      "image/png": "[encoded data removed]",
      "text/plain": [
       "<Figure size 432x288 with 1 Axes>"
      ]
     },
     "metadata": {
      "needs_background": "light"
     },
     "output_type": "display_data"
    },
    {
     "name": "stdout",
     "output_type": "stream",
     "text": [
      "Graded Reader 3\n"
     ]
    },
    {
     "data": {
      "image/png": "[encoded data removed]",
      "text/plain": [
       "<Figure size 432x288 with 1 Axes>"
      ]
     },
     "metadata": {
      "needs_background": "light"
     },
     "output_type": "display_data"
    },
    {
     "name": "stdout",
     "output_type": "stream",
     "text": [
      "Graded Reader 6\n"
     ]
    },
    {
     "data": {
      "image/png": "[encoded data removed]",
      "text/plain": [
       "<Figure size 432x288 with 1 Axes>"
      ]
     },
     "metadata": {
      "needs_background": "light"
     },
     "output_type": "display_data"
    }
   ],
   "source": [
    "print(\"Graded Reader 1\")\n",
    "fdist1.plot(25, cumulative = True)\n",
    "print(\"Graded Reader 3\")\n",
    "fdist3.plot(25, cumulative = True)\n",
    "print(\"Graded Reader 6\")\n",
    "fdist6.plot(25, cumulative = True)"
   ]
  },
  {
   "cell_type": "code",
   "execution_count": null,
   "metadata": {},
   "outputs": [],
   "source": []
  }
 ],
 "metadata": {
  "kernelspec": {
   "display_name": "Python 3",
   "language": "python",
   "name": "python3"
  },
  "language_info": {
   "codemirror_mode": {
    "name": "ipython",
    "version": 3
   },
   "file_extension": ".py",
   "mimetype": "text/x-python",
   "name": "python",
   "nbconvert_exporter": "python",
   "pygments_lexer": "ipython3",
   "version": "3.5.6"
  }
 },
 "nbformat": 4,
 "nbformat_minor": 2
}
