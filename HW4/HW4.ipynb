{
 "cells": [
  {
   "cell_type": "code",
   "execution_count": 22,
   "metadata": {},
   "outputs": [
    {
     "name": "stdout",
     "output_type": "stream",
     "text": [
      "NLTK Version: 3.4\n",
      "Pattern Version: 3.6\n"
     ]
    }
   ],
   "source": [
    "import nltk; print(\"NLTK Version:\", nltk.__version__)\n",
    "#nltk.download('punkt')\n",
    "#nltk.download('averaged_perceptron_tagger')\n",
    "from nltk.corpus import stopwords\n",
    "import string\n",
    "\n",
    "import pattern; print(\"Pattern Version:\", pattern.__version__)\n",
    "from pattern.en import tag"
   ]
  },
  {
   "cell_type": "code",
   "execution_count": 31,
   "metadata": {},
   "outputs": [],
   "source": [
    "def tagPOS(text, tagger='nltk'):\n",
    "    if tagger != \"nltk\" and \"pattern\":\n",
    "        tagger = \"nltk\"\n",
    "        \n",
    "    if tagger=='nltk':\n",
    "        tokens = nltk.word_tokenize(text)\n",
    "        tagTokens = nltk.pos_tag(tokens)\n",
    "    elif tagger=='pattern':\n",
    "        tagTokens = tag(text)\n",
    "    return tagTokens"
   ]
  },
  {
   "cell_type": "markdown",
   "metadata": {},
   "source": [
    "#### Homework 4 - Question 1\n"
   ]
  },
  {
   "cell_type": "code",
   "execution_count": 32,
   "metadata": {},
   "outputs": [],
   "source": [
    "longSent = \"Throughout history, astronomy has influenced religion, guided explorers, defined food production schedules and  fueled  philosophical  questions  surrounding  our  very  existence  and  role  in  the universe.\"\n",
    "shortSent = [\"This study continuesthe trend of crowdsourced astronomy.\", \"I am.\", \"Go to the store.\", \"Run!\", \"You ended that preposition with a proposition.\"]"
   ]
  },
  {
   "cell_type": "code",
   "execution_count": 33,
   "metadata": {},
   "outputs": [
    {
     "data": {
      "text/plain": [
       "list"
      ]
     },
     "execution_count": 33,
     "metadata": {},
     "output_type": "execute_result"
    }
   ],
   "source": [
    "type(shortSent)"
   ]
  },
  {
   "cell_type": "code",
   "execution_count": 34,
   "metadata": {},
   "outputs": [
    {
     "data": {
      "text/plain": [
       "[('Throughout', 'IN'),\n",
       " ('history', 'NN'),\n",
       " (',', ','),\n",
       " ('astronomy', 'NN'),\n",
       " ('has', 'VBZ'),\n",
       " ('influenced', 'VBN'),\n",
       " ('religion', 'NN'),\n",
       " (',', ','),\n",
       " ('guided', 'VBD'),\n",
       " ('explorers', 'NNS'),\n",
       " (',', ','),\n",
       " ('defined', 'VBD'),\n",
       " ('food', 'NN'),\n",
       " ('production', 'NN'),\n",
       " ('schedules', 'NNS'),\n",
       " ('and', 'CC'),\n",
       " ('fueled', 'VBD'),\n",
       " ('philosophical', 'JJ'),\n",
       " ('questions', 'NNS'),\n",
       " ('surrounding', 'VBG'),\n",
       " ('our', 'PRP$'),\n",
       " ('very', 'NN'),\n",
       " ('existence', 'NN'),\n",
       " ('and', 'CC'),\n",
       " ('role', 'NN'),\n",
       " ('in', 'IN'),\n",
       " ('the', 'DT'),\n",
       " ('universe', 'NN'),\n",
       " ('.', '.')]"
      ]
     },
     "execution_count": 34,
     "metadata": {},
     "output_type": "execute_result"
    }
   ],
   "source": [
    "ltt = tagPOS(longSent)\n",
    "ltt"
   ]
  },
  {
   "cell_type": "code",
   "execution_count": 35,
   "metadata": {},
   "outputs": [
    {
     "data": {
      "text/plain": [
       "[('Throughout', 'IN'),\n",
       " ('history', 'NN'),\n",
       " (',', ','),\n",
       " ('astronomy', 'NN'),\n",
       " ('has', 'VBZ'),\n",
       " ('influenced', 'VBN'),\n",
       " ('religion', 'NN'),\n",
       " (',', ','),\n",
       " ('guided', 'VBD'),\n",
       " ('explorers', 'NNS'),\n",
       " (',', ','),\n",
       " ('defined', 'VBD'),\n",
       " ('food', 'NN'),\n",
       " ('production', 'NN'),\n",
       " ('schedules', 'NNS'),\n",
       " ('and', 'CC'),\n",
       " ('fueled', 'VBD'),\n",
       " ('philosophical', 'JJ'),\n",
       " ('questions', 'NNS'),\n",
       " ('surrounding', 'VBG'),\n",
       " ('our', 'PRP$'),\n",
       " ('very', 'NN'),\n",
       " ('existence', 'NN'),\n",
       " ('and', 'CC'),\n",
       " ('role', 'NN'),\n",
       " ('in', 'IN'),\n",
       " ('the', 'DT'),\n",
       " ('universe', 'NN'),\n",
       " ('.', '.')]"
      ]
     },
     "execution_count": 35,
     "metadata": {},
     "output_type": "execute_result"
    }
   ],
   "source": [
    "ltt2 = tagPOS(longSent, 'pattern')\n",
    "ltt2"
   ]
  },
  {
   "cell_type": "code",
   "execution_count": null,
   "metadata": {},
   "outputs": [],
   "source": []
  }
 ],
 "metadata": {
  "kernelspec": {
   "display_name": "Python 3",
   "language": "python",
   "name": "python3"
  },
  "language_info": {
   "codemirror_mode": {
    "name": "ipython",
    "version": 3
   },
   "file_extension": ".py",
   "mimetype": "text/x-python",
   "name": "python",
   "nbconvert_exporter": "python",
   "pygments_lexer": "ipython3",
   "version": "3.6.7"
  }
 },
 "nbformat": 4,
 "nbformat_minor": 2
}
