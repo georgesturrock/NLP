{
 "cells": [
  {
   "cell_type": "markdown",
   "metadata": {},
   "source": [
    "## Sentiment Analysis IMDB Movie Reviews\n",
    "### DS 7337 - Natural Laguage Processing - Homework 8\n",
    "#### George C. Sturrock\n",
    "##### April 14, 2019\n",
    "##### Homework 8 Objectives\n",
    "Perform a vocabulary-based sentiment analysis of the movie reviews you used in homework 5 and homework 7, by doing the following:\n",
    "1.\tIn Python, load one of the sentiment vocabularies referenced in the textbook, and run the sentiment analyzer as explained in the corresponding reference. Add words to the sentiment vocabulary, if you think you need to, to better fit your particular text collection.\n",
    "\n",
    "2.\tFor each of the clusters you created in homework 7, compute the average, median, high, and low sentiment scores for each cluster. Explain whether you think this reveals anything interesting about the clusters.\n",
    "\n",
    "3.\tFor extra credit, analyze sentiment of chunks as follows:\n",
    "        a.\tTake the chunks from homework 5, and in Python, run each chunk individually through your sentiment analyzer that you used in question 1. If the chunk registers a nonneutral sentiment, save it in a tabular format (the chunk, the sentiment score).\n",
    "        b.\tNow sort the table twice, once to show the highest negative-sentiment-scoring chunks at the top and again to show the highest positive-sentiment-scoring chunks at the top. Examine the upper portions of both sorted lists, to identify any trends, and explain what you see. \n",
    "\n",
    "#### Import Libraries"
   ]
  },
  {
   "cell_type": "code",
   "execution_count": 17,
   "metadata": {},
   "outputs": [
    {
     "name": "stdout",
     "output_type": "stream",
     "text": [
      "Platform: Windows-10-10.0.14393-SP0\n",
      "Python: 3.6.8 |Anaconda, Inc.| (default, Feb 21 2019, 18:30:04) [MSC v.1916 64 bit (AMD64)]\n",
      "Requests: 2.21.0\n",
      "BeatifulSoup: 4.7.1\n",
      "json: 2.0.9\n",
      "Numpy Version: 1.15.4\n",
      "Pandas Version: 0.23.0\n",
      "Pattern Version: 3.6\n"
     ]
    }
   ],
   "source": [
    "import platform; print(\"Platform:\", platform.platform())\n",
    "import os\n",
    "import sys; print(\"Python:\", sys.version)\n",
    "import requests; print(\"Requests:\", requests.__version__)\n",
    "from urllib import request; (\"urllib:\", request.__version__)\n",
    "import warnings\n",
    "warnings.filterwarnings('ignore')\n",
    "from time import sleep\n",
    "\n",
    "#Web Scraping\n",
    "import bs4; print(\"BeatifulSoup:\", bs4.__version__)\n",
    "from bs4 import BeautifulSoup\n",
    "import json; print(\"json:\", json.__version__)\n",
    "\n",
    "#Python Basics\n",
    "import numpy as np; print(\"Numpy Version:\", np.__version__)\n",
    "import pandas as pd; print(\"Pandas Version:\", pd.__version__)\n",
    "from matplotlib import pyplot as plt\n",
    "import seaborn as sns;\n",
    "import string\n",
    "\n",
    "#scikit learn\n",
    "from sklearn import metrics\n",
    "from sklearn.feature_extraction import stop_words\n",
    "#print(stop_words.ENGLISH_STOP_WORDS)\n",
    "from sklearn.feature_extraction.text import TfidfVectorizer, CountVectorizer\n",
    "#HAC\n",
    "from scipy.cluster.hierarchy import ward, dendrogram\n",
    "from sklearn.cluster import AgglomerativeClustering\n",
    "#KMeans\n",
    "from sklearn.cluster import KMeans\n",
    "\n",
    "import pattern; print(\"Pattern Version:\", pattern.__version__)\n",
    "from pattern.en import tag, parse, Sentence\n",
    "from pattern.en import parsetree\n",
    "from pattern.en import sentiment, positive\n",
    "from pattern.vector import Document, Model, TFIDF, TF\n",
    "from pattern.vector import words, stem, PORTER, LEMMA"
   ]
  },
  {
   "cell_type": "markdown",
   "metadata": {},
   "source": [
    "### Data Acquisition\n",
    "The first three films in the \"Rocky\" series will be utilized to collect reviews for noun phrase chunking.  Link to the main user review page for each of the three movies are shown below.  To assure both positive and negative reviews are collected, there are two links per movie.  One is sorted descending by user rating.  The other is sorted ascending by user rating.  Both links have \"spoiler alert\" messages suppressed as these reviews are often more akin to a summarization of the movie plot instead of a true review.  "
   ]
  },
  {
   "cell_type": "code",
   "execution_count": 2,
   "metadata": {},
   "outputs": [],
   "source": [
    "#Rocky movie list.  Two links for each movie to assure positive and negative reviews are captured.  \n",
    "#Sort descending by Review Rating.  Sort ascending by Review Rating.\n",
    "\n",
    "#Rocky\n",
    "rockyDict = {\"aRocky\":\"https://www.imdb.com/title/tt0075148/reviews?spoiler=hide&sort=userRating&dir=asc&ratingFilter=0\", \n",
    "         \"dRocky\":\"https://www.imdb.com/title/tt0075148/reviews?spoiler=hide&sort=userRating&dir=desc&ratingFilter=0\", \n",
    "#Rocky 2\n",
    "         \"dRocky 2\":\"https://www.imdb.com/title/tt0079817/reviews?spoiler=hide&sort=userRating&dir=desc&ratingFilter=0\",\n",
    "         \"aRocky 2\":\"https://www.imdb.com/title/tt0079817/reviews?spoiler=hide&sort=userRating&dir=asc&ratingFilter=0\",\n",
    "#Rocky 3\n",
    "         \"dRocky 3\":\"https://www.imdb.com/title/tt0084602/reviews?spoiler=hide&sort=userRating&dir=desc&ratingFilter=0\",\n",
    "         \"aRocky 3\":\"https://www.imdb.com/title/tt0084602/reviews?spoiler=hide&sort=userRating&dir=asc&ratingFilter=0\"\n",
    "            }\n",
    "\n",
    "rockyKeys = rockyDict.keys()"
   ]
  },
  {
   "cell_type": "markdown",
   "metadata": {},
   "source": [
    "#### Web Scraping IMDB Movie Review Titles\n",
    "The individual links to the user reviews are collected below.  A get request uses each of the links in the \"rockyDict\" python dictionary.  The response is parsed by Beautiful Soup to find the individual links to each individual review.  The review URLs along with the movie name are written to a dataframe named dfRockyReviews."
   ]
  },
  {
   "cell_type": "code",
   "execution_count": 3,
   "metadata": {},
   "outputs": [],
   "source": [
    "reviewUrls = list()\n",
    "dfRockyReviews = pd.DataFrame(columns = ['Movie', 'ReviewURL'])\n",
    "\n",
    "for r in rockyKeys:\n",
    "    #print(r, rockyDict[r])\n",
    "    response = requests.get(rockyDict[r])\n",
    "    soup = BeautifulSoup(response.text, 'html.parser')\n",
    "    rUrls = [\"http:\" + s.attrs['href'] for s in soup.find_all(href = True, class_ = 'title')]\n",
    "    reviewUrls = reviewUrls + rUrls\n",
    "    for u in rUrls:\n",
    "        dfRockyReviews = dfRockyReviews.append({'Movie':r[1:], 'ReviewURL':u}, ignore_index=True)"
   ]
  },
  {
   "cell_type": "markdown",
   "metadata": {},
   "source": [
    "A sample of the dfRockyReviews dataframe is shown below."
   ]
  },
  {
   "cell_type": "code",
   "execution_count": 4,
   "metadata": {},
   "outputs": [
    {
     "data": {
      "text/html": [
       "<div>\n",
       "<style scoped>\n",
       "    .dataframe tbody tr th:only-of-type {\n",
       "        vertical-align: middle;\n",
       "    }\n",
       "\n",
       "    .dataframe tbody tr th {\n",
       "        vertical-align: top;\n",
       "    }\n",
       "\n",
       "    .dataframe thead th {\n",
       "        text-align: right;\n",
       "    }\n",
       "</style>\n",
       "<table border=\"1\" class=\"dataframe\">\n",
       "  <thead>\n",
       "    <tr style=\"text-align: right;\">\n",
       "      <th></th>\n",
       "      <th>Movie</th>\n",
       "      <th>ReviewURL</th>\n",
       "    </tr>\n",
       "  </thead>\n",
       "  <tbody>\n",
       "    <tr>\n",
       "      <th>0</th>\n",
       "      <td>Rocky</td>\n",
       "      <td>http:/review/rw4247059/?ref_=tt_urv</td>\n",
       "    </tr>\n",
       "    <tr>\n",
       "      <th>1</th>\n",
       "      <td>Rocky</td>\n",
       "      <td>http:/review/rw0149538/?ref_=tt_urv</td>\n",
       "    </tr>\n",
       "    <tr>\n",
       "      <th>2</th>\n",
       "      <td>Rocky</td>\n",
       "      <td>http:/review/rw0149534/?ref_=tt_urv</td>\n",
       "    </tr>\n",
       "    <tr>\n",
       "      <th>3</th>\n",
       "      <td>Rocky</td>\n",
       "      <td>http:/review/rw1979442/?ref_=tt_urv</td>\n",
       "    </tr>\n",
       "    <tr>\n",
       "      <th>4</th>\n",
       "      <td>Rocky</td>\n",
       "      <td>http:/review/rw2406266/?ref_=tt_urv</td>\n",
       "    </tr>\n",
       "  </tbody>\n",
       "</table>\n",
       "</div>"
      ],
      "text/plain": [
       "   Movie                            ReviewURL\n",
       "0  Rocky  http:/review/rw4247059/?ref_=tt_urv\n",
       "1  Rocky  http:/review/rw0149538/?ref_=tt_urv\n",
       "2  Rocky  http:/review/rw0149534/?ref_=tt_urv\n",
       "3  Rocky  http:/review/rw1979442/?ref_=tt_urv\n",
       "4  Rocky  http:/review/rw2406266/?ref_=tt_urv"
      ]
     },
     "execution_count": 4,
     "metadata": {},
     "output_type": "execute_result"
    }
   ],
   "source": [
    "dfRockyReviews[0:5]"
   ]
  },
  {
   "cell_type": "markdown",
   "metadata": {},
   "source": [
    "#### Web Scraping IMDB Movie Review Details\n",
    "The individual review URLs collected above will be requested and parsed to retrieve key qualitative and categorical data about each review along with the review text itself.  These details are stored in a new dataframe named dfReviewDetails.  The first five records are this dataframe are shown below."
   ]
  },
  {
   "cell_type": "code",
   "execution_count": 5,
   "metadata": {
    "scrolled": true
   },
   "outputs": [
    {
     "data": {
      "text/html": [
       "<div>\n",
       "<style scoped>\n",
       "    .dataframe tbody tr th:only-of-type {\n",
       "        vertical-align: middle;\n",
       "    }\n",
       "\n",
       "    .dataframe tbody tr th {\n",
       "        vertical-align: top;\n",
       "    }\n",
       "\n",
       "    .dataframe thead th {\n",
       "        text-align: right;\n",
       "    }\n",
       "</style>\n",
       "<table border=\"1\" class=\"dataframe\">\n",
       "  <thead>\n",
       "    <tr style=\"text-align: right;\">\n",
       "      <th></th>\n",
       "      <th>Movie</th>\n",
       "      <th>ReviewUrl</th>\n",
       "      <th>ReviewDate</th>\n",
       "      <th>ReviewTitle</th>\n",
       "      <th>Review</th>\n",
       "      <th>Rating</th>\n",
       "      <th>Language</th>\n",
       "    </tr>\n",
       "  </thead>\n",
       "  <tbody>\n",
       "    <tr>\n",
       "      <th>0</th>\n",
       "      <td>Rocky</td>\n",
       "      <td>http:/review/rw4247059/?ref_=tt_urv</td>\n",
       "      <td>2018-07-21</td>\n",
       "      <td>Rubbish</td>\n",
       "      <td>The fight scenes are pathetic and the acting i...</td>\n",
       "      <td>1</td>\n",
       "      <td>English</td>\n",
       "    </tr>\n",
       "    <tr>\n",
       "      <th>1</th>\n",
       "      <td>Rocky</td>\n",
       "      <td>http:/review/rw0149538/?ref_=tt_urv</td>\n",
       "      <td>1999-11-25</td>\n",
       "      <td>Dumbest, Most Cornball Film Ever Made</td>\n",
       "      <td>I still remember my initial outrage that this ...</td>\n",
       "      <td>1</td>\n",
       "      <td>English</td>\n",
       "    </tr>\n",
       "    <tr>\n",
       "      <th>2</th>\n",
       "      <td>Rocky</td>\n",
       "      <td>http:/review/rw0149534/?ref_=tt_urv</td>\n",
       "      <td>1998-08-19</td>\n",
       "      <td>overrated piece of cheese</td>\n",
       "      <td>grubby late-night fare achieved way too much s...</td>\n",
       "      <td>2</td>\n",
       "      <td>English</td>\n",
       "    </tr>\n",
       "    <tr>\n",
       "      <th>3</th>\n",
       "      <td>Rocky</td>\n",
       "      <td>http:/review/rw1979442/?ref_=tt_urv</td>\n",
       "      <td>2008-11-22</td>\n",
       "      <td>The most overrated movie of all time</td>\n",
       "      <td>I went to see this movie when it came out. I h...</td>\n",
       "      <td>3</td>\n",
       "      <td>English</td>\n",
       "    </tr>\n",
       "    <tr>\n",
       "      <th>4</th>\n",
       "      <td>Rocky</td>\n",
       "      <td>http:/review/rw2406266/?ref_=tt_urv</td>\n",
       "      <td>2011-03-30</td>\n",
       "      <td>I can't believe the script was made into a mov...</td>\n",
       "      <td>I was told by many that Rocky is a beautiful m...</td>\n",
       "      <td>3</td>\n",
       "      <td>English</td>\n",
       "    </tr>\n",
       "  </tbody>\n",
       "</table>\n",
       "</div>"
      ],
      "text/plain": [
       "   Movie                            ReviewUrl  ReviewDate  \\\n",
       "0  Rocky  http:/review/rw4247059/?ref_=tt_urv  2018-07-21   \n",
       "1  Rocky  http:/review/rw0149538/?ref_=tt_urv  1999-11-25   \n",
       "2  Rocky  http:/review/rw0149534/?ref_=tt_urv  1998-08-19   \n",
       "3  Rocky  http:/review/rw1979442/?ref_=tt_urv  2008-11-22   \n",
       "4  Rocky  http:/review/rw2406266/?ref_=tt_urv  2011-03-30   \n",
       "\n",
       "                                         ReviewTitle  \\\n",
       "0                                            Rubbish   \n",
       "1              Dumbest, Most Cornball Film Ever Made   \n",
       "2                          overrated piece of cheese   \n",
       "3               The most overrated movie of all time   \n",
       "4  I can't believe the script was made into a mov...   \n",
       "\n",
       "                                              Review Rating Language  \n",
       "0  The fight scenes are pathetic and the acting i...      1  English  \n",
       "1  I still remember my initial outrage that this ...      1  English  \n",
       "2  grubby late-night fare achieved way too much s...      2  English  \n",
       "3  I went to see this movie when it came out. I h...      3  English  \n",
       "4  I was told by many that Rocky is a beautiful m...      3  English  "
      ]
     },
     "execution_count": 5,
     "metadata": {},
     "output_type": "execute_result"
    }
   ],
   "source": [
    "dfReviewDetails = pd.DataFrame(columns=['Movie', 'ReviewUrl', 'ReviewDate', 'ReviewTitle', 'Review', 'Rating', \n",
    "                                        'Language'])\n",
    "counter = 0\n",
    "\n",
    "for r in reviewUrls:\n",
    "    fullUrl = \"https://www.imdb.com\" + r[5:]\n",
    "    response2 = requests.get(fullUrl)\n",
    "    soup2 = BeautifulSoup(response2.text, 'html.parser')\n",
    "    rjson = soup2.find('script', type = 'application/ld+json').text\n",
    "    rjson = json.loads(rjson)\n",
    "    \n",
    "    try:\n",
    "        rating = rjson['reviewRating']['ratingValue']\n",
    "    except Exception as e:\n",
    "        #print(\"No User Rating\")\n",
    "        rating = 5\n",
    "        \n",
    "    ### Add stemming logic to review body\n",
    "    \n",
    "    dfReviewDetails = dfReviewDetails.append({'Movie':dfRockyReviews.Movie[counter], 'ReviewUrl':r, \n",
    "                                              'ReviewDate':rjson['dateCreated'], 'ReviewTitle':rjson['name'], \n",
    "                                              'Review':rjson['reviewBody'], 'Rating':rating, \n",
    "                                              'Language':rjson['inLanguage']}, ignore_index=True)\n",
    "    counter += 1\n",
    "\n",
    "dfReviewDetails.head()"
   ]
  },
  {
   "cell_type": "markdown",
   "metadata": {},
   "source": [
    "The bar plot below shows movie review ratings for the reviews collected in the prior step. The original \"Rocky\" is widely considered the best of the \"Rocky\" series.  It won multiple Oscars and introduced \"Steady-Cam\" technology to the movie world.  However, the sample of user reviews collected tell a different story.  "
   ]
  },
  {
   "cell_type": "code",
   "execution_count": 6,
   "metadata": {},
   "outputs": [
    {
     "data": {
      "text/plain": [
       "<matplotlib.axes._subplots.AxesSubplot at 0x268f941fa90>"
      ]
     },
     "execution_count": 6,
     "metadata": {},
     "output_type": "execute_result"
    },
    {
     "data": {
      "image/png": "[encoded data removed]",
      "text/plain": [
       "<Figure size 432x288 with 1 Axes>"
      ]
     },
     "metadata": {
      "needs_background": "light"
     },
     "output_type": "display_data"
    }
   ],
   "source": [
    "plotdf = dfReviewDetails.sort_values(by=['ReviewDate'])\n",
    "plotdf.Rating = plotdf.Rating.astype('int64')\n",
    "plotdf.ReviewDate = pd.to_datetime(plotdf.ReviewDate)\n",
    "plotdf = plotdf.groupby(['Movie']).mean().reset_index()\n",
    "sns.barplot(x='Movie', y='Rating', data=plotdf.sort_values(by=['Rating'], ascending=False))"
   ]
  },
  {
   "cell_type": "markdown",
   "metadata": {},
   "source": [
    "### Review Clustering\n",
    "For this requirement, the IMDB reviews will be clustered using K-Means and Hiearchical Agglomerative Clustering.  The results are presented in the sections below.  The first step is to produce a vectorized matrix the review text."
   ]
  },
  {
   "cell_type": "code",
   "execution_count": 21,
   "metadata": {},
   "outputs": [
    {
     "data": {
      "text/plain": [
       "(150, 28091)"
      ]
     },
     "execution_count": 21,
     "metadata": {},
     "output_type": "execute_result"
    }
   ],
   "source": [
    "tfidfVectorizer = TfidfVectorizer(max_df=1, min_df=0, stop_words='english', use_idf=True, ngram_range=(1,3))\n",
    "\n",
    "tfidfMatrix = tfidfVectorizer.fit_transform(dfReviewDetails.Review)\n",
    "tfidfMatrix.shape"
   ]
  },
  {
   "cell_type": "markdown",
   "metadata": {},
   "source": [
    "#### KMeans Clustering\n",
    "The following code chunk determines the optimum combination of clusters, relative tolerance, and method of initialization based on the silhouette score.  The silhouette scores produced by the KMeans algorithm are all negative.  This indicates the clustering algorithm may not have effectively clustered the data."
   ]
  },
  {
   "cell_type": "code",
   "execution_count": 22,
   "metadata": {},
   "outputs": [
    {
     "name": "stdout",
     "output_type": "stream",
     "text": [
      "Clusters:  2 | tol: 0.1 | Init k-means++ | Silhouette Score: -1.6098681343037595e-15\n",
      "Clusters:  4 | tol: 0.1 | Init random | Silhouette Score: 1.2246721177733474e-16\n"
     ]
    }
   ],
   "source": [
    "bestSilScore = -9999999999999\n",
    "rState = 20190325\n",
    "tolList = [0.1, 0.01, 0.001, 0.0001]\n",
    "initList = ['k-means++', 'random']\n",
    "\n",
    "for i in range(2, 7, 1):\n",
    "    for t in tolList:\n",
    "        for n in initList:\n",
    "            km = KMeans(n_clusters=i, tol=t, init=n, random_state=rState)\n",
    "            kmFit = km.fit(tfidfMatrix)\n",
    "            clusters = km.labels_.tolist()\n",
    "            silScore = metrics.silhouette_score(tfidfMatrix, km.labels_)\n",
    "            if silScore > bestSilScore:\n",
    "                print(\"Clusters: \", i, \"| tol:\", t, \"| Init\", n, \"| Silhouette Score:\", silScore)\n",
    "                bestSilScore = silScore\n",
    "                nClust = i\n",
    "                nTol = t\n",
    "                nInit = n"
   ]
  },
  {
   "cell_type": "markdown",
   "metadata": {},
   "source": [
    "The optimum combination of KMeans parameters are shown below."
   ]
  },
  {
   "cell_type": "code",
   "execution_count": 23,
   "metadata": {},
   "outputs": [
    {
     "name": "stdout",
     "output_type": "stream",
     "text": [
      "Optimum Number of Clusters: 4\n",
      "Optimum tol: 0.1\n",
      "Optimum Init: random\n"
     ]
    }
   ],
   "source": [
    "print(\"Optimum Number of Clusters:\", nClust)\n",
    "print(\"Optimum tol:\", nTol)\n",
    "print(\"Optimum Init:\", nInit)"
   ]
  },
  {
   "cell_type": "markdown",
   "metadata": {},
   "source": [
    "The KMeans model is instantiated and fit to the vectorized matrix created from the movie reviews."
   ]
  },
  {
   "cell_type": "code",
   "execution_count": 24,
   "metadata": {},
   "outputs": [],
   "source": [
    "km = KMeans(n_clusters=nClust, tol=nTol, init=nInit, random_state=rState)\n",
    "kmFit = km.fit(tfidfMatrix)\n",
    "clusters = km.labels_.tolist()"
   ]
  },
  {
   "cell_type": "markdown",
   "metadata": {},
   "source": [
    "Next, a dictionary with the cluster per observation is assembled.  The dictionary is then converted to a pandas dataframe for processing."
   ]
  },
  {
   "cell_type": "code",
   "execution_count": 25,
   "metadata": {},
   "outputs": [],
   "source": [
    "reviewDict = {'cluster': clusters, 'movie': dfReviewDetails.Movie, 'rating': dfReviewDetails.Rating, 'title': dfReviewDetails.ReviewTitle, \n",
    "              'review': dfReviewDetails.Review}"
   ]
  },
  {
   "cell_type": "code",
   "execution_count": 26,
   "metadata": {},
   "outputs": [],
   "source": [
    "dfKmClust = pd.DataFrame.from_dict(reviewDict)\n",
    "dfKmClust['rating'] = dfKmClust['rating'].astype('int64')\n",
    "#dfKmClust.head()"
   ]
  },
  {
   "cell_type": "markdown",
   "metadata": {},
   "source": [
    "#### Hierarchical Clustering\n",
    "The optimum number of clusters for Hiearchical Agglomerative Clustering are determined and display.  The agglomerative clustering algorithm requires a dense matrix.  So, the vectorized matrix created for KMeans clustering is converted to a dense matrix.  The silhouette scores of the Hierachical Agglomerative Clustering algorithm are negative.  The algorithm may struggle with identifying meaningful clusters for this data set."
   ]
  },
  {
   "cell_type": "code",
   "execution_count": 48,
   "metadata": {},
   "outputs": [],
   "source": [
    "denseTfidf = tfidfMatrix.toarray()"
   ]
  },
  {
   "cell_type": "code",
   "execution_count": 49,
   "metadata": {},
   "outputs": [
    {
     "name": "stdout",
     "output_type": "stream",
     "text": [
      "Clusters:  2 | Silhouette Score: -1.521942956617469e-15\n",
      "Clusters:  9 | Silhouette Score: 6.385042665314032e-17\n"
     ]
    }
   ],
   "source": [
    "bestSilScore = -999999999999\n",
    "nClust2 = 0\n",
    "\n",
    "for i in range(2, 15, 1):\n",
    "    ac = AgglomerativeClustering(n_clusters=i, linkage='ward')\n",
    "    acFit = ac.fit(denseTfidf)\n",
    "    clusters2 = acFit.labels_.tolist()\n",
    "    silScore = metrics.silhouette_score(denseTfidf, acFit.labels_)\n",
    "    if silScore > bestSilScore:\n",
    "        print(\"Clusters: \", i, \"| Silhouette Score:\", silScore)\n",
    "        bestSilScore = silScore\n",
    "        nClust2 = i"
   ]
  },
  {
   "cell_type": "code",
   "execution_count": 50,
   "metadata": {
    "scrolled": false
   },
   "outputs": [
    {
     "name": "stdout",
     "output_type": "stream",
     "text": [
      "Optimum Number of Clusters: 9\n"
     ]
    }
   ],
   "source": [
    "print(\"Optimum Number of Clusters:\", nClust2)"
   ]
  },
  {
   "cell_type": "markdown",
   "metadata": {},
   "source": [
    "The agglomerative clustering model is instantiated and fit using the dense vectorized matrix of terms."
   ]
  },
  {
   "cell_type": "code",
   "execution_count": 51,
   "metadata": {},
   "outputs": [],
   "source": [
    "ac = AgglomerativeClustering(n_clusters=nClust2, linkage='ward')\n",
    "acFit = ac.fit(denseTfidf)\n",
    "acFit.labels_\n",
    "clusters2 = acFit.labels_.tolist()"
   ]
  },
  {
   "cell_type": "code",
   "execution_count": 52,
   "metadata": {},
   "outputs": [],
   "source": [
    "dfacPlot = dfReviewDetails\n",
    "dfacPlot['cluster'] = clusters2"
   ]
  },
  {
   "cell_type": "markdown",
   "metadata": {},
   "source": [
    "The cluster for each document is appended to a dictionary containing the review-wise details."
   ]
  },
  {
   "cell_type": "code",
   "execution_count": 53,
   "metadata": {},
   "outputs": [],
   "source": [
    "reviewDict2 = {'cluster': clusters2, 'movie': dfReviewDetails.Movie, 'rating': dfReviewDetails.Rating, 'title': dfReviewDetails.ReviewTitle, \n",
    "              'review': dfReviewDetails.Review}"
   ]
  },
  {
   "cell_type": "code",
   "execution_count": 54,
   "metadata": {},
   "outputs": [],
   "source": [
    "dfHacClust = pd.DataFrame.from_dict(reviewDict2)\n",
    "dfHacClust['rating'] = dfHacClust['rating'].astype('int64')"
   ]
  },
  {
   "cell_type": "markdown",
   "metadata": {},
   "source": [
    "### Question 8.1 - Pattern Sentiment Analyzer\n",
    "##### KMeans Clustering\n",
    "The Pattern Sentiment Analyzer is used to assign a sentiment score to each review.  The results of the sentiment analyzer will be added to the clustering dataframes for both KMeans and Hierarchical Agglomerative clustering."
   ]
  },
  {
   "cell_type": "code",
   "execution_count": 27,
   "metadata": {},
   "outputs": [],
   "source": [
    "reviews = dfKmClust['review']\n",
    "sa = []\n",
    "pol = []\n",
    "\n",
    "for r in dfKmClust['review']:\n",
    "    tmp = sentiment(r)\n",
    "    sa.append(round(tmp[0], 4))\n",
    "    pol.append(round(tmp[1], 4))"
   ]
  },
  {
   "cell_type": "code",
   "execution_count": 28,
   "metadata": {},
   "outputs": [],
   "source": [
    "dfKmClust['sentiment'] = sa\n",
    "dfKmClust['polarity'] = pol"
   ]
  },
  {
   "cell_type": "code",
   "execution_count": 29,
   "metadata": {
    "scrolled": true
   },
   "outputs": [
    {
     "data": {
      "text/html": [
       "<div>\n",
       "<style scoped>\n",
       "    .dataframe tbody tr th:only-of-type {\n",
       "        vertical-align: middle;\n",
       "    }\n",
       "\n",
       "    .dataframe tbody tr th {\n",
       "        vertical-align: top;\n",
       "    }\n",
       "\n",
       "    .dataframe thead th {\n",
       "        text-align: right;\n",
       "    }\n",
       "</style>\n",
       "<table border=\"1\" class=\"dataframe\">\n",
       "  <thead>\n",
       "    <tr style=\"text-align: right;\">\n",
       "      <th></th>\n",
       "      <th>cluster</th>\n",
       "      <th>movie</th>\n",
       "      <th>rating</th>\n",
       "      <th>title</th>\n",
       "      <th>review</th>\n",
       "      <th>sentiment</th>\n",
       "      <th>polarity</th>\n",
       "    </tr>\n",
       "  </thead>\n",
       "  <tbody>\n",
       "    <tr>\n",
       "      <th>0</th>\n",
       "      <td>3</td>\n",
       "      <td>Rocky</td>\n",
       "      <td>1</td>\n",
       "      <td>Rubbish</td>\n",
       "      <td>The fight scenes are pathetic and the acting i...</td>\n",
       "      <td>-0.5000</td>\n",
       "      <td>0.6667</td>\n",
       "    </tr>\n",
       "    <tr>\n",
       "      <th>1</th>\n",
       "      <td>3</td>\n",
       "      <td>Rocky</td>\n",
       "      <td>1</td>\n",
       "      <td>Dumbest, Most Cornball Film Ever Made</td>\n",
       "      <td>I still remember my initial outrage that this ...</td>\n",
       "      <td>-0.0500</td>\n",
       "      <td>0.3815</td>\n",
       "    </tr>\n",
       "    <tr>\n",
       "      <th>2</th>\n",
       "      <td>3</td>\n",
       "      <td>Rocky</td>\n",
       "      <td>2</td>\n",
       "      <td>overrated piece of cheese</td>\n",
       "      <td>grubby late-night fare achieved way too much s...</td>\n",
       "      <td>0.0757</td>\n",
       "      <td>0.5011</td>\n",
       "    </tr>\n",
       "    <tr>\n",
       "      <th>3</th>\n",
       "      <td>3</td>\n",
       "      <td>Rocky</td>\n",
       "      <td>3</td>\n",
       "      <td>The most overrated movie of all time</td>\n",
       "      <td>I went to see this movie when it came out. I h...</td>\n",
       "      <td>0.1389</td>\n",
       "      <td>0.4944</td>\n",
       "    </tr>\n",
       "    <tr>\n",
       "      <th>4</th>\n",
       "      <td>3</td>\n",
       "      <td>Rocky</td>\n",
       "      <td>3</td>\n",
       "      <td>I can't believe the script was made into a mov...</td>\n",
       "      <td>I was told by many that Rocky is a beautiful m...</td>\n",
       "      <td>0.0317</td>\n",
       "      <td>0.5224</td>\n",
       "    </tr>\n",
       "  </tbody>\n",
       "</table>\n",
       "</div>"
      ],
      "text/plain": [
       "   cluster  movie  rating                                              title  \\\n",
       "0        3  Rocky       1                                            Rubbish   \n",
       "1        3  Rocky       1              Dumbest, Most Cornball Film Ever Made   \n",
       "2        3  Rocky       2                          overrated piece of cheese   \n",
       "3        3  Rocky       3               The most overrated movie of all time   \n",
       "4        3  Rocky       3  I can't believe the script was made into a mov...   \n",
       "\n",
       "                                              review  sentiment  polarity  \n",
       "0  The fight scenes are pathetic and the acting i...    -0.5000    0.6667  \n",
       "1  I still remember my initial outrage that this ...    -0.0500    0.3815  \n",
       "2  grubby late-night fare achieved way too much s...     0.0757    0.5011  \n",
       "3  I went to see this movie when it came out. I h...     0.1389    0.4944  \n",
       "4  I was told by many that Rocky is a beautiful m...     0.0317    0.5224  "
      ]
     },
     "execution_count": 29,
     "metadata": {},
     "output_type": "execute_result"
    }
   ],
   "source": [
    "dfKmClust.head()"
   ]
  },
  {
   "cell_type": "code",
   "execution_count": 55,
   "metadata": {},
   "outputs": [
    {
     "data": {
      "text/html": [
       "<div>\n",
       "<style scoped>\n",
       "    .dataframe tbody tr th:only-of-type {\n",
       "        vertical-align: middle;\n",
       "    }\n",
       "\n",
       "    .dataframe tbody tr th {\n",
       "        vertical-align: top;\n",
       "    }\n",
       "\n",
       "    .dataframe thead th {\n",
       "        text-align: right;\n",
       "    }\n",
       "</style>\n",
       "<table border=\"1\" class=\"dataframe\">\n",
       "  <thead>\n",
       "    <tr style=\"text-align: right;\">\n",
       "      <th></th>\n",
       "      <th>cluster</th>\n",
       "      <th>movie</th>\n",
       "      <th>rating</th>\n",
       "      <th>title</th>\n",
       "      <th>review</th>\n",
       "      <th>sentiment</th>\n",
       "      <th>polarity</th>\n",
       "    </tr>\n",
       "  </thead>\n",
       "  <tbody>\n",
       "    <tr>\n",
       "      <th>0</th>\n",
       "      <td>1</td>\n",
       "      <td>Rocky</td>\n",
       "      <td>1</td>\n",
       "      <td>Rubbish</td>\n",
       "      <td>The fight scenes are pathetic and the acting i...</td>\n",
       "      <td>-0.5000</td>\n",
       "      <td>0.6667</td>\n",
       "    </tr>\n",
       "    <tr>\n",
       "      <th>1</th>\n",
       "      <td>1</td>\n",
       "      <td>Rocky</td>\n",
       "      <td>1</td>\n",
       "      <td>Dumbest, Most Cornball Film Ever Made</td>\n",
       "      <td>I still remember my initial outrage that this ...</td>\n",
       "      <td>-0.0500</td>\n",
       "      <td>0.3815</td>\n",
       "    </tr>\n",
       "    <tr>\n",
       "      <th>2</th>\n",
       "      <td>3</td>\n",
       "      <td>Rocky</td>\n",
       "      <td>2</td>\n",
       "      <td>overrated piece of cheese</td>\n",
       "      <td>grubby late-night fare achieved way too much s...</td>\n",
       "      <td>0.0757</td>\n",
       "      <td>0.5011</td>\n",
       "    </tr>\n",
       "    <tr>\n",
       "      <th>3</th>\n",
       "      <td>3</td>\n",
       "      <td>Rocky</td>\n",
       "      <td>3</td>\n",
       "      <td>The most overrated movie of all time</td>\n",
       "      <td>I went to see this movie when it came out. I h...</td>\n",
       "      <td>0.1389</td>\n",
       "      <td>0.4944</td>\n",
       "    </tr>\n",
       "    <tr>\n",
       "      <th>4</th>\n",
       "      <td>1</td>\n",
       "      <td>Rocky</td>\n",
       "      <td>3</td>\n",
       "      <td>I can't believe the script was made into a mov...</td>\n",
       "      <td>I was told by many that Rocky is a beautiful m...</td>\n",
       "      <td>0.0317</td>\n",
       "      <td>0.5224</td>\n",
       "    </tr>\n",
       "  </tbody>\n",
       "</table>\n",
       "</div>"
      ],
      "text/plain": [
       "   cluster  movie  rating                                              title  \\\n",
       "0        1  Rocky       1                                            Rubbish   \n",
       "1        1  Rocky       1              Dumbest, Most Cornball Film Ever Made   \n",
       "2        3  Rocky       2                          overrated piece of cheese   \n",
       "3        3  Rocky       3               The most overrated movie of all time   \n",
       "4        1  Rocky       3  I can't believe the script was made into a mov...   \n",
       "\n",
       "                                              review  sentiment  polarity  \n",
       "0  The fight scenes are pathetic and the acting i...    -0.5000    0.6667  \n",
       "1  I still remember my initial outrage that this ...    -0.0500    0.3815  \n",
       "2  grubby late-night fare achieved way too much s...     0.0757    0.5011  \n",
       "3  I went to see this movie when it came out. I h...     0.1389    0.4944  \n",
       "4  I was told by many that Rocky is a beautiful m...     0.0317    0.5224  "
      ]
     },
     "execution_count": 55,
     "metadata": {},
     "output_type": "execute_result"
    }
   ],
   "source": [
    "dfHacClust['sentiment'] = sa\n",
    "dfHacClust['polarity'] = pol\n",
    "dfHacClust.head()"
   ]
  },
  {
   "cell_type": "markdown",
   "metadata": {},
   "source": [
    "### Question 8.2 - Sentiment Analysis by Cluster\n",
    "The minimum, maximum, median and average sentiment scores for the primary clusters identified by KMeans Clustering and Hierarchical Agglomerative Clustering are shown below. A simple score function is shown below."
   ]
  },
  {
   "cell_type": "code",
   "execution_count": 99,
   "metadata": {},
   "outputs": [],
   "source": [
    "def clusterStats(dfIn):\n",
    "    dfOut = pd.DataFrame(columns=['Mean', 'Median', 'Minimum', 'Maximum'])\n",
    "    cs = dfIn['sentiment'].groupby(dfIn['cluster'])\n",
    "    dfOut.Mean = round(cs.mean(), 4)\n",
    "    dfOut.Median = round(cs.median(), 4)\n",
    "    dfOut.Minimum = round(cs.min(), 4)\n",
    "    dfOut.Maximum = round(cs.max(), 4)\n",
    "    print(dfOut)\n",
    "    #return dfOut"
   ]
  },
  {
   "cell_type": "markdown",
   "metadata": {},
   "source": [
    "#### KMeans Clusters\n",
    "KMeans created four clusters based on input defined above. Cluster 3 has 95 observations, and cluster 0 has 53. Clusters 2 and 1 are outlier clusters with one observation each. Our analysis will focus on clusters 3 and 0"
   ]
  },
  {
   "cell_type": "code",
   "execution_count": 31,
   "metadata": {
    "scrolled": true
   },
   "outputs": [
    {
     "name": "stdout",
     "output_type": "stream",
     "text": [
      "3    95\n",
      "0    53\n",
      "2     1\n",
      "1     1\n",
      "Name: cluster, dtype: int64\n"
     ]
    },
    {
     "data": {
      "image/png": "[encoded data removed]",
      "text/plain": [
       "<Figure size 432x288 with 1 Axes>"
      ]
     },
     "metadata": {
      "needs_background": "light"
     },
     "output_type": "display_data"
    }
   ],
   "source": [
    "dfKmClust['cluster'].value_counts().plot(kind='bar')\n",
    "print(dfKmClust['cluster'].value_counts())"
   ]
  },
  {
   "cell_type": "markdown",
   "metadata": {},
   "source": [
    "The sentiment scores for cluster 0 are mostly more positive than cluster 3.  With the exception of the Maximum value, cluster 0 is more positive than cluster 3."
   ]
  },
  {
   "cell_type": "code",
   "execution_count": 101,
   "metadata": {},
   "outputs": [
    {
     "name": "stdout",
     "output_type": "stream",
     "text": [
      "           Mean  Median  Minimum  Maximum\n",
      "cluster                                  \n",
      "0        0.2137  0.2018   -0.198      0.6\n",
      "3        0.1750  0.1652   -0.500      0.8\n"
     ]
    }
   ],
   "source": [
    "dfKmSub = dfKmClust[(dfKmClust.cluster == 3) | (dfKmClust.cluster == 0)]\n",
    "clusterStats(dfKmSub)"
   ]
  },
  {
   "cell_type": "markdown",
   "metadata": {},
   "source": [
    "#### Hierarchical Agglomerative Clustering\n",
    "Clusters 1 and 3 are the primary clusters identified by hierarchical agglomerative clustering.  Cluster 0 has six observations and will be included in sentiment analysis as well."
   ]
  },
  {
   "cell_type": "code",
   "execution_count": 56,
   "metadata": {
    "scrolled": false
   },
   "outputs": [
    {
     "name": "stdout",
     "output_type": "stream",
     "text": [
      "1    88\n",
      "3    50\n",
      "0     6\n",
      "8     1\n",
      "7     1\n",
      "6     1\n",
      "5     1\n",
      "4     1\n",
      "2     1\n",
      "Name: cluster, dtype: int64\n"
     ]
    },
    {
     "data": {
      "image/png": "[encoded data removed]",
      "text/plain": [
       "<Figure size 432x288 with 1 Axes>"
      ]
     },
     "metadata": {
      "needs_background": "light"
     },
     "output_type": "display_data"
    }
   ],
   "source": [
    "dfHacClust['cluster'].value_counts().plot(kind='bar')\n",
    "print(dfHacClust['cluster'].value_counts())"
   ]
  },
  {
   "cell_type": "markdown",
   "metadata": {},
   "source": [
    "The six observation cluster 0 consists of observations in a tight sentiment range of 0 - 0.1722.  The sentiment values for cluster 0 show very neutral scores.  Cluster 3 is slight more positive than cluster 1 as it has greater mean, minimum and maximum values.  However, the higher median value of cluster 1 does contradict that statement as the median value could be a stronger indicated of overall cluster sentiment."
   ]
  },
  {
   "cell_type": "code",
   "execution_count": 103,
   "metadata": {
    "scrolled": true
   },
   "outputs": [
    {
     "name": "stdout",
     "output_type": "stream",
     "text": [
      "           Mean  Median  Minimum  Maximum\n",
      "cluster                                  \n",
      "0        0.0881  0.0862   0.0000   0.1722\n",
      "1        0.1859  0.1956  -0.5000   0.6000\n",
      "3        0.2135  0.1799  -0.1188   0.8000\n"
     ]
    }
   ],
   "source": [
    "dfHacSub = dfHacClust[(dfHacClust.cluster == 3) | (dfHacClust.cluster == 1) | (dfHacClust.cluster == 0)]\n",
    "clusterStats(dfHacSub)"
   ]
  },
  {
   "cell_type": "markdown",
   "metadata": {},
   "source": [
    "### Question 8.3 - Extra Credit\n",
    "#### Question 8.3.a - IMDB Sentiment Scoring of Noun Chunks\n",
    "The noun chunks are identified using Pattern.  If the absolute value of the sentiment score of a noun chunk is greater than 0.1, the noun chunk string and sentiment score are written to the dfEC dataframe."
   ]
  },
  {
   "cell_type": "code",
   "execution_count": 149,
   "metadata": {},
   "outputs": [],
   "source": [
    "exChunk = []\n",
    "exSent = []\n",
    "dfReviewDetails.to_csv('./dfReviewDetails.csv', sep=',', encoding='utf-8')"
   ]
  },
  {
   "cell_type": "code",
   "execution_count": 150,
   "metadata": {},
   "outputs": [
    {
     "name": "stdout",
     "output_type": "stream",
     "text": [
      "Wall time: 1min 20s\n"
     ]
    }
   ],
   "source": [
    "%%time\n",
    "#https://www.clips.uantwerpen.be/pages/pattern-en\n",
    "\n",
    "for r in dfReviewDetails.Review:\n",
    "    pt = parsetree(r)\n",
    "    for p in pt:\n",
    "        for chunk in p.chunks:\n",
    "            if chunk.type == 'NP':\n",
    "                tmp2 = sentiment(chunk.string)\n",
    "                if abs(tmp2[0]) > 0.1:\n",
    "                    exChunk.append(chunk.string)\n",
    "                    exSent.append(tmp2[0])\n",
    "\n",
    "    sleep(0.5)\n"
   ]
  },
  {
   "cell_type": "code",
   "execution_count": 151,
   "metadata": {},
   "outputs": [
    {
     "data": {
      "text/html": [
       "<div>\n",
       "<style scoped>\n",
       "    .dataframe tbody tr th:only-of-type {\n",
       "        vertical-align: middle;\n",
       "    }\n",
       "\n",
       "    .dataframe tbody tr th {\n",
       "        vertical-align: top;\n",
       "    }\n",
       "\n",
       "    .dataframe thead th {\n",
       "        text-align: right;\n",
       "    }\n",
       "</style>\n",
       "<table border=\"1\" class=\"dataframe\">\n",
       "  <thead>\n",
       "    <tr style=\"text-align: right;\">\n",
       "      <th></th>\n",
       "      <th>Chunk</th>\n",
       "      <th>Sentiment</th>\n",
       "    </tr>\n",
       "  </thead>\n",
       "  <tbody>\n",
       "    <tr>\n",
       "      <th>0</th>\n",
       "      <td>sentimental slop</td>\n",
       "      <td>-0.25</td>\n",
       "    </tr>\n",
       "    <tr>\n",
       "      <th>1</th>\n",
       "      <td>so many cliches</td>\n",
       "      <td>0.50</td>\n",
       "    </tr>\n",
       "    <tr>\n",
       "      <th>2</th>\n",
       "      <td>way too much success</td>\n",
       "      <td>0.30</td>\n",
       "    </tr>\n",
       "    <tr>\n",
       "      <th>3</th>\n",
       "      <td>A silly promotional song</td>\n",
       "      <td>-0.50</td>\n",
       "    </tr>\n",
       "    <tr>\n",
       "      <th>4</th>\n",
       "      <td>laughable script</td>\n",
       "      <td>-0.50</td>\n",
       "    </tr>\n",
       "  </tbody>\n",
       "</table>\n",
       "</div>"
      ],
      "text/plain": [
       "                      Chunk  Sentiment\n",
       "0          sentimental slop      -0.25\n",
       "1           so many cliches       0.50\n",
       "2      way too much success       0.30\n",
       "3  A silly promotional song      -0.50\n",
       "4          laughable script      -0.50"
      ]
     },
     "execution_count": 151,
     "metadata": {},
     "output_type": "execute_result"
    }
   ],
   "source": [
    "dfExtra = pd.DataFrame(columns=['Chunk', 'Sentiment'])\n",
    "dfExtra.Chunk = exChunk\n",
    "dfExtra.Sentiment = exSent\n",
    "dfExtra.head()"
   ]
  },
  {
   "cell_type": "markdown",
   "metadata": {},
   "source": [
    "#### 8.3.b - Sentiment Sorting and Analysis\n",
    "In this section the dfExtra dataframe will be sorted ascending to allow for easy examination of the most negative and most positive reviews.  "
   ]
  },
  {
   "cell_type": "code",
   "execution_count": 152,
   "metadata": {},
   "outputs": [],
   "source": [
    "dfExtra = dfExtra.sort_values(by=['Sentiment'])"
   ]
  },
  {
   "cell_type": "markdown",
   "metadata": {},
   "source": [
    "Examination of the ten most negative noun chunks show some pretty negative comments.  Strong words such as \"terrible\", \"insulting\", \"horrible\", \"insane\" and \"worst\" dominate this list.  Only the noun chunk \"him menacing size\" could be considering less of a negative statement as opposed to simple description of a character's size.  The Pattern noun chunker and sentiment scorer seems to have done well in identifying negative sentiment anlaysis on noun chunks.  This is an important technique which should be applied on future projects.  "
   ]
  },
  {
   "cell_type": "code",
   "execution_count": 156,
   "metadata": {},
   "outputs": [
    {
     "data": {
      "text/html": [
       "<div>\n",
       "<style scoped>\n",
       "    .dataframe tbody tr th:only-of-type {\n",
       "        vertical-align: middle;\n",
       "    }\n",
       "\n",
       "    .dataframe tbody tr th {\n",
       "        vertical-align: top;\n",
       "    }\n",
       "\n",
       "    .dataframe thead th {\n",
       "        text-align: right;\n",
       "    }\n",
       "</style>\n",
       "<table border=\"1\" class=\"dataframe\">\n",
       "  <thead>\n",
       "    <tr style=\"text-align: right;\">\n",
       "      <th></th>\n",
       "      <th>Chunk</th>\n",
       "      <th>Sentiment</th>\n",
       "    </tr>\n",
       "  </thead>\n",
       "  <tbody>\n",
       "    <tr>\n",
       "      <th>1014</th>\n",
       "      <td>the worst performance</td>\n",
       "      <td>-1.0</td>\n",
       "    </tr>\n",
       "    <tr>\n",
       "      <th>132</th>\n",
       "      <td>a grim place</td>\n",
       "      <td>-1.0</td>\n",
       "    </tr>\n",
       "    <tr>\n",
       "      <th>958</th>\n",
       "      <td>insane challenger</td>\n",
       "      <td>-1.0</td>\n",
       "    </tr>\n",
       "    <tr>\n",
       "      <th>467</th>\n",
       "      <td>insulting Rocky</td>\n",
       "      <td>-1.0</td>\n",
       "    </tr>\n",
       "    <tr>\n",
       "      <th>105</th>\n",
       "      <td>it a terrible movie</td>\n",
       "      <td>-1.0</td>\n",
       "    </tr>\n",
       "    <tr>\n",
       "      <th>259</th>\n",
       "      <td>his menacing size</td>\n",
       "      <td>-1.0</td>\n",
       "    </tr>\n",
       "    <tr>\n",
       "      <th>461</th>\n",
       "      <td>insulting Rocky</td>\n",
       "      <td>-1.0</td>\n",
       "    </tr>\n",
       "    <tr>\n",
       "      <th>1013</th>\n",
       "      <td>the terrible casting decisions</td>\n",
       "      <td>-1.0</td>\n",
       "    </tr>\n",
       "    <tr>\n",
       "      <th>24</th>\n",
       "      <td>a horrible place</td>\n",
       "      <td>-1.0</td>\n",
       "    </tr>\n",
       "    <tr>\n",
       "      <th>917</th>\n",
       "      <td>boring movie</td>\n",
       "      <td>-1.0</td>\n",
       "    </tr>\n",
       "  </tbody>\n",
       "</table>\n",
       "</div>"
      ],
      "text/plain": [
       "                               Chunk  Sentiment\n",
       "1014           the worst performance       -1.0\n",
       "132                     a grim place       -1.0\n",
       "958                insane challenger       -1.0\n",
       "467                  insulting Rocky       -1.0\n",
       "105              it a terrible movie       -1.0\n",
       "259                his menacing size       -1.0\n",
       "461                  insulting Rocky       -1.0\n",
       "1013  the terrible casting decisions       -1.0\n",
       "24                  a horrible place       -1.0\n",
       "917                     boring movie       -1.0"
      ]
     },
     "execution_count": 156,
     "metadata": {},
     "output_type": "execute_result"
    }
   ],
   "source": [
    "dfExtra.head(10)"
   ]
  },
  {
   "cell_type": "markdown",
   "metadata": {},
   "source": [
    "The Pattern noun chunker combined with the sentiment scorer did an equally well job in identifying positive noun chunks.  Word like \"wonderful\", \"best\", and \"perfect\" can be found on most of the noun chunks in the top 10.  One interesting observation is the noun chunk \"an awesome villain\" appears with such a high score.  The term \"awesome\" is a strong positive word, but the noun \"villain\" has negative connotations.  "
   ]
  },
  {
   "cell_type": "code",
   "execution_count": 154,
   "metadata": {},
   "outputs": [
    {
     "data": {
      "text/html": [
       "<div>\n",
       "<style scoped>\n",
       "    .dataframe tbody tr th:only-of-type {\n",
       "        vertical-align: middle;\n",
       "    }\n",
       "\n",
       "    .dataframe tbody tr th {\n",
       "        vertical-align: top;\n",
       "    }\n",
       "\n",
       "    .dataframe thead th {\n",
       "        text-align: right;\n",
       "    }\n",
       "</style>\n",
       "<table border=\"1\" class=\"dataframe\">\n",
       "  <thead>\n",
       "    <tr style=\"text-align: right;\">\n",
       "      <th></th>\n",
       "      <th>Chunk</th>\n",
       "      <th>Sentiment</th>\n",
       "    </tr>\n",
       "  </thead>\n",
       "  <tbody>\n",
       "    <tr>\n",
       "      <th>863</th>\n",
       "      <td>a wonderful job</td>\n",
       "      <td>1.0</td>\n",
       "    </tr>\n",
       "    <tr>\n",
       "      <th>1024</th>\n",
       "      <td>The wonderful suspense</td>\n",
       "      <td>1.0</td>\n",
       "    </tr>\n",
       "    <tr>\n",
       "      <th>707</th>\n",
       "      <td>the best movies</td>\n",
       "      <td>1.0</td>\n",
       "    </tr>\n",
       "    <tr>\n",
       "      <th>854</th>\n",
       "      <td>best Rocky film</td>\n",
       "      <td>1.0</td>\n",
       "    </tr>\n",
       "    <tr>\n",
       "      <th>515</th>\n",
       "      <td>the best movies Stallone</td>\n",
       "      <td>1.0</td>\n",
       "    </tr>\n",
       "    <tr>\n",
       "      <th>894</th>\n",
       "      <td>a wonderful reconstruction</td>\n",
       "      <td>1.0</td>\n",
       "    </tr>\n",
       "    <tr>\n",
       "      <th>277</th>\n",
       "      <td>a perfect blend</td>\n",
       "      <td>1.0</td>\n",
       "    </tr>\n",
       "    <tr>\n",
       "      <th>975</th>\n",
       "      <td>his best performance</td>\n",
       "      <td>1.0</td>\n",
       "    </tr>\n",
       "    <tr>\n",
       "      <th>290</th>\n",
       "      <td>the legendary fighter</td>\n",
       "      <td>1.0</td>\n",
       "    </tr>\n",
       "    <tr>\n",
       "      <th>807</th>\n",
       "      <td>an awesome villain</td>\n",
       "      <td>1.0</td>\n",
       "    </tr>\n",
       "  </tbody>\n",
       "</table>\n",
       "</div>"
      ],
      "text/plain": [
       "                           Chunk  Sentiment\n",
       "863              a wonderful job        1.0\n",
       "1024      The wonderful suspense        1.0\n",
       "707              the best movies        1.0\n",
       "854              best Rocky film        1.0\n",
       "515     the best movies Stallone        1.0\n",
       "894   a wonderful reconstruction        1.0\n",
       "277              a perfect blend        1.0\n",
       "975         his best performance        1.0\n",
       "290        the legendary fighter        1.0\n",
       "807           an awesome villain        1.0"
      ]
     },
     "execution_count": 154,
     "metadata": {},
     "output_type": "execute_result"
    }
   ],
   "source": [
    "dfExtra.tail(10)"
   ]
  }
 ],
 "metadata": {
  "kernelspec": {
   "display_name": "Python 3",
   "language": "python",
   "name": "python3"
  },
  "language_info": {
   "codemirror_mode": {
    "name": "ipython",
    "version": 3
   },
   "file_extension": ".py",
   "mimetype": "text/x-python",
   "name": "python",
   "nbconvert_exporter": "python",
   "pygments_lexer": "ipython3",
   "version": "3.6.8"
  }
 },
 "nbformat": 4,
 "nbformat_minor": 2
}
