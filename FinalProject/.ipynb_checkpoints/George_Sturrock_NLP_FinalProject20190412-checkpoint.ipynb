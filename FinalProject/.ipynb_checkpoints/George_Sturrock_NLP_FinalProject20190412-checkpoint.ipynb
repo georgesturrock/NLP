{
 "cells": [
  {
   "cell_type": "markdown",
   "metadata": {},
   "source": [
    "## Topic Modeling IMDB Movie Reviews\n",
    "### DS 7337 - Natural Laguage Processing - FInal Project\n",
    "#### George C. Sturrock\n",
    "##### April 14, 2019\n",
    "##### Resources\n",
    "https://www.machinelearningplus.com/nlp/topic-modeling-python-sklearn-examples/\n",
    "#### Import Libraries"
   ]
  },
  {
   "cell_type": "code",
   "execution_count": 1,
   "metadata": {},
   "outputs": [
    {
     "name": "stdout",
     "output_type": "stream",
     "text": [
      "Platform: Windows-10-10.0.14393-SP0\n",
      "Python: 3.6.8 |Anaconda, Inc.| (default, Feb 21 2019, 18:30:04) [MSC v.1916 64 bit (AMD64)]\n",
      "Requests: 2.21.0\n",
      "BeatifulSoup: 4.7.1\n",
      "json: 2.0.9\n",
      "Numpy Version: 1.16.2\n",
      "Pandas Version: 0.24.2\n",
      "Pattern Version: 3.6\n",
      "pyLDAvis Versoin: 2.1.2\n"
     ]
    }
   ],
   "source": [
    "import platform; print(\"Platform:\", platform.platform())\n",
    "import os\n",
    "import sys; print(\"Python:\", sys.version)\n",
    "import requests; print(\"Requests:\", requests.__version__)\n",
    "from urllib import request; (\"urllib:\", request.__version__)\n",
    "import warnings\n",
    "warnings.filterwarnings('ignore')\n",
    "from time import sleep\n",
    "\n",
    "#Web Scraping\n",
    "import bs4; print(\"BeatifulSoup:\", bs4.__version__)\n",
    "from bs4 import BeautifulSoup\n",
    "import json; print(\"json:\", json.__version__)\n",
    "\n",
    "#Python Basics\n",
    "import numpy as np; print(\"Numpy Version:\", np.__version__)\n",
    "import pandas as pd; print(\"Pandas Version:\", pd.__version__)\n",
    "from matplotlib import pyplot as plt\n",
    "import seaborn as sns;\n",
    "import string\n",
    "\n",
    "#scikit learn\n",
    "from sklearn import metrics\n",
    "from sklearn.feature_extraction import stop_words\n",
    "#print(stop_words.ENGLISH_STOP_WORDS)\n",
    "from sklearn.feature_extraction.text import TfidfVectorizer, CountVectorizer\n",
    "from sklearn.decomposition import LatentDirichletAllocation, NMF\n",
    "from sklearn.model_selection import GridSearchCV\n",
    "\n",
    "import pattern; print(\"Pattern Version:\", pattern.__version__)\n",
    "from pattern.en import tag, parse, Sentence\n",
    "from pattern.en import parsetree\n",
    "from pattern.en import sentiment, positive\n",
    "from pattern.vector import Document, Model, TFIDF, TF\n",
    "from pattern.vector import words, stem, PORTER, LEMMA\n",
    "\n",
    "#pyLDAvis\n",
    "import pyLDAvis; print(\"pyLDAvis Versoin:\", pyLDAvis.__version__)\n",
    "import pyLDAvis.sklearn"
   ]
  },
  {
   "cell_type": "markdown",
   "metadata": {},
   "source": [
    "### Data Acquisition\n",
    "The first three films in the \"Rocky\" series will be utilized to collect reviews for noun phrase chunking.  Link to the main user review page for each of the three movies are shown below.  To assure both positive and negative reviews are collected, there are two links per movie.  One is sorted descending by user rating.  The other is sorted ascending by user rating.  Both links have \"spoiler alert\" messages suppressed as these reviews are often more akin to a summarization of the movie plot instead of a true review.  "
   ]
  },
  {
   "cell_type": "code",
   "execution_count": 2,
   "metadata": {},
   "outputs": [],
   "source": [
    "#Rocky movie list.  Two links for each movie to assure positive and negative reviews are captured.  \n",
    "#Sort descending by Review Rating.  Sort ascending by Review Rating.\n",
    "\n",
    "#Rocky\n",
    "rockyDict = {\"aRocky\":\"https://www.imdb.com/title/tt0075148/reviews?spoiler=hide&sort=userRating&dir=asc&ratingFilter=0\", \n",
    "         \"dRocky\":\"https://www.imdb.com/title/tt0075148/reviews?spoiler=hide&sort=userRating&dir=desc&ratingFilter=0\", \n",
    "#Rocky 2\n",
    "         \"dRocky 2\":\"https://www.imdb.com/title/tt0079817/reviews?spoiler=hide&sort=userRating&dir=desc&ratingFilter=0\",\n",
    "         \"aRocky 2\":\"https://www.imdb.com/title/tt0079817/reviews?spoiler=hide&sort=userRating&dir=asc&ratingFilter=0\",\n",
    "#Rocky 3\n",
    "         \"dRocky 3\":\"https://www.imdb.com/title/tt0084602/reviews?spoiler=hide&sort=userRating&dir=desc&ratingFilter=0\",\n",
    "         \"aRocky 3\":\"https://www.imdb.com/title/tt0084602/reviews?spoiler=hide&sort=userRating&dir=asc&ratingFilter=0\"\n",
    "            }\n",
    "\n",
    "rockyKeys = rockyDict.keys()"
   ]
  },
  {
   "cell_type": "markdown",
   "metadata": {},
   "source": [
    "#### Web Scraping IMDB Movie Review Titles\n",
    "The individual links to the user reviews are collected below.  A get request uses each of the links in the \"rockyDict\" python dictionary.  The response is parsed by Beautiful Soup to find the individual links to each individual review.  The review URLs along with the movie name are written to a dataframe named dfRockyReviews."
   ]
  },
  {
   "cell_type": "code",
   "execution_count": 3,
   "metadata": {},
   "outputs": [],
   "source": [
    "reviewUrls = list()\n",
    "dfRockyReviews = pd.DataFrame(columns = ['Movie', 'ReviewURL'])\n",
    "\n",
    "for r in rockyKeys:\n",
    "    #print(r, rockyDict[r])\n",
    "    response = requests.get(rockyDict[r])\n",
    "    soup = BeautifulSoup(response.text, 'html.parser')\n",
    "    rUrls = [\"http:\" + s.attrs['href'] for s in soup.find_all(href = True, class_ = 'title')]\n",
    "    reviewUrls = reviewUrls + rUrls\n",
    "    for u in rUrls:\n",
    "        dfRockyReviews = dfRockyReviews.append({'Movie':r[1:], 'ReviewURL':u}, ignore_index=True)"
   ]
  },
  {
   "cell_type": "markdown",
   "metadata": {},
   "source": [
    "A sample of the dfRockyReviews dataframe is shown below."
   ]
  },
  {
   "cell_type": "code",
   "execution_count": 4,
   "metadata": {},
   "outputs": [
    {
     "data": {
      "text/html": [
       "<div>\n",
       "<style scoped>\n",
       "    .dataframe tbody tr th:only-of-type {\n",
       "        vertical-align: middle;\n",
       "    }\n",
       "\n",
       "    .dataframe tbody tr th {\n",
       "        vertical-align: top;\n",
       "    }\n",
       "\n",
       "    .dataframe thead th {\n",
       "        text-align: right;\n",
       "    }\n",
       "</style>\n",
       "<table border=\"1\" class=\"dataframe\">\n",
       "  <thead>\n",
       "    <tr style=\"text-align: right;\">\n",
       "      <th></th>\n",
       "      <th>Movie</th>\n",
       "      <th>ReviewURL</th>\n",
       "    </tr>\n",
       "  </thead>\n",
       "  <tbody>\n",
       "    <tr>\n",
       "      <th>0</th>\n",
       "      <td>Rocky</td>\n",
       "      <td>http:/review/rw0149538/</td>\n",
       "    </tr>\n",
       "    <tr>\n",
       "      <th>1</th>\n",
       "      <td>Rocky</td>\n",
       "      <td>http:/review/rw4247059/</td>\n",
       "    </tr>\n",
       "    <tr>\n",
       "      <th>2</th>\n",
       "      <td>Rocky</td>\n",
       "      <td>http:/review/rw0149534/</td>\n",
       "    </tr>\n",
       "    <tr>\n",
       "      <th>3</th>\n",
       "      <td>Rocky</td>\n",
       "      <td>http:/review/rw1979442/</td>\n",
       "    </tr>\n",
       "    <tr>\n",
       "      <th>4</th>\n",
       "      <td>Rocky</td>\n",
       "      <td>http:/review/rw3451942/</td>\n",
       "    </tr>\n",
       "  </tbody>\n",
       "</table>\n",
       "</div>"
      ],
      "text/plain": [
       "   Movie                ReviewURL\n",
       "0  Rocky  http:/review/rw0149538/\n",
       "1  Rocky  http:/review/rw4247059/\n",
       "2  Rocky  http:/review/rw0149534/\n",
       "3  Rocky  http:/review/rw1979442/\n",
       "4  Rocky  http:/review/rw3451942/"
      ]
     },
     "execution_count": 4,
     "metadata": {},
     "output_type": "execute_result"
    }
   ],
   "source": [
    "dfRockyReviews[0:5]"
   ]
  },
  {
   "cell_type": "markdown",
   "metadata": {},
   "source": [
    "#### Web Scraping IMDB Movie Review Details\n",
    "The individual review URLs collected above will be requested and parsed to retrieve key qualitative and categorical data about each review along with the review text itself.  These details are stored in a new dataframe named dfReviewDetails.  The first five records are this dataframe are shown below."
   ]
  },
  {
   "cell_type": "code",
   "execution_count": 5,
   "metadata": {
    "scrolled": true
   },
   "outputs": [
    {
     "data": {
      "text/html": [
       "<div>\n",
       "<style scoped>\n",
       "    .dataframe tbody tr th:only-of-type {\n",
       "        vertical-align: middle;\n",
       "    }\n",
       "\n",
       "    .dataframe tbody tr th {\n",
       "        vertical-align: top;\n",
       "    }\n",
       "\n",
       "    .dataframe thead th {\n",
       "        text-align: right;\n",
       "    }\n",
       "</style>\n",
       "<table border=\"1\" class=\"dataframe\">\n",
       "  <thead>\n",
       "    <tr style=\"text-align: right;\">\n",
       "      <th></th>\n",
       "      <th>Movie</th>\n",
       "      <th>ReviewUrl</th>\n",
       "      <th>ReviewDate</th>\n",
       "      <th>ReviewTitle</th>\n",
       "      <th>Review</th>\n",
       "      <th>Rating</th>\n",
       "      <th>Language</th>\n",
       "    </tr>\n",
       "  </thead>\n",
       "  <tbody>\n",
       "    <tr>\n",
       "      <th>0</th>\n",
       "      <td>Rocky</td>\n",
       "      <td>http:/review/rw0149538/</td>\n",
       "      <td>1999-11-25</td>\n",
       "      <td>Dumbest, Most Cornball Film Ever Made</td>\n",
       "      <td>I still remember my initial outrage that this ...</td>\n",
       "      <td>1</td>\n",
       "      <td>English</td>\n",
       "    </tr>\n",
       "    <tr>\n",
       "      <th>1</th>\n",
       "      <td>Rocky</td>\n",
       "      <td>http:/review/rw4247059/</td>\n",
       "      <td>2018-07-21</td>\n",
       "      <td>Rubbish</td>\n",
       "      <td>The fight scenes are pathetic and the acting i...</td>\n",
       "      <td>1</td>\n",
       "      <td>English</td>\n",
       "    </tr>\n",
       "    <tr>\n",
       "      <th>2</th>\n",
       "      <td>Rocky</td>\n",
       "      <td>http:/review/rw0149534/</td>\n",
       "      <td>1998-08-19</td>\n",
       "      <td>overrated piece of cheese</td>\n",
       "      <td>grubby late-night fare achieved way too much s...</td>\n",
       "      <td>2</td>\n",
       "      <td>English</td>\n",
       "    </tr>\n",
       "    <tr>\n",
       "      <th>3</th>\n",
       "      <td>Rocky</td>\n",
       "      <td>http:/review/rw1979442/</td>\n",
       "      <td>2008-11-22</td>\n",
       "      <td>The most overrated movie of all time</td>\n",
       "      <td>I went to see this movie when it came out. I h...</td>\n",
       "      <td>3</td>\n",
       "      <td>English</td>\n",
       "    </tr>\n",
       "    <tr>\n",
       "      <th>4</th>\n",
       "      <td>Rocky</td>\n",
       "      <td>http:/review/rw3451942/</td>\n",
       "      <td>2016-04-15</td>\n",
       "      <td>Hate me if you want but I didn't like this film</td>\n",
       "      <td>I'm going to come out and say it. I didn't lik...</td>\n",
       "      <td>3</td>\n",
       "      <td>English</td>\n",
       "    </tr>\n",
       "  </tbody>\n",
       "</table>\n",
       "</div>"
      ],
      "text/plain": [
       "   Movie                ReviewUrl  ReviewDate  \\\n",
       "0  Rocky  http:/review/rw0149538/  1999-11-25   \n",
       "1  Rocky  http:/review/rw4247059/  2018-07-21   \n",
       "2  Rocky  http:/review/rw0149534/  1998-08-19   \n",
       "3  Rocky  http:/review/rw1979442/  2008-11-22   \n",
       "4  Rocky  http:/review/rw3451942/  2016-04-15   \n",
       "\n",
       "                                       ReviewTitle  \\\n",
       "0            Dumbest, Most Cornball Film Ever Made   \n",
       "1                                          Rubbish   \n",
       "2                        overrated piece of cheese   \n",
       "3             The most overrated movie of all time   \n",
       "4  Hate me if you want but I didn't like this film   \n",
       "\n",
       "                                              Review Rating Language  \n",
       "0  I still remember my initial outrage that this ...      1  English  \n",
       "1  The fight scenes are pathetic and the acting i...      1  English  \n",
       "2  grubby late-night fare achieved way too much s...      2  English  \n",
       "3  I went to see this movie when it came out. I h...      3  English  \n",
       "4  I'm going to come out and say it. I didn't lik...      3  English  "
      ]
     },
     "execution_count": 5,
     "metadata": {},
     "output_type": "execute_result"
    }
   ],
   "source": [
    "dfReviewDetails = pd.DataFrame(columns=['Movie', 'ReviewUrl', 'ReviewDate', 'ReviewTitle', 'Review', 'Rating', \n",
    "                                        'Language'])\n",
    "counter = 0\n",
    "\n",
    "for r in reviewUrls:\n",
    "    fullUrl = \"https://www.imdb.com\" + r[5:]\n",
    "    response2 = requests.get(fullUrl)\n",
    "    soup2 = BeautifulSoup(response2.text, 'html.parser')\n",
    "    rjson = soup2.find('script', type = 'application/ld+json').text\n",
    "    rjson = json.loads(rjson)\n",
    "    \n",
    "    try:\n",
    "        rating = rjson['reviewRating']['ratingValue']\n",
    "    except Exception as e:\n",
    "        #print(\"No User Rating\")\n",
    "        rating = 5\n",
    "        \n",
    "    ### Add stemming logic to review body\n",
    "    \n",
    "    dfReviewDetails = dfReviewDetails.append({'Movie':dfRockyReviews.Movie[counter], 'ReviewUrl':r, \n",
    "                                              'ReviewDate':rjson['dateCreated'], 'ReviewTitle':rjson['name'], \n",
    "                                              'Review':rjson['reviewBody'], 'Rating':rating, \n",
    "                                              'Language':rjson['inLanguage']}, ignore_index=True)\n",
    "    counter += 1\n",
    "\n",
    "dfReviewDetails.head()"
   ]
  },
  {
   "cell_type": "markdown",
   "metadata": {},
   "source": [
    "The bar plot below shows movie review ratings for the reviews collected in the prior step. The original \"Rocky\" is widely considered the best of the \"Rocky\" series.  It won multiple Oscars and introduced \"Steady-Cam\" technology to the movie world.  However, the sample of user reviews collected tell a different story.  "
   ]
  },
  {
   "cell_type": "code",
   "execution_count": 6,
   "metadata": {},
   "outputs": [
    {
     "data": {
      "text/plain": [
       "<matplotlib.axes._subplots.AxesSubplot at 0x22840159080>"
      ]
     },
     "execution_count": 6,
     "metadata": {},
     "output_type": "execute_result"
    },
    {
     "data": {
      "image/png": "[encoded data removed]",
      "text/plain": [
       "<Figure size 432x288 with 1 Axes>"
      ]
     },
     "metadata": {
      "needs_background": "light"
     },
     "output_type": "display_data"
    }
   ],
   "source": [
    "plotdf = dfReviewDetails.sort_values(by=['ReviewDate'])\n",
    "plotdf.Rating = plotdf.Rating.astype('int64')\n",
    "plotdf.ReviewDate = pd.to_datetime(plotdf.ReviewDate)\n",
    "plotdf = plotdf.groupby(['Movie']).mean().reset_index()\n",
    "sns.barplot(x='Movie', y='Rating', data=plotdf.sort_values(by=['Rating'], ascending=False))"
   ]
  },
  {
   "cell_type": "markdown",
   "metadata": {},
   "source": [
    "### Data Cleansing"
   ]
  },
  {
   "cell_type": "code",
   "execution_count": 7,
   "metadata": {},
   "outputs": [],
   "source": [
    "#Spelling"
   ]
  },
  {
   "cell_type": "code",
   "execution_count": null,
   "metadata": {},
   "outputs": [],
   "source": [
    "#Lemma"
   ]
  },
  {
   "cell_type": "code",
   "execution_count": null,
   "metadata": {},
   "outputs": [],
   "source": [
    "#NER"
   ]
  },
  {
   "cell_type": "code",
   "execution_count": null,
   "metadata": {},
   "outputs": [],
   "source": [
    "#Hypernyms"
   ]
  },
  {
   "cell_type": "markdown",
   "metadata": {},
   "source": [
    "#### Vectorize Reviews"
   ]
  },
  {
   "cell_type": "code",
   "execution_count": 65,
   "metadata": {},
   "outputs": [],
   "source": [
    "tfidfVectorizer = TfidfVectorizer(max_df=1, min_df=0, stop_words='english', use_idf=True, ngram_range=(1,3))\n",
    "countVectorizer = CountVectorizer(analyzer='word', min_df=7, stop_words='english', lowercase=True)"
   ]
  },
  {
   "cell_type": "code",
   "execution_count": 66,
   "metadata": {},
   "outputs": [
    {
     "data": {
      "text/plain": [
       "(150, 30517)"
      ]
     },
     "execution_count": 66,
     "metadata": {},
     "output_type": "execute_result"
    }
   ],
   "source": [
    "tfidfMatrix = tfidfVectorizer.fit_transform(dfReviewDetails.Review)\n",
    "tfidfMatrix.shape"
   ]
  },
  {
   "cell_type": "code",
   "execution_count": 67,
   "metadata": {},
   "outputs": [
    {
     "data": {
      "text/plain": [
       "(150, 371)"
      ]
     },
     "execution_count": 67,
     "metadata": {},
     "output_type": "execute_result"
    }
   ],
   "source": [
    "cvMatrix = countVectorizer.fit_transform(dfReviewDetails.Review)\n",
    "cvMatrix.shape"
   ]
  },
  {
   "cell_type": "code",
   "execution_count": 68,
   "metadata": {},
   "outputs": [
    {
     "name": "stdout",
     "output_type": "stream",
     "text": [
      "Sparseness:  11.300988319856245 %\n"
     ]
    }
   ],
   "source": [
    "#sparceness\n",
    "cvDense = cvMatrix.todense()\n",
    "print(\"Sparseness: \", ((cvDense > 0).sum()/cvDense.size)*100, \"%\")"
   ]
  },
  {
   "cell_type": "markdown",
   "metadata": {},
   "source": [
    "##### LDA Model GridSearchCV"
   ]
  },
  {
   "cell_type": "code",
   "execution_count": 69,
   "metadata": {},
   "outputs": [],
   "source": [
    "lda = LatentDirichletAllocation()\n",
    "\n",
    "parmGrid = {'n_topics': [3, 5, 7, 9], \n",
    "            'learning_method': ['online'], \n",
    "            'random_state': [2019], \n",
    "            'learning_decay': [0.5, 0.7, 0.9], \n",
    "            'max_iter': [5, 10]}\n",
    "\n",
    "ldaGrid = GridSearchCV(lda, param_grid=parmGrid)"
   ]
  },
  {
   "cell_type": "code",
   "execution_count": 70,
   "metadata": {},
   "outputs": [
    {
     "data": {
      "text/plain": [
       "GridSearchCV(cv='warn', error_score='raise-deprecating',\n",
       "       estimator=LatentDirichletAllocation(batch_size=128, doc_topic_prior=None,\n",
       "             evaluate_every=-1, learning_decay=0.7,\n",
       "             learning_method='batch', learning_offset=10.0,\n",
       "             max_doc_update_iter=100, max_iter=10, mean_change_tol=0.001,\n",
       "             n_components=10, n_jobs=None, n_topics=None, perp_tol=0.1,\n",
       "             random_state=None, topic_word_prior=None,\n",
       "             total_samples=1000000.0, verbose=0),\n",
       "       fit_params=None, iid='warn', n_jobs=None,\n",
       "       param_grid={'n_topics': [3, 5, 7, 9], 'learning_method': ['online'], 'random_state': [2019], 'learning_decay': [0.5, 0.7, 0.9], 'max_iter': [5, 10]},\n",
       "       pre_dispatch='2*n_jobs', refit=True, return_train_score='warn',\n",
       "       scoring=None, verbose=0)"
      ]
     },
     "execution_count": 70,
     "metadata": {},
     "output_type": "execute_result"
    }
   ],
   "source": [
    "ldaGrid.fit(cvMatrix)"
   ]
  },
  {
   "cell_type": "code",
   "execution_count": 71,
   "metadata": {},
   "outputs": [
    {
     "name": "stdout",
     "output_type": "stream",
     "text": [
      "Best Estimator: LatentDirichletAllocation(batch_size=128, doc_topic_prior=None,\n",
      "             evaluate_every=-1, learning_decay=0.9,\n",
      "             learning_method='online', learning_offset=10.0,\n",
      "             max_doc_update_iter=100, max_iter=5, mean_change_tol=0.001,\n",
      "             n_components=10, n_jobs=None, n_topics=3, perp_tol=0.1,\n",
      "             random_state=2019, topic_word_prior=None,\n",
      "             total_samples=1000000.0, verbose=0)\n",
      "{'learning_decay': 0.9, 'learning_method': 'online', 'max_iter': 5, 'n_topics': 3, 'random_state': 2019}\n"
     ]
    }
   ],
   "source": [
    "print(\"Best Estimator:\", ldaGrid.best_estimator_)\n",
    "print(ldaGrid.best_params_)"
   ]
  },
  {
   "cell_type": "markdown",
   "metadata": {},
   "source": [
    "#### LDA Model"
   ]
  },
  {
   "cell_type": "code",
   "execution_count": 72,
   "metadata": {},
   "outputs": [],
   "source": [
    "## Original trained model\n",
    "#\n",
    "#lda = LatentDirichletAllocation(n_topics=10, max_iter=5, learning_method='online', random_state=2019, batch_size=120, \n",
    "#                               evaluate_every=-1, n_jobs=-1)\n",
    "#\n",
    "#ldaFit = lda.fit_transform(cvMatrix)\n",
    "ldaBest = LatentDirichletAllocation(n_topics=3, max_iter=5, learning_method='online', learning_decay=0.9, random_state=2019, batch_size=120, \n",
    "                                    evaluate_every=-1, n_jobs=-1)\n",
    "ldaBestFit = ldaBest.fit_transform(cvMatrix)"
   ]
  },
  {
   "cell_type": "code",
   "execution_count": 73,
   "metadata": {},
   "outputs": [
    {
     "name": "stdout",
     "output_type": "stream",
     "text": [
      "Log Likelihood: -52525.75485466522\n",
      "Perplexity: 246.83781467942083\n"
     ]
    }
   ],
   "source": [
    "print(\"Log Likelihood:\", ldaBest.score(cvMatrix))\n",
    "print(\"Perplexity:\", ldaBest.perplexity(cvMatrix))"
   ]
  },
  {
   "cell_type": "markdown",
   "metadata": {},
   "source": [
    "##### LDA Model Scoring\n",
    "\n",
    "Original Model\n",
    "\n",
    "print(\"Log Likelihood:\", lda.score(cvMatrix))\n",
    "\n",
    "print(\"Perplexity:\", lda.perplexity(cvMatrix))\n",
    "\n",
    "Log Likelihood: -65854.02334362216\n",
    "\n",
    "Perplexity: 456.28047756163363"
   ]
  },
  {
   "cell_type": "code",
   "execution_count": 74,
   "metadata": {},
   "outputs": [],
   "source": [
    "#print(\"Log Likelihood:\", lda.score(cvMatrix))\n",
    "#print(\"Perplexity:\", lda.perplexity(cvMatrix))"
   ]
  },
  {
   "cell_type": "markdown",
   "metadata": {},
   "source": [
    "#### pyLDAvis Plotting"
   ]
  },
  {
   "cell_type": "code",
   "execution_count": 75,
   "metadata": {},
   "outputs": [
    {
     "data": {
      "text/html": [
       "\n",
       "<link rel=\"stylesheet\" type=\"text/css\" href=\"https://cdn.rawgit.com/bmabey/pyLDAvis/files/ldavis.v1.0.0.css\">\n",
       "\n",
       "\n",
       "<div id=\"ldavis_el486423719197811046115583932\"></div>\n",
       "<script type=\"text/javascript\">\n",
       "\n",
       "var ldavis_el486423719197811046115583932_data = {\"mdsDat\": {\"x\": [-632.0454711914062, -1209.6654052734375, -1437.4532470703125], \"y\": [-384.3250732421875, 212.16412353515625, -586.322509765625], \"topics\": [1, 2, 3], \"cluster\": [1, 1, 1], \"Freq\": [76.46479212092538, 14.745136281199365, 8.790071597875249]}, \"tinfo\": {\"Category\": [\"Default\", \"Default\", \"Default\", \"Default\", \"Default\", \"Default\", \"Default\", \"Default\", \"Default\", \"Default\", \"Default\", \"Default\", \"Default\", \"Default\", \"Default\", \"Default\", \"Default\", \"Default\", \"Default\", \"Default\", \"Default\", \"Default\", \"Default\", \"Default\", \"Default\", \"Default\", \"Default\", \"Default\", \"Default\", \"Default\", \"Topic1\", \"Topic1\", \"Topic1\", \"Topic1\", \"Topic1\", \"Topic1\", \"Topic1\", \"Topic1\", \"Topic1\", \"Topic1\", \"Topic1\", \"Topic1\", \"Topic1\", \"Topic1\", \"Topic1\", \"Topic1\", \"Topic1\", \"Topic1\", \"Topic1\", \"Topic1\", \"Topic1\", \"Topic1\", \"Topic1\", \"Topic1\", \"Topic1\", \"Topic1\", \"Topic1\", \"Topic1\", \"Topic1\", \"Topic1\", \"Topic1\", \"Topic1\", \"Topic1\", \"Topic1\", \"Topic1\", \"Topic1\", \"Topic1\", \"Topic1\", \"Topic1\", \"Topic1\", \"Topic1\", \"Topic1\", \"Topic1\", \"Topic1\", \"Topic1\", \"Topic1\", \"Topic1\", \"Topic1\", \"Topic1\", \"Topic1\", \"Topic2\", \"Topic2\", \"Topic2\", \"Topic2\", \"Topic2\", \"Topic2\", \"Topic2\", \"Topic2\", \"Topic2\", \"Topic2\", \"Topic2\", \"Topic2\", \"Topic2\", \"Topic2\", \"Topic2\", \"Topic2\", \"Topic2\", \"Topic2\", \"Topic2\", \"Topic2\", \"Topic2\", \"Topic2\", \"Topic2\", \"Topic2\", \"Topic2\", \"Topic2\", \"Topic2\", \"Topic2\", \"Topic2\", \"Topic2\", \"Topic2\", \"Topic2\", \"Topic2\", \"Topic2\", \"Topic2\", \"Topic2\", \"Topic2\", \"Topic2\", \"Topic2\", \"Topic2\", \"Topic2\", \"Topic2\", \"Topic2\", \"Topic2\", \"Topic2\", \"Topic2\", \"Topic2\", \"Topic2\", \"Topic2\", \"Topic2\", \"Topic2\", \"Topic2\", \"Topic2\", \"Topic2\", \"Topic2\", \"Topic2\", \"Topic2\", \"Topic2\", \"Topic2\", \"Topic3\", \"Topic3\", \"Topic3\", \"Topic3\", \"Topic3\", \"Topic3\", \"Topic3\", \"Topic3\", \"Topic3\", \"Topic3\", \"Topic3\", \"Topic3\", \"Topic3\", \"Topic3\", \"Topic3\", \"Topic3\", \"Topic3\", \"Topic3\", \"Topic3\", \"Topic3\", \"Topic3\", \"Topic3\", \"Topic3\", \"Topic3\", \"Topic3\", \"Topic3\", \"Topic3\", \"Topic3\", \"Topic3\", \"Topic3\", \"Topic3\", \"Topic3\", \"Topic3\", \"Topic3\", \"Topic3\", \"Topic3\", \"Topic3\", \"Topic3\", \"Topic3\", \"Topic3\", \"Topic3\", \"Topic3\", \"Topic3\", \"Topic3\", \"Topic3\", \"Topic3\", \"Topic3\", \"Topic3\", \"Topic3\", \"Topic3\", \"Topic3\", \"Topic3\", \"Topic3\", \"Topic3\", \"Topic3\", \"Topic3\", \"Topic3\", \"Topic3\"], \"Freq\": [820.0, 219.0, 223.0, 109.0, 87.0, 117.0, 61.0, 102.0, 156.0, 52.0, 54.0, 80.0, 111.0, 101.0, 30.0, 54.0, 62.0, 25.0, 31.0, 20.0, 98.0, 69.0, 41.0, 22.0, 62.0, 93.0, 36.0, 41.0, 31.0, 63.0, 41.06259816694809, 43.70038028942771, 76.63842586512254, 86.16728738669443, 86.65792828395068, 38.14990948646885, 45.713819969094075, 22.400545152606142, 64.69791329252122, 32.07759863092473, 19.115617330456693, 18.54175063970642, 25.923275081455785, 72.0232238939644, 99.21603661059194, 20.528459826442738, 20.31075229837615, 23.11965862959994, 22.014501224236266, 24.940533372225566, 16.84849527348903, 33.281830980990435, 37.77301528456993, 719.9677217112636, 86.49014061060275, 23.846410698639854, 43.98317239452178, 25.540520072067366, 29.491109380731924, 12.62298321747597, 98.91621228525838, 61.81221895265056, 46.85605556844192, 57.12779386496692, 39.997863975435216, 127.65442368574476, 58.124097338811744, 174.00016103355213, 89.32976694152923, 81.88468524283427, 38.084965195160706, 53.08201683742969, 169.61609218237567, 91.68212767287332, 49.23511206870755, 75.86189225318536, 53.09277533087816, 48.396315961672535, 53.72706863781903, 44.772024990657236, 6.081152439298341, 6.134890778282939, 7.282660975913709, 4.550763959325817, 6.4643070315120195, 5.946633471681109, 6.807549305525236, 6.230005140180558, 4.504332667081799, 6.209238509917655, 4.130600506597752, 8.366644811768849, 13.895763790941492, 3.0833314215703935, 3.676423073417007, 2.884904490125899, 5.493372196710397, 4.3583161250662075, 4.375684715188045, 4.008879510324616, 2.735018636818473, 2.7032063829832964, 2.652535464080395, 3.672331648055781, 8.922276690148884, 3.511668505682423, 3.6561595317495983, 3.860115046132342, 3.0965960842577624, 3.5061747463027886, 4.101760595698265, 6.65563225688077, 50.04340539627692, 8.258808195353689, 11.44450218350731, 15.204144026392383, 11.221498044064692, 19.993732106359833, 14.894348206450871, 12.663752465016877, 19.295842094722214, 6.987724420794347, 9.921480027051613, 8.11295917565904, 21.13997345615705, 12.32995615746873, 6.8626637543664355, 11.905582247778831, 38.88884649164154, 18.213024741875223, 12.092389144461066, 8.866969408877226, 11.520120531136657, 11.363507959833175, 8.798742690874809, 7.414070901546441, 7.258875274845999, 7.461441435636331, 6.929318661752837, 7.682450402229012, 3.4722520648821775, 2.359558515713164, 2.487303851597506, 2.60624421321775, 6.296995935292337, 2.3279328252430247, 7.028935755986234, 8.156897562936877, 3.2120075957466248, 2.7028435536452973, 2.4087615177155755, 2.0342709456964996, 3.841448862136478, 1.709227491208969, 1.4459736538169428, 3.7029906541157227, 3.286248203359622, 3.154509680189335, 2.8833756378077497, 2.126396411143864, 2.0557669099901137, 3.630541038240831, 4.673673137972603, 3.054782841856541, 3.317190944105809, 3.1656579416279635, 1.3914385060291021, 3.051708138614174, 11.523253743893878, 3.080875550305633, 9.172790636958705, 14.07969430036525, 27.240182864668125, 15.143224289562028, 8.443704225529599, 14.852007946607838, 61.649530402016445, 4.171375234852156, 4.273188619290933, 4.726765909917849, 4.7948401098474065, 4.414217050961225, 5.05283450750177, 7.341310506455032, 8.342956669753889, 4.837354007843829, 7.288816318424628, 7.221197962641764, 6.849127056251841, 7.768493302815129, 5.49717958459325, 4.747567388681314, 4.815575157351033, 5.480912484063679, 4.747236301036618, 4.691500732495556, 4.52347200473011], \"Term\": [\"rocky\", \"film\", \"movie\", \"apollo\", \"story\", \"fight\", \"adrian\", \"good\", \"stallone\", \"mickey\", \"love\", \"clubber\", \"creed\", \"like\", \"second\", \"really\", \"best\", \"sequel\", \"guy\", \"train\", \"time\", \"boxing\", \"don\", \"help\", \"sylvester\", \"lang\", \"scenes\", \"watch\", \"think\", \"life\", \"tiger\", \"eye\", \"mr\", \"iii\", \"lang\", \"bad\", \"new\", \"sense\", \"balboa\", \"fights\", \"fun\", \"hulk\", \"bit\", \"clubber\", \"creed\", \"entertaining\", \"hogan\", \"actually\", \"course\", \"drama\", \"predictable\", \"wife\", \"ring\", \"rocky\", \"time\", \"death\", \"ii\", \"know\", \"say\", \"takes\", \"just\", \"films\", \"series\", \"movies\", \"man\", \"stallone\", \"character\", \"film\", \"apollo\", \"like\", \"title\", \"life\", \"movie\", \"fight\", \"way\", \"good\", \"boxing\", \"sylvester\", \"story\", \"best\", \"parts\", \"avildsen\", \"actor\", \"budget\", \"works\", \"decides\", \"oscar\", \"shy\", \"realize\", \"overrated\", \"watched\", \"picture\", \"guy\", \"told\", \"directing\", \"luck\", \"sport\", \"dream\", \"plays\", \"rating\", \"million\", \"iconic\", \"piece\", \"greatest\", \"fighting\", \"talking\", \"today\", \"couldn\", \"sequels\", \"paulie\", \"awesome\", \"work\", \"movie\", \"talia\", \"don\", \"adrian\", \"watch\", \"story\", \"best\", \"really\", \"good\", \"win\", \"make\", \"better\", \"stallone\", \"sylvester\", \"seen\", \"boxing\", \"rocky\", \"film\", \"like\", \"great\", \"just\", \"fight\", \"movies\", \"characters\", \"end\", \"way\", \"think\", \"train\", \"tells\", \"strength\", \"round\", \"ends\", \"help\", \"directing\", \"sequel\", \"second\", \"writing\", \"personal\", \"today\", \"philadelphia\", \"job\", \"coma\", \"wrote\", \"trying\", \"didn\", \"gives\", \"fans\", \"contender\", \"greatest\", \"worth\", \"music\", \"family\", \"begins\", \"favorite\", \"told\", \"1976\", \"adrian\", \"matter\", \"mickey\", \"story\", \"film\", \"apollo\", \"love\", \"fight\", \"rocky\", \"fighting\", \"moments\", \"goes\", \"think\", \"fame\", \"scenes\", \"clubber\", \"creed\", \"did\", \"time\", \"like\", \"good\", \"stallone\", \"life\", \"does\", \"title\", \"lang\", \"really\", \"just\", \"films\"], \"Total\": [820.0, 219.0, 223.0, 109.0, 87.0, 117.0, 61.0, 102.0, 156.0, 52.0, 54.0, 80.0, 111.0, 101.0, 30.0, 54.0, 62.0, 25.0, 31.0, 20.0, 98.0, 69.0, 41.0, 22.0, 62.0, 93.0, 36.0, 41.0, 31.0, 63.0, 43.72988880814181, 46.80077485538672, 82.3223091922007, 92.65963731356686, 93.64222351456732, 42.131867937658505, 50.64494217626561, 24.859679639718152, 71.85976250036192, 35.63941553428854, 21.387039913695673, 20.77568978911565, 29.103738139519283, 80.8930544539157, 111.60853981340867, 23.214186161709748, 22.9786635035122, 26.158196054151862, 24.931665685035618, 28.353437088067896, 19.15769316439706, 37.899326193774826, 43.01437171763841, 820.5060986049216, 98.80332029158517, 27.252343964596086, 50.41109963058686, 29.317152130360466, 33.91803362122701, 14.581187725656989, 115.12783354889059, 71.76813092460637, 54.30931647183965, 66.83570310144131, 46.36981845908719, 156.56289044471694, 68.92862891104835, 219.45336864009548, 109.83568740061641, 101.1982723499371, 44.60142603448769, 63.739118948425734, 223.6243713391913, 117.89764357931433, 59.22933847948107, 102.00686140415942, 69.20048457489986, 62.97716241023832, 87.8004950445441, 62.11354808427957, 8.68422523772348, 9.319196147757724, 11.427345840785662, 7.76346685281236, 11.052898555583909, 10.310527288479774, 11.928381613240052, 10.929799552369929, 9.339626612969743, 13.174660048727269, 8.803308443181583, 18.41817052284683, 31.71286828230625, 7.081040343093786, 8.459391518931875, 6.6901714877654275, 12.75582845030831, 10.236921181897221, 10.60091854036243, 9.846401974003358, 6.737044468497134, 6.830132788783735, 6.71917984472209, 9.318591006241334, 23.353095351188625, 9.248233938796558, 9.668953037929034, 10.262210242574518, 8.36573444435313, 9.659092914728767, 11.344449188393522, 20.09404139325295, 223.6243713391913, 27.62926393389493, 41.99283363048416, 61.20628429889915, 41.42790850844411, 87.8004950445441, 62.11354808427957, 54.77703835472594, 102.00686140415942, 23.471468486769695, 39.512929455983816, 30.505811817280666, 156.56289044471694, 62.97716241023832, 23.44184005500842, 69.20048457489986, 820.5060986049216, 219.45336864009548, 101.1982723499371, 46.66109615835153, 115.12783354889059, 117.89764357931433, 66.83570310144131, 45.86464166465098, 42.03467237269303, 59.22933847948107, 31.402857236529382, 20.311700751330665, 11.071098397988347, 7.5780948438977145, 8.266959726598774, 8.872353270094356, 22.48639843523189, 8.459391518931875, 25.85952806467472, 30.21866988415215, 12.208104672856209, 10.393010977272507, 9.668953037929034, 8.180777366793894, 15.495449658289427, 7.170223451292956, 6.139979883734846, 16.057088943203503, 14.28086163341677, 13.938435561601352, 12.874752633914515, 9.496285845775205, 9.318591006241334, 16.925540333694332, 22.022496496646216, 15.042854502557109, 16.415199271412853, 15.997712783006243, 7.081040343093786, 16.089862438423246, 61.20628429889915, 16.421751605922065, 52.95177501351489, 87.8004950445441, 219.45336864009548, 109.83568740061641, 54.740853856602484, 117.89764357931433, 820.5060986049216, 23.353095351188625, 24.6541614713184, 29.10360359892088, 31.402857236529382, 28.005607043809725, 36.900633228686665, 80.8930544539157, 111.60853981340867, 36.180647139679174, 98.80332029158517, 101.1982723499371, 102.00686140415942, 156.56289044471694, 63.739118948425734, 41.62234449440394, 44.60142603448769, 93.64222351456732, 54.77703835472594, 115.12783354889059, 71.76813092460637], \"loglift\": [30.0, 29.0, 28.0, 27.0, 26.0, 25.0, 24.0, 23.0, 22.0, 21.0, 20.0, 19.0, 18.0, 17.0, 16.0, 15.0, 14.0, 13.0, 12.0, 11.0, 10.0, 9.0, 8.0, 7.0, 6.0, 5.0, 4.0, 3.0, 2.0, 1.0, 0.2054, 0.1998, 0.1968, 0.1957, 0.1908, 0.1691, 0.1659, 0.1642, 0.1634, 0.163, 0.1561, 0.1546, 0.1526, 0.1522, 0.1506, 0.1454, 0.1449, 0.1449, 0.1439, 0.1401, 0.1399, 0.1384, 0.1384, 0.1376, 0.1352, 0.1348, 0.1319, 0.1304, 0.1285, 0.1241, 0.1166, 0.119, 0.1207, 0.1114, 0.1205, 0.0642, 0.0978, 0.0363, 0.0617, 0.0566, 0.1104, 0.0854, -0.0081, 0.0169, 0.0835, -0.0278, 0.0034, 0.005, -0.2228, -0.059, 1.5579, 1.4962, 1.4637, 1.3801, 1.3779, 1.3639, 1.3534, 1.3521, 1.185, 1.162, 1.1576, 1.1252, 1.0891, 1.0828, 1.0809, 1.0731, 1.0718, 1.0603, 1.0294, 1.0157, 1.0128, 0.9874, 0.9848, 0.9831, 0.9521, 0.9459, 0.9418, 0.9365, 0.9204, 0.9009, 0.8969, 0.8093, 0.4172, 0.7067, 0.6143, 0.5216, 0.6081, 0.4346, 0.4863, 0.4497, 0.2491, 0.7026, 0.5323, 0.5898, -0.088, 0.2835, 0.6858, 0.1543, -1.135, -0.5747, -0.2102, 0.2537, -0.3877, -0.4252, -0.1134, 0.0919, 0.158, -0.1574, 0.4031, 1.4593, 1.272, 1.2648, 1.2305, 1.2065, 1.1587, 1.1413, 1.1289, 1.122, 1.0963, 1.0847, 1.0417, 1.0399, 1.0369, 0.9977, 0.9855, 0.9645, 0.9624, 0.9457, 0.9352, 0.9351, 0.9202, 0.8921, 0.8814, 0.8374, 0.8325, 0.8115, 0.8045, 0.7691, 0.7617, 0.7582, 0.6784, 0.6012, 0.3451, 0.4501, 0.5624, 0.3599, -0.1569, 0.7091, 0.679, 0.6139, 0.5522, 0.584, 0.4433, 0.0319, -0.162, 0.4194, -0.1752, -0.2085, -0.2694, -0.5718, -0.019, 0.2605, 0.2056, -0.4067, -0.0142, -0.7687, -0.3326], \"logprob\": [30.0, 29.0, 28.0, 27.0, 26.0, 25.0, 24.0, 23.0, 22.0, 21.0, 20.0, 19.0, 18.0, 17.0, 16.0, 15.0, 14.0, 13.0, 12.0, 11.0, 10.0, 9.0, 8.0, 7.0, 6.0, 5.0, 4.0, 3.0, 2.0, 1.0, -5.1793, -5.117, -4.5553, -4.4381, -4.4324, -5.2529, -5.072, -5.7853, -4.7247, -5.4262, -5.9439, -5.9744, -5.6392, -4.6174, -4.2971, -5.8726, -5.8832, -5.7537, -5.8027, -5.6779, -6.0701, -5.3894, -5.2628, -2.3152, -4.4344, -5.7228, -5.1106, -5.6541, -5.5103, -6.3589, -4.3001, -4.7703, -5.0473, -4.8491, -5.2056, -4.0451, -4.8318, -3.7353, -4.402, -4.4891, -5.2546, -4.9225, -3.7608, -4.3761, -4.9978, -4.5655, -4.9223, -5.015, -4.9105, -5.0928, -5.4433, -5.4345, -5.263, -5.7332, -5.3822, -5.4656, -5.3304, -5.4191, -5.7434, -5.4224, -5.83, -5.1242, -4.6169, -6.1225, -5.9465, -6.189, -5.5449, -5.7764, -5.7724, -5.86, -6.2423, -6.254, -6.273, -5.9476, -5.0599, -5.9924, -5.9521, -5.8978, -6.1182, -5.9939, -5.8371, -5.353, -3.3356, -5.1372, -4.811, -4.5269, -4.8306, -4.253, -4.5475, -4.7097, -4.2886, -5.3043, -4.9538, -5.155, -4.1973, -4.7364, -5.3224, -4.7715, -3.5878, -4.3463, -4.7559, -5.0661, -4.8044, -4.8181, -5.0739, -5.2451, -5.2662, -5.2387, -5.3127, -4.6922, -5.4864, -5.8727, -5.82, -5.7733, -4.8911, -5.8862, -4.7811, -4.6323, -5.5643, -5.7369, -5.8521, -6.021, -5.3853, -6.1951, -6.3624, -5.422, -5.5414, -5.5823, -5.6722, -5.9767, -6.0105, -5.4418, -5.1892, -5.6145, -5.5321, -5.5788, -6.4008, -5.6155, -4.2868, -5.606, -4.5149, -4.0864, -3.4265, -4.0136, -4.5978, -4.033, -2.6097, -5.3029, -5.2788, -5.1779, -5.1636, -5.2463, -5.1112, -4.7377, -4.6098, -5.1548, -4.7448, -4.7542, -4.8071, -4.6811, -5.0269, -5.1735, -5.1593, -5.0299, -5.1736, -5.1854, -5.2219]}, \"token.table\": {\"Topic\": [1, 2, 3, 1, 2, 3, 1, 2, 3, 1, 2, 3, 1, 2, 3, 1, 2, 3, 1, 2, 3, 1, 2, 3, 1, 2, 3, 1, 2, 3, 1, 2, 3, 1, 2, 3, 1, 2, 3, 1, 2, 3, 1, 2, 3, 1, 2, 3, 1, 2, 3, 1, 2, 3, 1, 2, 3, 1, 2, 3, 1, 2, 3, 1, 2, 3, 1, 2, 3, 1, 2, 3, 1, 2, 3, 1, 2, 3, 1, 2, 3, 1, 2, 3, 1, 2, 3, 1, 2, 3, 1, 2, 3, 1, 2, 3, 1, 2, 3, 1, 2, 3, 1, 2, 3, 1, 2, 3, 1, 2, 3, 1, 2, 3, 1, 2, 3, 1, 2, 3, 1, 2, 3, 1, 2, 3, 1, 2, 3, 1, 2, 3, 1, 2, 3, 1, 2, 3, 1, 2, 3, 1, 2, 3, 1, 2, 3, 1, 2, 3, 1, 2, 3, 1, 2, 3, 1, 2, 3, 1, 2, 3, 1, 2, 3, 1, 2, 3, 1, 2, 3, 1, 2, 3, 1, 2, 3, 1, 2, 3, 1, 2, 3, 1, 2, 3, 1, 2, 3, 1, 2, 3, 1, 2, 3, 1, 2, 3, 1, 2, 3, 1, 2, 3, 1, 2, 3, 1, 2, 3, 1, 2, 3, 1, 2, 3, 1, 2, 3, 1, 2, 3, 1, 2, 3, 1, 2, 3, 1, 2, 3, 1, 2, 3, 1, 2, 3, 1, 2, 3, 1, 2, 3, 1, 2, 3, 1, 2, 3, 1, 2, 3, 1, 2, 3, 1, 2, 3, 1, 2, 3, 1, 2, 3, 1, 2, 3, 1, 2, 3, 1, 2, 3, 1, 2, 3, 1, 2, 3, 1, 2, 3, 1, 2, 3, 1, 2, 3, 1, 2, 3, 1, 2, 3, 1, 2, 3, 1, 2, 3, 1, 2, 3, 1, 2, 3, 1, 2, 3, 1, 2, 3, 1, 2, 3, 1, 2, 3, 1, 2, 3, 1, 2, 3, 1, 2, 3, 1, 2, 3, 1, 2, 3, 1, 2, 3, 1, 2, 3, 1, 2, 3, 1, 2, 3, 1, 2, 3, 1, 2, 3, 1, 2, 3, 1, 2, 3, 1, 2, 3, 1, 2, 3, 1, 2, 3, 1, 2, 3, 1, 2, 3, 1, 2, 3, 1, 2, 3, 1, 2, 3, 1, 2, 3, 1, 2, 3], \"Freq\": [0.683660288712696, 0.12430187067503565, 0.18645280601255346, 0.26252815323857753, 0.6125656908900142, 0.08750938441285917, 0.8792655255120091, 0.07645787178365297, 0.038228935891826486, 0.5554985144002855, 0.24507287400012598, 0.1960582992001008, 0.8103012973859762, 0.04552254479696496, 0.13656763439089487, 0.3219161773649141, 0.6438323547298282, 0.10730539245497138, 0.5288930207504993, 0.35259534716699953, 0.08814883679174988, 0.901930103270704, 0.07120500815295032, 0.023735002717650108, 0.9045395884751585, 0.05566397467539437, 0.041747981006545774, 0.7310298097262856, 0.0609191508105238, 0.1827574524315714, 0.7244796246213655, 0.24149320820712183, 0.032199094427616246, 0.6556127769945324, 0.26224511079781293, 0.06556127769945323, 0.8933560312891632, 0.06871969471455101, 0.03435984735727551, 0.7658905905873375, 0.17340919032166136, 0.05780306344055378, 0.25761686601076794, 0.6440421650269199, 0.12880843300538397, 0.8414500754809496, 0.08704655953251203, 0.058031039688341356, 0.7631150866916152, 0.15262301733832304, 0.06540986457356701, 0.8900640541521149, 0.024724001504225414, 0.08653400526478895, 0.5578626701345979, 0.27893133506729895, 0.27893133506729895, 0.6318259683252201, 0.21060865610840668, 0.21060865610840668, 0.4872244752165233, 0.3897795801732186, 0.09744489504330466, 0.8824119606739613, 0.0802192691521783, 0.04010963457608915, 0.8870288973004387, 0.03583955140607833, 0.07167910281215666, 0.8806581933348099, 0.03669409138895041, 0.07338818277790082, 0.3879530006646029, 0.5819295009969043, 0.09698825016615073, 0.7186162231876141, 0.16583451304329555, 0.13819542753607963, 0.4901665025323275, 0.28009514430418714, 0.21007135822814038, 0.23642362403064776, 0.4728472480612955, 0.23642362403064776, 0.7688178162165361, 0.12012778378383376, 0.12012778378383376, 0.666780437976297, 0.2619494577764024, 0.07144076121174611, 0.881727316598271, 0.07053818532786169, 0.03526909266393084, 0.3907424829130779, 0.3907424829130779, 0.19537124145653895, 0.7612763034353551, 0.16652919137648395, 0.07136965344706454, 0.5635483448177471, 0.11270966896354942, 0.33812900689064823, 0.9046192640015138, 0.0861542156191918, 0.0430771078095959, 0.9401553742637585, 0.021367167596903602, 0.042734335193807205, 0.7498498413960206, 0.07141427060914482, 0.14282854121828964, 0.731244192924297, 0.06647674481129973, 0.19943023443389918, 0.6213711616428652, 0.1553427904107163, 0.23301418561607443, 0.6875982929062758, 0.1250178714375047, 0.18752680715625705, 0.7803379033450148, 0.09330127105212134, 0.12722900598016545, 0.42820875989319424, 0.3853878839038748, 0.17128350395727768, 0.8978822890407091, 0.05611764306504432, 0.05611764306504432, 0.7928791482137638, 0.0820219808496997, 0.12303297127454955, 0.8638931960640308, 0.06966880613419603, 0.06966880613419603, 0.8883884855815377, 0.046757288714817775, 0.046757288714817775, 0.5739525045435515, 0.2152321892038318, 0.2152321892038318, 0.6184801115373704, 0.20616003717912346, 0.17180003098260288, 0.7450479208342845, 0.18626198020857113, 0.0686228348136841, 0.7500895367143149, 0.19288016658368098, 0.06429338886122699, 0.429249443110113, 0.429249443110113, 0.2146247215550565, 0.5360599945948412, 0.44146117201928103, 0.03153294085852007, 0.5781272637965662, 0.13341398395305373, 0.26682796790610747, 0.870372639250454, 0.0435186319625227, 0.0435186319625227, 0.914530405144674, 0.04813317921814073, 0.04813317921814073, 0.4392301134945021, 0.4392301134945021, 0.1464100378315007, 0.872823650395102, 0.039673802290686455, 0.07934760458137291, 0.9281279583360533, 0.032376556686141394, 0.032376556686141394, 0.5162805969764375, 0.19360522386616405, 0.25814029848821873, 0.8599136885343918, 0.10423196224659294, 0.043429984269413725, 0.8868528527051144, 0.06821945020808572, 0.03410972510404286, 0.9290680713755795, 0.021357886698289183, 0.05339471674572296, 0.8315144745393288, 0.07844476174899329, 0.07844476174899329, 0.8102905128305875, 0.11857909943862256, 0.0691711413391965, 0.7307156754401898, 0.10960735131602846, 0.14614313508803795, 0.44841899874856944, 0.44841899874856944, 0.14947299958285648, 0.7086288054443327, 0.2530817162301188, 0.050616343246023765, 0.8626300755370138, 0.08626300755370138, 0.06469725566527604, 0.6698432824932722, 0.18268453158907424, 0.18268453158907424, 0.774289435803343, 0.056655324570976315, 0.16996597371292896, 0.4452991239746448, 0.4452991239746448, 0.1484330413248816, 0.7706609702424392, 0.08112220739394096, 0.16224441478788193, 0.7602033668420944, 0.2235892255417925, 0.0178871380433434, 0.8528375906136132, 0.13465856693899156, 0.014962062993221283, 0.935347911830625, 0.03644212643495942, 0.03644212643495942, 0.499489238273925, 0.2724486754221409, 0.2270405628517841, 0.9082841844285404, 0.03949061671428437, 0.03949061671428437, 0.33533467738491457, 0.5868356854236005, 0.16766733869245729, 0.45541972072210146, 0.45541972072210146, 0.07590328678701691, 0.23030264016094182, 0.6909079204828255, 0.11515132008047091, 0.5176469513380184, 0.4141175610704147, 0.10352939026760367, 0.48109253525605117, 0.2886555211536307, 0.2886555211536307, 0.4889510887114667, 0.24447554435573335, 0.24447554435573335, 0.48864788111479074, 0.4343536721020362, 0.05429420901275452, 0.44648306330965337, 0.44648306330965337, 0.14882768776988448, 0.5659886902399374, 0.37732579349329154, 0.09433144837332288, 0.8873719739698646, 0.05219835140999203, 0.05219835140999203, 0.5077997032013406, 0.4062397625610725, 0.10155994064026813, 0.42828264616545636, 0.5353533077068204, 0.10707066154136409, 0.6754655072878323, 0.23732571877680592, 0.09127912260646381, 0.8834256664132043, 0.06974413155893718, 0.06974413155893718, 0.8775071888243017, 0.047531639394649675, 0.0755631190376482, 0.6048172684224652, 0.12096345368449303, 0.24192690736898606, 0.8550023955943854, 0.0589656824547852, 0.0589656824547852, 0.7045949547496524, 0.16259883571145825, 0.13549902975954853, 0.595658249320891, 0.13236849984908688, 0.26473699969817377, 0.6398815095061279, 0.2986113711028597, 0.042658767300408525, 0.8849671564089965, 0.08045155967354514, 0.04022577983677257, 0.6573979214733917, 0.07734093193804609, 0.2706932617831613, 0.47814092433928496, 0.35860569325446373, 0.11953523108482124, 0.8654132118265627, 0.1104782823608378, 0.01841304706013963, 0.3659719449413574, 0.548957917412036, 0.09149298623533934, 0.4703732120084273, 0.39197767667368943, 0.07839553533473789, 0.8175628313734881, 0.13413140202221288, 0.051097676960843004, 0.6150307008246823, 0.227789148453586, 0.1594524039175102, 0.3958778640011031, 0.26391857600073537, 0.26391857600073537, 0.762181053622647, 0.19054526340566175, 0.031757543900943624, 0.8915597442809999, 0.06858151879084615, 0.06858151879084615, 0.6514831536253134, 0.28954806827791707, 0.036193508534739634, 0.540643763240556, 0.43251501059244474, 0.10812875264811118, 0.451626371680385, 0.180650548672154, 0.270975823008231, 0.6368847219652037, 0.22290965268782129, 0.15922118049130093, 0.9375738451995893, 0.022867654760965594, 0.04573530952193119, 0.8704160927608463, 0.050605586788421295, 0.07084782150378982, 0.8519906957821665, 0.044841615567482444, 0.11210403891870611, 0.4136952557643975, 0.4136952557643975, 0.20684762788219874, 0.4236665595227023, 0.4236665595227023, 0.14122218650756743, 0.5415597706302051, 0.04923270642092774, 0.3938616513674219, 0.6227778917692741, 0.18683336753078225, 0.24911115670770967, 0.7000112012434571, 0.2655214901268286, 0.04827663456851428, 0.45437462810906226, 0.45437462810906226, 0.11359365702726557, 0.8272927109759154, 0.11818467299655934, 0.050650574141382576, 0.8707278813157484, 0.07915708011961349, 0.052771386746408994, 0.6390737762511596, 0.2982344289172078, 0.04260491841674398, 0.5474259649775336, 0.3483619777129759, 0.14929799044841824, 0.36189602029588935, 0.542844030443834, 0.09047400507397234, 0.6499053964086376, 0.1181646175288432, 0.2363292350576864, 0.5733895791018213, 0.16382559402909183, 0.24573839104363773, 0.48860094932023634, 0.16286698310674544, 0.16286698310674544], \"Term\": [\"1976\", \"1976\", \"1976\", \"actor\", \"actor\", \"actor\", \"actually\", \"actually\", \"actually\", \"adrian\", \"adrian\", \"adrian\", \"apollo\", \"apollo\", \"apollo\", \"avildsen\", \"avildsen\", \"avildsen\", \"awesome\", \"awesome\", \"awesome\", \"bad\", \"bad\", \"bad\", \"balboa\", \"balboa\", \"balboa\", \"begins\", \"begins\", \"begins\", \"best\", \"best\", \"best\", \"better\", \"better\", \"better\", \"bit\", \"bit\", \"bit\", \"boxing\", \"boxing\", \"boxing\", \"budget\", \"budget\", \"budget\", \"character\", \"character\", \"character\", \"characters\", \"characters\", \"characters\", \"clubber\", \"clubber\", \"clubber\", \"coma\", \"coma\", \"coma\", \"contender\", \"contender\", \"contender\", \"couldn\", \"couldn\", \"couldn\", \"course\", \"course\", \"course\", \"creed\", \"creed\", \"creed\", \"death\", \"death\", \"death\", \"decides\", \"decides\", \"decides\", \"did\", \"did\", \"did\", \"didn\", \"didn\", \"didn\", \"directing\", \"directing\", \"directing\", \"does\", \"does\", \"does\", \"don\", \"don\", \"don\", \"drama\", \"drama\", \"drama\", \"dream\", \"dream\", \"dream\", \"end\", \"end\", \"end\", \"ends\", \"ends\", \"ends\", \"entertaining\", \"entertaining\", \"entertaining\", \"eye\", \"eye\", \"eye\", \"fame\", \"fame\", \"fame\", \"family\", \"family\", \"family\", \"fans\", \"fans\", \"fans\", \"favorite\", \"favorite\", \"favorite\", \"fight\", \"fight\", \"fight\", \"fighting\", \"fighting\", \"fighting\", \"fights\", \"fights\", \"fights\", \"film\", \"film\", \"film\", \"films\", \"films\", \"films\", \"fun\", \"fun\", \"fun\", \"gives\", \"gives\", \"gives\", \"goes\", \"goes\", \"goes\", \"good\", \"good\", \"good\", \"great\", \"great\", \"great\", \"greatest\", \"greatest\", \"greatest\", \"guy\", \"guy\", \"guy\", \"help\", \"help\", \"help\", \"hogan\", \"hogan\", \"hogan\", \"hulk\", \"hulk\", \"hulk\", \"iconic\", \"iconic\", \"iconic\", \"ii\", \"ii\", \"ii\", \"iii\", \"iii\", \"iii\", \"job\", \"job\", \"job\", \"just\", \"just\", \"just\", \"know\", \"know\", \"know\", \"lang\", \"lang\", \"lang\", \"life\", \"life\", \"life\", \"like\", \"like\", \"like\", \"love\", \"love\", \"love\", \"luck\", \"luck\", \"luck\", \"make\", \"make\", \"make\", \"man\", \"man\", \"man\", \"matter\", \"matter\", \"matter\", \"mickey\", \"mickey\", \"mickey\", \"million\", \"million\", \"million\", \"moments\", \"moments\", \"moments\", \"movie\", \"movie\", \"movie\", \"movies\", \"movies\", \"movies\", \"mr\", \"mr\", \"mr\", \"music\", \"music\", \"music\", \"new\", \"new\", \"new\", \"oscar\", \"oscar\", \"oscar\", \"overrated\", \"overrated\", \"overrated\", \"parts\", \"parts\", \"parts\", \"paulie\", \"paulie\", \"paulie\", \"personal\", \"personal\", \"personal\", \"philadelphia\", \"philadelphia\", \"philadelphia\", \"picture\", \"picture\", \"picture\", \"piece\", \"piece\", \"piece\", \"plays\", \"plays\", \"plays\", \"predictable\", \"predictable\", \"predictable\", \"rating\", \"rating\", \"rating\", \"realize\", \"realize\", \"realize\", \"really\", \"really\", \"really\", \"ring\", \"ring\", \"ring\", \"rocky\", \"rocky\", \"rocky\", \"round\", \"round\", \"round\", \"say\", \"say\", \"say\", \"scenes\", \"scenes\", \"scenes\", \"second\", \"second\", \"second\", \"seen\", \"seen\", \"seen\", \"sense\", \"sense\", \"sense\", \"sequel\", \"sequel\", \"sequel\", \"sequels\", \"sequels\", \"sequels\", \"series\", \"series\", \"series\", \"shy\", \"shy\", \"shy\", \"sport\", \"sport\", \"sport\", \"stallone\", \"stallone\", \"stallone\", \"story\", \"story\", \"story\", \"strength\", \"strength\", \"strength\", \"sylvester\", \"sylvester\", \"sylvester\", \"takes\", \"takes\", \"takes\", \"talia\", \"talia\", \"talia\", \"talking\", \"talking\", \"talking\", \"tells\", \"tells\", \"tells\", \"think\", \"think\", \"think\", \"tiger\", \"tiger\", \"tiger\", \"time\", \"time\", \"time\", \"title\", \"title\", \"title\", \"today\", \"today\", \"today\", \"told\", \"told\", \"told\", \"train\", \"train\", \"train\", \"trying\", \"trying\", \"trying\", \"watch\", \"watch\", \"watch\", \"watched\", \"watched\", \"watched\", \"way\", \"way\", \"way\", \"wife\", \"wife\", \"wife\", \"win\", \"win\", \"win\", \"work\", \"work\", \"work\", \"works\", \"works\", \"works\", \"worth\", \"worth\", \"worth\", \"writing\", \"writing\", \"writing\", \"wrote\", \"wrote\", \"wrote\"]}, \"R\": 30, \"lambda.step\": 0.01, \"plot.opts\": {\"xlab\": \"PC1\", \"ylab\": \"PC2\"}, \"topic.order\": [2, 1, 3]};\n",
       "\n",
       "function LDAvis_load_lib(url, callback){\n",
       "  var s = document.createElement('script');\n",
       "  s.src = url;\n",
       "  s.async = true;\n",
       "  s.onreadystatechange = s.onload = callback;\n",
       "  s.onerror = function(){console.warn(\"failed to load library \" + url);};\n",
       "  document.getElementsByTagName(\"head\")[0].appendChild(s);\n",
       "}\n",
       "\n",
       "if(typeof(LDAvis) !== \"undefined\"){\n",
       "   // already loaded: just create the visualization\n",
       "   !function(LDAvis){\n",
       "       new LDAvis(\"#\" + \"ldavis_el486423719197811046115583932\", ldavis_el486423719197811046115583932_data);\n",
       "   }(LDAvis);\n",
       "}else if(typeof define === \"function\" && define.amd){\n",
       "   // require.js is available: use it to load d3/LDAvis\n",
       "   require.config({paths: {d3: \"https://cdnjs.cloudflare.com/ajax/libs/d3/3.5.5/d3.min\"}});\n",
       "   require([\"d3\"], function(d3){\n",
       "      window.d3 = d3;\n",
       "      LDAvis_load_lib(\"https://cdn.rawgit.com/bmabey/pyLDAvis/files/ldavis.v1.0.0.js\", function(){\n",
       "        new LDAvis(\"#\" + \"ldavis_el486423719197811046115583932\", ldavis_el486423719197811046115583932_data);\n",
       "      });\n",
       "    });\n",
       "}else{\n",
       "    // require.js not available: dynamically load d3 & LDAvis\n",
       "    LDAvis_load_lib(\"https://cdnjs.cloudflare.com/ajax/libs/d3/3.5.5/d3.min.js\", function(){\n",
       "         LDAvis_load_lib(\"https://cdn.rawgit.com/bmabey/pyLDAvis/files/ldavis.v1.0.0.js\", function(){\n",
       "                 new LDAvis(\"#\" + \"ldavis_el486423719197811046115583932\", ldavis_el486423719197811046115583932_data);\n",
       "            })\n",
       "         });\n",
       "}\n",
       "</script>"
      ],
      "text/plain": [
       "PreparedData(topic_coordinates=                 x           y  topics  cluster       Freq\n",
       "topic                                                     \n",
       "1      -632.045471 -384.325073       1        1  76.464792\n",
       "0     -1209.665405  212.164124       2        1  14.745136\n",
       "2     -1437.453247 -586.322510       3        1   8.790072, topic_info=    Category        Freq       Term       Total  loglift  logprob\n",
       "258  Default  820.000000      rocky  820.000000  30.0000  30.0000\n",
       "107  Default  219.000000       film  219.000000  29.0000  29.0000\n",
       "202  Default  223.000000      movie  223.000000  28.0000  28.0000\n",
       "11   Default  109.000000     apollo  109.000000  27.0000  27.0000\n",
       "304  Default   87.000000      story   87.000000  26.0000  26.0000\n",
       "103  Default  117.000000      fight  117.000000  25.0000  25.0000\n",
       "8    Default   61.000000     adrian   61.000000  24.0000  24.0000\n",
       "126  Default  102.000000       good  102.000000  23.0000  23.0000\n",
       "300  Default  156.000000   stallone  156.000000  22.0000  22.0000\n",
       "194  Default   52.000000     mickey   52.000000  21.0000  21.0000\n",
       "179  Default   54.000000       love   54.000000  20.0000  20.0000\n",
       "50   Default   80.000000    clubber   80.000000  19.0000  19.0000\n",
       "60   Default  111.000000      creed  111.000000  18.0000  18.0000\n",
       "165  Default  101.000000       like  101.000000  17.0000  17.0000\n",
       "273  Default   30.000000     second   30.000000  16.0000  16.0000\n",
       "248  Default   54.000000     really   54.000000  15.0000  15.0000\n",
       "22   Default   62.000000       best   62.000000  14.0000  14.0000\n",
       "278  Default   25.000000     sequel   25.000000  13.0000  13.0000\n",
       "131  Default   31.000000        guy   31.000000  12.0000  12.0000\n",
       "327  Default   20.000000      train   20.000000  11.0000  11.0000\n",
       "321  Default   98.000000       time   98.000000  10.0000  10.0000\n",
       "29   Default   69.000000     boxing   69.000000   9.0000   9.0000\n",
       "77   Default   41.000000        don   41.000000   8.0000   8.0000\n",
       "139  Default   22.000000       help   22.000000   7.0000   7.0000\n",
       "311  Default   62.000000  sylvester   62.000000   6.0000   6.0000\n",
       "159  Default   93.000000       lang   93.000000   5.0000   5.0000\n",
       "268  Default   36.000000     scenes   36.000000   4.0000   4.0000\n",
       "343  Default   41.000000      watch   41.000000   3.0000   3.0000\n",
       "318  Default   31.000000      think   31.000000   2.0000   2.0000\n",
       "164  Default   63.000000       life   63.000000   1.0000   1.0000\n",
       "..       ...         ...        ...         ...      ...      ...\n",
       "1     Topic3    3.051708       1976   16.089862   0.7691  -5.6155\n",
       "8     Topic3   11.523254     adrian   61.206284   0.7617  -4.2868\n",
       "188   Topic3    3.080876     matter   16.421752   0.7582  -5.6060\n",
       "194   Topic3    9.172791     mickey   52.951775   0.6784  -4.5149\n",
       "304   Topic3   14.079694      story   87.800495   0.6012  -4.0864\n",
       "107   Topic3   27.240183       film  219.453369   0.3451  -3.4265\n",
       "11    Topic3   15.143224     apollo  109.835687   0.4501  -4.0136\n",
       "179   Topic3    8.443704       love   54.740854   0.5624  -4.5978\n",
       "103   Topic3   14.852008      fight  117.897644   0.3599  -4.0330\n",
       "258   Topic3   61.649530      rocky  820.506099  -0.1569  -2.6097\n",
       "105   Topic3    4.171375   fighting   23.353095   0.7091  -5.3029\n",
       "199   Topic3    4.273189    moments   24.654161   0.6790  -5.2788\n",
       "122   Topic3    4.726766       goes   29.103604   0.6139  -5.1779\n",
       "318   Topic3    4.794840      think   31.402857   0.5522  -5.1636\n",
       "95    Topic3    4.414217       fame   28.005607   0.5840  -5.2463\n",
       "268   Topic3    5.052835     scenes   36.900633   0.4433  -5.1112\n",
       "50    Topic3    7.341311    clubber   80.893054   0.0319  -4.7377\n",
       "60    Topic3    8.342957      creed  111.608540  -0.1620  -4.6098\n",
       "66    Topic3    4.837354        did   36.180647   0.4194  -5.1548\n",
       "321   Topic3    7.288816       time   98.803320  -0.1752  -4.7448\n",
       "165   Topic3    7.221198       like  101.198272  -0.2085  -4.7542\n",
       "126   Topic3    6.849127       good  102.006861  -0.2694  -4.8071\n",
       "300   Topic3    7.768493   stallone  156.562890  -0.5718  -4.6811\n",
       "164   Topic3    5.497180       life   63.739119  -0.0190  -5.0269\n",
       "74    Topic3    4.747567       does   41.622344   0.2605  -5.1735\n",
       "323   Topic3    4.815575      title   44.601426   0.2056  -5.1593\n",
       "159   Topic3    5.480912       lang   93.642224  -0.4067  -5.0299\n",
       "248   Topic3    4.747236     really   54.777038  -0.0142  -5.1736\n",
       "156   Topic3    4.691501       just  115.127834  -0.7687  -5.1854\n",
       "109   Topic3    4.523472      films   71.768131  -0.3326  -5.2219\n",
       "\n",
       "[197 rows x 6 columns], token_table=      Topic      Freq      Term\n",
       "term                           \n",
       "1         1  0.683660      1976\n",
       "1         2  0.124302      1976\n",
       "1         3  0.186453      1976\n",
       "5         1  0.262528     actor\n",
       "5         2  0.612566     actor\n",
       "5         3  0.087509     actor\n",
       "7         1  0.879266  actually\n",
       "7         2  0.076458  actually\n",
       "7         3  0.038229  actually\n",
       "8         1  0.555499    adrian\n",
       "8         2  0.245073    adrian\n",
       "8         3  0.196058    adrian\n",
       "11        1  0.810301    apollo\n",
       "11        2  0.045523    apollo\n",
       "11        3  0.136568    apollo\n",
       "13        1  0.321916  avildsen\n",
       "13        2  0.643832  avildsen\n",
       "13        3  0.107305  avildsen\n",
       "15        1  0.528893   awesome\n",
       "15        2  0.352595   awesome\n",
       "15        3  0.088149   awesome\n",
       "16        1  0.901930       bad\n",
       "16        2  0.071205       bad\n",
       "16        3  0.023735       bad\n",
       "17        1  0.904540    balboa\n",
       "17        2  0.055664    balboa\n",
       "17        3  0.041748    balboa\n",
       "20        1  0.731030    begins\n",
       "20        2  0.060919    begins\n",
       "20        3  0.182757    begins\n",
       "...     ...       ...       ...\n",
       "343       1  0.700011     watch\n",
       "343       2  0.265521     watch\n",
       "343       3  0.048277     watch\n",
       "344       1  0.454375   watched\n",
       "344       2  0.454375   watched\n",
       "344       3  0.113594   watched\n",
       "346       1  0.827293       way\n",
       "346       2  0.118185       way\n",
       "346       3  0.050651       way\n",
       "350       1  0.870728      wife\n",
       "350       2  0.079157      wife\n",
       "350       3  0.052771      wife\n",
       "351       1  0.639074       win\n",
       "351       2  0.298234       win\n",
       "351       3  0.042605       win\n",
       "356       1  0.547426      work\n",
       "356       2  0.348362      work\n",
       "356       3  0.149298      work\n",
       "358       1  0.361896     works\n",
       "358       2  0.542844     works\n",
       "358       3  0.090474     works\n",
       "361       1  0.649905     worth\n",
       "361       2  0.118165     worth\n",
       "361       3  0.236329     worth\n",
       "363       1  0.573390   writing\n",
       "363       2  0.163826   writing\n",
       "363       3  0.245738   writing\n",
       "366       1  0.488601     wrote\n",
       "366       2  0.162867     wrote\n",
       "366       3  0.162867     wrote\n",
       "\n",
       "[387 rows x 3 columns], R=30, lambda_step=0.01, plot_opts={'xlab': 'PC1', 'ylab': 'PC2'}, topic_order=[2, 1, 3])"
      ]
     },
     "execution_count": 75,
     "metadata": {},
     "output_type": "execute_result"
    }
   ],
   "source": [
    "pyLDAvis.enable_notebook()\n",
    "#panel = pyLDAvis.sklearn.prepare(lda, cvMatrix, countVectorizer, mds='tsne')\n",
    "panel = pyLDAvis.sklearn.prepare(ldaBest, cvMatrix, countVectorizer, mds='tsne')\n",
    "panel"
   ]
  },
  {
   "cell_type": "code",
   "execution_count": null,
   "metadata": {},
   "outputs": [],
   "source": []
  }
 ],
 "metadata": {
  "kernelspec": {
   "display_name": "Python 3",
   "language": "python",
   "name": "python3"
  },
  "language_info": {
   "codemirror_mode": {
    "name": "ipython",
    "version": 3
   },
   "file_extension": ".py",
   "mimetype": "text/x-python",
   "name": "python",
   "nbconvert_exporter": "python",
   "pygments_lexer": "ipython3",
   "version": "3.6.8"
  }
 },
 "nbformat": 4,
 "nbformat_minor": 2
}
