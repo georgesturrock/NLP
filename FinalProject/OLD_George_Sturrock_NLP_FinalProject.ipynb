{
 "cells": [
  {
   "cell_type": "markdown",
   "metadata": {},
   "source": [
    "## Topic Modeling IMDB Movie Reviews\n",
    "### DS 7337 - Natural Laguage Processing - FInal Project\n",
    "#### George C. Sturrock\n",
    "##### April 14, 2019\n",
    "##### Resources\n",
    "https://www.machinelearningplus.com/nlp/topic-modeling-python-sklearn-examples/\n",
    "#### Import Libraries"
   ]
  },
  {
   "cell_type": "code",
   "execution_count": 1,
   "metadata": {},
   "outputs": [
    {
     "name": "stdout",
     "output_type": "stream",
     "text": [
      "Platform: Windows-10-10.0.14393-SP0\n",
      "Python: 3.6.8 |Anaconda, Inc.| (default, Feb 21 2019, 18:30:04) [MSC v.1916 64 bit (AMD64)]\n",
      "Requests: 2.21.0\n",
      "BeatifulSoup: 4.7.1\n",
      "json: 2.0.9\n",
      "Numpy Version: 1.16.2\n",
      "Pandas Version: 0.24.2\n",
      "Pattern Version: 3.6\n",
      "pyLDAvis Versoin: 2.1.2\n"
     ]
    }
   ],
   "source": [
    "import platform; print(\"Platform:\", platform.platform())\n",
    "import os\n",
    "import sys; print(\"Python:\", sys.version)\n",
    "import requests; print(\"Requests:\", requests.__version__)\n",
    "from urllib import request; (\"urllib:\", request.__version__)\n",
    "import warnings\n",
    "warnings.filterwarnings('ignore')\n",
    "from time import sleep\n",
    "\n",
    "#Web Scraping\n",
    "import bs4; print(\"BeatifulSoup:\", bs4.__version__)\n",
    "from bs4 import BeautifulSoup\n",
    "import json; print(\"json:\", json.__version__)\n",
    "\n",
    "#Python Basics\n",
    "import numpy as np; print(\"Numpy Version:\", np.__version__)\n",
    "import pandas as pd; print(\"Pandas Version:\", pd.__version__)\n",
    "from matplotlib import pyplot as plt\n",
    "import seaborn as sns;\n",
    "import string\n",
    "\n",
    "#scikit learn\n",
    "from sklearn import metrics\n",
    "from sklearn.feature_extraction import stop_words\n",
    "#print(stop_words.ENGLISH_STOP_WORDS)\n",
    "from sklearn.feature_extraction.text import TfidfVectorizer, CountVectorizer\n",
    "from sklearn.decomposition import LatentDirichletAllocation, NMF\n",
    "from sklearn.model_selection import GridSearchCV\n",
    "\n",
    "import pattern; print(\"Pattern Version:\", pattern.__version__)\n",
    "from pattern.en import tag, parse, Sentence, parsetree, suggest, lemma, wordnet\n",
    "from pattern.vector import Document, Model, TFIDF, TF, words, stem, PORTER, LEMMA\n",
    "\n",
    "#pyLDAvis\n",
    "import pyLDAvis; print(\"pyLDAvis Versoin:\", pyLDAvis.__version__)\n",
    "import pyLDAvis.sklearn"
   ]
  },
  {
   "cell_type": "markdown",
   "metadata": {},
   "source": [
    "### Data Acquisition\n",
    "The first three films in the \"Rocky\" series will be utilized to collect reviews for noun phrase chunking.  Link to the main user review page for each of the three movies are shown below.  To assure both positive and negative reviews are collected, there are two links per movie.  One is sorted descending by user rating.  The other is sorted ascending by user rating.  Both links have \"spoiler alert\" messages suppressed as these reviews are often more akin to a summarization of the movie plot instead of a true review.  "
   ]
  },
  {
   "cell_type": "code",
   "execution_count": 2,
   "metadata": {},
   "outputs": [],
   "source": [
    "#Rocky movie list.  Two links for each movie to assure positive and negative reviews are captured.  \n",
    "#Sort descending by Review Rating.  Sort ascending by Review Rating.\n",
    "\n",
    "#Rocky\n",
    "rockyDict = {\"aRocky\":\"https://www.imdb.com/title/tt0075148/reviews?spoiler=hide&sort=userRating&dir=asc&ratingFilter=0\", \n",
    "         \"dRocky\":\"https://www.imdb.com/title/tt0075148/reviews?spoiler=hide&sort=userRating&dir=desc&ratingFilter=0\", \n",
    "#Rocky 2\n",
    "         \"dRocky 2\":\"https://www.imdb.com/title/tt0079817/reviews?spoiler=hide&sort=userRating&dir=desc&ratingFilter=0\",\n",
    "         \"aRocky 2\":\"https://www.imdb.com/title/tt0079817/reviews?spoiler=hide&sort=userRating&dir=asc&ratingFilter=0\",\n",
    "#Rocky 3\n",
    "         \"dRocky 3\":\"https://www.imdb.com/title/tt0084602/reviews?spoiler=hide&sort=userRating&dir=desc&ratingFilter=0\",\n",
    "         \"aRocky 3\":\"https://www.imdb.com/title/tt0084602/reviews?spoiler=hide&sort=userRating&dir=asc&ratingFilter=0\"\n",
    "            }\n",
    "\n",
    "rockyKeys = rockyDict.keys()"
   ]
  },
  {
   "cell_type": "markdown",
   "metadata": {},
   "source": [
    "#### Web Scraping IMDB Movie Review Titles\n",
    "The individual links to the user reviews are collected below.  A get request uses each of the links in the \"rockyDict\" python dictionary.  The response is parsed by Beautiful Soup to find the individual links to each individual review.  The review URLs along with the movie name are written to a dataframe named dfRockyReviews."
   ]
  },
  {
   "cell_type": "code",
   "execution_count": 3,
   "metadata": {},
   "outputs": [],
   "source": [
    "reviewUrls = list()\n",
    "dfRockyReviews = pd.DataFrame(columns = ['Movie', 'ReviewURL'])\n",
    "\n",
    "for r in rockyKeys:\n",
    "    #print(r, rockyDict[r])\n",
    "    response = requests.get(rockyDict[r])\n",
    "    soup = BeautifulSoup(response.text, 'html.parser')\n",
    "    rUrls = [\"http:\" + s.attrs['href'] for s in soup.find_all(href = True, class_ = 'title')]\n",
    "    reviewUrls = reviewUrls + rUrls\n",
    "    for u in rUrls:\n",
    "        dfRockyReviews = dfRockyReviews.append({'Movie':r[1:], 'ReviewURL':u}, ignore_index=True)"
   ]
  },
  {
   "cell_type": "markdown",
   "metadata": {},
   "source": [
    "A sample of the dfRockyReviews dataframe is shown below."
   ]
  },
  {
   "cell_type": "code",
   "execution_count": 4,
   "metadata": {},
   "outputs": [
    {
     "data": {
      "text/html": [
       "<div>\n",
       "<style scoped>\n",
       "    .dataframe tbody tr th:only-of-type {\n",
       "        vertical-align: middle;\n",
       "    }\n",
       "\n",
       "    .dataframe tbody tr th {\n",
       "        vertical-align: top;\n",
       "    }\n",
       "\n",
       "    .dataframe thead th {\n",
       "        text-align: right;\n",
       "    }\n",
       "</style>\n",
       "<table border=\"1\" class=\"dataframe\">\n",
       "  <thead>\n",
       "    <tr style=\"text-align: right;\">\n",
       "      <th></th>\n",
       "      <th>Movie</th>\n",
       "      <th>ReviewURL</th>\n",
       "    </tr>\n",
       "  </thead>\n",
       "  <tbody>\n",
       "    <tr>\n",
       "      <th>0</th>\n",
       "      <td>Rocky</td>\n",
       "      <td>http:/review/rw4247059/</td>\n",
       "    </tr>\n",
       "    <tr>\n",
       "      <th>1</th>\n",
       "      <td>Rocky</td>\n",
       "      <td>http:/review/rw0149538/</td>\n",
       "    </tr>\n",
       "    <tr>\n",
       "      <th>2</th>\n",
       "      <td>Rocky</td>\n",
       "      <td>http:/review/rw0149534/</td>\n",
       "    </tr>\n",
       "    <tr>\n",
       "      <th>3</th>\n",
       "      <td>Rocky</td>\n",
       "      <td>http:/review/rw3451942/</td>\n",
       "    </tr>\n",
       "    <tr>\n",
       "      <th>4</th>\n",
       "      <td>Rocky</td>\n",
       "      <td>http:/review/rw2406266/</td>\n",
       "    </tr>\n",
       "  </tbody>\n",
       "</table>\n",
       "</div>"
      ],
      "text/plain": [
       "   Movie                ReviewURL\n",
       "0  Rocky  http:/review/rw4247059/\n",
       "1  Rocky  http:/review/rw0149538/\n",
       "2  Rocky  http:/review/rw0149534/\n",
       "3  Rocky  http:/review/rw3451942/\n",
       "4  Rocky  http:/review/rw2406266/"
      ]
     },
     "execution_count": 4,
     "metadata": {},
     "output_type": "execute_result"
    }
   ],
   "source": [
    "dfRockyReviews[0:5]"
   ]
  },
  {
   "cell_type": "markdown",
   "metadata": {},
   "source": [
    "#### Web Scraping IMDB Movie Review Details\n",
    "The individual review URLs collected above will be requested and parsed to retrieve key qualitative and categorical data about each review along with the review text itself.  These details are stored in a new dataframe named dfReviewDetails.  The first five records are this dataframe are shown below."
   ]
  },
  {
   "cell_type": "code",
   "execution_count": 5,
   "metadata": {
    "scrolled": true
   },
   "outputs": [
    {
     "data": {
      "text/html": [
       "<div>\n",
       "<style scoped>\n",
       "    .dataframe tbody tr th:only-of-type {\n",
       "        vertical-align: middle;\n",
       "    }\n",
       "\n",
       "    .dataframe tbody tr th {\n",
       "        vertical-align: top;\n",
       "    }\n",
       "\n",
       "    .dataframe thead th {\n",
       "        text-align: right;\n",
       "    }\n",
       "</style>\n",
       "<table border=\"1\" class=\"dataframe\">\n",
       "  <thead>\n",
       "    <tr style=\"text-align: right;\">\n",
       "      <th></th>\n",
       "      <th>Movie</th>\n",
       "      <th>ReviewUrl</th>\n",
       "      <th>ReviewDate</th>\n",
       "      <th>ReviewTitle</th>\n",
       "      <th>Review</th>\n",
       "      <th>Rating</th>\n",
       "      <th>Language</th>\n",
       "    </tr>\n",
       "  </thead>\n",
       "  <tbody>\n",
       "    <tr>\n",
       "      <th>0</th>\n",
       "      <td>Rocky</td>\n",
       "      <td>http:/review/rw4247059/</td>\n",
       "      <td>2018-07-21</td>\n",
       "      <td>Rubbish</td>\n",
       "      <td>The fight scenes are pathetic and the acting i...</td>\n",
       "      <td>1</td>\n",
       "      <td>English</td>\n",
       "    </tr>\n",
       "    <tr>\n",
       "      <th>1</th>\n",
       "      <td>Rocky</td>\n",
       "      <td>http:/review/rw0149538/</td>\n",
       "      <td>1999-11-25</td>\n",
       "      <td>Dumbest, Most Cornball Film Ever Made</td>\n",
       "      <td>I still remember my initial outrage that this ...</td>\n",
       "      <td>1</td>\n",
       "      <td>English</td>\n",
       "    </tr>\n",
       "    <tr>\n",
       "      <th>2</th>\n",
       "      <td>Rocky</td>\n",
       "      <td>http:/review/rw0149534/</td>\n",
       "      <td>1998-08-19</td>\n",
       "      <td>overrated piece of cheese</td>\n",
       "      <td>grubby late-night fare achieved way too much s...</td>\n",
       "      <td>2</td>\n",
       "      <td>English</td>\n",
       "    </tr>\n",
       "    <tr>\n",
       "      <th>3</th>\n",
       "      <td>Rocky</td>\n",
       "      <td>http:/review/rw3451942/</td>\n",
       "      <td>2016-04-15</td>\n",
       "      <td>Hate me if you want but I didn't like this film</td>\n",
       "      <td>I'm going to come out and say it. I didn't lik...</td>\n",
       "      <td>3</td>\n",
       "      <td>English</td>\n",
       "    </tr>\n",
       "    <tr>\n",
       "      <th>4</th>\n",
       "      <td>Rocky</td>\n",
       "      <td>http:/review/rw2406266/</td>\n",
       "      <td>2011-03-30</td>\n",
       "      <td>I can't believe the script was made into a mov...</td>\n",
       "      <td>I was told by many that Rocky is a beautiful m...</td>\n",
       "      <td>3</td>\n",
       "      <td>English</td>\n",
       "    </tr>\n",
       "  </tbody>\n",
       "</table>\n",
       "</div>"
      ],
      "text/plain": [
       "   Movie                ReviewUrl  ReviewDate  \\\n",
       "0  Rocky  http:/review/rw4247059/  2018-07-21   \n",
       "1  Rocky  http:/review/rw0149538/  1999-11-25   \n",
       "2  Rocky  http:/review/rw0149534/  1998-08-19   \n",
       "3  Rocky  http:/review/rw3451942/  2016-04-15   \n",
       "4  Rocky  http:/review/rw2406266/  2011-03-30   \n",
       "\n",
       "                                         ReviewTitle  \\\n",
       "0                                            Rubbish   \n",
       "1              Dumbest, Most Cornball Film Ever Made   \n",
       "2                          overrated piece of cheese   \n",
       "3    Hate me if you want but I didn't like this film   \n",
       "4  I can't believe the script was made into a mov...   \n",
       "\n",
       "                                              Review Rating Language  \n",
       "0  The fight scenes are pathetic and the acting i...      1  English  \n",
       "1  I still remember my initial outrage that this ...      1  English  \n",
       "2  grubby late-night fare achieved way too much s...      2  English  \n",
       "3  I'm going to come out and say it. I didn't lik...      3  English  \n",
       "4  I was told by many that Rocky is a beautiful m...      3  English  "
      ]
     },
     "execution_count": 5,
     "metadata": {},
     "output_type": "execute_result"
    }
   ],
   "source": [
    "dfReviewDetails = pd.DataFrame(columns=['Movie', 'ReviewUrl', 'ReviewDate', 'ReviewTitle', 'Review', 'Rating', \n",
    "                                        'Language'])\n",
    "counter = 0\n",
    "\n",
    "for r in reviewUrls:\n",
    "    fullUrl = \"https://www.imdb.com\" + r[5:]\n",
    "    response2 = requests.get(fullUrl)\n",
    "    soup2 = BeautifulSoup(response2.text, 'html.parser')\n",
    "    rjson = soup2.find('script', type = 'application/ld+json').text\n",
    "    rjson = json.loads(rjson)\n",
    "    \n",
    "    try:\n",
    "        rating = rjson['reviewRating']['ratingValue']\n",
    "    except Exception as e:\n",
    "        #print(\"No User Rating\")\n",
    "        rating = 5\n",
    "        \n",
    "    ### Add stemming logic to review body\n",
    "    \n",
    "    dfReviewDetails = dfReviewDetails.append({'Movie':dfRockyReviews.Movie[counter], 'ReviewUrl':r, \n",
    "                                              'ReviewDate':rjson['dateCreated'], 'ReviewTitle':rjson['name'], \n",
    "                                              'Review':rjson['reviewBody'], 'Rating':rating, \n",
    "                                              'Language':rjson['inLanguage']}, ignore_index=True)\n",
    "    counter += 1\n",
    "\n",
    "dfReviewDetails.head()"
   ]
  },
  {
   "cell_type": "markdown",
   "metadata": {},
   "source": [
    "The bar plot below shows movie review ratings for the reviews collected in the prior step. The original \"Rocky\" is widely considered the best of the \"Rocky\" series.  It won multiple Oscars and introduced \"Steady-Cam\" technology to the movie world.  However, the sample of user reviews collected tell a different story.  "
   ]
  },
  {
   "cell_type": "code",
   "execution_count": 6,
   "metadata": {},
   "outputs": [
    {
     "data": {
      "text/plain": [
       "<matplotlib.axes._subplots.AxesSubplot at 0x1bcefef68d0>"
      ]
     },
     "execution_count": 6,
     "metadata": {},
     "output_type": "execute_result"
    },
    {
     "data": {
      "image/png": "[encoded data removed]",
      "text/plain": [
       "<Figure size 432x288 with 1 Axes>"
      ]
     },
     "metadata": {
      "needs_background": "light"
     },
     "output_type": "display_data"
    }
   ],
   "source": [
    "plotdf = dfReviewDetails.sort_values(by=['ReviewDate'])\n",
    "plotdf.Rating = plotdf.Rating.astype('int64')\n",
    "plotdf.ReviewDate = pd.to_datetime(plotdf.ReviewDate)\n",
    "plotdf = plotdf.groupby(['Movie']).mean().reset_index()\n",
    "sns.barplot(x='Movie', y='Rating', data=plotdf.sort_values(by=['Rating'], ascending=False))"
   ]
  },
  {
   "cell_type": "markdown",
   "metadata": {},
   "source": [
    "### Data Engineering\n",
    "#### Create Additional Features for Topic Modeling"
   ]
  },
  {
   "cell_type": "code",
   "execution_count": 7,
   "metadata": {
    "scrolled": true
   },
   "outputs": [
    {
     "name": "stderr",
     "output_type": "stream",
     "text": [
      "C:\\Anaconda\\lib\\site-packages\\pattern\\text\\__init__.py:625: DeprecationWarning: generator '_read' raised StopIteration\n",
      "  dict.update(self, (x.split(\" \")[:2] for x in _read(self._path) if len(x.split(\" \")) > 1))\n",
      "C:\\Anaconda\\lib\\site-packages\\pattern\\text\\__init__.py:959: DeprecationWarning: generator '_read' raised StopIteration\n",
      "  for x in _read(self.path):\n",
      "C:\\Anaconda\\lib\\site-packages\\pattern\\text\\__init__.py:2127: DeprecationWarning: generator '_read' raised StopIteration\n",
      "  for v in _read(self._path):\n"
     ]
    }
   ],
   "source": [
    "nerList = []\n",
    "hypernymList = []\n",
    "lemmaList = []\n",
    "\n",
    "sw = stop_words.ENGLISH_STOP_WORDS\n",
    "table = str.maketrans('', '', string.punctuation)\n",
    "\n",
    "#tx = tag(dfReviewDetails.Review[2], tokenize=True)\n",
    "\n",
    "#Create Lemmatize, NER, Hypernyms version of each review for topic modeling\n",
    "for dfr in dfReviewDetails.Review:\n",
    "    tlist = []\n",
    "    poslist = []\n",
    "    nlist = []\n",
    "    hlist = []\n",
    "    t1 = tag(dfr, tokenize=True)\n",
    "    for t, pos in t1:\n",
    "        if t not in sw and t not in string.punctuation:\n",
    "            if pos != \"NNPS\" and pos != \"NNP\":\n",
    "                tlist.append(lemma(t))\n",
    "                poslist.append(pos)\n",
    "            else:\n",
    "                nlist.append(t)\n",
    "                tlist.append(t)\n",
    "                poslist.append(pos)\n",
    "            if pos.startswith(\"N\") or pos.startswith(\"V\"):\n",
    "                s = wordnet.synsets(t, pos = pos)\n",
    "                try:\n",
    "                    sout = str(s[0].hypernyms(recursive=False, depth=None))[9:]\n",
    "                    sout = sout.split('.')[0]\n",
    "                    hlist.append(sout)\n",
    "                except Exception as e:\n",
    "                    #print(t2, p2, e) \n",
    "                    pass\n",
    "                \n",
    "    lt = \" \".join(l for l in tlist)\n",
    "    nl = \" \".join(n for n in nlist)\n",
    "    hl = \" \".join(h for h in hlist)\n",
    "    lemmaList.append(lt)\n",
    "    nerList.append(nl)\n",
    "    hypernymList.append(hl)\n"
   ]
  },
  {
   "cell_type": "code",
   "execution_count": 8,
   "metadata": {},
   "outputs": [],
   "source": [
    "dfReviewDetails['nerReview'] = nerList\n",
    "dfReviewDetails['lemmaReview'] = lemmaList\n",
    "dfReviewDetails['hyperReview'] = hypernymList"
   ]
  },
  {
   "cell_type": "code",
   "execution_count": 9,
   "metadata": {
    "scrolled": true
   },
   "outputs": [
    {
     "data": {
      "text/html": [
       "<div>\n",
       "<style scoped>\n",
       "    .dataframe tbody tr th:only-of-type {\n",
       "        vertical-align: middle;\n",
       "    }\n",
       "\n",
       "    .dataframe tbody tr th {\n",
       "        vertical-align: top;\n",
       "    }\n",
       "\n",
       "    .dataframe thead th {\n",
       "        text-align: right;\n",
       "    }\n",
       "</style>\n",
       "<table border=\"1\" class=\"dataframe\">\n",
       "  <thead>\n",
       "    <tr style=\"text-align: right;\">\n",
       "      <th></th>\n",
       "      <th>Movie</th>\n",
       "      <th>ReviewUrl</th>\n",
       "      <th>ReviewDate</th>\n",
       "      <th>ReviewTitle</th>\n",
       "      <th>Review</th>\n",
       "      <th>Rating</th>\n",
       "      <th>Language</th>\n",
       "      <th>nerReview</th>\n",
       "      <th>lemmaReview</th>\n",
       "      <th>hyperReview</th>\n",
       "    </tr>\n",
       "  </thead>\n",
       "  <tbody>\n",
       "    <tr>\n",
       "      <th>0</th>\n",
       "      <td>Rocky</td>\n",
       "      <td>http:/review/rw4247059/</td>\n",
       "      <td>2018-07-21</td>\n",
       "      <td>Rubbish</td>\n",
       "      <td>The fight scenes are pathetic and the acting i...</td>\n",
       "      <td>1</td>\n",
       "      <td>English</td>\n",
       "      <td></td>\n",
       "      <td>the fight scene pathetic act laughable rubbish</td>\n",
       "      <td>military_action area activity waste</td>\n",
       "    </tr>\n",
       "    <tr>\n",
       "      <th>1</th>\n",
       "      <td>Rocky</td>\n",
       "      <td>http:/review/rw0149538/</td>\n",
       "      <td>1999-11-25</td>\n",
       "      <td>Dumbest, Most Cornball Film Ever Made</td>\n",
       "      <td>I still remember my initial outrage that this ...</td>\n",
       "      <td>1</td>\n",
       "      <td>English</td>\n",
       "      <td>Hollywood</td>\n",
       "      <td>i remember initial outrage piece sentimental s...</td>\n",
       "      <td>anger part feed product  remark inability  be...</td>\n",
       "    </tr>\n",
       "    <tr>\n",
       "      <th>2</th>\n",
       "      <td>Rocky</td>\n",
       "      <td>http:/review/rw0149534/</td>\n",
       "      <td>1998-08-19</td>\n",
       "      <td>overrated piece of cheese</td>\n",
       "      <td>grubby late-night fare achieved way too much s...</td>\n",
       "      <td>2</td>\n",
       "      <td>English</td>\n",
       "      <td>Apollo Creed Aki Kaurismaki Rocky VI</td>\n",
       "      <td>grubby late-night fare achieve way succes prim...</td>\n",
       "      <td>agenda succeed property happening message musi...</td>\n",
       "    </tr>\n",
       "    <tr>\n",
       "      <th>3</th>\n",
       "      <td>Rocky</td>\n",
       "      <td>http:/review/rw3451942/</td>\n",
       "      <td>2016-04-15</td>\n",
       "      <td>Hate me if you want but I didn't like this film</td>\n",
       "      <td>I'm going to come out and say it. I didn't lik...</td>\n",
       "      <td>3</td>\n",
       "      <td>English</td>\n",
       "      <td>Rocky Stallone Rocky Rocky God Burgess Meredit...</td>\n",
       "      <td>i be go come say i do be like film i know go h...</td>\n",
       "      <td>travel express  desire product   emotion fact...</td>\n",
       "    </tr>\n",
       "    <tr>\n",
       "      <th>4</th>\n",
       "      <td>Rocky</td>\n",
       "      <td>http:/review/rw2406266/</td>\n",
       "      <td>2011-03-30</td>\n",
       "      <td>I can't believe the script was made into a mov...</td>\n",
       "      <td>I was told by many that Rocky is a beautiful m...</td>\n",
       "      <td>3</td>\n",
       "      <td>English</td>\n",
       "      <td>Rocky Stalone</td>\n",
       "      <td>i tell Rocky beautiful movie i watch i do the ...</td>\n",
       "      <td>express product   product move rate imaginary_...</td>\n",
       "    </tr>\n",
       "  </tbody>\n",
       "</table>\n",
       "</div>"
      ],
      "text/plain": [
       "   Movie                ReviewUrl  ReviewDate  \\\n",
       "0  Rocky  http:/review/rw4247059/  2018-07-21   \n",
       "1  Rocky  http:/review/rw0149538/  1999-11-25   \n",
       "2  Rocky  http:/review/rw0149534/  1998-08-19   \n",
       "3  Rocky  http:/review/rw3451942/  2016-04-15   \n",
       "4  Rocky  http:/review/rw2406266/  2011-03-30   \n",
       "\n",
       "                                         ReviewTitle  \\\n",
       "0                                            Rubbish   \n",
       "1              Dumbest, Most Cornball Film Ever Made   \n",
       "2                          overrated piece of cheese   \n",
       "3    Hate me if you want but I didn't like this film   \n",
       "4  I can't believe the script was made into a mov...   \n",
       "\n",
       "                                              Review Rating Language  \\\n",
       "0  The fight scenes are pathetic and the acting i...      1  English   \n",
       "1  I still remember my initial outrage that this ...      1  English   \n",
       "2  grubby late-night fare achieved way too much s...      2  English   \n",
       "3  I'm going to come out and say it. I didn't lik...      3  English   \n",
       "4  I was told by many that Rocky is a beautiful m...      3  English   \n",
       "\n",
       "                                           nerReview  \\\n",
       "0                                                      \n",
       "1                                          Hollywood   \n",
       "2               Apollo Creed Aki Kaurismaki Rocky VI   \n",
       "3  Rocky Stallone Rocky Rocky God Burgess Meredit...   \n",
       "4                                      Rocky Stalone   \n",
       "\n",
       "                                         lemmaReview  \\\n",
       "0     the fight scene pathetic act laughable rubbish   \n",
       "1  i remember initial outrage piece sentimental s...   \n",
       "2  grubby late-night fare achieve way succes prim...   \n",
       "3  i be go come say i do be like film i know go h...   \n",
       "4  i tell Rocky beautiful movie i watch i do the ...   \n",
       "\n",
       "                                         hyperReview  \n",
       "0                military_action area activity waste  \n",
       "1   anger part feed product  remark inability  be...  \n",
       "2  agenda succeed property happening message musi...  \n",
       "3   travel express  desire product   emotion fact...  \n",
       "4  express product   product move rate imaginary_...  "
      ]
     },
     "execution_count": 9,
     "metadata": {},
     "output_type": "execute_result"
    }
   ],
   "source": [
    "dfReviewDetails.head()"
   ]
  },
  {
   "cell_type": "code",
   "execution_count": 10,
   "metadata": {},
   "outputs": [],
   "source": [
    "dfReviewDetails.to_pickle(\"./dfReviewDetailsPlus.pkl\")"
   ]
  },
  {
   "cell_type": "code",
   "execution_count": 11,
   "metadata": {},
   "outputs": [
    {
     "name": "stdout",
     "output_type": "stream",
     "text": [
      "150\n",
      "150\n",
      "150\n"
     ]
    }
   ],
   "source": [
    "print(len(hypernymList))\n",
    "print(len(lemmaList))\n",
    "print(len(nerList))"
   ]
  },
  {
   "cell_type": "markdown",
   "metadata": {},
   "source": [
    "#### Vectorize Reviews"
   ]
  },
  {
   "cell_type": "code",
   "execution_count": 12,
   "metadata": {},
   "outputs": [],
   "source": [
    "tfidfVectorizer = TfidfVectorizer(max_df=1, min_df=0, stop_words='english', use_idf=True, ngram_range=(1,3))\n",
    "countVectorizer = CountVectorizer(analyzer='word', min_df=9, stop_words='english', lowercase=True)"
   ]
  },
  {
   "cell_type": "code",
   "execution_count": 13,
   "metadata": {},
   "outputs": [
    {
     "data": {
      "text/plain": [
       "(150, 29042)"
      ]
     },
     "execution_count": 13,
     "metadata": {},
     "output_type": "execute_result"
    }
   ],
   "source": [
    "tfidfMatrix = tfidfVectorizer.fit_transform(dfReviewDetails.Review)\n",
    "tfidfMatrix.shape"
   ]
  },
  {
   "cell_type": "code",
   "execution_count": 14,
   "metadata": {},
   "outputs": [
    {
     "data": {
      "text/plain": [
       "(150, 254)"
      ]
     },
     "execution_count": 14,
     "metadata": {},
     "output_type": "execute_result"
    }
   ],
   "source": [
    "cvReview = countVectorizer.fit_transform(dfReviewDetails.Review)\n",
    "cvReview.shape"
   ]
  },
  {
   "cell_type": "code",
   "execution_count": 224,
   "metadata": {},
   "outputs": [
    {
     "data": {
      "text/plain": [
       "(150, 29)"
      ]
     },
     "execution_count": 224,
     "metadata": {},
     "output_type": "execute_result"
    }
   ],
   "source": [
    "cvNer = countVectorizer.fit_transform(dfReviewDetails.nerReview)\n",
    "cvNer.shape"
   ]
  },
  {
   "cell_type": "code",
   "execution_count": 225,
   "metadata": {},
   "outputs": [
    {
     "data": {
      "text/plain": [
       "(150, 273)"
      ]
     },
     "execution_count": 225,
     "metadata": {},
     "output_type": "execute_result"
    }
   ],
   "source": [
    "cvLemma = countVectorizer.fit_transform(dfReviewDetails.lemmaReview)\n",
    "cvLemma.shape"
   ]
  },
  {
   "cell_type": "code",
   "execution_count": 226,
   "metadata": {},
   "outputs": [
    {
     "data": {
      "text/plain": [
       "(150, 167)"
      ]
     },
     "execution_count": 226,
     "metadata": {},
     "output_type": "execute_result"
    }
   ],
   "source": [
    "cvHyper = countVectorizer.fit_transform(dfReviewDetails.hyperReview)\n",
    "cvHyper.shape"
   ]
  },
  {
   "cell_type": "code",
   "execution_count": 227,
   "metadata": {},
   "outputs": [
    {
     "name": "stdout",
     "output_type": "stream",
     "text": [
      "Sparseness:  13.40959409594096 %\n"
     ]
    }
   ],
   "source": [
    "#sparceness\n",
    "cvDense = cvReview.todense()\n",
    "print(\"Sparseness: \", ((cvDense > 0).sum()/cvDense.size)*100, \"%\")"
   ]
  },
  {
   "cell_type": "markdown",
   "metadata": {},
   "source": [
    "### Topic Modelling"
   ]
  },
  {
   "cell_type": "markdown",
   "metadata": {},
   "source": [
    "##### LDA Model GridSearchCV"
   ]
  },
  {
   "cell_type": "code",
   "execution_count": 15,
   "metadata": {},
   "outputs": [],
   "source": [
    "lda = LatentDirichletAllocation()\n",
    "\n",
    "parmGrid = {'n_components': [3, 5, 7, 9], \n",
    "            'learning_method': ['online'], \n",
    "            'random_state': [2019], \n",
    "            'learning_decay': [0.5, 0.7, 0.9], \n",
    "            'max_iter': [5, 10]}\n",
    "\n",
    "ldaGrid = GridSearchCV(lda, param_grid=parmGrid)"
   ]
  },
  {
   "cell_type": "code",
   "execution_count": 16,
   "metadata": {},
   "outputs": [],
   "source": [
    "def modelTopic(matrixIn):\n",
    "    clf = ldaGrid.fit(matrixIn)\n",
    "    print(clf.best_estimator_)\n",
    "    print(clf.best_params_)\n",
    "    return clf"
   ]
  },
  {
   "cell_type": "markdown",
   "metadata": {},
   "source": [
    "#### LDA for Full Reviews"
   ]
  },
  {
   "cell_type": "code",
   "execution_count": 18,
   "metadata": {},
   "outputs": [
    {
     "name": "stdout",
     "output_type": "stream",
     "text": [
      "LatentDirichletAllocation(batch_size=128, doc_topic_prior=None,\n",
      "             evaluate_every=-1, learning_decay=0.9,\n",
      "             learning_method='online', learning_offset=10.0,\n",
      "             max_doc_update_iter=100, max_iter=5, mean_change_tol=0.001,\n",
      "             n_components=3, n_jobs=None, n_topics=None, perp_tol=0.1,\n",
      "             random_state=2019, topic_word_prior=None,\n",
      "             total_samples=1000000.0, verbose=0)\n",
      "{'learning_decay': 0.9, 'learning_method': 'online', 'max_iter': 5, 'n_components': 3, 'random_state': 2019}\n"
     ]
    }
   ],
   "source": [
    "ldaClf = modelTopic(cvReview)"
   ]
  },
  {
   "cell_type": "code",
   "execution_count": 19,
   "metadata": {},
   "outputs": [
    {
     "name": "stdout",
     "output_type": "stream",
     "text": [
      "-42110.14555224803\n"
     ]
    }
   ],
   "source": [
    "#ldaReview = ldaClf.best_estimator_.fit_transform(cvReview)\n",
    "ldaReview = ldaClf.best_estimator_.fit_transform(cvReview)\n",
    "print(ldaClf.score(cvReview))"
   ]
  },
  {
   "cell_type": "code",
   "execution_count": 20,
   "metadata": {},
   "outputs": [
    {
     "data": {
      "text/html": [
       "\n",
       "<link rel=\"stylesheet\" type=\"text/css\" href=\"https://cdn.rawgit.com/bmabey/pyLDAvis/files/ldavis.v1.0.0.css\">\n",
       "\n",
       "\n",
       "<div id=\"ldavis_el882019110491254644669554873\"></div>\n",
       "<script type=\"text/javascript\">\n",
       "\n",
       "var ldavis_el882019110491254644669554873_data = {\"mdsDat\": {\"x\": [-632.0454711914062, -1209.6654052734375, -1437.4532470703125], \"y\": [-384.3250732421875, 212.16412353515625, -586.322509765625], \"topics\": [1, 2, 3], \"cluster\": [1, 1, 1], \"Freq\": [82.02620363954287, 10.225152085918175, 7.748644274538948]}, \"tinfo\": {\"Category\": [\"Default\", \"Default\", \"Default\", \"Default\", \"Default\", \"Default\", \"Default\", \"Default\", \"Default\", \"Default\", \"Default\", \"Default\", \"Default\", \"Default\", \"Default\", \"Default\", \"Default\", \"Default\", \"Default\", \"Default\", \"Default\", \"Default\", \"Default\", \"Default\", \"Default\", \"Default\", \"Default\", \"Default\", \"Default\", \"Default\", \"Topic1\", \"Topic1\", \"Topic1\", \"Topic1\", \"Topic1\", \"Topic1\", \"Topic1\", \"Topic1\", \"Topic1\", \"Topic1\", \"Topic1\", \"Topic1\", \"Topic1\", \"Topic1\", \"Topic1\", \"Topic1\", \"Topic1\", \"Topic1\", \"Topic1\", \"Topic1\", \"Topic1\", \"Topic1\", \"Topic1\", \"Topic1\", \"Topic1\", \"Topic1\", \"Topic1\", \"Topic1\", \"Topic1\", \"Topic1\", \"Topic1\", \"Topic1\", \"Topic1\", \"Topic1\", \"Topic1\", \"Topic1\", \"Topic1\", \"Topic1\", \"Topic1\", \"Topic1\", \"Topic1\", \"Topic1\", \"Topic1\", \"Topic1\", \"Topic1\", \"Topic1\", \"Topic2\", \"Topic2\", \"Topic2\", \"Topic2\", \"Topic2\", \"Topic2\", \"Topic2\", \"Topic2\", \"Topic2\", \"Topic2\", \"Topic2\", \"Topic2\", \"Topic2\", \"Topic2\", \"Topic2\", \"Topic2\", \"Topic2\", \"Topic2\", \"Topic2\", \"Topic2\", \"Topic2\", \"Topic2\", \"Topic2\", \"Topic2\", \"Topic2\", \"Topic2\", \"Topic2\", \"Topic2\", \"Topic2\", \"Topic2\", \"Topic2\", \"Topic2\", \"Topic2\", \"Topic2\", \"Topic2\", \"Topic2\", \"Topic2\", \"Topic2\", \"Topic2\", \"Topic2\", \"Topic2\", \"Topic2\", \"Topic2\", \"Topic2\", \"Topic2\", \"Topic2\", \"Topic2\", \"Topic2\", \"Topic3\", \"Topic3\", \"Topic3\", \"Topic3\", \"Topic3\", \"Topic3\", \"Topic3\", \"Topic3\", \"Topic3\", \"Topic3\", \"Topic3\", \"Topic3\", \"Topic3\", \"Topic3\", \"Topic3\", \"Topic3\", \"Topic3\", \"Topic3\", \"Topic3\", \"Topic3\", \"Topic3\", \"Topic3\", \"Topic3\", \"Topic3\", \"Topic3\", \"Topic3\", \"Topic3\", \"Topic3\", \"Topic3\", \"Topic3\", \"Topic3\", \"Topic3\", \"Topic3\", \"Topic3\", \"Topic3\", \"Topic3\", \"Topic3\", \"Topic3\", \"Topic3\", \"Topic3\", \"Topic3\", \"Topic3\", \"Topic3\", \"Topic3\", \"Topic3\", \"Topic3\", \"Topic3\", \"Topic3\", \"Topic3\", \"Topic3\", \"Topic3\", \"Topic3\", \"Topic3\", \"Topic3\", \"Topic3\"], \"Freq\": [221.0, 110.0, 230.0, 154.0, 89.0, 117.0, 113.0, 86.0, 57.0, 47.0, 42.0, 48.0, 31.0, 73.0, 71.0, 145.0, 112.0, 55.0, 45.0, 23.0, 26.0, 68.0, 36.0, 43.0, 22.0, 38.0, 30.0, 34.0, 61.0, 760.0, 82.3126602377782, 730.2850956842818, 47.05345165763191, 84.81648691029274, 56.8638165570736, 75.41538697811309, 30.612446876745075, 97.87058031521629, 37.2051046877993, 27.848110604731875, 24.544087813773945, 40.51309415217639, 53.3587628582282, 48.357990815105545, 23.907341030671425, 63.19732593241813, 103.19907695252458, 25.359066419743787, 44.17768839765251, 46.34031850225928, 19.752443995609198, 62.54401505071718, 85.49704749807873, 19.718327033730343, 19.220697721380308, 33.421681511300214, 30.709687217963335, 131.44059675808867, 16.032490105651842, 28.786711252716042, 53.10348091916753, 104.44928162577966, 202.77389920247623, 48.90438016533995, 131.8800414044249, 95.18163307711558, 53.22705720570973, 168.34191836977598, 57.66565596002319, 44.56476003828522, 60.862459560907, 58.89604851791804, 68.97225231573903, 47.59972530392077, 65.38804380988161, 62.39837460498398, 8.35618579461151, 4.699696082702672, 4.83624137670133, 6.16609031209736, 11.158291547382449, 7.657029900766248, 5.423440231762832, 5.948819800523253, 9.4529011935805, 45.694100362452076, 10.51715339791479, 12.444967820037396, 3.16466418089321, 5.020943675800838, 4.862372637257773, 4.659974093485424, 14.130701554984448, 3.9522940325944163, 6.868817687316885, 4.619614624403364, 6.8254595604365145, 4.2197177721426025, 4.44833219910162, 4.29073334204866, 6.574012686950436, 7.684494032425033, 5.1557341374361, 7.373989887227686, 4.372577788394526, 4.589666165695608, 46.39908741889122, 19.02572223057551, 9.354290374834035, 8.52649597011301, 12.538742964539692, 6.403601976854409, 7.5401262846267665, 6.149405916716553, 9.094655490200852, 8.917752932432382, 10.014060767781723, 10.851078418282905, 8.26290923597138, 15.567082929002636, 10.623206266176409, 7.303860945514697, 7.085387028769989, 6.372958818579013, 5.624966650547805, 4.660240405397927, 4.659368211868234, 4.975320502955108, 6.369520465328621, 2.909975878955059, 3.312595652098406, 2.931134216118156, 2.180191532503082, 3.3237090668802995, 2.327550030337658, 3.6420682804264835, 1.8785595227929313, 3.6663458374552977, 1.9125858370116722, 2.3057166342546163, 3.186761811190458, 4.428570956353434, 1.6254586044266586, 2.69304933419286, 2.582876081878475, 2.6952475338519912, 2.817455322433716, 2.936254527189538, 2.7129391260759257, 3.411893514106218, 1.967107118058092, 3.5232123366650447, 8.881874788186238, 1.4893676929689126, 2.648187038186691, 4.4483977174415505, 9.274162854405695, 5.446951245678853, 15.554021939586173, 16.88793968415365, 10.884378085927871, 4.886326199530556, 5.819717721895386, 8.211071473332343, 5.247265188780234, 4.015207275820384, 4.219935336701405, 4.093811899802963, 14.736781470055934, 6.427152535979212, 4.393623058015062, 4.186257226297055, 5.4740574475594475, 6.808299391243784, 5.359553831977751, 4.610727314571804, 4.688653566227509, 4.120610392561133, 4.502553614763853], \"Term\": [\"movie\", \"just\", \"film\", \"stallone\", \"like\", \"story\", \"fight\", \"time\", \"boxing\", \"best\", \"don\", \"end\", \"entertaining\", \"movies\", \"character\", \"good\", \"apollo\", \"adrian\", \"meredith\", \"guy\", \"watching\", \"really\", \"does\", \"eye\", \"drama\", \"love\", \"heart\", \"champion\", \"life\", \"rocky\", \"iii\", \"rocky\", \"fights\", \"lang\", \"mickey\", \"clubber\", \"hogan\", \"creed\", \"carl\", \"fame\", \"hulk\", \"weathers\", \"balboa\", \"series\", \"moments\", \"sylvester\", \"apollo\", \"played\", \"new\", \"ii\", \"written\", \"films\", \"mr\", \"previous\", \"performance\", \"feel\", \"young\", \"good\", \"wanted\", \"title\", \"doesn\", \"story\", \"film\", \"great\", \"stallone\", \"fight\", \"life\", \"movie\", \"really\", \"way\", \"movies\", \"character\", \"time\", \"adrian\", \"like\", \"just\", \"worth\", \"lose\", \"main\", \"weight\", \"guy\", \"sense\", \"opinion\", \"maybe\", \"drama\", \"just\", \"watching\", \"entertaining\", \"distance\", \"seeing\", \"enjoy\", \"perfect\", \"don\", \"needs\", \"song\", \"act\", \"emotional\", \"need\", \"entertainment\", \"especially\", \"acting\", \"heart\", \"matter\", \"bit\", \"actually\", \"kind\", \"movie\", \"like\", \"end\", \"meredith\", \"time\", \"boxer\", \"eye\", \"know\", \"movies\", \"character\", \"fight\", \"good\", \"really\", \"rocky\", \"film\", \"mr\", \"stallone\", \"bad\", \"philadelphia\", \"script\", \"greatest\", \"oscar\", \"picture\", \"simply\", \"eyes\", \"sequels\", \"wrote\", \"history\", \"distance\", \"won\", \"doing\", \"fighting\", \"heavy\", \"main\", \"times\", \"fighter\", \"tough\", \"opinion\", \"friend\", \"actor\", \"perfect\", \"paulie\", \"1976\", \"ve\", \"day\", \"chance\", \"best\", \"round\", \"didn\", \"world\", \"boxing\", \"does\", \"stallone\", \"film\", \"story\", \"champion\", \"adrian\", \"fight\", \"end\", \"feels\", \"gets\", \"sequel\", \"rocky\", \"apollo\", \"love\", \"scene\", \"time\", \"movie\", \"like\", \"great\", \"life\", \"make\", \"creed\"], \"Total\": [221.0, 110.0, 230.0, 154.0, 89.0, 117.0, 113.0, 86.0, 57.0, 47.0, 42.0, 48.0, 31.0, 73.0, 71.0, 145.0, 112.0, 55.0, 45.0, 23.0, 26.0, 68.0, 36.0, 43.0, 22.0, 38.0, 30.0, 34.0, 61.0, 760.0, 84.45335119132909, 760.5889600833403, 49.081820169223356, 88.68589224170454, 59.89585905122617, 79.70598485256512, 32.41351338552101, 103.80813436938578, 39.83425881139352, 29.872415868068945, 26.361933587348116, 43.54925953448529, 57.40264511363259, 52.085738563187185, 25.810026977262332, 68.43937443459433, 112.03592695319146, 27.594452903611387, 48.2375782556419, 50.646205006713856, 21.68856540940616, 68.71872183190303, 94.05398907970331, 21.737427283293215, 21.211062661389366, 36.92060538293065, 33.93310207015881, 145.74592267148387, 17.823250889837105, 32.00701553381835, 59.16108476069873, 117.50149592981865, 230.28504515280628, 55.06479047193822, 154.51945037278105, 113.40676531822965, 61.26177826996555, 221.549305179911, 68.27086034385944, 51.26883750653947, 73.48204518850935, 71.01413595877695, 86.98505272783817, 55.96552986084598, 89.77331987243487, 110.6431769315401, 15.057146985229322, 9.197276861141233, 9.895352447198487, 13.05468365594952, 23.924517233107558, 16.52521837275049, 11.983700634901869, 13.67375770186859, 22.70987468368384, 110.6431769315401, 26.228292944556475, 31.752734433747797, 8.126091647360958, 13.188879053929934, 12.788471345920705, 13.030192212307316, 42.2738979949269, 11.956026399535457, 20.9365443829433, 15.896976807750178, 23.736761322160596, 15.007337019956948, 16.036874841702584, 16.404927481072313, 25.387069427738645, 30.084553474025707, 21.40192110002497, 30.859527017101023, 18.34274985185996, 19.385656590742137, 221.549305179911, 89.77331987243487, 48.49855665713601, 45.1784131516927, 86.98505272783817, 29.89836203530275, 43.66251747839938, 29.882159542887486, 73.48204518850935, 71.01413595877695, 113.40676531822965, 145.74592267148387, 68.27086034385944, 760.5889600833403, 230.28504515280628, 94.05398907970331, 154.51945037278105, 45.484249929148625, 8.641482230664852, 9.516237284443713, 11.461759238547666, 13.008665467505036, 16.84986569288351, 7.895379288247902, 9.866923096890085, 9.380227205740463, 7.283766155956229, 11.475357058919181, 8.126091647360958, 13.021868205895995, 7.0862939678059735, 14.63302122620183, 8.20386918591807, 9.895352447198487, 14.063972759620267, 19.63054705353416, 7.230017716450476, 11.983700634901869, 11.667922406221443, 12.398435230908095, 13.030192212307316, 13.590403196673778, 12.937657970624135, 16.3532421438479, 9.802356835718822, 18.87758869046776, 47.744527344591624, 8.088731572926172, 14.650482365721547, 25.23049026300563, 57.532589921707135, 36.940379211713484, 154.51945037278105, 230.28504515280628, 117.50149592981865, 34.03179516359687, 55.96552986084598, 113.40676531822965, 48.49855665713601, 27.682212408210308, 31.104499271649644, 30.58761252154514, 760.5889600833403, 112.03592695319146, 38.32079341777693, 32.95430746357461, 86.98505272783817, 221.549305179911, 89.77331987243487, 55.06479047193822, 61.26177826996555, 37.34742869169837, 103.80813436938578], \"loglift\": [30.0, 29.0, 28.0, 27.0, 26.0, 25.0, 24.0, 23.0, 22.0, 21.0, 20.0, 19.0, 18.0, 17.0, 16.0, 15.0, 14.0, 13.0, 12.0, 11.0, 10.0, 9.0, 8.0, 7.0, 6.0, 5.0, 4.0, 3.0, 2.0, 1.0, 0.1725, 0.1575, 0.1559, 0.1535, 0.1462, 0.1428, 0.141, 0.1392, 0.1299, 0.128, 0.1267, 0.1259, 0.1251, 0.1239, 0.1216, 0.1184, 0.116, 0.1137, 0.1102, 0.1093, 0.1046, 0.104, 0.1027, 0.1006, 0.0996, 0.0986, 0.0983, 0.0948, 0.0922, 0.0921, 0.0901, 0.0804, 0.0709, 0.0795, 0.0397, 0.0229, 0.0575, -0.0765, 0.0293, 0.058, 0.0097, 0.011, -0.0339, 0.0362, -0.1188, -0.3746, 1.6915, 1.6089, 1.5644, 1.5302, 1.5176, 1.5111, 1.4875, 1.448, 1.4038, 1.396, 1.3665, 1.3437, 1.3373, 1.3146, 1.3133, 1.2521, 1.1845, 1.1734, 1.1658, 1.0445, 1.034, 1.0115, 0.998, 0.9392, 0.9292, 0.9155, 0.8569, 0.8488, 0.8464, 0.8396, 0.717, 0.7288, 0.6346, 0.6129, 0.3434, 0.7394, 0.5241, 0.6994, 0.191, 0.2055, -0.1467, -0.3173, 0.1686, -1.6086, -0.796, -0.2751, -0.802, 0.315, 2.1283, 1.8437, 1.6575, 1.5965, 1.5848, 1.5595, 1.4662, 1.3944, 1.3514, 1.3185, 1.3074, 1.2836, 1.23, 1.1736, 1.1015, 1.101, 1.073, 1.0686, 1.0652, 1.0648, 1.0497, 1.0316, 1.0262, 1.0254, 0.9955, 0.9905, 0.9516, 0.8791, 0.8758, 0.8655, 0.8471, 0.8221, 0.7325, 0.6434, 0.2617, -0.0551, 0.1785, 0.6168, 0.2942, -0.0678, 0.3338, 0.627, 0.5601, 0.5465, -1.3861, -0.3006, 0.3918, 0.4943, -0.2081, -0.9249, -0.2608, 0.0775, -0.0124, 0.3534, -0.5802], \"logprob\": [30.0, 29.0, 28.0, 27.0, 26.0, 25.0, 24.0, 23.0, 22.0, 21.0, 20.0, 19.0, 18.0, 17.0, 16.0, 15.0, 14.0, 13.0, 12.0, 11.0, 10.0, 9.0, 8.0, 7.0, 6.0, 5.0, 4.0, 3.0, 2.0, 1.0, -4.3959, -2.213, -4.9551, -4.3659, -4.7658, -4.4834, -5.385, -4.2228, -5.19, -5.4796, -5.6059, -5.1048, -4.8294, -4.9278, -5.6322, -4.6602, -4.1698, -5.5733, -5.0182, -4.9704, -5.8231, -4.6705, -4.3579, -5.8249, -5.8504, -5.2972, -5.3818, -3.9279, -6.0318, -5.4465, -4.8342, -4.1577, -3.4943, -4.9165, -3.9245, -4.2506, -4.8318, -3.6804, -4.7518, -5.0095, -4.6978, -4.7306, -4.5727, -4.9436, -4.6261, -4.6729, -4.6012, -5.1767, -5.1481, -4.9052, -4.312, -4.6886, -5.0335, -4.941, -4.4779, -2.9023, -4.3712, -4.2029, -5.5722, -5.1106, -5.1427, -5.1852, -4.0759, -5.3499, -4.7972, -5.1939, -4.8036, -5.2845, -5.2317, -5.2678, -4.8411, -4.685, -5.0841, -4.7263, -5.2489, -5.2004, -2.8869, -3.7784, -4.4884, -4.581, -4.1954, -4.8674, -4.704, -4.9079, -4.5165, -4.5362, -4.4202, -4.34, -4.6124, -3.9791, -4.3612, -4.7358, -4.7662, -4.8722, -4.7197, -4.9078, -4.908, -4.8424, -4.5954, -5.3787, -5.2492, -5.3715, -5.6675, -5.2458, -5.6021, -5.1543, -5.8164, -5.1477, -5.7984, -5.6115, -5.2879, -4.9588, -5.9611, -5.4562, -5.498, -5.4554, -5.4111, -5.3698, -5.4489, -5.2196, -5.7703, -5.1875, -4.2629, -6.0485, -5.473, -4.9543, -4.2197, -4.7518, -3.7026, -3.6203, -4.0596, -4.8605, -4.6856, -4.3414, -4.7892, -5.0568, -5.0071, -5.0374, -3.7565, -4.5864, -4.9667, -5.0151, -4.7469, -4.5288, -4.768, -4.9185, -4.9017, -5.0309, -4.9422]}, \"token.table\": {\"Topic\": [1, 2, 3, 1, 2, 3, 1, 2, 3, 1, 2, 3, 1, 2, 3, 1, 2, 3, 1, 2, 3, 1, 2, 3, 1, 2, 3, 1, 2, 3, 1, 2, 3, 1, 2, 3, 1, 2, 3, 1, 2, 3, 1, 2, 3, 1, 2, 3, 1, 2, 3, 1, 2, 3, 1, 2, 3, 1, 2, 3, 1, 2, 3, 1, 2, 3, 1, 2, 3, 1, 2, 3, 1, 2, 3, 1, 2, 3, 1, 2, 3, 1, 2, 3, 1, 2, 3, 1, 2, 3, 1, 2, 3, 1, 2, 3, 1, 2, 3, 1, 2, 3, 1, 2, 3, 1, 2, 3, 1, 2, 3, 1, 2, 3, 1, 2, 3, 1, 2, 3, 1, 2, 3, 1, 2, 3, 1, 2, 3, 1, 2, 3, 1, 2, 3, 1, 2, 3, 1, 2, 3, 1, 2, 3, 1, 2, 3, 1, 2, 3, 1, 2, 3, 1, 2, 3, 1, 2, 3, 1, 2, 3, 1, 2, 3, 1, 2, 3, 1, 2, 3, 1, 2, 3, 1, 2, 3, 1, 2, 3, 1, 2, 3, 1, 2, 3, 1, 2, 3, 1, 2, 3, 1, 2, 3, 1, 2, 3, 1, 2, 3, 1, 2, 3, 1, 2, 3, 1, 2, 3, 1, 2, 3, 1, 2, 3, 1, 2, 3, 1, 2, 3, 1, 2, 3, 1, 2, 3, 1, 2, 3, 1, 2, 3, 1, 2, 3, 1, 2, 3, 1, 2, 3, 1, 2, 3, 1, 2, 3, 1, 2, 3, 1, 2, 3, 1, 2, 3, 1, 2, 3, 1, 2, 3, 1, 2, 3, 1, 2, 3, 1, 2, 3, 1, 2, 3, 1, 2, 3, 1, 2, 3, 1, 2, 3, 1, 2, 3, 1, 2, 3, 1, 2, 3, 1, 2, 3, 1, 2, 3, 1, 2, 3, 1, 2, 3, 1, 2, 3, 1, 2, 3, 1, 2, 3, 1, 2, 3, 1, 2, 3, 1, 2, 3, 1, 2, 3, 1, 2, 3, 1, 2, 3, 1, 2, 3, 1, 2, 3, 1, 2, 3, 1, 2, 3, 1, 2, 3, 1, 2, 3, 1, 2, 3], \"Freq\": [0.6956436799021225, 0.07729374221134694, 0.23188122663404084, 0.5661453815301707, 0.314525211961206, 0.12581008478448238, 0.6302421020095348, 0.27573091962917146, 0.11817039412678776, 0.6452427141819297, 0.08065533927274121, 0.24196601781822363, 0.7087268869166744, 0.21806981135897674, 0.054517452839744185, 0.8576707862741286, 0.05360442414213304, 0.10720884828426608, 0.919347952046073, 0.017851416544583942, 0.05355424963375183, 0.8354540320922752, 0.13191379454088556, 0.021985632423480925, 0.9233024000040897, 0.017420800000077164, 0.05226240000023149, 0.7749579283287483, 0.041889617747499906, 0.1885032798637496, 0.7129078805326, 0.22683432562400913, 0.06480980732114545, 0.6689329661733585, 0.20067988985200755, 0.10033994492600377, 0.7821653789832506, 0.05214435859888337, 0.1564330757966501, 0.9288487122400567, 0.02510401924973126, 0.05020803849946252, 0.822760006205933, 0.02938428593592618, 0.1469214296796309, 0.7416201417223006, 0.05297286726587862, 0.21189146906351447, 0.8308205007838011, 0.12673533062803746, 0.04224511020934582, 0.9409581995471238, 0.037638327981884954, 0.012546109327294984, 0.9440493328902492, 0.009633156458063768, 0.048165782290318836, 0.7141139745589234, 0.10201628207984621, 0.20403256415969243, 0.6825713823182703, 0.13651427646365408, 0.2047714146954811, 0.3691811673049841, 0.3691811673049841, 0.24612077820332276, 0.7309074940800425, 0.1353532396444523, 0.1353532396444523, 0.8958591650978044, 0.06761201246021165, 0.03380600623010582, 0.5644699497611249, 0.14111748744028121, 0.28223497488056243, 0.6150367303038897, 0.3311736240097868, 0.04731051771568383, 0.5284045009998022, 0.39630337574985164, 0.044033708416650184, 0.6319311972015335, 0.2949012253607156, 0.04212874648010223, 0.701051790888653, 0.1855725328822905, 0.10309585160127249, 0.46917257252282096, 0.3909771437690175, 0.156390857507607, 0.5668803119163507, 0.3779202079442338, 0.06298670132403897, 0.623562888574513, 0.24942515542980523, 0.06235628885745131, 0.6095729476121005, 0.24382917904484017, 0.12191458952242008, 0.8016028855256713, 0.18322351669158202, 0.022902939586447752, 0.5067435867191393, 0.20269743468765575, 0.3040461520314836, 0.9373195701232053, 0.033475698932971615, 0.033475698932971615, 0.8938098294362408, 0.054170292693105505, 0.054170292693105505, 0.686361325454058, 0.14449712114822275, 0.14449712114822275, 0.8376925286019877, 0.0881781609054724, 0.07054252872437791, 0.7131742157679467, 0.10188203082399239, 0.20376406164798477, 0.6833858740048869, 0.06833858740048869, 0.27335434960195476, 0.9575846991402174, 0.02037414253489824, 0.02037414253489824, 0.8815162090325874, 0.04776688817417961, 0.07382155445100486, 0.9167807304988598, 0.043656225261850465, 0.043656225261850465, 0.6856404869245897, 0.08570506086557371, 0.2571151825967211, 0.8037422426146039, 0.06429937940916831, 0.12859875881833663, 0.8988244583368438, 0.07547380947866626, 0.020583766221454438, 0.8898608272190027, 0.03632085009057154, 0.09080212522642885, 0.4362332078294079, 0.17449328313176315, 0.4362332078294079, 0.45977939252951056, 0.45977939252951056, 0.04179812659359187, 0.6647929814636447, 0.2659171925854579, 0.0997189472195467, 0.6094685186573298, 0.12189370373146596, 0.24378740746293193, 0.6100028054952132, 0.08714325792788762, 0.26142977378366283, 0.956391231992999, 0.03085133006429029, 0.03085133006429029, 0.948337113329132, 0.03793348453316528, 0.03793348453316528, 0.9082615369483669, 0.03948963204123334, 0.03948963204123334, 0.9709502209596038, 0.0118408563531659, 0.0118408563531659, 0.560359903967347, 0.41575089649190267, 0.027114188901645825, 0.6705989007464577, 0.25792265413325294, 0.10316906165330118, 0.7362252372833078, 0.20078870107726576, 0.03346478351287763, 0.9584387984544486, 0.03382725171015701, 0.011275750570052336, 0.8651397575571846, 0.04897017495606706, 0.08161695826011175, 0.7240458534045862, 0.21164417253364826, 0.05569583487727586, 0.4349113395618347, 0.5436391744522934, 0.10872783489045867, 0.7567692997334173, 0.13047746547127886, 0.10438197237702308, 0.30317262735288847, 0.5052877122548142, 0.20211508490192565, 0.830043756315966, 0.08032681512735156, 0.10710242016980208, 0.6541468840376047, 0.2336238871562874, 0.09344955486251495, 0.438796717831271, 0.438796717831271, 0.14626557261042367, 0.7747062713885658, 0.1992101840713455, 0.02213446489681617, 0.9516517652956697, 0.03339129001037438, 0.03339129001037438, 0.9298711706556178, 0.03874463211065074, 0.03874463211065074, 0.7582962170139698, 0.20762872608715838, 0.03159567570891541, 0.8301347607230016, 0.12247889912306581, 0.05443506627691814, 0.9037362565023077, 0.07442533877077828, 0.010632191252968326, 0.599706662683172, 0.2665362945258542, 0.1332681472629271, 0.5854788009059582, 0.3345593148034047, 0.08363982870085117, 0.9121519278355092, 0.06219217689787563, 0.02073072563262521, 0.33378670928663057, 0.4172333866082882, 0.2503400319649729, 0.538102852862627, 0.07687183612323244, 0.3843591806161622, 0.7358133423478914, 0.07358133423478914, 0.22074400270436742, 0.460469032400985, 0.3837241936674875, 0.2302345162004925, 0.8957589868698951, 0.047145209835257634, 0.047145209835257634, 0.23144177660897944, 0.11572088830448972, 0.6943253298269383, 0.5341288864872746, 0.05934765405414162, 0.35608592432484976, 0.9059791867345977, 0.0362391674693839, 0.0362391674693839, 0.920072083018373, 0.04600360415091865, 0.04600360415091865, 0.8495571860069104, 0.11718030151819454, 0.029295075379548636, 0.9597825347346765, 0.021036329528431263, 0.01972155893290431, 0.6181438900427259, 0.24725755601709032, 0.12362877800854516, 0.8193162617616503, 0.06069009346382595, 0.1213801869276519, 0.42033420147465633, 0.10508355036866408, 0.5254177518433204, 0.5307501851655988, 0.37910727511828485, 0.15164291004731395, 0.4235950074670575, 0.48410857996235146, 0.12102714499058786, 0.8173243329269532, 0.03269297331707813, 0.1307718932683125, 0.5330361291185064, 0.10660722582370129, 0.31982167747110385, 0.921557442096542, 0.03839822675402258, 0.03839822675402258, 0.3799690794418748, 0.2533127196279165, 0.3799690794418748, 0.5253971141943339, 0.334343618123667, 0.14329012205300015, 0.8542613870392857, 0.045301740221780296, 0.10354683479264068, 0.885095114551709, 0.017021059895225173, 0.09361582942373844, 0.9205227330095983, 0.029222943905066613, 0.043834415857599916, 0.7932397329905585, 0.14945096418662696, 0.0574811400717796, 0.7110366445469427, 0.07110366445469427, 0.2133109933640828, 0.9060513614385209, 0.031243150394431755, 0.06248630078886351, 0.5532489900956661, 0.13831224752391652, 0.27662449504783304, 0.6726494907395599, 0.12229990740719272, 0.1834498611107891, 0.8977037970734771, 0.05610648731709232, 0.05610648731709232, 0.5337747305779431, 0.41939443116838393, 0.07625353293970616, 0.877726162491204, 0.07802010333255147, 0.03901005166627573, 0.9414626204501455, 0.022962502937808427, 0.045925005875616855, 0.3830043018868028, 0.45960516226416337, 0.1532017207547211, 0.6143511724667732, 0.07679389655834665, 0.3071755862333866, 0.7530571067760372, 0.07926916913431971, 0.15853833826863942, 0.3320682201551777, 0.5313091522482842, 0.13282728806207106, 0.9221449008944667, 0.046107245044723334, 0.046107245044723334, 0.5491664496572338, 0.13729161241430846, 0.2745832248286169, 0.9135622182700999, 0.029469748976454834, 0.05893949795290967], \"Term\": [\"1976\", \"1976\", \"1976\", \"act\", \"act\", \"act\", \"acting\", \"acting\", \"acting\", \"actor\", \"actor\", \"actor\", \"actually\", \"actually\", \"actually\", \"adrian\", \"adrian\", \"adrian\", \"apollo\", \"apollo\", \"apollo\", \"bad\", \"bad\", \"bad\", \"balboa\", \"balboa\", \"balboa\", \"best\", \"best\", \"best\", \"bit\", \"bit\", \"bit\", \"boxer\", \"boxer\", \"boxer\", \"boxing\", \"boxing\", \"boxing\", \"carl\", \"carl\", \"carl\", \"champion\", \"champion\", \"champion\", \"chance\", \"chance\", \"chance\", \"character\", \"character\", \"character\", \"clubber\", \"clubber\", \"clubber\", \"creed\", \"creed\", \"creed\", \"day\", \"day\", \"day\", \"didn\", \"didn\", \"didn\", \"distance\", \"distance\", \"distance\", \"does\", \"does\", \"does\", \"doesn\", \"doesn\", \"doesn\", \"doing\", \"doing\", \"doing\", \"don\", \"don\", \"don\", \"drama\", \"drama\", \"drama\", \"emotional\", \"emotional\", \"emotional\", \"end\", \"end\", \"end\", \"enjoy\", \"enjoy\", \"enjoy\", \"entertaining\", \"entertaining\", \"entertaining\", \"entertainment\", \"entertainment\", \"entertainment\", \"especially\", \"especially\", \"especially\", \"eye\", \"eye\", \"eye\", \"eyes\", \"eyes\", \"eyes\", \"fame\", \"fame\", \"fame\", \"feel\", \"feel\", \"feel\", \"feels\", \"feels\", \"feels\", \"fight\", \"fight\", \"fight\", \"fighter\", \"fighter\", \"fighter\", \"fighting\", \"fighting\", \"fighting\", \"fights\", \"fights\", \"fights\", \"film\", \"film\", \"film\", \"films\", \"films\", \"films\", \"friend\", \"friend\", \"friend\", \"gets\", \"gets\", \"gets\", \"good\", \"good\", \"good\", \"great\", \"great\", \"great\", \"greatest\", \"greatest\", \"greatest\", \"guy\", \"guy\", \"guy\", \"heart\", \"heart\", \"heart\", \"heavy\", \"heavy\", \"heavy\", \"history\", \"history\", \"history\", \"hogan\", \"hogan\", \"hogan\", \"hulk\", \"hulk\", \"hulk\", \"ii\", \"ii\", \"ii\", \"iii\", \"iii\", \"iii\", \"just\", \"just\", \"just\", \"kind\", \"kind\", \"kind\", \"know\", \"know\", \"know\", \"lang\", \"lang\", \"lang\", \"life\", \"life\", \"life\", \"like\", \"like\", \"like\", \"lose\", \"lose\", \"lose\", \"love\", \"love\", \"love\", \"main\", \"main\", \"main\", \"make\", \"make\", \"make\", \"matter\", \"matter\", \"matter\", \"maybe\", \"maybe\", \"maybe\", \"meredith\", \"meredith\", \"meredith\", \"mickey\", \"mickey\", \"mickey\", \"moments\", \"moments\", \"moments\", \"movie\", \"movie\", \"movie\", \"movies\", \"movies\", \"movies\", \"mr\", \"mr\", \"mr\", \"need\", \"need\", \"need\", \"needs\", \"needs\", \"needs\", \"new\", \"new\", \"new\", \"opinion\", \"opinion\", \"opinion\", \"oscar\", \"oscar\", \"oscar\", \"paulie\", \"paulie\", \"paulie\", \"perfect\", \"perfect\", \"perfect\", \"performance\", \"performance\", \"performance\", \"philadelphia\", \"philadelphia\", \"philadelphia\", \"picture\", \"picture\", \"picture\", \"played\", \"played\", \"played\", \"previous\", \"previous\", \"previous\", \"really\", \"really\", \"really\", \"rocky\", \"rocky\", \"rocky\", \"round\", \"round\", \"round\", \"scene\", \"scene\", \"scene\", \"script\", \"script\", \"script\", \"seeing\", \"seeing\", \"seeing\", \"sense\", \"sense\", \"sense\", \"sequel\", \"sequel\", \"sequel\", \"sequels\", \"sequels\", \"sequels\", \"series\", \"series\", \"series\", \"simply\", \"simply\", \"simply\", \"song\", \"song\", \"song\", \"stallone\", \"stallone\", \"stallone\", \"story\", \"story\", \"story\", \"sylvester\", \"sylvester\", \"sylvester\", \"time\", \"time\", \"time\", \"times\", \"times\", \"times\", \"title\", \"title\", \"title\", \"tough\", \"tough\", \"tough\", \"ve\", \"ve\", \"ve\", \"wanted\", \"wanted\", \"wanted\", \"watching\", \"watching\", \"watching\", \"way\", \"way\", \"way\", \"weathers\", \"weathers\", \"weathers\", \"weight\", \"weight\", \"weight\", \"won\", \"won\", \"won\", \"world\", \"world\", \"world\", \"worth\", \"worth\", \"worth\", \"written\", \"written\", \"written\", \"wrote\", \"wrote\", \"wrote\", \"young\", \"young\", \"young\"]}, \"R\": 30, \"lambda.step\": 0.01, \"plot.opts\": {\"xlab\": \"PC1\", \"ylab\": \"PC2\"}, \"topic.order\": [1, 2, 3]};\n",
       "\n",
       "function LDAvis_load_lib(url, callback){\n",
       "  var s = document.createElement('script');\n",
       "  s.src = url;\n",
       "  s.async = true;\n",
       "  s.onreadystatechange = s.onload = callback;\n",
       "  s.onerror = function(){console.warn(\"failed to load library \" + url);};\n",
       "  document.getElementsByTagName(\"head\")[0].appendChild(s);\n",
       "}\n",
       "\n",
       "if(typeof(LDAvis) !== \"undefined\"){\n",
       "   // already loaded: just create the visualization\n",
       "   !function(LDAvis){\n",
       "       new LDAvis(\"#\" + \"ldavis_el882019110491254644669554873\", ldavis_el882019110491254644669554873_data);\n",
       "   }(LDAvis);\n",
       "}else if(typeof define === \"function\" && define.amd){\n",
       "   // require.js is available: use it to load d3/LDAvis\n",
       "   require.config({paths: {d3: \"https://cdnjs.cloudflare.com/ajax/libs/d3/3.5.5/d3.min\"}});\n",
       "   require([\"d3\"], function(d3){\n",
       "      window.d3 = d3;\n",
       "      LDAvis_load_lib(\"https://cdn.rawgit.com/bmabey/pyLDAvis/files/ldavis.v1.0.0.js\", function(){\n",
       "        new LDAvis(\"#\" + \"ldavis_el882019110491254644669554873\", ldavis_el882019110491254644669554873_data);\n",
       "      });\n",
       "    });\n",
       "}else{\n",
       "    // require.js not available: dynamically load d3 & LDAvis\n",
       "    LDAvis_load_lib(\"https://cdnjs.cloudflare.com/ajax/libs/d3/3.5.5/d3.min.js\", function(){\n",
       "         LDAvis_load_lib(\"https://cdn.rawgit.com/bmabey/pyLDAvis/files/ldavis.v1.0.0.js\", function(){\n",
       "                 new LDAvis(\"#\" + \"ldavis_el882019110491254644669554873\", ldavis_el882019110491254644669554873_data);\n",
       "            })\n",
       "         });\n",
       "}\n",
       "</script>"
      ],
      "text/plain": [
       "PreparedData(topic_coordinates=                 x           y  topics  cluster       Freq\n",
       "topic                                                     \n",
       "0      -632.045471 -384.325073       1        1  82.026204\n",
       "1     -1209.665405  212.164124       2        1  10.225152\n",
       "2     -1437.453247 -586.322510       3        1   7.748644, topic_info=    Category        Freq          Term       Total  loglift  logprob\n",
       "145  Default  221.000000         movie  221.000000  30.0000  30.0000\n",
       "113  Default  110.000000          just  110.000000  29.0000  29.0000\n",
       "80   Default  230.000000          film  230.000000  28.0000  28.0000\n",
       "208  Default  154.000000      stallone  154.000000  27.0000  27.0000\n",
       "120  Default   89.000000          like   89.000000  26.0000  26.0000\n",
       "211  Default  117.000000         story  117.000000  25.0000  25.0000\n",
       "76   Default  113.000000         fight  113.000000  24.0000  24.0000\n",
       "222  Default   86.000000          time   86.000000  23.0000  23.0000\n",
       "24   Default   57.000000        boxing   57.000000  22.0000  22.0000\n",
       "19   Default   47.000000          best   47.000000  21.0000  21.0000\n",
       "56   Default   42.000000           don   42.000000  20.0000  20.0000\n",
       "60   Default   48.000000           end   48.000000  19.0000  19.0000\n",
       "62   Default   31.000000  entertaining   31.000000  18.0000  18.0000\n",
       "146  Default   73.000000        movies   73.000000  17.0000  17.0000\n",
       "34   Default   71.000000     character   71.000000  16.0000  16.0000\n",
       "93   Default  145.000000          good  145.000000  15.0000  15.0000\n",
       "10   Default  112.000000        apollo  112.000000  14.0000  14.0000\n",
       "7    Default   55.000000        adrian   55.000000  13.0000  13.0000\n",
       "141  Default   45.000000      meredith   45.000000  12.0000  12.0000\n",
       "97   Default   23.000000           guy   23.000000  11.0000  11.0000\n",
       "237  Default   26.000000      watching   26.000000  10.0000  10.0000\n",
       "177  Default   68.000000        really   68.000000   9.0000   9.0000\n",
       "53   Default   36.000000          does   36.000000   8.0000   8.0000\n",
       "65   Default   43.000000           eye   43.000000   7.0000   7.0000\n",
       "57   Default   22.000000         drama   22.000000   6.0000   6.0000\n",
       "131  Default   38.000000          love   38.000000   5.0000   5.0000\n",
       "99   Default   30.000000         heart   30.000000   4.0000   4.0000\n",
       "31   Default   34.000000      champion   34.000000   3.0000   3.0000\n",
       "119  Default   61.000000          life   61.000000   2.0000   2.0000\n",
       "184  Default  760.000000         rocky  760.000000   1.0000   1.0000\n",
       "..       ...         ...           ...         ...      ...      ...\n",
       "232   Topic3    3.411894            ve   16.353242   0.9905  -5.2196\n",
       "45    Topic3    1.967107           day    9.802357   0.9516  -5.7703\n",
       "32    Topic3    3.523212        chance   18.877589   0.8791  -5.1875\n",
       "19    Topic3    8.881875          best   47.744527   0.8758  -4.2629\n",
       "186   Topic3    1.489368         round    8.088732   0.8655  -6.0485\n",
       "48    Topic3    2.648187          didn   14.650482   0.8471  -5.4730\n",
       "248   Topic3    4.448398         world   25.230490   0.8221  -4.9543\n",
       "24    Topic3    9.274163        boxing   57.532590   0.7325  -4.2197\n",
       "53    Topic3    5.446951          does   36.940379   0.6434  -4.7518\n",
       "208   Topic3   15.554022      stallone  154.519450   0.2617  -3.7026\n",
       "80    Topic3   16.887940          film  230.285045  -0.0551  -3.6203\n",
       "211   Topic3   10.884378         story  117.501496   0.1785  -4.0596\n",
       "31    Topic3    4.886326      champion   34.031795   0.6168  -4.8605\n",
       "7     Topic3    5.819718        adrian   55.965530   0.2942  -4.6856\n",
       "76    Topic3    8.211071         fight  113.406765  -0.0678  -4.3414\n",
       "60    Topic3    5.247265           end   48.498557   0.3338  -4.7892\n",
       "75    Topic3    4.015207         feels   27.682212   0.6270  -5.0568\n",
       "86    Topic3    4.219935          gets   31.104499   0.5601  -5.0071\n",
       "197   Topic3    4.093812        sequel   30.587613   0.5465  -5.0374\n",
       "184   Topic3   14.736781         rocky  760.588960  -1.3861  -3.7565\n",
       "10    Topic3    6.427153        apollo  112.035927  -0.3006  -4.5864\n",
       "131   Topic3    4.393623          love   38.320793   0.3918  -4.9667\n",
       "188   Topic3    4.186257         scene   32.954307   0.4943  -5.0151\n",
       "222   Topic3    5.474057          time   86.985053  -0.2081  -4.7469\n",
       "145   Topic3    6.808299         movie  221.549305  -0.9249  -4.5288\n",
       "120   Topic3    5.359554          like   89.773320  -0.2608  -4.7680\n",
       "95    Topic3    4.610727         great   55.064790   0.0775  -4.9185\n",
       "119   Topic3    4.688654          life   61.261778  -0.0124  -4.9017\n",
       "133   Topic3    4.120610          make   37.347429   0.3534  -5.0309\n",
       "44    Topic3    4.502554         creed  103.808134  -0.5802  -4.9422\n",
       "\n",
       "[179 rows x 6 columns], token_table=      Topic      Freq      Term\n",
       "term                           \n",
       "1         1  0.695644      1976\n",
       "1         2  0.077294      1976\n",
       "1         3  0.231881      1976\n",
       "2         1  0.566145       act\n",
       "2         2  0.314525       act\n",
       "2         3  0.125810       act\n",
       "3         1  0.630242    acting\n",
       "3         2  0.275731    acting\n",
       "3         3  0.118170    acting\n",
       "5         1  0.645243     actor\n",
       "5         2  0.080655     actor\n",
       "5         3  0.241966     actor\n",
       "6         1  0.708727  actually\n",
       "6         2  0.218070  actually\n",
       "6         3  0.054517  actually\n",
       "7         1  0.857671    adrian\n",
       "7         2  0.053604    adrian\n",
       "7         3  0.107209    adrian\n",
       "10        1  0.919348    apollo\n",
       "10        2  0.017851    apollo\n",
       "10        3  0.053554    apollo\n",
       "14        1  0.835454       bad\n",
       "14        2  0.131914       bad\n",
       "14        3  0.021986       bad\n",
       "15        1  0.923302    balboa\n",
       "15        2  0.017421    balboa\n",
       "15        3  0.052262    balboa\n",
       "19        1  0.774958      best\n",
       "19        2  0.041890      best\n",
       "19        3  0.188503      best\n",
       "...     ...       ...       ...\n",
       "237       1  0.533775  watching\n",
       "237       2  0.419394  watching\n",
       "237       3  0.076254  watching\n",
       "238       1  0.877726       way\n",
       "238       2  0.078020       way\n",
       "238       3  0.039010       way\n",
       "239       1  0.941463  weathers\n",
       "239       2  0.022963  weathers\n",
       "239       3  0.045925  weathers\n",
       "240       1  0.383004    weight\n",
       "240       2  0.459605    weight\n",
       "240       3  0.153202    weight\n",
       "245       1  0.614351       won\n",
       "245       2  0.076794       won\n",
       "245       3  0.307176       won\n",
       "248       1  0.753057     world\n",
       "248       2  0.079269     world\n",
       "248       3  0.158538     world\n",
       "249       1  0.332068     worth\n",
       "249       2  0.531309     worth\n",
       "249       3  0.132827     worth\n",
       "250       1  0.922145   written\n",
       "250       2  0.046107   written\n",
       "250       3  0.046107   written\n",
       "251       1  0.549166     wrote\n",
       "251       2  0.137292     wrote\n",
       "251       3  0.274583     wrote\n",
       "253       1  0.913562     young\n",
       "253       2  0.029470     young\n",
       "253       3  0.058939     young\n",
       "\n",
       "[354 rows x 3 columns], R=30, lambda_step=0.01, plot_opts={'xlab': 'PC1', 'ylab': 'PC2'}, topic_order=[1, 2, 3])"
      ]
     },
     "execution_count": 20,
     "metadata": {},
     "output_type": "execute_result"
    }
   ],
   "source": [
    "pyLDAvis.enable_notebook()\n",
    "panel = pyLDAvis.sklearn.prepare(ldaClf.best_estimator_, cvReview, countVectorizer, mds='tsne')\n",
    "#panel = pyLDAvis.sklearn.prepare(ldaClf.best_estimator_, cvHyper, countVectorizer, mds='tsne')\n",
    "panel"
   ]
  },
  {
   "cell_type": "code",
   "execution_count": 216,
   "metadata": {},
   "outputs": [
    {
     "data": {
      "text/plain": [
       "GridSearchCV(cv='warn', error_score='raise-deprecating',\n",
       "       estimator=LatentDirichletAllocation(batch_size=128, doc_topic_prior=None,\n",
       "             evaluate_every=-1, learning_decay=0.7,\n",
       "             learning_method='batch', learning_offset=10.0,\n",
       "             max_doc_update_iter=100, max_iter=10, mean_change_tol=0.001,\n",
       "             n_components=10, n_jobs=None, n_topics=None, perp_tol=0.1,\n",
       "             random_state=None, topic_word_prior=None,\n",
       "             total_samples=1000000.0, verbose=0),\n",
       "       fit_params=None, iid='warn', n_jobs=None,\n",
       "       param_grid={'n_topics': [3, 5, 7, 9], 'learning_method': ['online'], 'random_state': [2019], 'learning_decay': [0.5, 0.7, 0.9], 'max_iter': [5, 10]},\n",
       "       pre_dispatch='2*n_jobs', refit=True, return_train_score='warn',\n",
       "       scoring=None, verbose=0)"
      ]
     },
     "execution_count": 216,
     "metadata": {},
     "output_type": "execute_result"
    }
   ],
   "source": [
    "ldaGrid.fit(cvReview)"
   ]
  },
  {
   "cell_type": "code",
   "execution_count": 217,
   "metadata": {
    "scrolled": true
   },
   "outputs": [
    {
     "name": "stdout",
     "output_type": "stream",
     "text": [
      "Best Estimator: LatentDirichletAllocation(batch_size=128, doc_topic_prior=None,\n",
      "             evaluate_every=-1, learning_decay=0.9,\n",
      "             learning_method='online', learning_offset=10.0,\n",
      "             max_doc_update_iter=100, max_iter=5, mean_change_tol=0.001,\n",
      "             n_components=10, n_jobs=None, n_topics=3, perp_tol=0.1,\n",
      "             random_state=2019, topic_word_prior=None,\n",
      "             total_samples=1000000.0, verbose=0)\n",
      "{'learning_decay': 0.9, 'learning_method': 'online', 'max_iter': 5, 'n_topics': 3, 'random_state': 2019}\n"
     ]
    }
   ],
   "source": [
    "print(\"Best Estimator:\", ldaGrid.best_estimator_)\n",
    "print(ldaGrid.best_params_)"
   ]
  },
  {
   "cell_type": "markdown",
   "metadata": {},
   "source": [
    "##### Full Review Model Scoring"
   ]
  },
  {
   "cell_type": "code",
   "execution_count": 207,
   "metadata": {},
   "outputs": [
    {
     "name": "stdout",
     "output_type": "stream",
     "text": [
      "Log Likelihood: -44264.03007073572\n"
     ]
    }
   ],
   "source": [
    "ldaTest = ldaGrid.best_estimator_.fit_transform(cvReview)\n",
    "print(\"Log Likelihood:\", ldaGrid.best_estimator_.score(cvReview))"
   ]
  },
  {
   "cell_type": "code",
   "execution_count": null,
   "metadata": {},
   "outputs": [],
   "source": []
  },
  {
   "cell_type": "code",
   "execution_count": 218,
   "metadata": {},
   "outputs": [],
   "source": [
    "## Original trained model\n",
    "#\n",
    "#lda = LatentDirichletAllocation(n_topics=10, max_iter=5, learning_method='online', random_state=2019, batch_size=120, \n",
    "#                               evaluate_every=-1, n_jobs=-1)\n",
    "#\n",
    "#ldaFit = lda.fit_transform(cvMatrix)\n",
    "ldaBest = LatentDirichletAllocation(n_topics=3, max_iter=5, learning_method='online', learning_decay=0.9, \n",
    "                                    random_state=2019, evaluate_every=-1, n_jobs=-1)\n",
    "ldaBestFit = ldaBest.fit_transform(cvReview)"
   ]
  },
  {
   "cell_type": "code",
   "execution_count": 219,
   "metadata": {},
   "outputs": [
    {
     "name": "stdout",
     "output_type": "stream",
     "text": [
      "Log Likelihood: -44257.87710120041\n",
      "Perplexity: 187.40711341898282\n"
     ]
    }
   ],
   "source": [
    "print(\"Log Likelihood:\", ldaBest.score(cvReview))\n",
    "print(\"Perplexity:\", ldaBest.perplexity(cvReview))"
   ]
  },
  {
   "cell_type": "markdown",
   "metadata": {},
   "source": [
    "##### LDA Model Scoring\n",
    "\n",
    "Original Model\n",
    "\n",
    "print(\"Log Likelihood:\", lda.score(cvMatrix))\n",
    "\n",
    "print(\"Perplexity:\", lda.perplexity(cvMatrix))\n",
    "\n",
    "Log Likelihood: -65854.02334362216\n",
    "\n",
    "Perplexity: 456.28047756163363"
   ]
  },
  {
   "cell_type": "markdown",
   "metadata": {},
   "source": [
    "##### pyLDAvis Plotting"
   ]
  },
  {
   "cell_type": "code",
   "execution_count": 220,
   "metadata": {},
   "outputs": [
    {
     "ename": "AssertionError",
     "evalue": "Term frequencies and vocabulary are of different sizes, 271 != 167.",
     "output_type": "error",
     "traceback": [
      "\u001b[1;31m---------------------------------------------------------------------------\u001b[0m",
      "\u001b[1;31mAssertionError\u001b[0m                            Traceback (most recent call last)",
      "\u001b[1;32m<ipython-input-220-052a2adf677e>\u001b[0m in \u001b[0;36m<module>\u001b[1;34m\u001b[0m\n\u001b[0;32m      1\u001b[0m \u001b[0mpyLDAvis\u001b[0m\u001b[1;33m.\u001b[0m\u001b[0menable_notebook\u001b[0m\u001b[1;33m(\u001b[0m\u001b[1;33m)\u001b[0m\u001b[1;33m\u001b[0m\u001b[1;33m\u001b[0m\u001b[0m\n\u001b[0;32m      2\u001b[0m \u001b[1;31m#panel = pyLDAvis.sklearn.prepare(lda, cvMatrix, countVectorizer, mds='tsne')\u001b[0m\u001b[1;33m\u001b[0m\u001b[1;33m\u001b[0m\u001b[1;33m\u001b[0m\u001b[0m\n\u001b[1;32m----> 3\u001b[1;33m \u001b[0mpanel\u001b[0m \u001b[1;33m=\u001b[0m \u001b[0mpyLDAvis\u001b[0m\u001b[1;33m.\u001b[0m\u001b[0msklearn\u001b[0m\u001b[1;33m.\u001b[0m\u001b[0mprepare\u001b[0m\u001b[1;33m(\u001b[0m\u001b[0mldaBest\u001b[0m\u001b[1;33m,\u001b[0m \u001b[0mcvReview\u001b[0m\u001b[1;33m,\u001b[0m \u001b[0mcountVectorizer\u001b[0m\u001b[1;33m,\u001b[0m \u001b[0mmds\u001b[0m\u001b[1;33m=\u001b[0m\u001b[1;34m'tsne'\u001b[0m\u001b[1;33m)\u001b[0m\u001b[1;33m\u001b[0m\u001b[1;33m\u001b[0m\u001b[0m\n\u001b[0m\u001b[0;32m      4\u001b[0m \u001b[0mpanel\u001b[0m\u001b[1;33m\u001b[0m\u001b[1;33m\u001b[0m\u001b[0m\n",
      "\u001b[1;32mC:\\Anaconda\\lib\\site-packages\\pyLDAvis\\sklearn.py\u001b[0m in \u001b[0;36mprepare\u001b[1;34m(lda_model, dtm, vectorizer, **kwargs)\u001b[0m\n\u001b[0;32m     92\u001b[0m     \u001b[0mSee\u001b[0m\u001b[0;31m \u001b[0m\u001b[0;31m`\u001b[0m\u001b[0mpyLDAvis\u001b[0m\u001b[1;33m.\u001b[0m\u001b[0mprepare\u001b[0m\u001b[0;31m`\u001b[0m \u001b[1;32mfor\u001b[0m \u001b[1;33m**\u001b[0m\u001b[0mkwargs\u001b[0m\u001b[1;33m.\u001b[0m\u001b[1;33m\u001b[0m\u001b[1;33m\u001b[0m\u001b[0m\n\u001b[0;32m     93\u001b[0m     \"\"\"\n\u001b[1;32m---> 94\u001b[1;33m     \u001b[0mopts\u001b[0m \u001b[1;33m=\u001b[0m \u001b[0mfp\u001b[0m\u001b[1;33m.\u001b[0m\u001b[0mmerge\u001b[0m\u001b[1;33m(\u001b[0m\u001b[0m_extract_data\u001b[0m\u001b[1;33m(\u001b[0m\u001b[0mlda_model\u001b[0m\u001b[1;33m,\u001b[0m \u001b[0mdtm\u001b[0m\u001b[1;33m,\u001b[0m \u001b[0mvectorizer\u001b[0m\u001b[1;33m)\u001b[0m\u001b[1;33m,\u001b[0m \u001b[0mkwargs\u001b[0m\u001b[1;33m)\u001b[0m\u001b[1;33m\u001b[0m\u001b[1;33m\u001b[0m\u001b[0m\n\u001b[0m\u001b[0;32m     95\u001b[0m     \u001b[1;32mreturn\u001b[0m \u001b[0mpyLDAvis\u001b[0m\u001b[1;33m.\u001b[0m\u001b[0mprepare\u001b[0m\u001b[1;33m(\u001b[0m\u001b[1;33m**\u001b[0m\u001b[0mopts\u001b[0m\u001b[1;33m)\u001b[0m\u001b[1;33m\u001b[0m\u001b[1;33m\u001b[0m\u001b[0m\n",
      "\u001b[1;32mC:\\Anaconda\\lib\\site-packages\\pyLDAvis\\sklearn.py\u001b[0m in \u001b[0;36m_extract_data\u001b[1;34m(lda_model, dtm, vectorizer)\u001b[0m\n\u001b[0;32m     43\u001b[0m     \u001b[1;32massert\u001b[0m \u001b[0mterm_freqs\u001b[0m\u001b[1;33m.\u001b[0m\u001b[0mshape\u001b[0m\u001b[1;33m[\u001b[0m\u001b[1;36m0\u001b[0m\u001b[1;33m]\u001b[0m \u001b[1;33m==\u001b[0m \u001b[0mlen\u001b[0m\u001b[1;33m(\u001b[0m\u001b[0mvocab\u001b[0m\u001b[1;33m)\u001b[0m\u001b[1;33m,\u001b[0m\u001b[0;31m \u001b[0m\u001b[0;31m\\\u001b[0m\u001b[1;33m\u001b[0m\u001b[1;33m\u001b[0m\u001b[0m\n\u001b[0;32m     44\u001b[0m         ('Term frequencies and vocabulary are of different sizes, {} != {}.'\n\u001b[1;32m---> 45\u001b[1;33m          .format(term_freqs.shape[0], len(vocab)))\n\u001b[0m\u001b[0;32m     46\u001b[0m \u001b[1;33m\u001b[0m\u001b[0m\n\u001b[0;32m     47\u001b[0m     \u001b[1;32massert\u001b[0m \u001b[0mtopic_term_dists\u001b[0m\u001b[1;33m.\u001b[0m\u001b[0mshape\u001b[0m\u001b[1;33m[\u001b[0m\u001b[1;36m1\u001b[0m\u001b[1;33m]\u001b[0m \u001b[1;33m==\u001b[0m \u001b[0mdtm\u001b[0m\u001b[1;33m.\u001b[0m\u001b[0mshape\u001b[0m\u001b[1;33m[\u001b[0m\u001b[1;36m1\u001b[0m\u001b[1;33m]\u001b[0m\u001b[1;33m,\u001b[0m\u001b[0;31m \u001b[0m\u001b[0;31m\\\u001b[0m\u001b[1;33m\u001b[0m\u001b[1;33m\u001b[0m\u001b[0m\n",
      "\u001b[1;31mAssertionError\u001b[0m: Term frequencies and vocabulary are of different sizes, 271 != 167."
     ]
    }
   ],
   "source": [
    "pyLDAvis.enable_notebook()\n",
    "#panel = pyLDAvis.sklearn.prepare(lda, cvMatrix, countVectorizer, mds='tsne')\n",
    "panel = pyLDAvis.sklearn.prepare(ldaBest, cvReview, countVectorizer, mds='tsne')\n",
    "panel"
   ]
  },
  {
   "cell_type": "markdown",
   "metadata": {},
   "source": [
    "#### LDA for Named Entity Recognition"
   ]
  },
  {
   "cell_type": "code",
   "execution_count": null,
   "metadata": {},
   "outputs": [],
   "source": []
  }
 ],
 "metadata": {
  "kernelspec": {
   "display_name": "Python 3",
   "language": "python",
   "name": "python3"
  },
  "language_info": {
   "codemirror_mode": {
    "name": "ipython",
    "version": 3
   },
   "file_extension": ".py",
   "mimetype": "text/x-python",
   "name": "python",
   "nbconvert_exporter": "python",
   "pygments_lexer": "ipython3",
   "version": "3.6.8"
  }
 },
 "nbformat": 4,
 "nbformat_minor": 2
}
