{
 "cells": [
  {
   "cell_type": "markdown",
   "metadata": {},
   "source": [
    "## Topic Modeling IMDB Movie Reviews\n",
    "### DS 7337 - Natural Laguage Processing - FInal Project\n",
    "#### George C. Sturrock\n",
    "##### April 14, 2019\n",
    "##### Resources\n",
    "https://www.machinelearningplus.com/nlp/topic-modeling-python-sklearn-examples/\n",
    "#### Import Libraries"
   ]
  },
  {
   "cell_type": "code",
   "execution_count": 1,
   "metadata": {},
   "outputs": [
    {
     "name": "stdout",
     "output_type": "stream",
     "text": [
      "Platform: Windows-10-10.0.14393-SP0\n",
      "Python: 3.6.8 |Anaconda, Inc.| (default, Feb 21 2019, 18:30:04) [MSC v.1916 64 bit (AMD64)]\n",
      "Requests: 2.21.0\n",
      "BeatifulSoup: 4.7.1\n",
      "json: 2.0.9\n",
      "Numpy Version: 1.16.2\n",
      "Pandas Version: 0.24.2\n",
      "Pattern Version: 3.6\n",
      "pyLDAvis Versoin: 2.1.2\n"
     ]
    }
   ],
   "source": [
    "import platform; print(\"Platform:\", platform.platform())\n",
    "import os\n",
    "import sys; print(\"Python:\", sys.version)\n",
    "import requests; print(\"Requests:\", requests.__version__)\n",
    "from urllib import request; (\"urllib:\", request.__version__)\n",
    "import warnings\n",
    "warnings.filterwarnings('ignore')\n",
    "from time import sleep\n",
    "\n",
    "#Web Scraping\n",
    "import bs4; print(\"BeatifulSoup:\", bs4.__version__)\n",
    "from bs4 import BeautifulSoup\n",
    "import json; print(\"json:\", json.__version__)\n",
    "\n",
    "#Python Basics\n",
    "import numpy as np; print(\"Numpy Version:\", np.__version__)\n",
    "import pandas as pd; print(\"Pandas Version:\", pd.__version__)\n",
    "from matplotlib import pyplot as plt\n",
    "import seaborn as sns;\n",
    "import string\n",
    "\n",
    "#scikit learn\n",
    "from sklearn import metrics\n",
    "from sklearn.feature_extraction import stop_words\n",
    "#print(stop_words.ENGLISH_STOP_WORDS)\n",
    "from sklearn.feature_extraction.text import TfidfVectorizer, CountVectorizer\n",
    "from sklearn.decomposition import LatentDirichletAllocation, NMF\n",
    "from sklearn.model_selection import GridSearchCV\n",
    "\n",
    "import pattern; print(\"Pattern Version:\", pattern.__version__)\n",
    "from pattern.en import tag, parse, Sentence\n",
    "from pattern.en import parsetree\n",
    "from pattern.en import sentiment, positive\n",
    "from pattern.vector import Document, Model, TFIDF, TF\n",
    "from pattern.vector import words, stem, PORTER, LEMMA\n",
    "\n",
    "#pyLDAvis\n",
    "import pyLDAvis; print(\"pyLDAvis Versoin:\", pyLDAvis.__version__)\n",
    "import pyLDAvis.sklearn"
   ]
  },
  {
   "cell_type": "markdown",
   "metadata": {},
   "source": [
    "### Data Acquisition\n",
    "The first three films in the \"Rocky\" series will be utilized to collect reviews for noun phrase chunking.  Link to the main user review page for each of the three movies are shown below.  To assure both positive and negative reviews are collected, there are two links per movie.  One is sorted descending by user rating.  The other is sorted ascending by user rating.  Both links have \"spoiler alert\" messages suppressed as these reviews are often more akin to a summarization of the movie plot instead of a true review.  "
   ]
  },
  {
   "cell_type": "code",
   "execution_count": 2,
   "metadata": {},
   "outputs": [],
   "source": [
    "#Rocky movie list.  Two links for each movie to assure positive and negative reviews are captured.  \n",
    "#Sort descending by Review Rating.  Sort ascending by Review Rating.\n",
    "\n",
    "#Rocky\n",
    "rockyDict = {\"aRocky\":\"https://www.imdb.com/title/tt0075148/reviews?spoiler=hide&sort=userRating&dir=asc&ratingFilter=0\", \n",
    "         \"dRocky\":\"https://www.imdb.com/title/tt0075148/reviews?spoiler=hide&sort=userRating&dir=desc&ratingFilter=0\", \n",
    "#Rocky 2\n",
    "         \"dRocky 2\":\"https://www.imdb.com/title/tt0079817/reviews?spoiler=hide&sort=userRating&dir=desc&ratingFilter=0\",\n",
    "         \"aRocky 2\":\"https://www.imdb.com/title/tt0079817/reviews?spoiler=hide&sort=userRating&dir=asc&ratingFilter=0\",\n",
    "#Rocky 3\n",
    "         \"dRocky 3\":\"https://www.imdb.com/title/tt0084602/reviews?spoiler=hide&sort=userRating&dir=desc&ratingFilter=0\",\n",
    "         \"aRocky 3\":\"https://www.imdb.com/title/tt0084602/reviews?spoiler=hide&sort=userRating&dir=asc&ratingFilter=0\"\n",
    "            }\n",
    "\n",
    "rockyKeys = rockyDict.keys()"
   ]
  },
  {
   "cell_type": "markdown",
   "metadata": {},
   "source": [
    "#### Web Scraping IMDB Movie Review Titles\n",
    "The individual links to the user reviews are collected below.  A get request uses each of the links in the \"rockyDict\" python dictionary.  The response is parsed by Beautiful Soup to find the individual links to each individual review.  The review URLs along with the movie name are written to a dataframe named dfRockyReviews."
   ]
  },
  {
   "cell_type": "code",
   "execution_count": 3,
   "metadata": {},
   "outputs": [],
   "source": [
    "reviewUrls = list()\n",
    "dfRockyReviews = pd.DataFrame(columns = ['Movie', 'ReviewURL'])\n",
    "\n",
    "for r in rockyKeys:\n",
    "    #print(r, rockyDict[r])\n",
    "    response = requests.get(rockyDict[r])\n",
    "    soup = BeautifulSoup(response.text, 'html.parser')\n",
    "    rUrls = [\"http:\" + s.attrs['href'] for s in soup.find_all(href = True, class_ = 'title')]\n",
    "    reviewUrls = reviewUrls + rUrls\n",
    "    for u in rUrls:\n",
    "        dfRockyReviews = dfRockyReviews.append({'Movie':r[1:], 'ReviewURL':u}, ignore_index=True)"
   ]
  },
  {
   "cell_type": "markdown",
   "metadata": {},
   "source": [
    "A sample of the dfRockyReviews dataframe is shown below."
   ]
  },
  {
   "cell_type": "code",
   "execution_count": 4,
   "metadata": {},
   "outputs": [
    {
     "data": {
      "text/html": [
       "<div>\n",
       "<style scoped>\n",
       "    .dataframe tbody tr th:only-of-type {\n",
       "        vertical-align: middle;\n",
       "    }\n",
       "\n",
       "    .dataframe tbody tr th {\n",
       "        vertical-align: top;\n",
       "    }\n",
       "\n",
       "    .dataframe thead th {\n",
       "        text-align: right;\n",
       "    }\n",
       "</style>\n",
       "<table border=\"1\" class=\"dataframe\">\n",
       "  <thead>\n",
       "    <tr style=\"text-align: right;\">\n",
       "      <th></th>\n",
       "      <th>Movie</th>\n",
       "      <th>ReviewURL</th>\n",
       "    </tr>\n",
       "  </thead>\n",
       "  <tbody>\n",
       "    <tr>\n",
       "      <th>0</th>\n",
       "      <td>Rocky</td>\n",
       "      <td>http:/review/rw0149538/</td>\n",
       "    </tr>\n",
       "    <tr>\n",
       "      <th>1</th>\n",
       "      <td>Rocky</td>\n",
       "      <td>http:/review/rw4247059/</td>\n",
       "    </tr>\n",
       "    <tr>\n",
       "      <th>2</th>\n",
       "      <td>Rocky</td>\n",
       "      <td>http:/review/rw0149534/</td>\n",
       "    </tr>\n",
       "    <tr>\n",
       "      <th>3</th>\n",
       "      <td>Rocky</td>\n",
       "      <td>http:/review/rw1979442/</td>\n",
       "    </tr>\n",
       "    <tr>\n",
       "      <th>4</th>\n",
       "      <td>Rocky</td>\n",
       "      <td>http:/review/rw3451942/</td>\n",
       "    </tr>\n",
       "  </tbody>\n",
       "</table>\n",
       "</div>"
      ],
      "text/plain": [
       "   Movie                ReviewURL\n",
       "0  Rocky  http:/review/rw0149538/\n",
       "1  Rocky  http:/review/rw4247059/\n",
       "2  Rocky  http:/review/rw0149534/\n",
       "3  Rocky  http:/review/rw1979442/\n",
       "4  Rocky  http:/review/rw3451942/"
      ]
     },
     "execution_count": 4,
     "metadata": {},
     "output_type": "execute_result"
    }
   ],
   "source": [
    "dfRockyReviews[0:5]"
   ]
  },
  {
   "cell_type": "markdown",
   "metadata": {},
   "source": [
    "#### Web Scraping IMDB Movie Review Details\n",
    "The individual review URLs collected above will be requested and parsed to retrieve key qualitative and categorical data about each review along with the review text itself.  These details are stored in a new dataframe named dfReviewDetails.  The first five records are this dataframe are shown below."
   ]
  },
  {
   "cell_type": "code",
   "execution_count": 5,
   "metadata": {
    "scrolled": true
   },
   "outputs": [
    {
     "data": {
      "text/html": [
       "<div>\n",
       "<style scoped>\n",
       "    .dataframe tbody tr th:only-of-type {\n",
       "        vertical-align: middle;\n",
       "    }\n",
       "\n",
       "    .dataframe tbody tr th {\n",
       "        vertical-align: top;\n",
       "    }\n",
       "\n",
       "    .dataframe thead th {\n",
       "        text-align: right;\n",
       "    }\n",
       "</style>\n",
       "<table border=\"1\" class=\"dataframe\">\n",
       "  <thead>\n",
       "    <tr style=\"text-align: right;\">\n",
       "      <th></th>\n",
       "      <th>Movie</th>\n",
       "      <th>ReviewUrl</th>\n",
       "      <th>ReviewDate</th>\n",
       "      <th>ReviewTitle</th>\n",
       "      <th>Review</th>\n",
       "      <th>Rating</th>\n",
       "      <th>Language</th>\n",
       "    </tr>\n",
       "  </thead>\n",
       "  <tbody>\n",
       "    <tr>\n",
       "      <th>0</th>\n",
       "      <td>Rocky</td>\n",
       "      <td>http:/review/rw0149538/</td>\n",
       "      <td>1999-11-25</td>\n",
       "      <td>Dumbest, Most Cornball Film Ever Made</td>\n",
       "      <td>I still remember my initial outrage that this ...</td>\n",
       "      <td>1</td>\n",
       "      <td>English</td>\n",
       "    </tr>\n",
       "    <tr>\n",
       "      <th>1</th>\n",
       "      <td>Rocky</td>\n",
       "      <td>http:/review/rw4247059/</td>\n",
       "      <td>2018-07-21</td>\n",
       "      <td>Rubbish</td>\n",
       "      <td>The fight scenes are pathetic and the acting i...</td>\n",
       "      <td>1</td>\n",
       "      <td>English</td>\n",
       "    </tr>\n",
       "    <tr>\n",
       "      <th>2</th>\n",
       "      <td>Rocky</td>\n",
       "      <td>http:/review/rw0149534/</td>\n",
       "      <td>1998-08-19</td>\n",
       "      <td>overrated piece of cheese</td>\n",
       "      <td>grubby late-night fare achieved way too much s...</td>\n",
       "      <td>2</td>\n",
       "      <td>English</td>\n",
       "    </tr>\n",
       "    <tr>\n",
       "      <th>3</th>\n",
       "      <td>Rocky</td>\n",
       "      <td>http:/review/rw1979442/</td>\n",
       "      <td>2008-11-22</td>\n",
       "      <td>The most overrated movie of all time</td>\n",
       "      <td>I went to see this movie when it came out. I h...</td>\n",
       "      <td>3</td>\n",
       "      <td>English</td>\n",
       "    </tr>\n",
       "    <tr>\n",
       "      <th>4</th>\n",
       "      <td>Rocky</td>\n",
       "      <td>http:/review/rw3451942/</td>\n",
       "      <td>2016-04-15</td>\n",
       "      <td>Hate me if you want but I didn't like this film</td>\n",
       "      <td>I'm going to come out and say it. I didn't lik...</td>\n",
       "      <td>3</td>\n",
       "      <td>English</td>\n",
       "    </tr>\n",
       "  </tbody>\n",
       "</table>\n",
       "</div>"
      ],
      "text/plain": [
       "   Movie                ReviewUrl  ReviewDate  \\\n",
       "0  Rocky  http:/review/rw0149538/  1999-11-25   \n",
       "1  Rocky  http:/review/rw4247059/  2018-07-21   \n",
       "2  Rocky  http:/review/rw0149534/  1998-08-19   \n",
       "3  Rocky  http:/review/rw1979442/  2008-11-22   \n",
       "4  Rocky  http:/review/rw3451942/  2016-04-15   \n",
       "\n",
       "                                       ReviewTitle  \\\n",
       "0            Dumbest, Most Cornball Film Ever Made   \n",
       "1                                          Rubbish   \n",
       "2                        overrated piece of cheese   \n",
       "3             The most overrated movie of all time   \n",
       "4  Hate me if you want but I didn't like this film   \n",
       "\n",
       "                                              Review Rating Language  \n",
       "0  I still remember my initial outrage that this ...      1  English  \n",
       "1  The fight scenes are pathetic and the acting i...      1  English  \n",
       "2  grubby late-night fare achieved way too much s...      2  English  \n",
       "3  I went to see this movie when it came out. I h...      3  English  \n",
       "4  I'm going to come out and say it. I didn't lik...      3  English  "
      ]
     },
     "execution_count": 5,
     "metadata": {},
     "output_type": "execute_result"
    }
   ],
   "source": [
    "dfReviewDetails = pd.DataFrame(columns=['Movie', 'ReviewUrl', 'ReviewDate', 'ReviewTitle', 'Review', 'Rating', \n",
    "                                        'Language'])\n",
    "counter = 0\n",
    "\n",
    "for r in reviewUrls:\n",
    "    fullUrl = \"https://www.imdb.com\" + r[5:]\n",
    "    response2 = requests.get(fullUrl)\n",
    "    soup2 = BeautifulSoup(response2.text, 'html.parser')\n",
    "    rjson = soup2.find('script', type = 'application/ld+json').text\n",
    "    rjson = json.loads(rjson)\n",
    "    \n",
    "    try:\n",
    "        rating = rjson['reviewRating']['ratingValue']\n",
    "    except Exception as e:\n",
    "        #print(\"No User Rating\")\n",
    "        rating = 5\n",
    "        \n",
    "    ### Add stemming logic to review body\n",
    "    \n",
    "    dfReviewDetails = dfReviewDetails.append({'Movie':dfRockyReviews.Movie[counter], 'ReviewUrl':r, \n",
    "                                              'ReviewDate':rjson['dateCreated'], 'ReviewTitle':rjson['name'], \n",
    "                                              'Review':rjson['reviewBody'], 'Rating':rating, \n",
    "                                              'Language':rjson['inLanguage']}, ignore_index=True)\n",
    "    counter += 1\n",
    "\n",
    "dfReviewDetails.head()"
   ]
  },
  {
   "cell_type": "markdown",
   "metadata": {},
   "source": [
    "The bar plot below shows movie review ratings for the reviews collected in the prior step. The original \"Rocky\" is widely considered the best of the \"Rocky\" series.  It won multiple Oscars and introduced \"Steady-Cam\" technology to the movie world.  However, the sample of user reviews collected tell a different story.  "
   ]
  },
  {
   "cell_type": "code",
   "execution_count": 6,
   "metadata": {},
   "outputs": [
    {
     "data": {
      "text/plain": [
       "<matplotlib.axes._subplots.AxesSubplot at 0x16f98ca1240>"
      ]
     },
     "execution_count": 6,
     "metadata": {},
     "output_type": "execute_result"
    },
    {
     "data": {
      "image/png": "[encoded data removed]",
      "text/plain": [
       "<Figure size 432x288 with 1 Axes>"
      ]
     },
     "metadata": {
      "needs_background": "light"
     },
     "output_type": "display_data"
    }
   ],
   "source": [
    "plotdf = dfReviewDetails.sort_values(by=['ReviewDate'])\n",
    "plotdf.Rating = plotdf.Rating.astype('int64')\n",
    "plotdf.ReviewDate = pd.to_datetime(plotdf.ReviewDate)\n",
    "plotdf = plotdf.groupby(['Movie']).mean().reset_index()\n",
    "sns.barplot(x='Movie', y='Rating', data=plotdf.sort_values(by=['Rating'], ascending=False))"
   ]
  },
  {
   "cell_type": "markdown",
   "metadata": {},
   "source": [
    "### Data Cleansing"
   ]
  },
  {
   "cell_type": "markdown",
   "metadata": {},
   "source": [
    "#### Vectorize Reviews"
   ]
  },
  {
   "cell_type": "code",
   "execution_count": 11,
   "metadata": {},
   "outputs": [],
   "source": [
    "tfidfVectorizer = TfidfVectorizer(max_df=1, min_df=0, stop_words='english', use_idf=True, ngram_range=(1,3))\n",
    "countVectorizer = CountVectorizer(analyzer='word', min_df=7, stop_words='english', lowercase=True)"
   ]
  },
  {
   "cell_type": "code",
   "execution_count": 12,
   "metadata": {},
   "outputs": [
    {
     "data": {
      "text/plain": [
       "(150, 29421)"
      ]
     },
     "execution_count": 12,
     "metadata": {},
     "output_type": "execute_result"
    }
   ],
   "source": [
    "tfidfMatrix = tfidfVectorizer.fit_transform(dfReviewDetails.Review)\n",
    "tfidfMatrix.shape"
   ]
  },
  {
   "cell_type": "code",
   "execution_count": 13,
   "metadata": {},
   "outputs": [
    {
     "data": {
      "text/plain": [
       "(150, 353)"
      ]
     },
     "execution_count": 13,
     "metadata": {},
     "output_type": "execute_result"
    }
   ],
   "source": [
    "cvMatrix = countVectorizer.fit_transform(dfReviewDetails.Review)\n",
    "cvMatrix.shape"
   ]
  },
  {
   "cell_type": "code",
   "execution_count": 14,
   "metadata": {},
   "outputs": [
    {
     "name": "stdout",
     "output_type": "stream",
     "text": [
      "Sparseness:  11.244570349386214 %\n"
     ]
    }
   ],
   "source": [
    "#sparceness\n",
    "cvDense = cvMatrix.todense()\n",
    "print(\"Sparseness: \", ((cvDense > 0).sum()/cvDense.size)*100, \"%\")"
   ]
  },
  {
   "cell_type": "markdown",
   "metadata": {},
   "source": [
    "##### LDA Model GridSearchCV"
   ]
  },
  {
   "cell_type": "code",
   "execution_count": 20,
   "metadata": {},
   "outputs": [],
   "source": [
    "lda = LatentDirichletAllocation()\n",
    "\n",
    "parmGrid = {'n_components': [3, 5, 7, 9, 11], \n",
    "            'learning_method': ['online'], \n",
    "            'random_state': [2019], \n",
    "            'learning_decay': [0.5, 0.7, 0.9], \n",
    "            'max_iter': [5, 10]}\n",
    "\n",
    "ldaGrid = GridSearchCV(lda, param_grid=parmGrid)"
   ]
  },
  {
   "cell_type": "code",
   "execution_count": 21,
   "metadata": {},
   "outputs": [
    {
     "data": {
      "text/plain": [
       "GridSearchCV(cv='warn', error_score='raise-deprecating',\n",
       "       estimator=LatentDirichletAllocation(batch_size=128, doc_topic_prior=None,\n",
       "             evaluate_every=-1, learning_decay=0.7,\n",
       "             learning_method='batch', learning_offset=10.0,\n",
       "             max_doc_update_iter=100, max_iter=10, mean_change_tol=0.001,\n",
       "             n_components=10, n_jobs=None, n_topics=None, perp_tol=0.1,\n",
       "             random_state=None, topic_word_prior=None,\n",
       "             total_samples=1000000.0, verbose=0),\n",
       "       fit_params=None, iid='warn', n_jobs=None,\n",
       "       param_grid={'n_components': [3, 5, 7, 9, 11], 'learning_method': ['online'], 'random_state': [2019], 'learning_decay': [0.5, 0.7, 0.9], 'max_iter': [5, 10]},\n",
       "       pre_dispatch='2*n_jobs', refit=True, return_train_score='warn',\n",
       "       scoring=None, verbose=0)"
      ]
     },
     "execution_count": 21,
     "metadata": {},
     "output_type": "execute_result"
    }
   ],
   "source": [
    "ldaGrid.fit(cvMatrix)"
   ]
  },
  {
   "cell_type": "code",
   "execution_count": 22,
   "metadata": {},
   "outputs": [
    {
     "name": "stdout",
     "output_type": "stream",
     "text": [
      "Best Estimator: LatentDirichletAllocation(batch_size=128, doc_topic_prior=None,\n",
      "             evaluate_every=-1, learning_decay=0.9,\n",
      "             learning_method='online', learning_offset=10.0,\n",
      "             max_doc_update_iter=100, max_iter=10, mean_change_tol=0.001,\n",
      "             n_components=3, n_jobs=None, n_topics=None, perp_tol=0.1,\n",
      "             random_state=2019, topic_word_prior=None,\n",
      "             total_samples=1000000.0, verbose=0)\n",
      "{'learning_decay': 0.9, 'learning_method': 'online', 'max_iter': 10, 'n_components': 3, 'random_state': 2019}\n"
     ]
    }
   ],
   "source": [
    "print(\"Best Estimator:\", ldaGrid.best_estimator_)\n",
    "print(ldaGrid.best_params_)"
   ]
  },
  {
   "cell_type": "markdown",
   "metadata": {},
   "source": [
    "#### LDA Model"
   ]
  },
  {
   "cell_type": "code",
   "execution_count": 31,
   "metadata": {},
   "outputs": [],
   "source": [
    "## Original trained model\n",
    "#\n",
    "#lda = LatentDirichletAllocation(n_topics=10, max_iter=5, learning_method='online', random_state=2019, batch_size=120, \n",
    "#                               evaluate_every=-1, n_jobs=-1)\n",
    "#\n",
    "#ldaFit = lda.fit_transform(cvMatrix)\n",
    "ldaBest = LatentDirichletAllocation(n_components=7, max_iter=5, learning_method='online', learning_decay=0.9, random_state=2019, batch_size=120, \n",
    "                                    evaluate_every=-1, n_jobs=-1)\n",
    "ldaBestFit = ldaBest.fit_transform(cvMatrix)"
   ]
  },
  {
   "cell_type": "code",
   "execution_count": 32,
   "metadata": {},
   "outputs": [
    {
     "name": "stdout",
     "output_type": "stream",
     "text": [
      "Log Likelihood: -49783.02045106632\n",
      "Perplexity: 273.65924928958503\n"
     ]
    }
   ],
   "source": [
    "print(\"Log Likelihood:\", ldaBest.score(cvMatrix))\n",
    "print(\"Perplexity:\", ldaBest.perplexity(cvMatrix))"
   ]
  },
  {
   "cell_type": "markdown",
   "metadata": {},
   "source": [
    "##### LDA Model Scoring\n",
    "\n",
    "Original Model\n",
    "\n",
    "print(\"Log Likelihood:\", lda.score(cvMatrix))\n",
    "\n",
    "print(\"Perplexity:\", lda.perplexity(cvMatrix))\n",
    "\n",
    "Log Likelihood: -65854.02334362216\n",
    "\n",
    "Perplexity: 456.28047756163363"
   ]
  },
  {
   "cell_type": "code",
   "execution_count": 33,
   "metadata": {},
   "outputs": [],
   "source": [
    "#print(\"Log Likelihood:\", lda.score(cvMatrix))\n",
    "#print(\"Perplexity:\", lda.perplexity(cvMatrix))"
   ]
  },
  {
   "cell_type": "markdown",
   "metadata": {},
   "source": [
    "#### pyLDAvis Plotting"
   ]
  },
  {
   "cell_type": "code",
   "execution_count": 34,
   "metadata": {},
   "outputs": [
    {
     "data": {
      "text/html": [
       "\n",
       "<link rel=\"stylesheet\" type=\"text/css\" href=\"https://cdn.rawgit.com/bmabey/pyLDAvis/files/ldavis.v1.0.0.css\">\n",
       "\n",
       "\n",
       "<div id=\"ldavis_el484015788278388326890758440\"></div>\n",
       "<script type=\"text/javascript\">\n",
       "\n",
       "var ldavis_el484015788278388326890758440_data = {\"mdsDat\": {\"x\": [-75.6476821899414, -53.7719841003418, -54.88299560546875, -76.75334167480469, -33.006874084472656, -34.121826171875, -55.993465423583984], \"y\": [43.21807861328125, 54.570892333984375, 29.950241088867188, 18.603715896606445, 41.297489166259766, 16.68105125427246, 5.335083961486816], \"topics\": [1, 2, 3, 4, 5, 6, 7], \"cluster\": [1, 1, 1, 1, 1, 1, 1], \"Freq\": [67.54815026065154, 19.857004400385282, 11.385820495451418, 0.5050522102662979, 0.23468162995119163, 0.23465874604908848, 0.23463225724519593]}, \"tinfo\": {\"Category\": [\"Default\", \"Default\", \"Default\", \"Default\", \"Default\", \"Default\", \"Default\", \"Default\", \"Default\", \"Default\", \"Default\", \"Default\", \"Default\", \"Default\", \"Default\", \"Default\", \"Default\", \"Default\", \"Default\", \"Default\", \"Default\", \"Default\", \"Default\", \"Default\", \"Default\", \"Default\", \"Default\", \"Default\", \"Default\", \"Default\", \"Topic1\", \"Topic1\", \"Topic1\", \"Topic1\", \"Topic1\", \"Topic1\", \"Topic1\", \"Topic1\", \"Topic1\", \"Topic1\", \"Topic1\", \"Topic1\", \"Topic1\", \"Topic1\", \"Topic1\", \"Topic1\", \"Topic1\", \"Topic1\", \"Topic1\", \"Topic1\", \"Topic1\", \"Topic1\", \"Topic1\", \"Topic1\", \"Topic1\", \"Topic1\", \"Topic1\", \"Topic1\", \"Topic1\", \"Topic1\", \"Topic1\", \"Topic1\", \"Topic1\", \"Topic1\", \"Topic1\", \"Topic1\", \"Topic1\", \"Topic1\", \"Topic1\", \"Topic1\", \"Topic1\", \"Topic1\", \"Topic1\", \"Topic1\", \"Topic1\", \"Topic1\", \"Topic1\", \"Topic1\", \"Topic1\", \"Topic1\", \"Topic1\", \"Topic1\", \"Topic1\", \"Topic1\", \"Topic1\", \"Topic1\", \"Topic1\", \"Topic2\", \"Topic2\", \"Topic2\", \"Topic2\", \"Topic2\", \"Topic2\", \"Topic2\", \"Topic2\", \"Topic2\", \"Topic2\", \"Topic2\", \"Topic2\", \"Topic2\", \"Topic2\", \"Topic2\", \"Topic2\", \"Topic2\", \"Topic2\", \"Topic2\", \"Topic2\", \"Topic2\", \"Topic2\", \"Topic2\", \"Topic2\", \"Topic2\", \"Topic2\", \"Topic2\", \"Topic2\", \"Topic2\", \"Topic2\", \"Topic2\", \"Topic2\", \"Topic2\", \"Topic2\", \"Topic2\", \"Topic2\", \"Topic2\", \"Topic2\", \"Topic2\", \"Topic2\", \"Topic2\", \"Topic2\", \"Topic2\", \"Topic2\", \"Topic2\", \"Topic2\", \"Topic2\", \"Topic2\", \"Topic2\", \"Topic2\", \"Topic2\", \"Topic2\", \"Topic2\", \"Topic2\", \"Topic2\", \"Topic2\", \"Topic3\", \"Topic3\", \"Topic3\", \"Topic3\", \"Topic3\", \"Topic3\", \"Topic3\", \"Topic3\", \"Topic3\", \"Topic3\", \"Topic3\", \"Topic3\", \"Topic3\", \"Topic3\", \"Topic3\", \"Topic3\", \"Topic3\", \"Topic3\", \"Topic3\", \"Topic3\", \"Topic3\", \"Topic3\", \"Topic3\", \"Topic3\", \"Topic3\", \"Topic3\", \"Topic3\", \"Topic3\", \"Topic3\", \"Topic3\", \"Topic3\", \"Topic3\", \"Topic3\", \"Topic3\", \"Topic3\", \"Topic3\", \"Topic3\", \"Topic3\", \"Topic3\", \"Topic3\", \"Topic3\", \"Topic3\", \"Topic3\", \"Topic3\", \"Topic3\", \"Topic3\", \"Topic3\", \"Topic3\", \"Topic3\", \"Topic3\", \"Topic3\", \"Topic3\", \"Topic3\", \"Topic3\", \"Topic4\", \"Topic4\", \"Topic4\", \"Topic4\", \"Topic4\", \"Topic4\", \"Topic4\", \"Topic4\", \"Topic4\", \"Topic4\", \"Topic4\", \"Topic4\", \"Topic4\", \"Topic4\", \"Topic4\", \"Topic4\", \"Topic4\", \"Topic4\", \"Topic4\", \"Topic4\", \"Topic4\", \"Topic4\", \"Topic4\", \"Topic4\", \"Topic4\", \"Topic4\", \"Topic4\", \"Topic4\", \"Topic4\", \"Topic4\", \"Topic4\", \"Topic4\", \"Topic4\", \"Topic4\", \"Topic4\", \"Topic4\", \"Topic4\", \"Topic4\", \"Topic4\", \"Topic4\", \"Topic4\", \"Topic4\", \"Topic4\", \"Topic4\", \"Topic4\", \"Topic4\", \"Topic4\", \"Topic4\", \"Topic4\", \"Topic4\", \"Topic4\", \"Topic4\", \"Topic4\", \"Topic4\", \"Topic4\", \"Topic4\", \"Topic4\", \"Topic4\", \"Topic4\", \"Topic4\", \"Topic5\", \"Topic5\", \"Topic5\", \"Topic5\", \"Topic5\", \"Topic5\", \"Topic5\", \"Topic5\", \"Topic5\", \"Topic5\", \"Topic5\", \"Topic5\", \"Topic5\", \"Topic5\", \"Topic5\", \"Topic5\", \"Topic5\", \"Topic5\", \"Topic5\", \"Topic5\", \"Topic5\", \"Topic5\", \"Topic5\", \"Topic5\", \"Topic5\", \"Topic5\", \"Topic5\", \"Topic5\", \"Topic5\", \"Topic5\", \"Topic5\", \"Topic5\", \"Topic5\", \"Topic5\", \"Topic5\", \"Topic5\", \"Topic5\", \"Topic5\", \"Topic5\", \"Topic5\", \"Topic5\", \"Topic5\", \"Topic5\", \"Topic5\", \"Topic5\", \"Topic5\", \"Topic5\", \"Topic5\", \"Topic5\", \"Topic5\", \"Topic5\", \"Topic5\", \"Topic5\", \"Topic5\", \"Topic5\", \"Topic5\", \"Topic5\", \"Topic5\", \"Topic5\", \"Topic5\", \"Topic5\", \"Topic5\", \"Topic5\", \"Topic5\", \"Topic5\", \"Topic5\", \"Topic5\", \"Topic5\", \"Topic5\", \"Topic6\", \"Topic6\", \"Topic6\", \"Topic6\", \"Topic6\", \"Topic6\", \"Topic6\", \"Topic6\", \"Topic6\", \"Topic6\", \"Topic6\", \"Topic6\", \"Topic6\", \"Topic6\", \"Topic6\", \"Topic6\", \"Topic6\", \"Topic6\", \"Topic6\", \"Topic6\", \"Topic6\", \"Topic6\", \"Topic6\", \"Topic6\", \"Topic6\", \"Topic6\", \"Topic6\", \"Topic6\", \"Topic6\", \"Topic6\", \"Topic6\", \"Topic6\", \"Topic6\", \"Topic6\", \"Topic6\", \"Topic6\", \"Topic6\", \"Topic6\", \"Topic6\", \"Topic6\", \"Topic6\", \"Topic6\", \"Topic6\", \"Topic6\", \"Topic6\", \"Topic6\", \"Topic6\", \"Topic6\", \"Topic6\", \"Topic6\", \"Topic6\", \"Topic6\", \"Topic6\", \"Topic6\", \"Topic6\", \"Topic6\", \"Topic6\", \"Topic6\", \"Topic6\", \"Topic6\", \"Topic6\", \"Topic6\", \"Topic6\", \"Topic6\", \"Topic6\", \"Topic6\", \"Topic6\", \"Topic6\", \"Topic6\", \"Topic6\", \"Topic7\", \"Topic7\", \"Topic7\", \"Topic7\", \"Topic7\", \"Topic7\", \"Topic7\", \"Topic7\", \"Topic7\", \"Topic7\", \"Topic7\", \"Topic7\", \"Topic7\", \"Topic7\", \"Topic7\", \"Topic7\", \"Topic7\", \"Topic7\", \"Topic7\", \"Topic7\", \"Topic7\", \"Topic7\", \"Topic7\", \"Topic7\", \"Topic7\", \"Topic7\", \"Topic7\", \"Topic7\", \"Topic7\", \"Topic7\", \"Topic7\", \"Topic7\", \"Topic7\", \"Topic7\", \"Topic7\", \"Topic7\", \"Topic7\", \"Topic7\", \"Topic7\", \"Topic7\", \"Topic7\", \"Topic7\", \"Topic7\", \"Topic7\", \"Topic7\", \"Topic7\", \"Topic7\", \"Topic7\", \"Topic7\", \"Topic7\", \"Topic7\", \"Topic7\", \"Topic7\", \"Topic7\", \"Topic7\", \"Topic7\", \"Topic7\", \"Topic7\", \"Topic7\", \"Topic7\", \"Topic7\", \"Topic7\", \"Topic7\", \"Topic7\", \"Topic7\", \"Topic7\", \"Topic7\", \"Topic7\", \"Topic7\", \"Topic7\", \"Topic7\", \"Topic7\"], \"Freq\": [710.0, 250.0, 215.0, 152.0, 118.0, 111.0, 73.0, 123.0, 97.0, 100.0, 80.0, 103.0, 65.0, 58.0, 107.0, 61.0, 78.0, 56.0, 60.0, 75.0, 64.0, 53.0, 82.0, 55.0, 59.0, 50.0, 76.0, 58.0, 56.0, 45.0, 23.61554211200127, 29.85608228254797, 20.716864842128523, 15.771592285041093, 11.932998133285848, 10.29030330899499, 12.431390366149188, 25.929386823418543, 48.47611603336515, 10.319404510112397, 27.127997306310174, 12.883175906818222, 14.914668196018303, 16.079166960207626, 12.280967102247565, 13.142156097929616, 12.669772823851053, 10.671270231704275, 35.02946179973721, 27.451322003679657, 18.588854026156902, 50.428006163535834, 19.859340629953284, 9.893480360107938, 54.26697493807202, 24.54341753162123, 9.425634463091676, 66.69010899374841, 14.160339296354948, 26.160659191788426, 201.49208829979875, 23.17984346637376, 36.80200178523747, 92.62956043236787, 51.82900737021352, 58.75901419662371, 117.71325079907042, 83.41067777082982, 502.52118720435993, 86.0961820868305, 74.17291292119134, 40.32101040978088, 57.98908861163058, 45.58267922035468, 88.90373388589349, 75.38845713757227, 44.802266565456605, 140.21955018039753, 42.66823016414694, 67.58488566826139, 39.94231070491265, 37.22645884512017, 51.09257612626253, 47.14071991155471, 39.42022866098543, 33.70849796339971, 33.74883982091623, 32.08735871773714, 36.1543328734065, 47.21376563848997, 31.927311198077252, 7.702578674195162, 7.362448287041352, 4.87991266615112, 5.295098226539791, 12.584980134428006, 4.017164878462646, 4.052653794573046, 4.774772086003082, 3.8253906241312676, 7.572358868990195, 11.525503097192706, 4.113705984197818, 6.084544923238015, 8.737960200671655, 4.28927031759701, 3.7573273616293017, 3.3642774228851007, 4.194670528802161, 5.0576370111731555, 24.8821738440208, 12.741095430052875, 5.898811401738823, 4.061390717518796, 8.068865699837438, 8.345903821454446, 9.70477445688873, 30.109476617723647, 8.67972239052611, 26.421073492162094, 14.913272817948027, 175.63516239825762, 16.87294508703483, 6.954649304297576, 7.456427454433083, 8.58286902472199, 24.9683790552081, 9.973920268141129, 39.86246369465617, 24.433328614861363, 17.495809642124335, 20.684279774530246, 25.165181905512757, 8.843459126523607, 17.38486235893871, 22.142232890761573, 11.51989101184542, 13.434813725689121, 11.921105870529585, 12.236845180433711, 10.592826791088008, 9.758511712337182, 9.973061890961525, 6.565459361739021, 5.109104017453827, 3.3217172823731445, 4.106896207367417, 3.3471681676849263, 6.004630103791244, 5.55948650404354, 30.1316526200333, 5.454475274461294, 4.9996238633456755, 2.905474351195487, 7.301511894834628, 5.36053890986252, 4.360885523837014, 9.595294535868366, 8.999222105784357, 6.218991597773125, 3.114189399567473, 4.047150021818182, 3.603567409321191, 6.402200997775971, 3.733138948941528, 4.955503736916747, 2.9753822190407235, 5.2602603919295765, 3.5928621085860257, 3.3342990833158694, 16.353339092456064, 2.7877743694480714, 4.270617238088918, 4.905557192774733, 52.59902898801421, 11.354331500075373, 20.392379844421153, 8.25472192506031, 9.14965141471423, 10.053980916297157, 9.873088700600691, 15.740958316003464, 13.727911586489672, 30.6834131059238, 9.16404813266811, 6.9515903277079465, 6.688961705649655, 6.497551663600877, 9.899532714642161, 7.979992473640542, 7.527031684821528, 9.177569638844226, 6.743131471210025, 7.9107368212270135, 6.330468215881401, 7.4945989116851415, 6.223841029540544, 0.26008138535168274, 0.2260349123321545, 0.17352604893352935, 0.12755653426966104, 0.21548823036266, 0.12691332614643736, 0.13255723379725268, 0.19034856517347984, 0.1514308718157842, 0.15611417890382176, 0.14476387699975307, 0.15610614847006357, 0.1288293423128443, 0.10352665731951108, 0.10699375497575793, 0.14680000056705597, 0.2545343021129775, 0.13347778564813748, 0.22444244555770607, 0.11045223019616354, 0.11931811649284316, 0.11952091494525187, 0.11809872653253596, 0.11718788450565981, 0.1296455798287992, 0.10370719861503228, 0.09876155352297139, 0.28102500523469826, 0.08662976324449918, 0.11217788407737232, 0.13652635698660814, 0.1934722884113784, 0.1731838242437373, 0.1328855281611932, 1.0970046040393842, 0.3732443009554048, 0.4445614777498657, 0.1506699434293121, 0.16212683665700287, 0.23437633258458362, 0.4394303499114805, 0.16884203244415094, 0.1410269172951742, 0.7898549767616884, 0.24133130269905337, 0.2724987983184622, 0.304407693956912, 0.26073927698809823, 0.3320838353752861, 0.2047352282623246, 0.28388177322902275, 0.291267481560637, 0.23311559723736033, 0.26984152515624027, 0.22923725784823742, 0.2904548816169483, 0.21521006996504355, 0.23361828562267087, 0.1820830261049807, 0.1760533953542723, 0.07887081781147139, 0.05766144493568036, 0.058252176081160144, 0.0528181984552468, 0.05894684782953544, 0.05124601255264385, 0.053328274713227104, 0.0929912809058127, 0.05508206461505386, 0.06453758394862197, 0.049824331271123234, 0.05550094468385216, 0.062148486149903585, 0.06805073125024326, 0.06388894902962979, 0.0623588492098519, 0.056452444233117974, 0.06139686783393319, 0.06641932620822974, 0.04938015295593847, 0.060911387134556176, 0.06043018178724456, 0.05875637872079322, 0.05231702393314864, 0.052737949925631, 0.06315396834637181, 0.052071121872287386, 0.05510021665452362, 0.0529300140199957, 0.05856841803666981, 0.07352725737276294, 0.07179845530292896, 0.08053486241065076, 0.06268852050371734, 0.07582398551892534, 0.06613030007650603, 0.0670163221438146, 0.06823327788934724, 0.13165179382660067, 0.10108138155578908, 0.2181018747528543, 0.10260682525416556, 0.10039332818721854, 0.12626741133881375, 0.09301873586184431, 0.06989164673858796, 0.14308347305208377, 0.2157995654416222, 0.10531495181679112, 0.1001677319361233, 0.08165711615295038, 0.08041757240881092, 0.10295486692929072, 0.0828283776414362, 0.07327981063618937, 0.07928834594253548, 0.07001590237498655, 0.07621033312751323, 0.07538225153171275, 0.07444112956760386, 0.08414440700177671, 0.08000846769536754, 0.08422768911900413, 0.07720575979548575, 0.07575747130213852, 0.07729977139973743, 0.07458382796087712, 0.07481610551653889, 0.07468472974547347, 0.06542361578017217, 0.06348921414646054, 0.05777718681615398, 0.05481269352085668, 0.054215364909117804, 0.05239473863439318, 0.07692069689383545, 0.05687510415621416, 0.0661973103211084, 0.05346958954008525, 0.06644117627438857, 0.08147646526459412, 0.0629293450506644, 0.05850417360422387, 0.05885668306978428, 0.06654646320512424, 0.05726443963395947, 0.06395378437696163, 0.05576318049653247, 0.049684849273002624, 0.05658107049424264, 0.057290851472772034, 0.052352523742422684, 0.054057073831725776, 0.06156340435040397, 0.06700557875688469, 0.05736417483704121, 0.05899563455136959, 0.05215838706622838, 0.054264089463116394, 0.0825109073632139, 0.06837278473780514, 0.06893437781135964, 0.05712005679182322, 0.06959728216179215, 0.07196572750235995, 0.06460459945933955, 0.06829714997854815, 0.06485453350750402, 0.06785066477679781, 0.06471238453786035, 0.06549622587220202, 0.06412688263169498, 0.067208520038993, 0.06981393812396068, 0.1718420992608382, 0.08302092984724446, 0.07536776745793461, 0.0667883101434481, 0.19852723913268372, 0.11769724716617176, 0.09819881020883049, 0.11122504315626178, 0.07669546738037461, 0.10539792679827165, 0.09099561556218844, 0.08887417223068615, 0.09605357417751129, 0.07933096261905283, 0.09884390847637259, 0.07062862104451546, 0.07940141281072678, 0.07498663058426976, 0.0833282251143754, 0.07109027647432704, 0.07379526933288125, 0.07652961740699084, 0.07876450029198699, 0.07387996215326159, 0.07056583506003672, 0.060777287989136314, 0.05799984183063134, 0.057960770521760234, 0.060413929584089095, 0.06419358544421723, 0.05710392540073246, 0.05506888289487579, 0.07047270709798259, 0.05456262865727568, 0.06193792831962258, 0.06615965358341032, 0.05601421793658628, 0.07263298008883222, 0.06141956751162317, 0.059184979847536984, 0.06309142431540647, 0.06598932035804228, 0.06315335168361473, 0.05261618725839896, 0.05771113798482653, 0.06314210966395074, 0.05356939593475305, 0.05948960030758634, 0.06039151504766455, 0.06506812494873919, 0.05501531085114595, 0.058763835192449196, 0.05842703055377161, 0.054965849728679246, 0.05971064786684704, 0.06096548774134184, 0.06084358313132867, 0.06279172183690093, 0.06621745191107886, 0.06676952905498845, 0.0689826076276852, 0.0677503265908428, 0.06899049014564593, 0.08635075063992236, 0.06857691290264888, 0.06771608087973957, 0.07376385239960376, 0.06594522514820318, 0.06559984017773872, 0.11581719381314401, 0.07724112427750666, 0.06833346280955563, 0.0773449629670165, 0.08309602083216033, 0.11667598389522005, 0.075736096595244, 0.0760742090531298, 0.07579940873765613, 0.0774903418797374, 0.08436296799023145, 0.07677842479173237, 0.09109331900284016, 0.0721817903568519, 0.07254231759386054, 0.07659237506211809, 0.07588361384748704, 0.07596823412451624, 0.0751425042213993, 0.07647318275121431, 0.07354584392064174, 0.07089612179910446, 0.07207809410539494, 0.07127182080674713, 0.07015764452413902, 0.07090604794742389, 0.07032352154065404, 0.07040235499062039], \"Term\": [\"rocky\", \"film\", \"movie\", \"stallone\", \"just\", \"time\", \"films\", \"fight\", \"like\", \"good\", \"story\", \"creed\", \"sylvester\", \"great\", \"apollo\", \"movies\", \"lang\", \"really\", \"adrian\", \"balboa\", \"boxing\", \"best\", \"iii\", \"character\", \"series\", \"don\", \"mr\", \"clubber\", \"mickey\", \"love\", \"seen\", \"meredith\", \"burgess\", \"directed\", \"written\", \"entire\", \"elements\", \"scenes\", \"character\", \"script\", \"make\", \"worst\", \"says\", \"fighting\", \"job\", \"overall\", \"picture\", \"saying\", \"scene\", \"shire\", \"getting\", \"adrian\", \"thing\", \"reason\", \"sylvester\", \"did\", \"screenplay\", \"story\", \"gives\", \"sequel\", \"film\", \"gets\", \"love\", \"just\", \"boxing\", \"films\", \"stallone\", \"apollo\", \"rocky\", \"time\", \"like\", \"ring\", \"mr\", \"series\", \"fight\", \"creed\", \"great\", \"movie\", \"really\", \"good\", \"best\", \"don\", \"iii\", \"balboa\", \"life\", \"way\", \"does\", \"tiger\", \"clubber\", \"lang\", \"eye\", \"room\", \"begins\", \"saga\", \"gone\", \"help\", \"close\", \"past\", \"moment\", \"fine\", \"actually\", \"fame\", \"lose\", \"worth\", \"train\", \"huge\", \"men\", \"round\", \"son\", \"takes\", \"mickey\", \"watching\", \"tough\", \"montage\", \"friend\", \"lost\", \"death\", \"iii\", \"rematch\", \"balboa\", \"man\", \"rocky\", \"title\", \"champ\", \"went\", \"previous\", \"creed\", \"characters\", \"film\", \"fight\", \"mr\", \"apollo\", \"stallone\", \"point\", \"time\", \"movie\", \"way\", \"films\", \"series\", \"good\", \"life\", \"end\", \"great\", \"care\", \"shy\", \"heard\", \"realize\", \"brain\", \"minutes\", \"seeing\", \"movies\", \"watched\", \"rest\", \"friends\", \"lot\", \"enjoy\", \"eyes\", \"emotional\", \"half\", \"weight\", \"parts\", \"public\", \"means\", \"didn\", \"lacks\", \"sure\", \"talking\", \"sports\", \"couldn\", \"main\", \"bad\", \"need\", \"looks\", \"maybe\", \"movie\", \"doesn\", \"good\", \"watch\", \"end\", \"don\", \"does\", \"just\", \"like\", \"rocky\", \"really\", \"drama\", \"think\", \"bit\", \"fight\", \"boxing\", \"life\", \"stallone\", \"training\", \"time\", \"know\", \"film\", \"story\", \"oscar\", \"today\", \"probably\", \"heard\", \"greatest\", \"meat\", \"inspirational\", \"dream\", \"history\", \"strength\", \"family\", \"need\", \"million\", \"tries\", \"friends\", \"fans\", \"matter\", \"men\", \"won\", \"parts\", \"talking\", \"punch\", \"fine\", \"simple\", \"wrote\", \"realize\", \"small\", \"american\", \"brain\", \"ends\", \"felt\", \"look\", \"actor\", \"day\", \"film\", \"best\", \"films\", \"writing\", \"played\", \"scenes\", \"just\", \"feel\", \"screenplay\", \"rocky\", \"end\", \"really\", \"story\", \"boxing\", \"stallone\", \"think\", \"like\", \"fight\", \"character\", \"good\", \"great\", \"movie\", \"don\", \"time\", \"underdog\", \"balboa\", \"awesome\", \"heard\", \"meat\", \"tries\", \"meets\", \"friends\", \"probably\", \"music\", \"inspirational\", \"realistic\", \"oscar\", \"million\", \"history\", \"enjoyed\", \"today\", \"strength\", \"parts\", \"truly\", \"lose\", \"brain\", \"punch\", \"success\", \"runs\", \"round\", \"family\", \"famous\", \"realize\", \"close\", \"coma\", \"score\", \"proved\", \"direction\", \"actor\", \"gone\", \"making\", \"yes\", \"performances\", \"personal\", \"great\", \"make\", \"movie\", \"acting\", \"better\", \"sylvester\", \"talia\", \"sure\", \"stallone\", \"rocky\", \"really\", \"series\", \"second\", \"point\", \"fight\", \"scene\", \"predictable\", \"ii\", \"gives\", \"watch\", \"shire\", \"characters\", \"good\", \"adrian\", \"time\", \"best\", \"doesn\", \"story\", \"original\", \"don\", \"movies\", \"friends\", \"probably\", \"heard\", \"tries\", \"oscar\", \"meat\", \"means\", \"inspirational\", \"truly\", \"brain\", \"today\", \"ok\", \"coma\", \"parts\", \"wins\", \"shy\", \"bout\", \"apartment\", \"family\", \"meets\", \"history\", \"talking\", \"small\", \"realize\", \"unknown\", \"eyes\", \"close\", \"hollywood\", \"round\", \"important\", \"overrated\", \"having\", \"day\", \"men\", \"place\", \"script\", \"tells\", \"star\", \"greatest\", \"play\", \"rest\", \"left\", \"distance\", \"said\", \"looks\", \"movie\", \"hard\", \"comes\", \"true\", \"rocky\", \"just\", \"mickey\", \"like\", \"getting\", \"time\", \"adrian\", \"life\", \"creed\", \"say\", \"stallone\", \"feel\", \"don\", \"world\", \"apollo\", \"role\", \"ii\", \"balboa\", \"fight\", \"love\", \"trainer\", \"tries\", \"heard\", \"friends\", \"probably\", \"meets\", \"oscar\", \"meat\", \"mind\", \"brain\", \"family\", \"strength\", \"million\", \"famous\", \"wins\", \"round\", \"talking\", \"hollywood\", \"fine\", \"inspirational\", \"parts\", \"enjoyed\", \"small\", \"need\", \"past\", \"saga\", \"bout\", \"today\", \"runs\", \"realistic\", \"fans\", \"shy\", \"means\", \"son\", \"theme\", \"supporting\", \"line\", \"music\", \"needs\", \"thing\", \"worth\", \"writing\", \"gives\", \"script\", \"entire\", \"time\", \"guy\", \"self\", \"talia\", \"ring\", \"rocky\", \"better\", \"wife\", \"champion\", \"bad\", \"good\", \"love\", \"film\", \"watching\", \"sequel\", \"boxing\", \"adrian\", \"story\", \"films\", \"apollo\", \"does\", \"did\", \"great\", \"doesn\", \"fights\", \"eye\", \"end\", \"balboa\"], \"Total\": [710.0, 250.0, 215.0, 152.0, 118.0, 111.0, 73.0, 123.0, 97.0, 100.0, 80.0, 103.0, 65.0, 58.0, 107.0, 61.0, 78.0, 56.0, 60.0, 75.0, 64.0, 53.0, 82.0, 55.0, 59.0, 50.0, 76.0, 58.0, 56.0, 45.0, 26.582284680479926, 33.672569234040594, 23.424372570869032, 17.844866064327014, 13.552474886324855, 11.689536304173549, 14.168086285895205, 29.908838965094883, 55.92143969969598, 11.920747254731543, 31.36859180966869, 14.955624826389467, 17.430418671376163, 18.860594706700653, 14.443678600659922, 15.50314526296767, 14.995708472659665, 12.64869966979991, 41.523946014300364, 32.607097461901105, 22.11067034145095, 60.27531820175318, 23.786979092908542, 11.864166903448023, 65.1337765201281, 29.46424044528869, 11.36132505179016, 80.4269804447918, 17.079342984888132, 31.62321191947654, 250.16979291214997, 28.251529952476705, 45.28749657885088, 118.60318072311152, 64.89088682049953, 73.96484781398999, 152.69828988903072, 107.14705366272301, 710.1606204737726, 111.93084236234932, 97.3633294597987, 51.38204552443304, 76.64869342818285, 59.00592966699343, 123.77542646219831, 103.56138958453069, 58.83538384273237, 215.69886009383495, 56.18829284405726, 100.71629804715596, 53.97662930508598, 50.72928099997976, 82.48635448537043, 75.78212050037129, 57.88817063843524, 47.23297298541553, 51.75159159030198, 51.351777846436505, 58.33492138298175, 78.81997358381719, 55.83046664287199, 13.814271709691269, 13.221616185278481, 9.035058158821831, 9.840900512865252, 25.516042191477656, 8.15422167169557, 8.322558406452881, 9.98633309663132, 8.061730401784976, 16.009242750387344, 24.400246490237645, 8.743715896705075, 13.010054292258742, 18.953641667255795, 9.324801994517463, 8.309581832733533, 7.44305350830677, 9.40072088608027, 11.458059383977611, 56.47039214584977, 29.032590271788365, 13.56857836595366, 9.38131785258635, 19.15921662751717, 20.2700898861317, 23.646404695693818, 82.48635448537043, 21.49373321328353, 75.78212050037129, 40.353811295600586, 710.1606204737726, 47.064884670522716, 17.222415157496147, 19.110729387739937, 23.186388001619118, 103.56138958453069, 29.089160574302884, 250.16979291214997, 123.77542646219831, 76.64869342818285, 107.14705366272301, 152.69828988903072, 26.552296781891833, 111.93084236234932, 215.69886009383495, 47.23297298541553, 73.96484781398999, 59.00592966699343, 100.71629804715596, 57.88817063843524, 40.93042505423685, 58.83538384273237, 10.857578148784691, 8.870874785629063, 5.9051465010662625, 7.6134141189348465, 6.547962793702508, 11.958389517271428, 11.316872883085829, 61.34528102345108, 11.212687863968918, 10.306371046693256, 6.043487137320045, 15.317320861983895, 11.643303952561023, 9.502656133085521, 21.067638469212856, 19.99542279296459, 13.934924844554141, 7.398166225260142, 9.93958624911896, 8.945895753737494, 16.39748162518967, 9.652601862719694, 13.15000009601898, 8.01335334587341, 14.55537756207452, 10.034769191698048, 9.337687737877296, 46.9360748840347, 8.165788340527849, 12.949305122066397, 14.979908391068495, 215.69886009383495, 45.590816386365724, 100.71629804715596, 34.63518061268252, 40.93042505423685, 50.72928099997976, 51.75159159030198, 118.60318072311152, 97.3633294597987, 710.1606204737726, 56.18829284405726, 31.804021505237618, 31.188520100050756, 29.62668381035945, 123.77542646219831, 64.89088682049953, 57.88817063843524, 152.69828988903072, 40.464981180965104, 111.93084236234932, 36.91081893824753, 250.16979291214997, 80.4269804447918, 6.150970240185339, 8.263197294378061, 6.413003618197487, 5.9051465010662625, 10.243798700433002, 6.084062204051578, 6.742482686653598, 9.736726009329086, 7.80324757405727, 8.136541393520046, 7.55003319368449, 8.165788340527849, 6.926465911624604, 5.79762915574916, 6.043487137320045, 8.687456681995009, 15.390301769453616, 8.309581832733533, 14.34189573143287, 7.398166225260142, 8.01335334587341, 8.158547885461708, 8.061730401784976, 8.2960873936627, 9.344615959717395, 7.6134141189348465, 7.340279877451037, 21.032176267130623, 6.547962793702508, 8.482170442686371, 10.38171647699007, 15.404723619925047, 13.844784065663204, 10.320845020948259, 250.16979291214997, 53.97662930508598, 73.96484781398999, 12.71600834844794, 14.62776806477267, 29.908838965094883, 118.60318072311152, 16.841247271759375, 11.36132505179016, 710.1606204737726, 40.93042505423685, 56.18829284405726, 80.4269804447918, 64.89088682049953, 152.69828988903072, 31.188520100050756, 97.3633294597987, 123.77542646219831, 55.92143969969598, 100.71629804715596, 58.83538384273237, 215.69886009383495, 50.72928099997976, 111.93084236234932, 25.049929839868838, 75.78212050037129, 7.986458383551927, 5.9051465010662625, 6.084062204051578, 5.79762915574916, 6.839218567089287, 6.043487137320045, 6.413003618197487, 11.18277310635141, 6.742482686653598, 7.9617551475002735, 6.150970240185339, 6.926465911624604, 7.80324757405727, 8.564403219958285, 8.263197294378061, 8.136541393520046, 7.398166225260142, 8.066501122435826, 8.743715896705075, 6.547962793702508, 8.158547885461708, 8.483194136048834, 8.340283597023388, 7.44305350830677, 7.55003319368449, 9.079779781851583, 7.6134141189348465, 8.15422167169557, 7.865929970509651, 8.9187012226071, 11.659572503476447, 11.551973525311228, 13.844784065663204, 9.840900512865252, 13.237000198874895, 10.978844403846116, 11.362341229007772, 12.081009860430198, 58.83538384273237, 31.36859180966869, 215.69886009383495, 34.238963086680954, 34.71358369152016, 65.1337765201281, 29.19677930970372, 13.15000009601898, 152.69828988903072, 710.1606204737726, 56.18829284405726, 59.00592966699343, 27.535636465133333, 26.552296781891833, 123.77542646219831, 41.523946014300364, 20.974316630622642, 39.91229871586719, 17.079342984888132, 34.63518061268252, 32.607097461901105, 29.089160574302884, 100.71629804715596, 60.27531820175318, 111.93084236234932, 53.97662930508598, 45.590816386365724, 80.4269804447918, 34.12929701823619, 50.72928099997976, 61.34528102345108, 6.043487137320045, 6.413003618197487, 5.9051465010662625, 5.79762915574916, 6.150970240185339, 6.084062204051578, 8.945895753737494, 6.742482686653598, 8.066501122435826, 6.547962793702508, 8.263197294378061, 10.151107603107738, 7.865929970509651, 7.398166225260142, 7.689394826356556, 8.870874785629063, 7.699765802879046, 8.647865549595974, 7.55003319368449, 6.839218567089287, 7.80324757405727, 8.01335334587341, 7.340279877451037, 7.6134141189348465, 8.69480526980781, 9.502656133085521, 8.15422167169557, 8.406913511917924, 7.44305350830677, 7.815344051745829, 11.99659937939389, 9.968002926871641, 10.320845020948259, 8.309581832733533, 11.036552388693904, 11.920747254731543, 10.079290683336188, 11.190755439619554, 10.243798700433002, 11.293897790935912, 10.306371046693256, 10.649766569953025, 10.15844843223474, 11.61440722490462, 12.949305122066397, 215.69886009383495, 23.712434110712028, 17.650030565826732, 11.927554318882787, 710.1606204737726, 118.60318072311152, 56.47039214584977, 97.3633294597987, 22.11067034145095, 111.93084236234932, 60.27531820175318, 57.88817063843524, 103.56138958453069, 34.40732211589723, 152.69828988903072, 16.841247271759375, 50.72928099997976, 29.337609203701813, 107.14705366272301, 21.56058035094612, 39.91229871586719, 75.78212050037129, 123.77542646219831, 45.28749657885088, 24.412757628990747, 5.79762915574916, 5.9051465010662625, 6.043487137320045, 6.413003618197487, 6.839218567089287, 6.150970240185339, 6.084062204051578, 8.264717410288196, 6.547962793702508, 7.55003319368449, 8.136541393520046, 6.926465911624604, 9.079779781851583, 7.689394826356556, 7.44305350830677, 8.01335334587341, 8.406913511917924, 8.061730401784976, 6.742482686653598, 7.398166225260142, 8.564403219958285, 7.340279877451037, 8.165788340527849, 8.322558406452881, 9.035058158821831, 7.699765802879046, 8.263197294378061, 8.340283597023388, 7.9617551475002735, 8.687456681995009, 8.870874785629063, 8.945895753737494, 9.40072088608027, 10.271569568099043, 10.474008622104781, 11.552365032598628, 11.18277310635141, 12.3899815615228, 23.786979092908542, 13.010054292258742, 12.71600834844794, 17.079342984888132, 11.920747254731543, 11.689536304173549, 111.93084236234932, 23.360533672852345, 15.110721146582211, 29.19677930970372, 51.38204552443304, 710.1606204737726, 34.71358369152016, 38.01322310125409, 37.8609247032405, 46.9360748840347, 100.71629804715596, 45.28749657885088, 250.16979291214997, 29.032590271788365, 31.62321191947654, 64.89088682049953, 60.27531820175318, 80.4269804447918, 73.96484781398999, 107.14705366272301, 51.75159159030198, 29.46424044528869, 58.83538384273237, 45.590816386365724, 30.339707648162296, 55.83046664287199, 40.93042505423685, 75.78212050037129], \"loglift\": [30.0, 29.0, 28.0, 27.0, 26.0, 25.0, 24.0, 23.0, 22.0, 21.0, 20.0, 19.0, 18.0, 17.0, 16.0, 15.0, 14.0, 13.0, 12.0, 11.0, 10.0, 9.0, 8.0, 7.0, 6.0, 5.0, 4.0, 3.0, 2.0, 1.0, 0.274, 0.272, 0.2695, 0.2688, 0.2651, 0.2648, 0.2616, 0.2496, 0.2495, 0.2481, 0.2471, 0.2432, 0.2365, 0.2328, 0.2301, 0.2271, 0.2238, 0.2223, 0.2222, 0.2202, 0.2188, 0.214, 0.2119, 0.2107, 0.2098, 0.2096, 0.2055, 0.205, 0.2049, 0.2027, 0.1759, 0.1945, 0.1849, 0.1452, 0.1676, 0.1622, 0.1321, 0.1419, 0.0465, 0.1299, 0.1203, 0.1499, 0.1134, 0.1342, 0.0614, 0.0748, 0.1198, -0.0383, 0.1171, -0.0066, 0.0912, 0.0828, -0.0867, -0.0824, 0.0081, 0.055, -0.0352, 1.1464, 1.1382, 1.1041, 1.0578, 1.0325, 1.0312, 1.0006, 0.9968, 0.9098, 0.9087, 0.897, 0.8787, 0.8711, 0.868, 0.8666, 0.8626, 0.8566, 0.8423, 0.8401, 0.8229, 0.8225, 0.8096, 0.7988, 0.797, 0.793, 0.7836, 0.7794, 0.7518, 0.7292, 0.726, 0.6088, 0.7098, 0.5629, 0.6212, 0.2195, 0.5908, 0.7098, 0.6754, 0.6228, 0.1941, 0.5462, -0.2201, -0.0059, 0.1393, -0.0282, -0.1864, 0.5172, -0.2457, -0.6598, 0.2056, -0.0891, 0.0173, -0.4912, -0.0817, 0.1829, -0.1582, 1.6698, 1.6211, 1.5975, 1.5556, 1.5018, 1.4839, 1.462, 1.4619, 1.4522, 1.4494, 1.4404, 1.4319, 1.3971, 1.3939, 1.3863, 1.3744, 1.366, 1.3075, 1.2743, 1.2635, 1.2323, 1.2228, 1.1969, 1.1821, 1.155, 1.1457, 1.143, 1.1184, 1.0981, 1.0635, 1.0565, 0.7616, 0.7827, 0.5757, 0.7387, 0.6746, 0.5543, 0.5162, 0.1533, 0.2138, -0.969, 0.3594, 0.6522, 0.6332, 0.6556, -0.3532, 0.077, 0.1328, -0.6389, 0.3809, -0.4769, 0.4097, -1.3352, -0.3862, 2.1249, 1.6894, 1.6785, 1.4532, 1.4267, 1.4183, 1.3591, 1.3535, 1.3461, 1.3347, 1.3341, 1.3311, 1.3036, 1.2629, 1.2543, 1.2077, 1.1862, 1.157, 1.1309, 1.0839, 1.0812, 1.0649, 1.0649, 1.0285, 1.0105, 0.9922, 0.9798, 0.9729, 0.963, 0.9626, 0.957, 0.911, 0.907, 0.9358, -0.1413, 0.3142, 0.174, 0.8527, 0.786, 0.4393, -0.3098, 0.6856, 0.8992, -1.5131, 0.1548, -0.0406, -0.2885, -0.2287, -0.8426, 0.2622, -0.5494, -0.7637, -0.1919, -0.634, -0.2595, -1.3219, -0.1744, -0.8837, 0.3641, -0.7766, 1.437, 1.4257, 1.406, 1.3563, 1.3009, 1.2846, 1.2651, 1.2651, 1.2473, 1.2395, 1.2388, 1.228, 1.2219, 1.2196, 1.1923, 1.1835, 1.1791, 1.1766, 1.1746, 1.1673, 1.1573, 1.1103, 1.0992, 1.097, 1.0907, 1.0865, 1.0696, 1.0576, 1.0534, 1.029, 0.9885, 0.9739, 0.9077, 0.9986, 0.8923, 0.9426, 0.9216, 0.8782, -0.0476, 0.3171, -0.842, 0.2445, 0.2089, -0.1911, 0.3057, 0.8175, -0.9181, -2.0442, -0.2248, -0.3239, 0.234, 0.2551, -1.0372, -0.1626, 0.3979, -0.1667, 0.5578, -0.0644, -0.015, 0.0866, -1.0328, -0.5698, -1.1374, -0.4951, -0.3452, -0.8927, -0.0713, -0.4645, -0.6563, 1.5289, 1.4396, 1.4278, 1.3935, 1.3234, 1.3002, 1.2986, 1.2795, 1.252, 1.247, 1.2315, 1.2298, 1.2265, 1.2149, 1.1823, 1.1622, 1.1535, 1.1479, 1.1466, 1.1301, 1.1282, 1.1141, 1.1117, 1.1072, 1.1044, 1.1002, 1.0979, 1.0954, 1.094, 1.0848, 1.0753, 1.0726, 1.046, 1.0748, 0.9886, 0.9449, 1.0048, 0.9558, 0.9925, 0.9401, 0.9842, 0.9635, 0.9896, 0.9026, 0.8318, -1.0803, 0.4001, 0.5987, 0.8697, -2.1275, -0.8606, -0.2997, -0.7199, 0.3908, -0.9131, -0.4411, -0.4243, -0.9282, -0.0176, -1.2879, 0.5806, -0.4049, 0.0855, -1.1044, 0.3401, -0.2384, -0.8431, -1.305, -0.3636, 0.2085, 1.4969, 1.4318, 1.4079, 1.39, 1.3864, 1.3754, 1.3501, 1.2904, 1.2673, 1.2517, 1.2429, 1.2374, 1.2265, 1.225, 1.2205, 1.2106, 1.2076, 1.2056, 1.2017, 1.2014, 1.1449, 1.1348, 1.133, 1.129, 1.1215, 1.1136, 1.1089, 1.0938, 1.0792, 1.0748, 1.0747, 1.0643, 1.0462, 1.0107, 0.9995, 0.9341, 0.9486, 0.8642, 0.4364, 0.8094, 0.8196, 0.6101, 0.8577, 0.872, -0.8187, 0.343, 0.6561, 0.1214, -0.3721, -2.6589, -0.0727, -0.1591, -0.1587, -0.3515, -1.03, -0.325, -1.8631, 0.0579, -0.0226, -0.6871, -0.6226, -0.9099, -0.8371, -1.1901, -0.5014, 0.0252, -0.6498, -0.4061, -0.0146, -0.6138, -0.3116, -0.9265], \"logprob\": [30.0, 29.0, 28.0, 27.0, 26.0, 25.0, 24.0, 23.0, 22.0, 21.0, 20.0, 19.0, 18.0, 17.0, 16.0, 15.0, 14.0, 13.0, 12.0, 11.0, 10.0, 9.0, 8.0, 7.0, 6.0, 5.0, 4.0, 3.0, 2.0, 1.0, -5.5363, -5.3018, -5.6673, -5.94, -6.2189, -6.367, -6.178, -5.4428, -4.8171, -6.3642, -5.3976, -6.1423, -5.9959, -5.9207, -6.1902, -6.1224, -6.159, -6.3307, -5.142, -5.3858, -5.7757, -4.7777, -5.7095, -6.4063, -4.7043, -5.4978, -6.4548, -4.4982, -6.0478, -5.434, -3.3925, -5.5549, -5.0927, -4.1696, -4.7503, -4.6248, -3.93, -4.2744, -2.4786, -4.2427, -4.3918, -5.0013, -4.638, -4.8787, -4.2107, -4.3756, -4.896, -3.755, -4.9448, -4.4848, -5.0108, -5.0812, -4.7646, -4.8451, -5.0239, -5.1805, -5.1793, -4.0055, -3.8861, -3.6192, -4.0105, -5.4324, -5.4775, -5.8888, -5.8071, -4.9414, -6.0834, -6.0746, -5.9106, -6.1323, -5.4494, -5.0294, -6.0596, -5.6682, -5.3063, -6.0178, -6.1502, -6.2607, -6.0401, -5.853, -4.2598, -4.9291, -5.6992, -6.0724, -5.3859, -5.3522, -5.2013, -4.0691, -5.3129, -4.1998, -4.7717, -2.3055, -4.6482, -5.5345, -5.4649, -5.3242, -4.2563, -5.174, -3.7885, -4.278, -4.612, -4.4446, -4.2485, -5.2943, -4.6183, -4.3764, -5.0299, -4.8761, -4.9956, -4.9695, -5.1138, -5.1958, -5.174, -5.0359, -5.2867, -5.7173, -5.5051, -5.7096, -5.1252, -5.2022, -3.5122, -5.2213, -5.3084, -5.8511, -4.9297, -5.2387, -5.4451, -4.6565, -4.7206, -5.0901, -5.7818, -5.5197, -5.6358, -5.0611, -5.6005, -5.3172, -5.8274, -5.2576, -5.6388, -5.7135, -4.1233, -5.8925, -5.466, -5.3274, -2.955, -4.4881, -3.9026, -4.807, -4.704, -4.6098, -4.6279, -4.1615, -4.2983, -3.494, -4.7025, -4.9788, -5.0173, -5.0463, -4.6253, -4.8408, -4.8992, -4.701, -5.0092, -4.8495, -5.0724, -4.9036, -5.0894, -5.149, -5.2893, -5.5537, -5.8615, -5.3371, -5.8665, -5.823, -5.4612, -5.6899, -5.6594, -5.7349, -5.6595, -5.8515, -6.0702, -6.0373, -5.721, -5.1706, -5.8161, -5.2964, -6.0055, -5.9282, -5.9265, -5.9385, -5.9463, -5.8452, -6.0685, -6.1173, -5.0716, -6.2484, -5.9899, -5.7935, -5.4449, -5.5557, -5.8205, -3.7097, -4.7878, -4.6129, -5.6949, -5.6217, -5.2531, -4.6246, -5.5811, -5.7611, -4.0382, -5.2239, -5.1024, -4.9917, -5.1465, -4.9046, -5.3883, -5.0615, -5.0358, -5.2585, -5.1122, -5.2753, -5.0386, -5.3384, -5.2563, -5.5056, -5.5392, -5.5758, -5.889, -5.8788, -5.9767, -5.867, -6.007, -5.9671, -5.4111, -5.9348, -5.7764, -6.0351, -5.9272, -5.8141, -5.7233, -5.7865, -5.8107, -5.9102, -5.8262, -5.7476, -6.0441, -5.8342, -5.8421, -5.8702, -5.9863, -5.9783, -5.798, -5.991, -5.9344, -5.9746, -5.8734, -5.6459, -5.6697, -5.5549, -5.8054, -5.6152, -5.752, -5.7387, -5.7207, -5.0634, -5.3277, -4.5586, -5.3127, -5.3345, -5.1052, -5.4108, -5.6967, -4.9802, -4.5693, -5.2866, -5.3368, -5.5411, -5.5564, -5.3093, -5.5268, -5.6493, -5.5705, -5.6949, -5.6101, -5.621, -5.6336, -5.5111, -5.5615, -5.5101, -5.5971, -5.6161, -5.5959, -5.6317, -5.6286, -5.6303, -5.7626, -5.7926, -5.8869, -5.9396, -5.9505, -5.9847, -5.6007, -5.9026, -5.7509, -5.9644, -5.7472, -5.5432, -5.8015, -5.8744, -5.8684, -5.7456, -5.8958, -5.7853, -5.9224, -6.0378, -5.9078, -5.8954, -5.9855, -5.9535, -5.8234, -5.7387, -5.8941, -5.866, -5.9892, -5.9496, -5.5306, -5.7185, -5.7103, -5.8983, -5.7008, -5.6673, -5.7752, -5.7196, -5.7714, -5.7262, -5.7736, -5.7615, -5.7826, -5.7357, -5.6977, -4.7969, -5.5244, -5.6211, -5.742, -4.6526, -5.1754, -5.3565, -5.2319, -5.6037, -5.2858, -5.4327, -5.4563, -5.3786, -5.5699, -5.35, -5.6861, -5.569, -5.6262, -5.5207, -5.6796, -5.6422, -5.6058, -5.577, -5.6411, -5.687, -5.8362, -5.883, -5.8836, -5.8422, -5.7815, -5.8985, -5.9348, -5.6882, -5.944, -5.8173, -5.7513, -5.9178, -5.658, -5.8257, -5.8627, -5.7988, -5.7539, -5.7978, -5.9804, -5.8879, -5.798, -5.9624, -5.8576, -5.8425, -5.768, -5.9358, -5.8699, -5.8756, -5.9367, -5.8539, -5.8331, -5.8351, -5.8036, -5.7504, -5.7421, -5.7095, -5.7276, -5.7094, -5.485, -5.7154, -5.7281, -5.6425, -5.7546, -5.7598, -5.1914, -5.5965, -5.719, -5.5951, -5.5234, -5.184, -5.6161, -5.6117, -5.6153, -5.5932, -5.5083, -5.6025, -5.4315, -5.6642, -5.6592, -5.6049, -5.6142, -5.6131, -5.624, -5.6065, -5.6455, -5.6822, -5.6656, -5.6769, -5.6926, -5.682, -5.6903, -5.6892]}, \"token.table\": {\"Topic\": [1, 2, 3, 1, 2, 3, 1, 2, 3, 1, 2, 3, 1, 2, 3, 1, 2, 3, 1, 2, 3, 1, 2, 3, 1, 2, 3, 1, 2, 3, 1, 2, 3, 1, 2, 3, 1, 2, 3, 1, 2, 3, 1, 2, 3, 1, 2, 3, 1, 2, 3, 1, 2, 3, 1, 2, 3, 1, 2, 3, 1, 2, 3, 1, 2, 3, 1, 2, 3, 1, 2, 3, 1, 2, 3, 1, 2, 3, 1, 2, 3, 1, 2, 3, 1, 2, 3, 1, 2, 3, 1, 2, 3, 1, 2, 3, 1, 2, 3, 1, 2, 3, 1, 2, 3, 1, 2, 3, 1, 2, 3, 1, 2, 3, 1, 2, 3, 1, 2, 3, 1, 2, 3, 1, 3, 1, 2, 3, 1, 2, 3, 1, 2, 3, 1, 2, 3, 1, 2, 3, 1, 3, 1, 2, 3, 1, 2, 3, 1, 2, 3, 1, 2, 3, 1, 2, 3, 1, 2, 3, 1, 2, 3, 1, 2, 3, 1, 2, 3, 1, 2, 3, 1, 2, 3, 1, 2, 3, 4, 1, 2, 3, 1, 2, 3, 1, 2, 3, 1, 2, 3, 1, 2, 3, 1, 2, 3, 1, 2, 3, 1, 2, 3, 1, 2, 3, 1, 2, 3, 1, 2, 3, 1, 2, 3, 1, 2, 3, 1, 2, 3, 1, 2, 3, 1, 2, 3, 1, 2, 3, 1, 2, 3, 1, 2, 3, 1, 2, 3, 1, 2, 3, 1, 2, 3, 1, 2, 3, 1, 2, 3, 1, 2, 3, 1, 2, 3, 1, 2, 3, 1, 2, 3, 1, 2, 3, 1, 2, 3, 1, 2, 3, 1, 2, 3, 1, 2, 3, 1, 2, 3, 1, 2, 3, 1, 2, 3, 1, 2, 3, 1, 2, 3, 1, 2, 3, 1, 2, 3, 1, 2, 3, 1, 2, 3, 1, 2, 3, 1, 2, 3, 1, 2, 3, 1, 2, 3, 1, 2, 3, 1, 2, 3, 1, 2, 3, 1, 2, 3, 1, 2, 3, 1, 2, 3, 1, 2, 3, 1, 2, 3, 1, 2, 3, 1, 2, 3, 1, 2, 3, 1, 2, 3, 1, 2, 3, 1, 2, 3, 1, 2, 3, 1, 2, 3, 1, 2, 3, 1, 2, 3, 1, 2, 3, 1, 2, 3, 1, 2, 3, 1, 2, 3, 1, 2, 3, 1, 2, 3, 1, 2, 3, 1, 2, 3, 1, 2, 3, 1, 2, 3, 1, 2, 3, 1, 2, 3, 1, 2, 3, 1, 2, 3, 1, 2, 3, 1, 2, 3, 1, 2, 3, 1, 2, 3, 1, 2, 3, 1, 2, 3, 1, 2, 3, 1, 2, 3, 1, 2, 3, 1, 2, 3, 1, 2, 3, 1, 2, 3, 4, 1, 2, 3, 1, 2, 3, 1, 2, 3, 1, 3, 1, 2, 3, 1, 2, 3, 1, 2, 3, 1, 2, 3, 1, 2, 3, 1, 2, 3, 1, 2, 3, 1, 2, 3, 1, 2, 3, 1, 3, 1, 2, 3, 1, 2, 3, 1, 2, 3, 1, 2, 3, 1, 2, 3, 1, 2, 3, 1, 2, 3, 1, 2, 3, 1, 2, 3, 1, 2, 3, 1, 2, 3, 1, 2, 3, 1, 2, 3, 1, 2, 3, 1, 2, 3, 1, 2, 3, 1, 2, 3, 1, 2, 3, 1, 2, 3, 1, 2, 3, 1, 2, 3, 1, 2, 3, 1, 2, 3, 1, 2, 3, 1, 2, 3, 1, 2, 3, 1, 2, 3, 1, 2, 3, 1, 2, 3, 1, 2, 3, 1, 3, 1, 2, 3, 1, 2, 3, 1, 2, 3, 1, 2, 3, 1, 2, 3, 1, 2, 3, 1, 2, 3, 1, 2, 3, 1, 2, 3, 1, 2, 3, 1, 2, 3, 1, 2, 3, 1, 2, 3, 1, 2, 3, 1, 2, 3, 1, 2, 3, 1, 2, 3, 1, 2, 3, 1, 2, 3, 1, 2, 3, 1, 2, 3, 1, 2, 3, 1, 2, 3, 1, 2, 3, 1, 2, 3], \"Freq\": [0.7885752828333481, 0.08761947587037201, 0.11682596782716269, 0.7222936777180404, 0.07222936777180405, 0.21668810331541213, 0.43724741445566717, 0.4997113308064768, 0.0624639163508096, 0.8295269355964294, 0.09954323227157152, 0.06636215484771435, 0.5705543662047834, 0.3328233802861236, 0.04754619718373195, 0.6938128218564081, 0.11563547030940136, 0.2312709406188027, 0.7746363260838418, 0.19599232346699613, 0.027998903352428016, 0.5008477860772406, 0.2504238930386203, 0.2504238930386203, 0.5113337674549261, 0.12783344186373152, 0.3408891783032841, 0.6201990613309604, 0.3430888424384036, 0.026391449418338736, 0.3025348750067161, 0.5294360312617532, 0.07563371875167903, 0.7410614652114073, 0.16673882967256665, 0.0926326831514259, 0.748986340075032, 0.057614333851925534, 0.17284300155577662, 0.5738070487003232, 0.20252013483540818, 0.20252013483540818, 0.5194963200704554, 0.2597481600352277, 0.12987408001761386, 0.8013451895616998, 0.07705242207324035, 0.12328387531718457, 0.30543851011546624, 0.15271925505773312, 0.45815776517319934, 0.8965021341112024, 0.042690577814819164, 0.042690577814819164, 0.27630471168524773, 0.09210157056174925, 0.6447109939322447, 0.5225747909161684, 0.4064470596014644, 0.058063865657352054, 0.7923736737848961, 0.1584747347569792, 0.05282491158565974, 0.8583469999657565, 0.05364668749785978, 0.07152891666381304, 0.5844101261216061, 0.3437706624244742, 0.06875413248489483, 0.24527172310537942, 0.49054344621075885, 0.24527172310537942, 0.35999019973182655, 0.6171260566831313, 0.017142390463420313, 0.7627832973970968, 0.1271305495661828, 0.1271305495661828, 0.6232283824651131, 0.2266285027145866, 0.1133142513572933, 0.39861405116415377, 0.19930702558207689, 0.39861405116415377, 0.7242081271880018, 0.24140270906266725, 0.02896832508752007, 0.5813477469937566, 0.2906738734968783, 0.19378258233125217, 0.5497664514879674, 0.42289727037535957, 0.04228972703753595, 0.8484861521009438, 0.06787889216807551, 0.06787889216807551, 0.5488647711715852, 0.06098497457462057, 0.3659098474477234, 0.8966164241481748, 0.05603852650926092, 0.05603852650926092, 0.7790876580768069, 0.08656529534186744, 0.17313059068373488, 0.5906413799336548, 0.2953206899668274, 0.09844022998894247, 0.6569846251138574, 0.1545846176738488, 0.193230772092311, 0.6360930182569108, 0.08773696803543597, 0.2412766620974489, 0.7293618058575434, 0.059137443718179195, 0.19712481239393065, 0.7546215498580134, 0.031442564577417224, 0.2200979520419206, 0.6162235636754282, 0.3081117818377141, 0.10270392727923804, 0.846973949611416, 0.070581162467618, 0.4271954834022868, 0.09493232964495263, 0.47466164822476314, 0.5374974721334516, 0.24431703278793254, 0.21988532950913928, 0.8252604739905515, 0.11789435342722163, 0.11789435342722163, 0.4294313727763, 0.08588627455526, 0.4294313727763, 0.4670494717808818, 0.3502871038356613, 0.11676236794522045, 0.8554659260889306, 0.08554659260889305, 0.4119614501365889, 0.5731637567117759, 0.017911367397242996, 0.4209349411343159, 0.10523373528357897, 0.4209349411343159, 0.45081511797026386, 0.4917983105130151, 0.08196638508550251, 0.662248744042932, 0.2648994976171728, 0.1324497488085864, 0.6608089782081099, 0.11013482970135166, 0.11013482970135166, 0.6906509257692374, 0.11510848762820623, 0.11510848762820623, 0.712536298907176, 0.059378024908931334, 0.23751209963572534, 0.6742622971369646, 0.288969555915842, 0.09632318530528067, 0.7190441798007546, 0.19389955410357426, 0.08079148087648928, 0.8483295595295115, 0.05302059747059447, 0.05302059747059447, 0.758082453091572, 0.1977606399369318, 0.0659202133123106, 0.8034543166072152, 0.15989140628999307, 0.02798099610074879, 0.003997285157249827, 0.7976762170642974, 0.17575916647179432, 0.013519935882445717, 0.3721285444295879, 0.49617139257278386, 0.12404284814319597, 0.4697478072811113, 0.41755360647209894, 0.10438840161802473, 0.330934765733098, 0.165467382866549, 0.496402148599647, 0.8141152015019872, 0.03539631310878205, 0.10618893932634615, 0.8593136122327615, 0.04522703222277692, 0.09045406444555384, 0.819703662628431, 0.0585502616163165, 0.0585502616163165, 0.3048501502558659, 0.5080835837597765, 0.1016167167519553, 0.6751638147796298, 0.11914655554934644, 0.19857759258224406, 0.7648458641875354, 0.1699657475972301, 0.06798629903889204, 0.7809602896298462, 0.09762003620373078, 0.09762003620373078, 0.5993013771029395, 0.3424579297731083, 0.04280724122163854, 0.4501030107333694, 0.10002289127408209, 0.4501030107333694, 0.7590954144968419, 0.12651590241614033, 0.12651590241614033, 0.5016049891519444, 0.3009629934911667, 0.10032099783038889, 0.33868761759574806, 0.16934380879787403, 0.5080314263936221, 0.43110134077431467, 0.509483402733281, 0.039191030979483156, 0.7689106289473169, 0.12815177149121948, 0.12815177149121948, 0.5947485950595104, 0.11894971901190207, 0.11894971901190207, 0.42896353213202904, 0.42896353213202904, 0.10724088303300726, 0.7767029461441646, 0.1503296024795157, 0.07516480123975786, 0.6182840824786994, 0.36369651910511724, 0.012123217303503908, 0.5118136800524427, 0.2559068400262213, 0.2559068400262213, 0.5932532845679822, 0.14831332114199555, 0.14831332114199555, 0.830813280451403, 0.06923444003761692, 0.06923444003761692, 0.7841273685325172, 0.08431477080994808, 0.13490363329591692, 0.7585851738170456, 0.08127698290896916, 0.16255396581793832, 0.5179950516047921, 0.10359901032095842, 0.41439604128383367, 0.3806141849070526, 0.5962955563543825, 0.012687139496901754, 0.5633926303068693, 0.3755950868712462, 0.09389877171781155, 0.6737127736094961, 0.19002155153088351, 0.13819749202246073, 0.7600397440245157, 0.0924372661651438, 0.14379130292355702, 0.6059365316320339, 0.08656236166171911, 0.25968708498515736, 0.6491515360305216, 0.1298303072061043, 0.2596606144122086, 0.5405695467065316, 0.1544484419161519, 0.3088968838323038, 0.4574714054361412, 0.4574714054361412, 0.1143678513590353, 0.4933377235214806, 0.39467017881718447, 0.04933377235214806, 0.39171341085446726, 0.1305711369514891, 0.45699897933021183, 0.817002545847917, 0.04416229977556308, 0.13248689932668925, 0.5354644683306397, 0.10709289366612794, 0.3212786809983838, 0.8607335695470344, 0.09563706328300382, 0.03187902109433461, 0.83100399144324, 0.15109163480786184, 0.07554581740393092, 0.5947393623911926, 0.3717121014944954, 0.024780806766299693, 0.584783855106924, 0.12995196780153867, 0.25990393560307734, 0.6008047422617144, 0.06675608247352383, 0.33378041236761913, 0.33534931353818137, 0.22356620902545424, 0.4471324180509085, 0.6574554739654483, 0.1643638684913621, 0.1643638684913621, 0.43864660422408086, 0.43864660422408086, 0.1462155347413603, 0.3610289976545204, 0.48137199687269383, 0.12034299921817346, 0.8909329071828624, 0.029697763572762083, 0.059395527145524166, 0.5312518447280663, 0.44270987060672196, 0.035416789648537755, 0.7218688525714911, 0.14437377051429823, 0.14437377051429823, 0.4839850900432079, 0.12099627251080197, 0.24199254502160394, 0.33449320196693916, 0.16724660098346958, 0.5017398029504088, 0.30041056822068024, 0.5006842803678004, 0.10013685607356007, 0.4263793278145068, 0.4263793278145068, 0.1065948319536267, 0.6490530359738393, 0.10199404851017475, 0.24571293504723918, 0.4075293092298819, 0.09780703421517166, 0.48903517107585825, 0.7566991347914361, 0.22179112571473128, 0.013046536806748898, 0.6259628030925758, 0.08942325758465368, 0.2682697727539611, 0.48984860165276267, 0.12246215041319067, 0.367386451239572, 0.4842622218771539, 0.4035518515642949, 0.16142074062571796, 0.5910685054863485, 0.19702283516211616, 0.19702283516211616, 0.7032081553621267, 0.23440271845404223, 0.05860067961351056, 0.6503039104086892, 0.1625759776021723, 0.1625759776021723, 0.8385395208192412, 0.06450304006301856, 0.06450304006301856, 0.7502125990352702, 0.08335695544836336, 0.1667139108967267, 0.4055058927652725, 0.13516863092175752, 0.4055058927652725, 0.36046607947791093, 0.48062143930388124, 0.12015535982597031, 0.7920902759919959, 0.08801003066577733, 0.08801003066577733, 0.6621962975299752, 0.1655490743824938, 0.1655490743824938, 0.8669146925403184, 0.06668574558002449, 0.06668574558002449, 0.7248640443364708, 0.1812160110841177, 0.09060800554205885, 0.7968905126114286, 0.08854339029015873, 0.17708678058031746, 0.6152681639568961, 0.273452517314176, 0.068363129328544, 0.5649228811810253, 0.3389537287086152, 0.0753230508241367, 0.6198056522623442, 0.23838678933167085, 0.1430320735990025, 0.6038025413454814, 0.38815877657923803, 0.04312875295324867, 0.6237326903495941, 0.15593317258739853, 0.15593317258739853, 0.6861315024727279, 0.25729931342727297, 0.08576643780909099, 0.30182342854220096, 0.20121561902813398, 0.40243123805626796, 0.6128541586315688, 0.24514166345262753, 0.12257083172631376, 0.6280022315895804, 0.12560044631791606, 0.2512008926358321, 0.394041352950825, 0.13134711765027499, 0.5253884706010999, 0.7652839732885368, 0.0711892068175383, 0.1601757153394612, 0.8428741842036755, 0.08428741842036755, 0.08428741842036755, 0.5583022679644956, 0.41872670097337167, 0.0465251889970413, 0.2910820876143921, 0.19405472507626137, 0.48513681269065345, 0.7784820474104971, 0.19462051185262427, 0.019462051185262428, 0.7082904704916352, 0.2478312580646676, 0.04365209659093577, 0.0014081321480947022, 0.6029522298749039, 0.32466658531725595, 0.04638094075960799, 0.36194452411793077, 0.5791112385886892, 0.07238890482358615, 0.403060383302615, 0.403060383302615, 0.13435346110087168, 0.7193999976381348, 0.2397999992127116, 0.22135994753361934, 0.5533998688340483, 0.22135994753361934, 0.6026997215139824, 0.2582998806488496, 0.08609996021628322, 0.6393987862785558, 0.20344506836135867, 0.14531790597239905, 0.869654611711878, 0.07905951015562528, 0.07905951015562528, 0.8605645270375897, 0.05737096846917265, 0.05737096846917265, 0.8428871376517638, 0.09632995858877301, 0.048164979294386505, 0.8693082346106215, 0.033434932100408515, 0.10030479630122556, 0.784867642191715, 0.11212394888453071, 0.11212394888453071, 0.7921611219619057, 0.08801790244021175, 0.08801790244021175, 0.8388735862200949, 0.08388735862200948, 0.6536983455164468, 0.2905325980073097, 0.07263314950182742, 0.3534545312405506, 0.08836363281013765, 0.5301817968608259, 0.9028569322946057, 0.03761903884560857, 0.03761903884560857, 0.5956036057243799, 0.3308908920690999, 0.06617817841381998, 0.8221808735369718, 0.12648936515953413, 0.06324468257976706, 0.7795826666846222, 0.20336939130903187, 0.016947449275752657, 0.8280405832364389, 0.09200450924849322, 0.06133633949899548, 0.33818536192845833, 0.11272845397615279, 0.5636422698807639, 0.7232324968735673, 0.12053874947892788, 0.12053874947892788, 0.5449383493247709, 0.13623458733119273, 0.27246917466238546, 0.4254992833499434, 0.4254992833499434, 0.10637482083748585, 0.2061093906500095, 0.412218781300019, 0.34351565108334914, 0.7727656942704024, 0.1637215453962717, 0.058939756342657815, 0.8042352501187326, 0.08935947223541474, 0.08935947223541474, 0.8330537790858803, 0.08703546945673377, 0.07460183096291466, 0.7374140571297786, 0.12290234285496311, 0.12290234285496311, 0.5894006337486484, 0.11788012674972967, 0.23576025349945934, 0.6683210079879933, 0.09547442971257046, 0.09547442971257046, 0.38022813410577055, 0.2281368804634623, 0.38022813410577055, 0.8290629360837467, 0.12282413867907359, 0.046059052004652594, 0.436374069329031, 0.436374069329031, 0.0872748138658062, 0.7877581207169592, 0.0685007061493008, 0.1027510592239512, 0.37437510496712245, 0.249583403311415, 0.37437510496712245, 0.5952799843266385, 0.29763999216331927, 0.09921333072110643, 0.77884883580461, 0.09735610447557624, 0.09735610447557624, 0.8407961314416117, 0.12611941971624174, 0.04203980657208058, 0.6733246698667765, 0.09618923855239665, 0.22444155662225884, 0.35052340454166164, 0.6231527191851762, 0.019473522474536757, 0.7683315713965198, 0.15187949667140507, 0.07147270431595533, 0.5949233743164088, 0.36120347726353397, 0.04249452673688635, 0.726111187503916, 0.24203706250130533, 0.3684984428837455, 0.44219813146049464, 0.1473993771534982, 0.4748427852547381, 0.4748427852547381, 0.05276030947274868, 0.6553950292366647, 0.24577313596374928, 0.040962189327291544, 0.6178181546210654, 0.19770180947874091, 0.1729890832938983, 0.5174528965905107, 0.17248429886350358, 0.34496859772700716, 0.586876388306875, 0.2515184521315179, 0.1676789680876786, 0.7438169175123343, 0.1239694862520557, 0.1239694862520557, 0.718564886810647, 0.19960135744740193, 0.11976081446844117, 0.690067208386442, 0.11501120139774032, 0.11501120139774032, 0.6640646762378363, 0.08661713168319604, 0.2309790178218561, 0.44592340932517194, 0.0891846818650344, 0.44592340932517194, 0.37888455342852934, 0.4477726540518983, 0.17222025155842244, 0.7198361197906901, 0.25405980698494945, 0.042343301164158235, 0.4305728281229187, 0.07176213802048645, 0.4305728281229187, 0.5232662656201535, 0.36628638593410745, 0.1046532531240307, 0.7891990616025999, 0.13153317693376665, 0.05261327077350666, 0.5201969843308604, 0.2600984921654302, 0.1300492460827151, 0.6972578930470944, 0.13945157860941887, 0.13945157860941887, 0.7839766301440086, 0.13634376176417543, 0.034085940441043856, 0.8692381729890193, 0.06686447484530918, 0.06686447484530918, 0.38431815023055715, 0.46118178027666856, 0.15372726009222284, 0.6291282437681354, 0.15728206094203384, 0.15728206094203384, 0.88544713055389, 0.07378726087949083, 0.07378726087949083, 0.7490944550504244, 0.10701349357863205, 0.10701349357863205, 0.45542133726281764, 0.3643370698102541, 0.18216853490512705], \"Term\": [\"acting\", \"acting\", \"acting\", \"actor\", \"actor\", \"actor\", \"actually\", \"actually\", \"actually\", \"adrian\", \"adrian\", \"adrian\", \"american\", \"american\", \"american\", \"apartment\", \"apartment\", \"apartment\", \"apollo\", \"apollo\", \"apollo\", \"awesome\", \"awesome\", \"awesome\", \"bad\", \"bad\", \"bad\", \"balboa\", \"balboa\", \"balboa\", \"begins\", \"begins\", \"begins\", \"best\", \"best\", \"best\", \"better\", \"better\", \"better\", \"bit\", \"bit\", \"bit\", \"bout\", \"bout\", \"bout\", \"boxing\", \"boxing\", \"boxing\", \"brain\", \"brain\", \"brain\", \"burgess\", \"burgess\", \"burgess\", \"care\", \"care\", \"care\", \"champ\", \"champ\", \"champ\", \"champion\", \"champion\", \"champion\", \"character\", \"character\", \"character\", \"characters\", \"characters\", \"characters\", \"close\", \"close\", \"close\", \"clubber\", \"clubber\", \"clubber\", \"coma\", \"coma\", \"coma\", \"comes\", \"comes\", \"comes\", \"couldn\", \"couldn\", \"couldn\", \"creed\", \"creed\", \"creed\", \"day\", \"day\", \"day\", \"death\", \"death\", \"death\", \"did\", \"did\", \"did\", \"didn\", \"didn\", \"didn\", \"directed\", \"directed\", \"directed\", \"direction\", \"direction\", \"direction\", \"distance\", \"distance\", \"distance\", \"does\", \"does\", \"does\", \"doesn\", \"doesn\", \"doesn\", \"don\", \"don\", \"don\", \"drama\", \"drama\", \"drama\", \"dream\", \"dream\", \"dream\", \"elements\", \"elements\", \"emotional\", \"emotional\", \"emotional\", \"end\", \"end\", \"end\", \"ends\", \"ends\", \"ends\", \"enjoy\", \"enjoy\", \"enjoy\", \"enjoyed\", \"enjoyed\", \"enjoyed\", \"entire\", \"entire\", \"eye\", \"eye\", \"eye\", \"eyes\", \"eyes\", \"eyes\", \"fame\", \"fame\", \"fame\", \"family\", \"family\", \"family\", \"famous\", \"famous\", \"famous\", \"fans\", \"fans\", \"fans\", \"feel\", \"feel\", \"feel\", \"felt\", \"felt\", \"felt\", \"fight\", \"fight\", \"fight\", \"fighting\", \"fighting\", \"fighting\", \"fights\", \"fights\", \"fights\", \"film\", \"film\", \"film\", \"film\", \"films\", \"films\", \"films\", \"fine\", \"fine\", \"fine\", \"friend\", \"friend\", \"friend\", \"friends\", \"friends\", \"friends\", \"gets\", \"gets\", \"gets\", \"getting\", \"getting\", \"getting\", \"gives\", \"gives\", \"gives\", \"gone\", \"gone\", \"gone\", \"good\", \"good\", \"good\", \"great\", \"great\", \"great\", \"greatest\", \"greatest\", \"greatest\", \"guy\", \"guy\", \"guy\", \"half\", \"half\", \"half\", \"hard\", \"hard\", \"hard\", \"having\", \"having\", \"having\", \"heard\", \"heard\", \"heard\", \"help\", \"help\", \"help\", \"history\", \"history\", \"history\", \"hollywood\", \"hollywood\", \"hollywood\", \"huge\", \"huge\", \"huge\", \"ii\", \"ii\", \"ii\", \"iii\", \"iii\", \"iii\", \"important\", \"important\", \"important\", \"inspirational\", \"inspirational\", \"inspirational\", \"job\", \"job\", \"job\", \"just\", \"just\", \"just\", \"know\", \"know\", \"know\", \"lacks\", \"lacks\", \"lacks\", \"lang\", \"lang\", \"lang\", \"left\", \"left\", \"left\", \"life\", \"life\", \"life\", \"like\", \"like\", \"like\", \"line\", \"line\", \"line\", \"look\", \"look\", \"look\", \"looks\", \"looks\", \"looks\", \"lose\", \"lose\", \"lose\", \"lost\", \"lost\", \"lost\", \"lot\", \"lot\", \"lot\", \"love\", \"love\", \"love\", \"main\", \"main\", \"main\", \"make\", \"make\", \"make\", \"making\", \"making\", \"making\", \"man\", \"man\", \"man\", \"matter\", \"matter\", \"matter\", \"maybe\", \"maybe\", \"maybe\", \"means\", \"means\", \"means\", \"meat\", \"meat\", \"meat\", \"meets\", \"meets\", \"meets\", \"men\", \"men\", \"men\", \"meredith\", \"meredith\", \"meredith\", \"mickey\", \"mickey\", \"mickey\", \"million\", \"million\", \"million\", \"mind\", \"mind\", \"mind\", \"minutes\", \"minutes\", \"minutes\", \"moment\", \"moment\", \"moment\", \"montage\", \"montage\", \"montage\", \"movie\", \"movie\", \"movie\", \"movies\", \"movies\", \"movies\", \"mr\", \"mr\", \"mr\", \"music\", \"music\", \"music\", \"need\", \"need\", \"need\", \"needs\", \"needs\", \"needs\", \"ok\", \"ok\", \"ok\", \"original\", \"original\", \"original\", \"oscar\", \"oscar\", \"oscar\", \"overall\", \"overall\", \"overall\", \"overrated\", \"overrated\", \"overrated\", \"parts\", \"parts\", \"parts\", \"past\", \"past\", \"past\", \"performances\", \"performances\", \"performances\", \"personal\", \"personal\", \"personal\", \"picture\", \"picture\", \"picture\", \"place\", \"place\", \"place\", \"play\", \"play\", \"play\", \"played\", \"played\", \"played\", \"point\", \"point\", \"point\", \"predictable\", \"predictable\", \"predictable\", \"previous\", \"previous\", \"previous\", \"probably\", \"probably\", \"probably\", \"proved\", \"proved\", \"proved\", \"public\", \"public\", \"public\", \"punch\", \"punch\", \"punch\", \"realistic\", \"realistic\", \"realistic\", \"realize\", \"realize\", \"realize\", \"really\", \"really\", \"really\", \"reason\", \"reason\", \"reason\", \"rematch\", \"rematch\", \"rematch\", \"rest\", \"rest\", \"rest\", \"ring\", \"ring\", \"ring\", \"rocky\", \"rocky\", \"rocky\", \"rocky\", \"role\", \"role\", \"role\", \"room\", \"room\", \"room\", \"round\", \"round\", \"round\", \"runs\", \"runs\", \"saga\", \"saga\", \"saga\", \"said\", \"said\", \"said\", \"say\", \"say\", \"say\", \"saying\", \"saying\", \"saying\", \"says\", \"says\", \"says\", \"scene\", \"scene\", \"scene\", \"scenes\", \"scenes\", \"scenes\", \"score\", \"score\", \"score\", \"screenplay\", \"screenplay\", \"screenplay\", \"script\", \"script\", \"second\", \"second\", \"second\", \"seeing\", \"seeing\", \"seeing\", \"seen\", \"seen\", \"seen\", \"self\", \"self\", \"self\", \"sequel\", \"sequel\", \"sequel\", \"series\", \"series\", \"series\", \"shire\", \"shire\", \"shire\", \"shy\", \"shy\", \"shy\", \"simple\", \"simple\", \"simple\", \"small\", \"small\", \"small\", \"son\", \"son\", \"son\", \"sports\", \"sports\", \"sports\", \"stallone\", \"stallone\", \"stallone\", \"star\", \"star\", \"star\", \"story\", \"story\", \"story\", \"strength\", \"strength\", \"strength\", \"success\", \"success\", \"success\", \"supporting\", \"supporting\", \"supporting\", \"sure\", \"sure\", \"sure\", \"sylvester\", \"sylvester\", \"sylvester\", \"takes\", \"takes\", \"takes\", \"talia\", \"talia\", \"talia\", \"talking\", \"talking\", \"talking\", \"tells\", \"tells\", \"tells\", \"theme\", \"theme\", \"theme\", \"thing\", \"thing\", \"thing\", \"think\", \"think\", \"think\", \"tiger\", \"tiger\", \"tiger\", \"time\", \"time\", \"time\", \"title\", \"title\", \"title\", \"today\", \"today\", \"tough\", \"tough\", \"tough\", \"train\", \"train\", \"train\", \"trainer\", \"trainer\", \"trainer\", \"training\", \"training\", \"training\", \"tries\", \"tries\", \"tries\", \"true\", \"true\", \"true\", \"truly\", \"truly\", \"truly\", \"underdog\", \"underdog\", \"underdog\", \"unknown\", \"unknown\", \"unknown\", \"watch\", \"watch\", \"watch\", \"watched\", \"watched\", \"watched\", \"watching\", \"watching\", \"watching\", \"way\", \"way\", \"way\", \"weight\", \"weight\", \"weight\", \"went\", \"went\", \"went\", \"wife\", \"wife\", \"wife\", \"wins\", \"wins\", \"wins\", \"won\", \"won\", \"won\", \"world\", \"world\", \"world\", \"worst\", \"worst\", \"worst\", \"worth\", \"worth\", \"worth\", \"writing\", \"writing\", \"writing\", \"written\", \"written\", \"written\", \"wrote\", \"wrote\", \"wrote\", \"yes\", \"yes\", \"yes\"]}, \"R\": 30, \"lambda.step\": 0.01, \"plot.opts\": {\"xlab\": \"PC1\", \"ylab\": \"PC2\"}, \"topic.order\": [6, 5, 2, 4, 1, 3, 7]};\n",
       "\n",
       "function LDAvis_load_lib(url, callback){\n",
       "  var s = document.createElement('script');\n",
       "  s.src = url;\n",
       "  s.async = true;\n",
       "  s.onreadystatechange = s.onload = callback;\n",
       "  s.onerror = function(){console.warn(\"failed to load library \" + url);};\n",
       "  document.getElementsByTagName(\"head\")[0].appendChild(s);\n",
       "}\n",
       "\n",
       "if(typeof(LDAvis) !== \"undefined\"){\n",
       "   // already loaded: just create the visualization\n",
       "   !function(LDAvis){\n",
       "       new LDAvis(\"#\" + \"ldavis_el484015788278388326890758440\", ldavis_el484015788278388326890758440_data);\n",
       "   }(LDAvis);\n",
       "}else if(typeof define === \"function\" && define.amd){\n",
       "   // require.js is available: use it to load d3/LDAvis\n",
       "   require.config({paths: {d3: \"https://cdnjs.cloudflare.com/ajax/libs/d3/3.5.5/d3.min\"}});\n",
       "   require([\"d3\"], function(d3){\n",
       "      window.d3 = d3;\n",
       "      LDAvis_load_lib(\"https://cdn.rawgit.com/bmabey/pyLDAvis/files/ldavis.v1.0.0.js\", function(){\n",
       "        new LDAvis(\"#\" + \"ldavis_el484015788278388326890758440\", ldavis_el484015788278388326890758440_data);\n",
       "      });\n",
       "    });\n",
       "}else{\n",
       "    // require.js not available: dynamically load d3 & LDAvis\n",
       "    LDAvis_load_lib(\"https://cdnjs.cloudflare.com/ajax/libs/d3/3.5.5/d3.min.js\", function(){\n",
       "         LDAvis_load_lib(\"https://cdn.rawgit.com/bmabey/pyLDAvis/files/ldavis.v1.0.0.js\", function(){\n",
       "                 new LDAvis(\"#\" + \"ldavis_el484015788278388326890758440\", ldavis_el484015788278388326890758440_data);\n",
       "            })\n",
       "         });\n",
       "}\n",
       "</script>"
      ],
      "text/plain": [
       "PreparedData(topic_coordinates=               x          y  topics  cluster       Freq\n",
       "topic                                                  \n",
       "5     -75.647682  43.218079       1        1  67.548150\n",
       "4     -53.771984  54.570892       2        1  19.857004\n",
       "1     -54.882996  29.950241       3        1  11.385820\n",
       "3     -76.753342  18.603716       4        1   0.505052\n",
       "0     -33.006874  41.297489       5        1   0.234682\n",
       "2     -34.121826  16.681051       6        1   0.234659\n",
       "6     -55.993465   5.335084       7        1   0.234632, topic_info=    Category        Freq       Term       Total  loglift  logprob\n",
       "243  Default  710.000000      rocky  710.000000  30.0000  30.0000\n",
       "100  Default  250.000000       film  250.000000  29.0000  29.0000\n",
       "195  Default  215.000000      movie  215.000000  28.0000  28.0000\n",
       "285  Default  152.000000   stallone  152.000000  27.0000  27.0000\n",
       "149  Default  118.000000       just  118.000000  26.0000  26.0000\n",
       "306  Default  111.000000       time  111.000000  25.0000  25.0000\n",
       "101  Default   73.000000      films   73.000000  24.0000  24.0000\n",
       "96   Default  123.000000      fight  123.000000  23.0000  23.0000\n",
       "156  Default   97.000000       like   97.000000  22.0000  22.0000\n",
       "117  Default  100.000000       good  100.000000  21.0000  21.0000\n",
       "289  Default   80.000000      story   80.000000  20.0000  20.0000\n",
       "54   Default  103.000000      creed  103.000000  19.0000  19.0000\n",
       "294  Default   65.000000  sylvester   65.000000  18.0000  18.0000\n",
       "119  Default   58.000000      great   58.000000  17.0000  17.0000\n",
       "12   Default  107.000000     apollo  107.000000  16.0000  16.0000\n",
       "196  Default   61.000000     movies   61.000000  15.0000  15.0000\n",
       "153  Default   78.000000       lang   78.000000  14.0000  14.0000\n",
       "236  Default   56.000000     really   56.000000  13.0000  13.0000\n",
       "8    Default   60.000000     adrian   60.000000  12.0000  12.0000\n",
       "17   Default   75.000000     balboa   75.000000  11.0000  11.0000\n",
       "28   Default   64.000000     boxing   64.000000  10.0000  10.0000\n",
       "21   Default   53.000000       best   53.000000   9.0000   9.0000\n",
       "139  Default   82.000000        iii   82.000000   8.0000   8.0000\n",
       "41   Default   55.000000  character   55.000000   7.0000   7.0000\n",
       "268  Default   59.000000     series   59.000000   6.0000   6.0000\n",
       "69   Default   50.000000        don   50.000000   5.0000   5.0000\n",
       "197  Default   76.000000         mr   76.000000   4.0000   4.0000\n",
       "45   Default   58.000000    clubber   58.000000   3.0000   3.0000\n",
       "187  Default   56.000000     mickey   56.000000   2.0000   2.0000\n",
       "170  Default   45.000000       love   45.000000   1.0000   1.0000\n",
       "..       ...         ...        ...         ...      ...      ...\n",
       "258   Topic7    0.065945     script   11.920747   0.8577  -5.7546\n",
       "81    Topic7    0.065600     entire   11.689536   0.8720  -5.7598\n",
       "306   Topic7    0.115817       time  111.930842  -0.8187  -5.1914\n",
       "121   Topic7    0.077241        guy   23.360534   0.3430  -5.5965\n",
       "262   Topic7    0.068333       self   15.110721   0.6561  -5.7190\n",
       "297   Topic7    0.077345      talia   29.196779   0.1214  -5.5951\n",
       "242   Topic7    0.083096       ring   51.382046  -0.3721  -5.5234\n",
       "243   Topic7    0.116676      rocky  710.160620  -2.6589  -5.1840\n",
       "22    Topic7    0.075736     better   34.713584  -0.0727  -5.6161\n",
       "334   Topic7    0.076074       wife   38.013223  -0.1591  -5.6117\n",
       "38    Topic7    0.075799   champion   37.860925  -0.1587  -5.6153\n",
       "16    Topic7    0.077490        bad   46.936075  -0.3515  -5.5932\n",
       "117   Topic7    0.084363       good  100.716298  -1.0300  -5.5083\n",
       "170   Topic7    0.076778       love   45.287497  -0.3250  -5.6025\n",
       "100   Topic7    0.091093       film  250.169793  -1.8631  -5.4315\n",
       "329   Topic7    0.072182   watching   29.032590   0.0579  -5.6642\n",
       "264   Topic7    0.072542     sequel   31.623212  -0.0226  -5.6592\n",
       "28    Topic7    0.076592     boxing   64.890887  -0.6871  -5.6049\n",
       "8     Topic7    0.075884     adrian   60.275318  -0.6226  -5.6142\n",
       "289   Topic7    0.075968      story   80.426980  -0.9099  -5.6131\n",
       "101   Topic7    0.075143      films   73.964848  -0.8371  -5.6240\n",
       "12    Topic7    0.076473     apollo  107.147054  -1.1901  -5.6065\n",
       "66    Topic7    0.073546       does   51.751592  -0.5014  -5.6455\n",
       "59    Topic7    0.070896        did   29.464240   0.0252  -5.6822\n",
       "119   Topic7    0.072078      great   58.835384  -0.6498  -5.6656\n",
       "67    Topic7    0.071272      doesn   45.590816  -0.4061  -5.6769\n",
       "99    Topic7    0.070158     fights   30.339708  -0.0146  -5.6926\n",
       "83    Topic7    0.070906        eye   55.830467  -0.6138  -5.6820\n",
       "75    Topic7    0.070324        end   40.930425  -0.3116  -5.6903\n",
       "17    Topic7    0.070402     balboa   75.782121  -0.9265  -5.6892\n",
       "\n",
       "[468 rows x 6 columns], token_table=      Topic      Freq       Term\n",
       "term                            \n",
       "3         1  0.788575     acting\n",
       "3         2  0.087619     acting\n",
       "3         3  0.116826     acting\n",
       "5         1  0.722294      actor\n",
       "5         2  0.072229      actor\n",
       "5         3  0.216688      actor\n",
       "7         1  0.437247   actually\n",
       "7         2  0.499711   actually\n",
       "7         3  0.062464   actually\n",
       "8         1  0.829527     adrian\n",
       "8         2  0.099543     adrian\n",
       "8         3  0.066362     adrian\n",
       "10        1  0.570554   american\n",
       "10        2  0.332823   american\n",
       "10        3  0.047546   american\n",
       "11        1  0.693813  apartment\n",
       "11        2  0.115635  apartment\n",
       "11        3  0.231271  apartment\n",
       "12        1  0.774636     apollo\n",
       "12        2  0.195992     apollo\n",
       "12        3  0.027999     apollo\n",
       "15        1  0.500848    awesome\n",
       "15        2  0.250424    awesome\n",
       "15        3  0.250424    awesome\n",
       "16        1  0.511334        bad\n",
       "16        2  0.127833        bad\n",
       "16        3  0.340889        bad\n",
       "17        1  0.620199     balboa\n",
       "17        2  0.343089     balboa\n",
       "17        3  0.026391     balboa\n",
       "...     ...       ...        ...\n",
       "334       1  0.789199       wife\n",
       "334       2  0.131533       wife\n",
       "334       3  0.052613       wife\n",
       "337       1  0.520197       wins\n",
       "337       2  0.260098       wins\n",
       "337       3  0.130049       wins\n",
       "338       1  0.697258        won\n",
       "338       2  0.139452        won\n",
       "338       3  0.139452        won\n",
       "342       1  0.783977      world\n",
       "342       2  0.136344      world\n",
       "342       3  0.034086      world\n",
       "343       1  0.869238      worst\n",
       "343       2  0.066864      worst\n",
       "343       3  0.066864      worst\n",
       "344       1  0.384318      worth\n",
       "344       2  0.461182      worth\n",
       "344       3  0.153727      worth\n",
       "347       1  0.629128    writing\n",
       "347       2  0.157282    writing\n",
       "347       3  0.157282    writing\n",
       "348       1  0.885447    written\n",
       "348       2  0.073787    written\n",
       "348       3  0.073787    written\n",
       "349       1  0.749094      wrote\n",
       "349       2  0.107013      wrote\n",
       "349       3  0.107013      wrote\n",
       "351       1  0.455421        yes\n",
       "351       2  0.364337        yes\n",
       "351       3  0.182169        yes\n",
       "\n",
       "[657 rows x 3 columns], R=30, lambda_step=0.01, plot_opts={'xlab': 'PC1', 'ylab': 'PC2'}, topic_order=[6, 5, 2, 4, 1, 3, 7])"
      ]
     },
     "execution_count": 34,
     "metadata": {},
     "output_type": "execute_result"
    }
   ],
   "source": [
    "pyLDAvis.enable_notebook()\n",
    "#panel = pyLDAvis.sklearn.prepare(lda, cvMatrix, countVectorizer, mds='tsne')\n",
    "panel = pyLDAvis.sklearn.prepare(ldaBest, cvMatrix, countVectorizer, mds='tsne')\n",
    "panel"
   ]
  },
  {
   "cell_type": "code",
   "execution_count": null,
   "metadata": {},
   "outputs": [],
   "source": []
  }
 ],
 "metadata": {
  "kernelspec": {
   "display_name": "Python 3",
   "language": "python",
   "name": "python3"
  },
  "language_info": {
   "codemirror_mode": {
    "name": "ipython",
    "version": 3
   },
   "file_extension": ".py",
   "mimetype": "text/x-python",
   "name": "python",
   "nbconvert_exporter": "python",
   "pygments_lexer": "ipython3",
   "version": "3.6.8"
  }
 },
 "nbformat": 4,
 "nbformat_minor": 2
}
