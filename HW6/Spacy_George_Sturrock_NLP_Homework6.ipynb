{
 "cells": [
  {
   "cell_type": "markdown",
   "metadata": {},
   "source": [
    "## Noun Phrase Chunking of IMDB Movie Reviews\n",
    "### DS 7337 - Natural Laguage Processing - Homework 5\n",
    "#### George C. Sturrock\n",
    "##### March 16, 2019\n",
    "##### Homework 6 Objectives\n",
    "1.  Evaluate text similarity of Amazon book search results by doing the following:\n",
    "\n",
    "a.  Do a book search on Amazon. Manually copy the full book title (including subtitle) of each of the top 24 books listed in the first two pages of search results. \n",
    "\n",
    "b.  In Python, run one of the text-similarity measures covered in this course, e.g., cosine similarity. Compare each of the book titles, pairwise, to every other one. \n",
    "\n",
    "c.  Which two titles are the most similar to each other? Which are the most dissimilar? Where do they rank, among the first 24 results?\n",
    "\n",
    "\n",
    "2.  Now evaluate using a major search engine.\n",
    "\n",
    "a.  Enter one of the book titles from question 1a into Google, Bing, or Yahoo!. Copy the capsule of the first organic result and the 20th organic result. Take web results only (i.e., not video results), and skip sponsored results. \n",
    "\n",
    "b.  Run the same text similarity calculation that you used for question 1b on each of these capsules in comparison to the original query (book title). \n",
    "\n",
    "c.  Which one has the highest similarity measure? \n",
    "\n",
    "Submit all of your inputs and outputs and your code for this assignment, along with a brief written explanation of your findings. \n",
    "\n",
    "\n",
    "#### Import Libraries"
   ]
  },
  {
   "cell_type": "code",
   "execution_count": 4,
   "metadata": {},
   "outputs": [
    {
     "name": "stdout",
     "output_type": "stream",
     "text": [
      "Platform: Windows-10-10.0.14393-SP0\n",
      "Python: 3.6.8 |Anaconda custom (64-bit)| (default, Feb 21 2019, 18:30:04) [MSC v.1916 64 bit (AMD64)]\n",
      "Requests: 2.21.0\n",
      "BeatifulSoup: 4.7.1\n",
      "json: 2.0.9\n",
      "Numpy Version: 1.15.4\n",
      "Pandas Version: 0.24.2\n",
      "NLTK Version: 3.4\n",
      "Spacy Version: 2.0.16\n",
      "en_core_web_md Version: 2.0.0\n",
      "Pattern Version: 3.6\n"
     ]
    }
   ],
   "source": [
    "import platform; print(\"Platform:\", platform.platform())\n",
    "import os\n",
    "import sys; print(\"Python:\", sys.version)\n",
    "import requests; print(\"Requests:\", requests.__version__)\n",
    "from urllib import request; (\"urllib:\", request.__version__)\n",
    "import warnings\n",
    "warnings.filterwarnings('ignore')\n",
    "from time import sleep\n",
    "\n",
    "#Web Scraping\n",
    "import bs4; print(\"BeatifulSoup:\", bs4.__version__)\n",
    "from bs4 import BeautifulSoup\n",
    "import json; print(\"json:\", json.__version__)\n",
    "\n",
    "#Python Basics\n",
    "import numpy as np; print(\"Numpy Version:\", np.__version__)\n",
    "import pandas as pd; print(\"Pandas Version:\", pd.__version__)\n",
    "import seaborn as sns;\n",
    "\n",
    "#NLP\n",
    "import nltk; print(\"NLTK Version:\", nltk.__version__)\n",
    "#nltk.download('conll2000')\n",
    "from nltk.corpus import conll2000\n",
    "\n",
    "import spacy; print(\"Spacy Version:\", spacy.__version__)\n",
    "from spacy import displacy\n",
    "#nlp = spacy.load('en')\n",
    "#import en_core_web_sm; print(\"en_core_web_sm Version:\", en_core_web_sm.__version__)\n",
    "#nlp = en_core_web_sm.load()\n",
    "import en_core_web_md; print(\"en_core_web_md Version:\", en_core_web_md.__version__)\n",
    "nlp = en_core_web_md.load()\n",
    "\n",
    "import pattern; print(\"Pattern Version:\", pattern.__version__)\n",
    "from pattern.en import tag\n",
    "from pattern.en import parsetree"
   ]
  },
  {
   "cell_type": "markdown",
   "metadata": {},
   "source": [
    "### Question 6.1\n",
    "Despite Stephen Ambrose's propensity for plagiarism, \"Band of Brothers\" is one of my all-time favorite books.  An Amazon book search for this title returns related results for this title.  The results include several formats of the original book included paper back, Kindle, DVD, etc.  These redundant results were not included in the list below which includes the top twenty-five related results (not including the aforementioned duplicates).  Additionally, only book results were included in the list.  T-shirts appeared in the search results even though the Amazon book search was filtered for \"Books\".  "
   ]
  },
  {
   "cell_type": "code",
   "execution_count": 5,
   "metadata": {},
   "outputs": [],
   "source": [
    "boblist = [\"Band of Brothers: E Company, 506th Regiment, 101st Airborne from Normandy to Hitler's Eagle's Nest\", \n",
    "          \"Beyond Band of Brothers: The War Memoirs of Major Dick Winters\", \n",
    "          \"Brothers in Battle, Best of Friends: Two WWII Paratroopers from the Original Band of Brothers Tell Their Story\",\n",
    "          \"Shifty's War: The Authorized Biography of Sergeant Darrell Powers, the Legendary Sharpshooter from the Band\", \n",
    "          \"Conversations with Major Dick Winters: Life Lessons from the Commander of the Band of Brothers\", \n",
    "          \"Easy Company Soldier: The Legendary Battles of a Sergeant from WW II's 'Band of Brothers'\",\n",
    "          \"How Easy Company Became a Band of Brothers\",\n",
    "          \"Biggest Brother: The Life Of Major Dick Winters, The Man Who Led The Band of Brothers\", \n",
    "          \"We Who Are Alive and Remain: Untold Stories from the Band of Brothers\", \n",
    "          \"The General's Driver: A Vietnam Soldier Remembers\", \n",
    "          \"Killing the SS: The Hunt for the Worst War Criminals in History (Bill O'Reilly's Killing Series)\", \n",
    "          \"The Allman Brothers Band Classic Memorabilia, 1969-76 (Music and the American South)\", \n",
    "          \"Building Your Band of Brothers\", \n",
    "          \"Killer Genius: The Bizarre Case of the Homicidal Scholar (Dead True Crime Book 5)\", \n",
    "          \"Murderer's Gulch: Carnage in the Catskills (Dead True Crime Book 4)\", \n",
    "          \"Band of Brothers: Battle Manual\", \n",
    "          \"Call of Duty: My Life Before, During and After the Band of Brothers\", \n",
    "          \"Band of Brothers: The Complete Campaigns\", \n",
    "          \"My Kid Brother's Band... a.k.a. The Beatles\", \n",
    "          \"One More Moment (Shaughnessy Brothers: Band on the Run Book 3)\", \n",
    "          \"One Way Out: The Inside History of the Allman Brothers Band\", \n",
    "          \"Tangled Up in You (The Shaughnessy Brothers Book 7)\", \n",
    "          \"The Allman Brothers Band: The Definitive Collection for Guitar, Vol. 3\", \n",
    "          \"The Allman Brothers Band - The Definitive Collection for Guitar - Volume 1 (Guitar Recorded Versions S)\", \n",
    "          \"Bastogne Band of Brothers Guide\", \n",
    "          \"Daisy Jones & The Six: A Novel\", \n",
    "          \"Band of Brothers: E Company 506th Regiment 101st Airborne, D-day & Citizen Soldiers Box Set\", \n",
    "          \"D DAY Through German Eyes - The Hidden Story of June 6th 1944\"]"
   ]
  },
  {
   "cell_type": "code",
   "execution_count": 9,
   "metadata": {},
   "outputs": [
    {
     "name": "stderr",
     "output_type": "stream",
     "text": [
      "Exception ignored in: <bound method Stream.__del__ of <cupy.cuda.stream.Stream object at 0x000001C4B93FFBE0>>\n",
      "Traceback (most recent call last):\n",
      "  File \"cupy\\cuda\\stream.pyx\", line 162, in cupy.cuda.stream.Stream.__del__\n",
      "AttributeError: 'Stream' object has no attribute 'ptr'\n"
     ]
    },
    {
     "ename": "CUDARuntimeError",
     "evalue": "cudaErrorUnknown: unknown error",
     "output_type": "error",
     "traceback": [
      "\u001b[1;31m---------------------------------------------------------------------------\u001b[0m",
      "\u001b[1;31mCUDARuntimeError\u001b[0m                          Traceback (most recent call last)",
      "\u001b[1;32m<ipython-input-9-f704628bb34a>\u001b[0m in \u001b[0;36m<module>\u001b[1;34m\u001b[0m\n\u001b[0;32m      1\u001b[0m \u001b[1;31m#https://nlpforhackers.io/complete-guide-to-spacy/\u001b[0m\u001b[1;33m\u001b[0m\u001b[1;33m\u001b[0m\u001b[1;33m\u001b[0m\u001b[0m\n\u001b[1;32m----> 2\u001b[1;33m \u001b[0mb1\u001b[0m \u001b[1;33m=\u001b[0m \u001b[0mnlp\u001b[0m\u001b[1;33m(\u001b[0m\u001b[1;34mu'Band of Brothers: E Company 506th Regiment, 101st Airborne from Normandy to Hitlers Eagles Nest'\u001b[0m\u001b[1;33m)\u001b[0m\u001b[1;33m\u001b[0m\u001b[1;33m\u001b[0m\u001b[0m\n\u001b[0m\u001b[0;32m      3\u001b[0m \u001b[0mb2\u001b[0m \u001b[1;33m=\u001b[0m \u001b[0mnlp\u001b[0m\u001b[1;33m(\u001b[0m\u001b[1;34m\"Beyond Band of Brothers: The War Memoirs of Major Dick Winters\"\u001b[0m\u001b[1;33m)\u001b[0m\u001b[1;33m\u001b[0m\u001b[1;33m\u001b[0m\u001b[0m\n\u001b[0;32m      4\u001b[0m \u001b[0mb3\u001b[0m \u001b[1;33m=\u001b[0m \u001b[0mnlp\u001b[0m\u001b[1;33m(\u001b[0m\u001b[1;34m\"Brothers in Battle, Best of Friends: Two WWII Paratroopers from the Original Band of Brothers Tell Their Story\"\u001b[0m\u001b[1;33m)\u001b[0m\u001b[1;33m\u001b[0m\u001b[1;33m\u001b[0m\u001b[0m\n\u001b[0;32m      5\u001b[0m \u001b[0mb4\u001b[0m \u001b[1;33m=\u001b[0m \u001b[0mnlp\u001b[0m\u001b[1;33m(\u001b[0m\u001b[1;34m\"Shiftys War: The Authorized Biography of Sergeant Darrell Powers, the Legendary Sharpshooter from the Band\"\u001b[0m\u001b[1;33m)\u001b[0m\u001b[1;33m\u001b[0m\u001b[1;33m\u001b[0m\u001b[0m\n",
      "\u001b[1;32mC:\\Anaconda\\lib\\site-packages\\spacy\\language.py\u001b[0m in \u001b[0;36m__call__\u001b[1;34m(self, text, disable)\u001b[0m\n\u001b[0;32m    344\u001b[0m             \u001b[1;32mif\u001b[0m \u001b[1;32mnot\u001b[0m \u001b[0mhasattr\u001b[0m\u001b[1;33m(\u001b[0m\u001b[0mproc\u001b[0m\u001b[1;33m,\u001b[0m \u001b[1;34m'__call__'\u001b[0m\u001b[1;33m)\u001b[0m\u001b[1;33m:\u001b[0m\u001b[1;33m\u001b[0m\u001b[1;33m\u001b[0m\u001b[0m\n\u001b[0;32m    345\u001b[0m                 \u001b[1;32mraise\u001b[0m \u001b[0mValueError\u001b[0m\u001b[1;33m(\u001b[0m\u001b[0mErrors\u001b[0m\u001b[1;33m.\u001b[0m\u001b[0mE003\u001b[0m\u001b[1;33m.\u001b[0m\u001b[0mformat\u001b[0m\u001b[1;33m(\u001b[0m\u001b[0mcomponent\u001b[0m\u001b[1;33m=\u001b[0m\u001b[0mtype\u001b[0m\u001b[1;33m(\u001b[0m\u001b[0mproc\u001b[0m\u001b[1;33m)\u001b[0m\u001b[1;33m,\u001b[0m \u001b[0mname\u001b[0m\u001b[1;33m=\u001b[0m\u001b[0mname\u001b[0m\u001b[1;33m)\u001b[0m\u001b[1;33m)\u001b[0m\u001b[1;33m\u001b[0m\u001b[1;33m\u001b[0m\u001b[0m\n\u001b[1;32m--> 346\u001b[1;33m             \u001b[0mdoc\u001b[0m \u001b[1;33m=\u001b[0m \u001b[0mproc\u001b[0m\u001b[1;33m(\u001b[0m\u001b[0mdoc\u001b[0m\u001b[1;33m)\u001b[0m\u001b[1;33m\u001b[0m\u001b[1;33m\u001b[0m\u001b[0m\n\u001b[0m\u001b[0;32m    347\u001b[0m             \u001b[1;32mif\u001b[0m \u001b[0mdoc\u001b[0m \u001b[1;32mis\u001b[0m \u001b[1;32mNone\u001b[0m\u001b[1;33m:\u001b[0m\u001b[1;33m\u001b[0m\u001b[1;33m\u001b[0m\u001b[0m\n\u001b[0;32m    348\u001b[0m                 \u001b[1;32mraise\u001b[0m \u001b[0mValueError\u001b[0m\u001b[1;33m(\u001b[0m\u001b[0mErrors\u001b[0m\u001b[1;33m.\u001b[0m\u001b[0mE005\u001b[0m\u001b[1;33m.\u001b[0m\u001b[0mformat\u001b[0m\u001b[1;33m(\u001b[0m\u001b[0mname\u001b[0m\u001b[1;33m=\u001b[0m\u001b[0mname\u001b[0m\u001b[1;33m)\u001b[0m\u001b[1;33m)\u001b[0m\u001b[1;33m\u001b[0m\u001b[1;33m\u001b[0m\u001b[0m\n",
      "\u001b[1;32mnn_parser.pyx\u001b[0m in \u001b[0;36mspacy.syntax.nn_parser.Parser.__call__\u001b[1;34m()\u001b[0m\n",
      "\u001b[1;32mnn_parser.pyx\u001b[0m in \u001b[0;36mspacy.syntax.nn_parser.Parser.parse_batch\u001b[1;34m()\u001b[0m\n",
      "\u001b[1;32mC:\\Anaconda\\lib\\site-packages\\spacy\\util.py\u001b[0m in \u001b[0;36mget_cuda_stream\u001b[1;34m(require)\u001b[0m\n\u001b[0;32m    236\u001b[0m \u001b[1;33m\u001b[0m\u001b[0m\n\u001b[0;32m    237\u001b[0m \u001b[1;32mdef\u001b[0m \u001b[0mget_cuda_stream\u001b[0m\u001b[1;33m(\u001b[0m\u001b[0mrequire\u001b[0m\u001b[1;33m=\u001b[0m\u001b[1;32mFalse\u001b[0m\u001b[1;33m)\u001b[0m\u001b[1;33m:\u001b[0m\u001b[1;33m\u001b[0m\u001b[1;33m\u001b[0m\u001b[0m\n\u001b[1;32m--> 238\u001b[1;33m     \u001b[1;32mreturn\u001b[0m \u001b[0mCudaStream\u001b[0m\u001b[1;33m(\u001b[0m\u001b[1;33m)\u001b[0m \u001b[1;32mif\u001b[0m \u001b[0mCudaStream\u001b[0m \u001b[1;32mis\u001b[0m \u001b[1;32mnot\u001b[0m \u001b[1;32mNone\u001b[0m \u001b[1;32melse\u001b[0m \u001b[1;32mNone\u001b[0m\u001b[1;33m\u001b[0m\u001b[1;33m\u001b[0m\u001b[0m\n\u001b[0m\u001b[0;32m    239\u001b[0m \u001b[1;33m\u001b[0m\u001b[0m\n\u001b[0;32m    240\u001b[0m \u001b[1;33m\u001b[0m\u001b[0m\n",
      "\u001b[1;32mcupy\\cuda\\stream.pyx\u001b[0m in \u001b[0;36mcupy.cuda.stream.Stream.__init__\u001b[1;34m()\u001b[0m\n",
      "\u001b[1;32mcupy\\cuda\\runtime.pyx\u001b[0m in \u001b[0;36mcupy.cuda.runtime.streamCreate\u001b[1;34m()\u001b[0m\n",
      "\u001b[1;32mcupy\\cuda\\runtime.pyx\u001b[0m in \u001b[0;36mcupy.cuda.runtime.streamCreate\u001b[1;34m()\u001b[0m\n",
      "\u001b[1;32mcupy\\cuda\\runtime.pyx\u001b[0m in \u001b[0;36mcupy.cuda.runtime.check_status\u001b[1;34m()\u001b[0m\n",
      "\u001b[1;31mCUDARuntimeError\u001b[0m: cudaErrorUnknown: unknown error"
     ]
    }
   ],
   "source": [
    "#https://nlpforhackers.io/complete-guide-to-spacy/  \n",
    "b1 = nlp(u'Band of Brothers: E Company 506th Regiment, 101st Airborne from Normandy to Hitlers Eagles Nest')\n",
    "b2 = nlp(\"Beyond Band of Brothers: The War Memoirs of Major Dick Winters\")\n",
    "b3 = nlp(\"Brothers in Battle, Best of Friends: Two WWII Paratroopers from the Original Band of Brothers Tell Their Story\")\n",
    "b4 = nlp(\"Shiftys War: The Authorized Biography of Sergeant Darrell Powers, the Legendary Sharpshooter from the Band\")\n",
    "b5 = nlp(\"Conversations with Major Dick Winters: Life Lessons from the Commander of the Band of Brothers\")\n",
    "b6 = nlp(\"Easy Company Soldier: The Legendary Battles of a Sergeant from WW IIs Band of Brothers\")\n",
    "b7 = nlp(\"How Easy Company Became a Band of Brothers\")\n",
    "b8 = nlp(\"Biggest Brother: The Life Of Major Dick Winters, The Man Who Led The Band of Brothers\")\n",
    "b9 = nlp(\"We Who Are Alive and Remain: Untold Stories from the Band of Brothers\")\n",
    "b10 = nlp(\"The Generals Driver: A Vietnam Soldier Remembers\")\n",
    "b11 = nlp(\"Killing the SS: The Hunt for the Worst War Criminals in History (Bill OReillys Killing Series)\")\n",
    "b12 = nlp(\"The Allman Brothers Band Classic Memorabilia, 1969-76 (Music and the American South)\")\n",
    "b13 = nlp(\"Building Your Band of Brothers\")\n",
    "b14 = nlp(\"Killer Genius: The Bizarre Case of the Homicidal Scholar\")\n",
    "b15 = nlp(\"Murderers Gulch: Carnage in the Catskills (Dead True Crime Book 4)\")\n",
    "b16 = nlp(\"Band of Brothers: Battle Manual\")\n",
    "b17 = nlp(\"Call of Duty: My Life Before, During and After the Band of Brothers\")\n",
    "b18 = nlp(\"Band of Brothers: The Complete Campaigns\")\n",
    "b19 = nlp(\"My Kid Brothers Band... a.k.a. The Beatles\")\n",
    "b20 = nlp(\"One More Moment (Shaughnessy Brothers: Band on the Run Book 3)\")\n",
    "b21 = nlp(\"One Way Out: The Inside History of the Allman Brothers Band\")\n",
    "b22 = nlp(\"Tangled Up in You (The Shaughnessy Brothers Book 7)\")\n",
    "b23 = nlp(\"The Allman Brothers Band: The Definitive Collection for Guitar, Vol. 3\")\n",
    "b24 = nlp(\"The Allman Brothers Band - The Definitive Collection for Guitar - Volume 1 (Guitar Recorded Versions S)\")\n",
    "b25 = nlp(\"Bastogne Band of Brothers Guide\")\n",
    "b26 = nlp(\"Daisy Jones & The Six: A Novel\")\n",
    "b27 = nlp(\"Band of Brothers: E Company 506th Regiment 101st Airborne, D-day & Citizen Soldiers Box Set\")\n",
    "b28 = nlp(\"D DAY Through German Eyes - The Hidden Story of June 6th 1944\")"
   ]
  },
  {
   "cell_type": "markdown",
   "metadata": {},
   "source": [
    "#### Spacy"
   ]
  },
  {
   "cell_type": "code",
   "execution_count": null,
   "metadata": {},
   "outputs": [],
   "source": []
  },
  {
   "cell_type": "code",
   "execution_count": 165,
   "metadata": {},
   "outputs": [
    {
     "data": {
      "text/plain": [
       "'main'"
      ]
     },
     "execution_count": 165,
     "metadata": {},
     "output_type": "execute_result"
    }
   ],
   "source": [
    "b1.type"
   ]
  },
  {
   "cell_type": "code",
   "execution_count": 169,
   "metadata": {},
   "outputs": [
    {
     "data": {
      "text/plain": [
       "pattern.vector.Model"
      ]
     },
     "execution_count": 169,
     "metadata": {},
     "output_type": "execute_result"
    }
   ],
   "source": [
    "type(m)"
   ]
  },
  {
   "cell_type": "code",
   "execution_count": 147,
   "metadata": {},
   "outputs": [
    {
     "name": "stdout",
     "output_type": "stream",
     "text": [
      "None\n"
     ]
    }
   ],
   "source": [
    "print(m.documents[0].name)"
   ]
  },
  {
   "cell_type": "code",
   "execution_count": 148,
   "metadata": {},
   "outputs": [
    {
     "data": {
      "text/plain": [
       "[]"
      ]
     },
     "execution_count": 148,
     "metadata": {},
     "output_type": "execute_result"
    }
   ],
   "source": [
    "m.neighbors(b1, top=10)"
   ]
  },
  {
   "cell_type": "code",
   "execution_count": 153,
   "metadata": {},
   "outputs": [
    {
     "name": "stdout",
     "output_type": "stream",
     "text": [
      "Band of Brothers: E Company, 506th Regiment, 101st Airborne from Normandy to Hitler's Eagle's Nest\n",
      "Beyond Band of Brothers: The War Memoirs of Major Dick Winters\n",
      "Brothers in Battle, Best of Friends: Two WWII Paratroopers from the Original Band of Brothers Tell Their Story\n",
      "Shifty's War: The Authorized Biography of Sergeant Darrell Powers, the Legendary Sharpshooter from the Band\n",
      "Conversations with Major Dick Winters: Life Lessons from the Commander of the Band of Brothers\n",
      "Easy Company Soldier: The Legendary Battles of a Sergeant from WW II's 'Band of Brothers'\n",
      "How Easy Company Became a Band of Brothers\n",
      "Biggest Brother: The Life Of Major Dick Winters, The Man Who Led The Band of Brothers\n",
      "We Who Are Alive and Remain: Untold Stories from the Band of Brothers\n",
      "The General's Driver: A Vietnam Soldier Remembers\n",
      "Killing the SS: The Hunt for the Worst War Criminals in History (Bill O'Reilly's Killing Series)\n",
      "The Allman Brothers Band Classic Memorabilia, 1969-76 (Music and the American South)\n",
      "Building Your Band of Brothers\n",
      "Killer Genius: The Bizarre Case of the Homicidal Scholar (Dead True Crime Book 5)\n",
      "Murderer's Gulch: Carnage in the Catskills (Dead True Crime Book 4)\n",
      "Band of Brothers: Battle Manual\n",
      "Call of Duty: My Life Before, During and After the Band of Brothers\n",
      "Band of Brothers: The Complete Campaigns\n",
      "My Kid Brother's Band... a.k.a. The Beatles\n",
      "One More Moment (Shaughnessy Brothers: Band on the Run Book 3)\n",
      "One Way Out: The Inside History of the Allman Brothers Band\n",
      "Tangled Up in You (The Shaughnessy Brothers Book 7)\n",
      "The Allman Brothers Band: The Definitive Collection for Guitar, Vol. 3\n",
      "The Allman Brothers Band - The Definitive Collection for Guitar - Volume 1 (Guitar Recorded Versions S)\n",
      "Bastogne Band of Brothers Guide\n",
      "Daisy Jones & The Six: A Novel\n",
      "Band of Brothers: E Company 506th Regiment 101st Airborne, D-day & Citizen Soldiers Box Set\n",
      "D DAY Through German Eyes - The Hidden Story of June 6th 1944\n"
     ]
    }
   ],
   "source": [
    "count = 0\n",
    "\n",
    "for b in boblist:\n",
    "    #print(b)\n",
    "    m2.append(Document(b, name=('result'+str(count)), punctuation=p))\n",
    "    count += 1"
   ]
  },
  {
   "cell_type": "code",
   "execution_count": 149,
   "metadata": {
    "scrolled": true
   },
   "outputs": [
    {
     "data": {
      "text/plain": [
       "0.2279211529192759"
      ]
     },
     "execution_count": 149,
     "metadata": {},
     "output_type": "execute_result"
    }
   ],
   "source": [
    "m.similarity(b1, b2)"
   ]
  },
  {
   "cell_type": "code",
   "execution_count": 150,
   "metadata": {},
   "outputs": [
    {
     "data": {
      "text/plain": [
       "0.0"
      ]
     },
     "execution_count": 150,
     "metadata": {},
     "output_type": "execute_result"
    }
   ],
   "source": [
    "m.similarity(m.documents[0], m.documents[1])"
   ]
  },
  {
   "cell_type": "code",
   "execution_count": 154,
   "metadata": {},
   "outputs": [
    {
     "data": {
      "text/plain": [
       "0.0044847186294937405"
      ]
     },
     "execution_count": 154,
     "metadata": {},
     "output_type": "execute_result"
    }
   ],
   "source": [
    "m2.similarity(m2.documents[0], m2.documents[1])"
   ]
  },
  {
   "cell_type": "code",
   "execution_count": 158,
   "metadata": {},
   "outputs": [
    {
     "data": {
      "text/plain": [
       "'result25'"
      ]
     },
     "execution_count": 158,
     "metadata": {},
     "output_type": "execute_result"
    }
   ],
   "source": [
    "b25.type"
   ]
  },
  {
   "cell_type": "code",
   "execution_count": 157,
   "metadata": {},
   "outputs": [
    {
     "data": {
      "text/plain": [
       "{'d': 1,\n",
       " 'day': 1,\n",
       " 'german': 1,\n",
       " 'eyes': 1,\n",
       " 'hidden': 1,\n",
       " 'story': 1,\n",
       " 'june': 1,\n",
       " '6th': 1,\n",
       " '1944': 1}"
      ]
     },
     "execution_count": 157,
     "metadata": {},
     "output_type": "execute_result"
    }
   ],
   "source": [
    "b28.words"
   ]
  },
  {
   "cell_type": "code",
   "execution_count": 116,
   "metadata": {
    "scrolled": true
   },
   "outputs": [
    {
     "ename": "TypeError",
     "evalue": "term_frequency_inverse_document_frequency() got an unexpected keyword argument 'model'",
     "output_type": "error",
     "traceback": [
      "\u001b[1;31m---------------------------------------------------------------------------\u001b[0m",
      "\u001b[1;31mTypeError\u001b[0m                                 Traceback (most recent call last)",
      "\u001b[1;32m<ipython-input-116-d8739562128f>\u001b[0m in \u001b[0;36m<module>\u001b[1;34m\u001b[0m\n\u001b[1;32m----> 1\u001b[1;33m \u001b[0mb28\u001b[0m\u001b[1;33m.\u001b[0m\u001b[0mtfidf\u001b[0m\u001b[1;33m(\u001b[0m\u001b[1;34m'd'\u001b[0m\u001b[1;33m,\u001b[0m \u001b[0mmodel\u001b[0m\u001b[1;33m=\u001b[0m\u001b[0mm\u001b[0m\u001b[1;33m)\u001b[0m\u001b[1;33m\u001b[0m\u001b[1;33m\u001b[0m\u001b[0m\n\u001b[0m",
      "\u001b[1;31mTypeError\u001b[0m: term_frequency_inverse_document_frequency() got an unexpected keyword argument 'model'"
     ]
    }
   ],
   "source": [
    "b28.tfidf('d', model=m)"
   ]
  },
  {
   "cell_type": "code",
   "execution_count": 113,
   "metadata": {},
   "outputs": [
    {
     "data": {
      "text/plain": [
       "0.1111111111111111"
      ]
     },
     "execution_count": 113,
     "metadata": {},
     "output_type": "execute_result"
    }
   ],
   "source": [
    "b28.tf('d')"
   ]
  },
  {
   "cell_type": "code",
   "execution_count": null,
   "metadata": {},
   "outputs": [],
   "source": [
    "for b in m.documents:\n",
    "    "
   ]
  }
 ],
 "metadata": {
  "kernelspec": {
   "display_name": "Python 3",
   "language": "python",
   "name": "python3"
  },
  "language_info": {
   "codemirror_mode": {
    "name": "ipython",
    "version": 3
   },
   "file_extension": ".py",
   "mimetype": "text/x-python",
   "name": "python",
   "nbconvert_exporter": "python",
   "pygments_lexer": "ipython3",
   "version": "3.6.8"
  }
 },
 "nbformat": 4,
 "nbformat_minor": 2
}
